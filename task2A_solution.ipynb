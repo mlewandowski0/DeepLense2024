{
 "cells": [
  {
   "cell_type": "markdown",
   "metadata": {},
   "source": [
    "# installation"
   ]
  },
  {
   "cell_type": "code",
   "execution_count": 1,
   "metadata": {},
   "outputs": [
    {
     "name": "stdout",
     "output_type": "stream",
     "text": [
      "Collecting scikit-image\n",
      "  Downloading scikit_image-0.22.0-cp310-cp310-manylinux_2_17_x86_64.manylinux2014_x86_64.whl.metadata (13 kB)\n",
      "Collecting pandas\n",
      "  Downloading pandas-2.2.1-cp310-cp310-manylinux_2_17_x86_64.manylinux2014_x86_64.whl.metadata (19 kB)\n",
      "Collecting matplotlib\n",
      "  Downloading matplotlib-3.8.3-cp310-cp310-manylinux_2_17_x86_64.manylinux2014_x86_64.whl.metadata (5.8 kB)\n",
      "Collecting tqdm\n",
      "  Downloading tqdm-4.66.2-py3-none-any.whl.metadata (57 kB)\n",
      "\u001b[2K     \u001b[90m━━━━━━━━━━━━━━━━━━━━━━━━━━━━━━━━━━━━━━━━\u001b[0m \u001b[32m57.6/57.6 kB\u001b[0m \u001b[31m4.4 MB/s\u001b[0m eta \u001b[36m0:00:00\u001b[0m\n",
      "\u001b[?25hCollecting torchinfo\n",
      "  Downloading torchinfo-1.8.0-py3-none-any.whl.metadata (21 kB)\n",
      "Collecting tensorboard\n",
      "  Downloading tensorboard-2.16.2-py3-none-any.whl.metadata (1.6 kB)\n",
      "Collecting wandb\n",
      "  Downloading wandb-0.16.5-py3-none-any.whl.metadata (10 kB)\n",
      "Collecting scikit-learn\n",
      "  Downloading scikit_learn-1.4.1.post1-cp310-cp310-manylinux_2_17_x86_64.manylinux2014_x86_64.whl.metadata (11 kB)\n",
      "Collecting pytorch-msssim\n",
      "  Downloading pytorch_msssim-1.0.0-py3-none-any.whl.metadata (8.0 kB)\n",
      "Collecting opencv-python\n",
      "  Downloading opencv_python-4.9.0.80-cp37-abi3-manylinux_2_17_x86_64.manylinux2014_x86_64.whl.metadata (20 kB)\n",
      "Requirement already satisfied: numpy>=1.22 in /usr/local/lib/python3.10/dist-packages (from scikit-image) (1.26.2)\n",
      "Collecting scipy>=1.8 (from scikit-image)\n",
      "  Downloading scipy-1.12.0-cp310-cp310-manylinux_2_17_x86_64.manylinux2014_x86_64.whl.metadata (60 kB)\n",
      "\u001b[2K     \u001b[90m━━━━━━━━━━━━━━━━━━━━━━━━━━━━━━━━━━━━━━━━\u001b[0m \u001b[32m60.4/60.4 kB\u001b[0m \u001b[31m3.7 MB/s\u001b[0m eta \u001b[36m0:00:00\u001b[0m\n",
      "\u001b[?25hRequirement already satisfied: networkx>=2.8 in /usr/local/lib/python3.10/dist-packages (from scikit-image) (3.2.1)\n",
      "Requirement already satisfied: pillow>=9.0.1 in /usr/local/lib/python3.10/dist-packages (from scikit-image) (10.1.0)\n",
      "Collecting imageio>=2.27 (from scikit-image)\n",
      "  Downloading imageio-2.34.0-py3-none-any.whl.metadata (4.9 kB)\n",
      "Collecting tifffile>=2022.8.12 (from scikit-image)\n",
      "  Downloading tifffile-2024.2.12-py3-none-any.whl.metadata (31 kB)\n",
      "Requirement already satisfied: packaging>=21 in /usr/local/lib/python3.10/dist-packages (from scikit-image) (23.2)\n",
      "Collecting lazy_loader>=0.3 (from scikit-image)\n",
      "  Downloading lazy_loader-0.3-py3-none-any.whl.metadata (4.3 kB)\n",
      "Requirement already satisfied: python-dateutil>=2.8.2 in /usr/local/lib/python3.10/dist-packages (from pandas) (2.8.2)\n",
      "Collecting pytz>=2020.1 (from pandas)\n",
      "  Downloading pytz-2024.1-py2.py3-none-any.whl.metadata (22 kB)\n",
      "Collecting tzdata>=2022.7 (from pandas)\n",
      "  Downloading tzdata-2024.1-py2.py3-none-any.whl.metadata (1.4 kB)\n",
      "Collecting contourpy>=1.0.1 (from matplotlib)\n",
      "  Downloading contourpy-1.2.0-cp310-cp310-manylinux_2_17_x86_64.manylinux2014_x86_64.whl.metadata (5.8 kB)\n",
      "Collecting cycler>=0.10 (from matplotlib)\n",
      "  Downloading cycler-0.12.1-py3-none-any.whl.metadata (3.8 kB)\n",
      "Collecting fonttools>=4.22.0 (from matplotlib)\n",
      "  Downloading fonttools-4.50.0-cp310-cp310-manylinux_2_17_x86_64.manylinux2014_x86_64.whl.metadata (159 kB)\n",
      "\u001b[2K     \u001b[90m━━━━━━━━━━━━━━━━━━━━━━━━━━━━━━━━━━━━━━\u001b[0m \u001b[32m159.4/159.4 kB\u001b[0m \u001b[31m10.2 MB/s\u001b[0m eta \u001b[36m0:00:00\u001b[0m\n",
      "\u001b[?25hCollecting kiwisolver>=1.3.1 (from matplotlib)\n",
      "  Downloading kiwisolver-1.4.5-cp310-cp310-manylinux_2_12_x86_64.manylinux2010_x86_64.whl.metadata (6.4 kB)\n",
      "Requirement already satisfied: pyparsing>=2.3.1 in /usr/lib/python3/dist-packages (from matplotlib) (2.4.7)\n",
      "Collecting absl-py>=0.4 (from tensorboard)\n",
      "  Downloading absl_py-2.1.0-py3-none-any.whl.metadata (2.3 kB)\n",
      "Collecting grpcio>=1.48.2 (from tensorboard)\n",
      "  Downloading grpcio-1.62.1-cp310-cp310-manylinux_2_17_x86_64.manylinux2014_x86_64.whl.metadata (4.0 kB)\n",
      "Collecting markdown>=2.6.8 (from tensorboard)\n",
      "  Downloading Markdown-3.6-py3-none-any.whl.metadata (7.0 kB)\n",
      "Collecting protobuf!=4.24.0,>=3.19.6 (from tensorboard)\n",
      "  Downloading protobuf-5.26.1-cp37-abi3-manylinux2014_x86_64.whl.metadata (592 bytes)\n",
      "Requirement already satisfied: setuptools>=41.0.0 in /usr/local/lib/python3.10/dist-packages (from tensorboard) (69.0.2)\n",
      "Requirement already satisfied: six>1.9 in /usr/lib/python3/dist-packages (from tensorboard) (1.16.0)\n",
      "Collecting tensorboard-data-server<0.8.0,>=0.7.0 (from tensorboard)\n",
      "  Downloading tensorboard_data_server-0.7.2-py3-none-manylinux_2_31_x86_64.whl.metadata (1.1 kB)\n",
      "Collecting werkzeug>=1.0.1 (from tensorboard)\n",
      "  Downloading werkzeug-3.0.1-py3-none-any.whl.metadata (4.1 kB)\n",
      "Collecting Click!=8.0.0,>=7.1 (from wandb)\n",
      "  Downloading click-8.1.7-py3-none-any.whl.metadata (3.0 kB)\n",
      "Collecting GitPython!=3.1.29,>=1.0.0 (from wandb)\n",
      "  Downloading GitPython-3.1.42-py3-none-any.whl.metadata (12 kB)\n",
      "Requirement already satisfied: requests<3,>=2.0.0 in /usr/local/lib/python3.10/dist-packages (from wandb) (2.31.0)\n",
      "Requirement already satisfied: psutil>=5.0.0 in /usr/local/lib/python3.10/dist-packages (from wandb) (5.9.6)\n",
      "Collecting sentry-sdk>=1.0.0 (from wandb)\n",
      "  Downloading sentry_sdk-1.43.0-py2.py3-none-any.whl.metadata (9.9 kB)\n",
      "Collecting docker-pycreds>=0.4.0 (from wandb)\n",
      "  Downloading docker_pycreds-0.4.0-py2.py3-none-any.whl.metadata (1.8 kB)\n",
      "Requirement already satisfied: PyYAML in /usr/local/lib/python3.10/dist-packages (from wandb) (6.0.1)\n",
      "Collecting setproctitle (from wandb)\n",
      "  Downloading setproctitle-1.3.3-cp310-cp310-manylinux_2_5_x86_64.manylinux1_x86_64.manylinux_2_17_x86_64.manylinux2014_x86_64.whl.metadata (9.9 kB)\n",
      "Collecting appdirs>=1.4.3 (from wandb)\n",
      "  Downloading appdirs-1.4.4-py2.py3-none-any.whl.metadata (9.0 kB)\n",
      "Collecting protobuf!=4.24.0,>=3.19.6 (from tensorboard)\n",
      "  Downloading protobuf-4.25.3-cp37-abi3-manylinux2014_x86_64.whl.metadata (541 bytes)\n",
      "Collecting joblib>=1.2.0 (from scikit-learn)\n",
      "  Downloading joblib-1.3.2-py3-none-any.whl.metadata (5.4 kB)\n",
      "Collecting threadpoolctl>=2.0.0 (from scikit-learn)\n",
      "  Downloading threadpoolctl-3.4.0-py3-none-any.whl.metadata (13 kB)\n",
      "Requirement already satisfied: torch in /usr/local/lib/python3.10/dist-packages (from pytorch-msssim) (2.1.1)\n",
      "Collecting gitdb<5,>=4.0.1 (from GitPython!=3.1.29,>=1.0.0->wandb)\n",
      "  Downloading gitdb-4.0.11-py3-none-any.whl.metadata (1.2 kB)\n",
      "Requirement already satisfied: charset-normalizer<4,>=2 in /usr/local/lib/python3.10/dist-packages (from requests<3,>=2.0.0->wandb) (3.3.2)\n",
      "Requirement already satisfied: idna<4,>=2.5 in /usr/local/lib/python3.10/dist-packages (from requests<3,>=2.0.0->wandb) (3.6)\n",
      "Requirement already satisfied: urllib3<3,>=1.21.1 in /usr/local/lib/python3.10/dist-packages (from requests<3,>=2.0.0->wandb) (2.1.0)\n",
      "Requirement already satisfied: certifi>=2017.4.17 in /usr/local/lib/python3.10/dist-packages (from requests<3,>=2.0.0->wandb) (2023.11.17)\n",
      "Requirement already satisfied: MarkupSafe>=2.1.1 in /usr/local/lib/python3.10/dist-packages (from werkzeug>=1.0.1->tensorboard) (2.1.3)\n",
      "Requirement already satisfied: filelock in /usr/local/lib/python3.10/dist-packages (from torch->pytorch-msssim) (3.13.1)\n",
      "Requirement already satisfied: typing-extensions in /usr/local/lib/python3.10/dist-packages (from torch->pytorch-msssim) (4.8.0)\n",
      "Requirement already satisfied: sympy in /usr/local/lib/python3.10/dist-packages (from torch->pytorch-msssim) (1.12)\n",
      "Requirement already satisfied: jinja2 in /usr/local/lib/python3.10/dist-packages (from torch->pytorch-msssim) (3.1.2)\n",
      "Requirement already satisfied: fsspec in /usr/local/lib/python3.10/dist-packages (from torch->pytorch-msssim) (2023.10.0)\n",
      "Requirement already satisfied: nvidia-cuda-nvrtc-cu12==12.1.105 in /usr/local/lib/python3.10/dist-packages (from torch->pytorch-msssim) (12.1.105)\n",
      "Requirement already satisfied: nvidia-cuda-runtime-cu12==12.1.105 in /usr/local/lib/python3.10/dist-packages (from torch->pytorch-msssim) (12.1.105)\n",
      "Requirement already satisfied: nvidia-cuda-cupti-cu12==12.1.105 in /usr/local/lib/python3.10/dist-packages (from torch->pytorch-msssim) (12.1.105)\n",
      "Requirement already satisfied: nvidia-cudnn-cu12==8.9.2.26 in /usr/local/lib/python3.10/dist-packages (from torch->pytorch-msssim) (8.9.2.26)\n",
      "Requirement already satisfied: nvidia-cublas-cu12==12.1.3.1 in /usr/local/lib/python3.10/dist-packages (from torch->pytorch-msssim) (12.1.3.1)\n",
      "Requirement already satisfied: nvidia-cufft-cu12==11.0.2.54 in /usr/local/lib/python3.10/dist-packages (from torch->pytorch-msssim) (11.0.2.54)\n",
      "Requirement already satisfied: nvidia-curand-cu12==10.3.2.106 in /usr/local/lib/python3.10/dist-packages (from torch->pytorch-msssim) (10.3.2.106)\n",
      "Requirement already satisfied: nvidia-cusolver-cu12==11.4.5.107 in /usr/local/lib/python3.10/dist-packages (from torch->pytorch-msssim) (11.4.5.107)\n",
      "Requirement already satisfied: nvidia-cusparse-cu12==12.1.0.106 in /usr/local/lib/python3.10/dist-packages (from torch->pytorch-msssim) (12.1.0.106)\n",
      "Requirement already satisfied: nvidia-nccl-cu12==2.18.1 in /usr/local/lib/python3.10/dist-packages (from torch->pytorch-msssim) (2.18.1)\n",
      "Requirement already satisfied: nvidia-nvtx-cu12==12.1.105 in /usr/local/lib/python3.10/dist-packages (from torch->pytorch-msssim) (12.1.105)\n",
      "Requirement already satisfied: triton==2.1.0 in /usr/local/lib/python3.10/dist-packages (from torch->pytorch-msssim) (2.1.0)\n",
      "Requirement already satisfied: nvidia-nvjitlink-cu12 in /usr/local/lib/python3.10/dist-packages (from nvidia-cusolver-cu12==11.4.5.107->torch->pytorch-msssim) (12.3.101)\n",
      "Collecting smmap<6,>=3.0.1 (from gitdb<5,>=4.0.1->GitPython!=3.1.29,>=1.0.0->wandb)\n",
      "  Downloading smmap-5.0.1-py3-none-any.whl.metadata (4.3 kB)\n",
      "Requirement already satisfied: mpmath>=0.19 in /usr/local/lib/python3.10/dist-packages (from sympy->torch->pytorch-msssim) (1.3.0)\n",
      "Downloading scikit_image-0.22.0-cp310-cp310-manylinux_2_17_x86_64.manylinux2014_x86_64.whl (14.7 MB)\n",
      "\u001b[2K   \u001b[90m━━━━━━━━━━━━━━━━━━━━━━━━━━━━━━━━━━━━━━━━\u001b[0m \u001b[32m14.7/14.7 MB\u001b[0m \u001b[31m83.6 MB/s\u001b[0m eta \u001b[36m0:00:00\u001b[0m:00:01\u001b[0m00:01\u001b[0m\n",
      "\u001b[?25hDownloading pandas-2.2.1-cp310-cp310-manylinux_2_17_x86_64.manylinux2014_x86_64.whl (13.0 MB)\n",
      "\u001b[2K   \u001b[90m━━━━━━━━━━━━━━━━━━━━━━━━━━━━━━━━━━━━━━━━\u001b[0m \u001b[32m13.0/13.0 MB\u001b[0m \u001b[31m84.8 MB/s\u001b[0m eta \u001b[36m0:00:00\u001b[0m:00:01\u001b[0m:01\u001b[0mm\n",
      "\u001b[?25hDownloading matplotlib-3.8.3-cp310-cp310-manylinux_2_17_x86_64.manylinux2014_x86_64.whl (11.6 MB)\n",
      "\u001b[2K   \u001b[90m━━━━━━━━━━━━━━━━━━━━━━━━━━━━━━━━━━━━━━━━\u001b[0m \u001b[32m11.6/11.6 MB\u001b[0m \u001b[31m87.7 MB/s\u001b[0m eta \u001b[36m0:00:00\u001b[0m:00:01\u001b[0m0:01\u001b[0m\n",
      "\u001b[?25hDownloading tqdm-4.66.2-py3-none-any.whl (78 kB)\n",
      "\u001b[2K   \u001b[90m━━━━━━━━━━━━━━━━━━━━━━━━━━━━━━━━━━━━━━━━\u001b[0m \u001b[32m78.3/78.3 kB\u001b[0m \u001b[31m8.6 MB/s\u001b[0m eta \u001b[36m0:00:00\u001b[0m\n",
      "\u001b[?25hDownloading torchinfo-1.8.0-py3-none-any.whl (23 kB)\n",
      "Downloading tensorboard-2.16.2-py3-none-any.whl (5.5 MB)\n",
      "\u001b[2K   \u001b[90m━━━━━━━━━━━━━━━━━━━━━━━━━━━━━━━━━━━━━━━━\u001b[0m \u001b[32m5.5/5.5 MB\u001b[0m \u001b[31m102.4 MB/s\u001b[0m eta \u001b[36m0:00:00\u001b[0ma \u001b[36m0:00:01\u001b[0m\n",
      "\u001b[?25hDownloading wandb-0.16.5-py3-none-any.whl (2.2 MB)\n",
      "\u001b[2K   \u001b[90m━━━━━━━━━━━━━━━━━━━━━━━━━━━━━━━━━━━━━━━━\u001b[0m \u001b[32m2.2/2.2 MB\u001b[0m \u001b[31m108.3 MB/s\u001b[0m eta \u001b[36m0:00:00\u001b[0m\n",
      "\u001b[?25hDownloading scikit_learn-1.4.1.post1-cp310-cp310-manylinux_2_17_x86_64.manylinux2014_x86_64.whl (12.1 MB)\n",
      "\u001b[2K   \u001b[90m━━━━━━━━━━━━━━━━━━━━━━━━━━━━━━━━━━━━━━━━\u001b[0m \u001b[32m12.1/12.1 MB\u001b[0m \u001b[31m90.1 MB/s\u001b[0m eta \u001b[36m0:00:00\u001b[0m:00:01\u001b[0m0:01\u001b[0m\n",
      "\u001b[?25hDownloading pytorch_msssim-1.0.0-py3-none-any.whl (7.7 kB)\n",
      "Downloading opencv_python-4.9.0.80-cp37-abi3-manylinux_2_17_x86_64.manylinux2014_x86_64.whl (62.2 MB)\n",
      "\u001b[2K   \u001b[90m━━━━━━━━━━━━━━━━━━━━━━━━━━━━━━━━━━━━━━━━\u001b[0m \u001b[32m62.2/62.2 MB\u001b[0m \u001b[31m64.2 MB/s\u001b[0m eta \u001b[36m0:00:00\u001b[0m:00:01\u001b[0m00:01\u001b[0m\n",
      "\u001b[?25hDownloading absl_py-2.1.0-py3-none-any.whl (133 kB)\n",
      "\u001b[2K   \u001b[90m━━━━━━━━━━━━━━━━━━━━━━━━━━━━━━━━━━━━━━━━\u001b[0m \u001b[32m133.7/133.7 kB\u001b[0m \u001b[31m33.2 MB/s\u001b[0m eta \u001b[36m0:00:00\u001b[0m\n",
      "\u001b[?25hDownloading appdirs-1.4.4-py2.py3-none-any.whl (9.6 kB)\n",
      "Downloading click-8.1.7-py3-none-any.whl (97 kB)\n",
      "\u001b[2K   \u001b[90m━━━━━━━━━━━━━━━━━━━━━━━━━━━━━━━━━━━━━━━━\u001b[0m \u001b[32m97.9/97.9 kB\u001b[0m \u001b[31m27.9 MB/s\u001b[0m eta \u001b[36m0:00:00\u001b[0m\n",
      "\u001b[?25hDownloading contourpy-1.2.0-cp310-cp310-manylinux_2_17_x86_64.manylinux2014_x86_64.whl (310 kB)\n",
      "\u001b[2K   \u001b[90m━━━━━━━━━━━━━━━━━━━━━━━━━━━━━━━━━━━━━━━━\u001b[0m \u001b[32m310.7/310.7 kB\u001b[0m \u001b[31m70.1 MB/s\u001b[0m eta \u001b[36m0:00:00\u001b[0m\n",
      "\u001b[?25hDownloading cycler-0.12.1-py3-none-any.whl (8.3 kB)\n",
      "Downloading docker_pycreds-0.4.0-py2.py3-none-any.whl (9.0 kB)\n",
      "Downloading fonttools-4.50.0-cp310-cp310-manylinux_2_17_x86_64.manylinux2014_x86_64.whl (4.6 MB)\n",
      "\u001b[2K   \u001b[90m━━━━━━━━━━━━━━━━━━━━━━━━━━━━━━━━━━━━━━━━\u001b[0m \u001b[32m4.6/4.6 MB\u001b[0m \u001b[31m99.2 MB/s\u001b[0m eta \u001b[36m0:00:00\u001b[0mta \u001b[36m0:00:01\u001b[0m\n",
      "\u001b[?25hDownloading GitPython-3.1.42-py3-none-any.whl (195 kB)\n",
      "\u001b[2K   \u001b[90m━━━━━━━━━━━━━━━━━━━━━━━━━━━━━━━━━━━━━━━━\u001b[0m \u001b[32m195.4/195.4 kB\u001b[0m \u001b[31m45.9 MB/s\u001b[0m eta \u001b[36m0:00:00\u001b[0m\n",
      "\u001b[?25hDownloading grpcio-1.62.1-cp310-cp310-manylinux_2_17_x86_64.manylinux2014_x86_64.whl (5.5 MB)\n",
      "\u001b[2K   \u001b[90m━━━━━━━━━━━━━━━━━━━━━━━━━━━━━━━━━━━━━━━━\u001b[0m \u001b[32m5.5/5.5 MB\u001b[0m \u001b[31m102.9 MB/s\u001b[0m eta \u001b[36m0:00:00\u001b[0ma \u001b[36m0:00:01\u001b[0m\n",
      "\u001b[?25hDownloading imageio-2.34.0-py3-none-any.whl (313 kB)\n",
      "\u001b[2K   \u001b[90m━━━━━━━━━━━━━━━━━━━━━━━━━━━━━━━━━━━━━━━━\u001b[0m \u001b[32m313.4/313.4 kB\u001b[0m \u001b[31m69.0 MB/s\u001b[0m eta \u001b[36m0:00:00\u001b[0m\n",
      "\u001b[?25hDownloading joblib-1.3.2-py3-none-any.whl (302 kB)\n",
      "\u001b[2K   \u001b[90m━━━━━━━━━━━━━━━━━━━━━━━━━━━━━━━━━━━━━━━━\u001b[0m \u001b[32m302.2/302.2 kB\u001b[0m \u001b[31m80.9 MB/s\u001b[0m eta \u001b[36m0:00:00\u001b[0m\n",
      "\u001b[?25hDownloading kiwisolver-1.4.5-cp310-cp310-manylinux_2_12_x86_64.manylinux2010_x86_64.whl (1.6 MB)\n",
      "\u001b[2K   \u001b[90m━━━━━━━━━━━━━━━━━━━━━━━━━━━━━━━━━━━━━━━━\u001b[0m \u001b[32m1.6/1.6 MB\u001b[0m \u001b[31m102.6 MB/s\u001b[0m eta \u001b[36m0:00:00\u001b[0m\n",
      "\u001b[?25hDownloading lazy_loader-0.3-py3-none-any.whl (9.1 kB)\n",
      "Downloading Markdown-3.6-py3-none-any.whl (105 kB)\n",
      "\u001b[2K   \u001b[90m━━━━━━━━━━━━━━━━━━━━━━━━━━━━━━━━━━━━━━━━\u001b[0m \u001b[32m105.4/105.4 kB\u001b[0m \u001b[31m29.5 MB/s\u001b[0m eta \u001b[36m0:00:00\u001b[0m\n",
      "\u001b[?25hDownloading protobuf-4.25.3-cp37-abi3-manylinux2014_x86_64.whl (294 kB)\n",
      "\u001b[2K   \u001b[90m━━━━━━━━━━━━━━━━━━━━━━━━━━━━━━━━━━━━━━━━\u001b[0m \u001b[32m294.6/294.6 kB\u001b[0m \u001b[31m66.6 MB/s\u001b[0m eta \u001b[36m0:00:00\u001b[0m\n",
      "\u001b[?25hDownloading pytz-2024.1-py2.py3-none-any.whl (505 kB)\n",
      "\u001b[2K   \u001b[90m━━━━━━━━━━━━━━━━━━━━━━━━━━━━━━━━━━━━━━━━\u001b[0m \u001b[32m505.5/505.5 kB\u001b[0m \u001b[31m91.0 MB/s\u001b[0m eta \u001b[36m0:00:00\u001b[0m\n",
      "\u001b[?25hDownloading scipy-1.12.0-cp310-cp310-manylinux_2_17_x86_64.manylinux2014_x86_64.whl (38.4 MB)\n",
      "\u001b[2K   \u001b[90m━━━━━━━━━━━━━━━━━━━━━━━━━━━━━━━━━━━━━━━━\u001b[0m \u001b[32m38.4/38.4 MB\u001b[0m \u001b[31m47.0 MB/s\u001b[0m eta \u001b[36m0:00:00\u001b[0m00:01\u001b[0m00:01\u001b[0mm\n",
      "\u001b[?25hDownloading sentry_sdk-1.43.0-py2.py3-none-any.whl (264 kB)\n",
      "\u001b[2K   \u001b[90m━━━━━━━━━━━━━━━━━━━━━━━━━━━━━━━━━━━━━━━━\u001b[0m \u001b[32m264.6/264.6 kB\u001b[0m \u001b[31m53.5 MB/s\u001b[0m eta \u001b[36m0:00:00\u001b[0m\n",
      "\u001b[?25hDownloading tensorboard_data_server-0.7.2-py3-none-manylinux_2_31_x86_64.whl (6.6 MB)\n",
      "\u001b[2K   \u001b[90m━━━━━━━━━━━━━━━━━━━━━━━━━━━━━━━━━━━━━━━━\u001b[0m \u001b[32m6.6/6.6 MB\u001b[0m \u001b[31m102.1 MB/s\u001b[0m eta \u001b[36m0:00:00\u001b[0ma \u001b[36m0:00:01\u001b[0m\n",
      "\u001b[?25hDownloading threadpoolctl-3.4.0-py3-none-any.whl (17 kB)\n",
      "Downloading tifffile-2024.2.12-py3-none-any.whl (224 kB)\n",
      "\u001b[2K   \u001b[90m━━━━━━━━━━━━━━━━━━━━━━━━━━━━━━━━━━━━━━━━\u001b[0m \u001b[32m224.5/224.5 kB\u001b[0m \u001b[31m54.7 MB/s\u001b[0m eta \u001b[36m0:00:00\u001b[0m\n",
      "\u001b[?25hDownloading tzdata-2024.1-py2.py3-none-any.whl (345 kB)\n",
      "\u001b[2K   \u001b[90m━━━━━━━━━━━━━━━━━━━━━━━━━━━━━━━━━━━━━━━━\u001b[0m \u001b[32m345.4/345.4 kB\u001b[0m \u001b[31m72.1 MB/s\u001b[0m eta \u001b[36m0:00:00\u001b[0m\n",
      "\u001b[?25hDownloading werkzeug-3.0.1-py3-none-any.whl (226 kB)\n",
      "\u001b[2K   \u001b[90m━━━━━━━━━━━━━━━━━━━━━━━━━━━━━━━━━━━━━━━━\u001b[0m \u001b[32m226.7/226.7 kB\u001b[0m \u001b[31m54.5 MB/s\u001b[0m eta \u001b[36m0:00:00\u001b[0m\n",
      "\u001b[?25hDownloading setproctitle-1.3.3-cp310-cp310-manylinux_2_5_x86_64.manylinux1_x86_64.manylinux_2_17_x86_64.manylinux2014_x86_64.whl (30 kB)\n",
      "Downloading gitdb-4.0.11-py3-none-any.whl (62 kB)\n",
      "\u001b[2K   \u001b[90m━━━━━━━━━━━━━━━━━━━━━━━━━━━━━━━━━━━━━━━━\u001b[0m \u001b[32m62.7/62.7 kB\u001b[0m \u001b[31m19.2 MB/s\u001b[0m eta \u001b[36m0:00:00\u001b[0m\n",
      "\u001b[?25hDownloading smmap-5.0.1-py3-none-any.whl (24 kB)\n",
      "Installing collected packages: pytz, appdirs, werkzeug, tzdata, tqdm, torchinfo, tifffile, threadpoolctl, tensorboard-data-server, smmap, setproctitle, sentry-sdk, scipy, protobuf, opencv-python, markdown, lazy_loader, kiwisolver, joblib, imageio, grpcio, fonttools, docker-pycreds, cycler, contourpy, Click, absl-py, tensorboard, scikit-learn, scikit-image, pandas, matplotlib, gitdb, GitPython, wandb, pytorch-msssim\n",
      "Successfully installed Click-8.1.7 GitPython-3.1.42 absl-py-2.1.0 appdirs-1.4.4 contourpy-1.2.0 cycler-0.12.1 docker-pycreds-0.4.0 fonttools-4.50.0 gitdb-4.0.11 grpcio-1.62.1 imageio-2.34.0 joblib-1.3.2 kiwisolver-1.4.5 lazy_loader-0.3 markdown-3.6 matplotlib-3.8.3 opencv-python-4.9.0.80 pandas-2.2.1 protobuf-4.25.3 pytorch-msssim-1.0.0 pytz-2024.1 scikit-image-0.22.0 scikit-learn-1.4.1.post1 scipy-1.12.0 sentry-sdk-1.43.0 setproctitle-1.3.3 smmap-5.0.1 tensorboard-2.16.2 tensorboard-data-server-0.7.2 threadpoolctl-3.4.0 tifffile-2024.2.12 torchinfo-1.8.0 tqdm-4.66.2 tzdata-2024.1 wandb-0.16.5 werkzeug-3.0.1\n",
      "\u001b[33mWARNING: Running pip as the 'root' user can result in broken permissions and conflicting behaviour with the system package manager. It is recommended to use a virtual environment instead: https://pip.pypa.io/warnings/venv\u001b[0m\u001b[33m\n",
      "\u001b[0m\n",
      "\u001b[1m[\u001b[0m\u001b[34;49mnotice\u001b[0m\u001b[1;39;49m]\u001b[0m\u001b[39;49m A new release of pip is available: \u001b[0m\u001b[31;49m23.3.1\u001b[0m\u001b[39;49m -> \u001b[0m\u001b[32;49m24.0\u001b[0m\n",
      "\u001b[1m[\u001b[0m\u001b[34;49mnotice\u001b[0m\u001b[1;39;49m]\u001b[0m\u001b[39;49m To update, run: \u001b[0m\u001b[32;49mpython -m pip install --upgrade pip\u001b[0m\n",
      "Note: you may need to restart the kernel to use updated packages.\n"
     ]
    }
   ],
   "source": [
    "%pip install scikit-image pandas matplotlib tqdm torchinfo tensorboard wandb scikit-learn pytorch-msssim opencv-python"
   ]
  },
  {
   "cell_type": "markdown",
   "metadata": {},
   "source": [
    "# Config"
   ]
  },
  {
   "cell_type": "code",
   "execution_count": 17,
   "metadata": {},
   "outputs": [
    {
     "name": "stdout",
     "output_type": "stream",
     "text": [
      "Device : cuda\n"
     ]
    }
   ],
   "source": [
    "import os\n",
    "import torch\n",
    "import psutil\n",
    "from util import format\n",
    "from torch.utils.data import Dataset, DataLoader, random_split\n",
    "from datasets import DeepLenseSuperresolutionDataset\n",
    "import matplotlib.pyplot as plt \n",
    "from torchinfo import summary\n",
    "from util import run_experiment_task2, MSE_Metric, PSNR_Metric, SSIM_Metric\n",
    "import math\n",
    "\n",
    "# PyTorch imports\n",
    "import torch.nn as nn\n",
    "import torch.nn.functional as F\n",
    "import multiprocessing\n",
    "\n",
    "class CONFIG:\n",
    "    BATCH_SIZE = 4\n",
    "    \n",
    "    # limit the data to prototype faster\n",
    "    DATA_LIMIT = 200\n",
    "    \n",
    "    DEVICE = torch.device(\"cuda\") if torch.cuda.is_available() else torch.device(\"cpu\")\n",
    "    ROUND_NUMBER = 3\n",
    "    TASK_NAME = \"DeepLense2024_task2A\"\n",
    "    DATA_PATH = os.path.join(\"Data\", \"Superresolution\")\n",
    "    PORTION_OF_DATA_FOR_TRAINING = 0.9\n",
    "\n",
    "    PIN_MEMORY = True\n",
    "    \n",
    "    NUM_WORKERS = min(multiprocessing.cpu_count() - 5, BATCH_SIZE)\n",
    "\n",
    "# weird thing on windows : if not set to 0, a dramatic performance drop (very not expected ?)\n",
    "CONFIG.NUM_WORKERS = 0\n",
    "    \n",
    "# enabled for speed\n",
    "torch.backends.cudnn.benchmark = True\n",
    "print(f\"Device : {CONFIG.DEVICE}\")"
   ]
  },
  {
   "cell_type": "code",
   "execution_count": 18,
   "metadata": {},
   "outputs": [
    {
     "name": "stdout",
     "output_type": "stream",
     "text": [
      "RAM used : 14.24GB\n"
     ]
    }
   ],
   "source": [
    "memory_start = psutil.virtual_memory()\n",
    "print(f\"RAM used : {format(memory_start.used)}\")"
   ]
  },
  {
   "cell_type": "code",
   "execution_count": 19,
   "metadata": {},
   "outputs": [
    {
     "name": "stdout",
     "output_type": "stream",
     "text": [
      "Data\\Superresolution\\LR Data\\Superresolution\\HR\n"
     ]
    },
    {
     "name": "stderr",
     "output_type": "stream",
     "text": [
      "Loading dataset : :   0%|          | 0/200 [00:00<?, ?it/s]"
     ]
    },
    {
     "name": "stderr",
     "output_type": "stream",
     "text": [
      "Loading dataset : : 100%|██████████| 200/200 [00:00<00:00, 359.41it/s]\n",
      "preprocessing :: 100%|██████████| 200/200 [00:00<00:00, 836.36it/s]\n"
     ]
    },
    {
     "name": "stdout",
     "output_type": "stream",
     "text": [
      "splitting into : 180 20\n",
      "sizes of datasets : len(train)=180 len(val)=20\n"
     ]
    }
   ],
   "source": [
    "dataset = DeepLenseSuperresolutionDataset(folder_path=CONFIG.DATA_PATH, \n",
    "                                          randomize_dataset=True,\n",
    "                                          data_limit=CONFIG.DATA_LIMIT)\n",
    "\n",
    "# do train/val split\n",
    "dataset_size = len(dataset)\n",
    "train_size = int(dataset_size * CONFIG.PORTION_OF_DATA_FOR_TRAINING)\n",
    "val_size = dataset_size - train_size\n",
    "\n",
    "print(f\"splitting into : {train_size} {val_size}\")\n",
    "\n",
    "# splitting dataset \n",
    "train_dataset, val_dataset = random_split(dataset, [train_size, val_size])\n",
    "\n",
    "print(f\"sizes of datasets : len(train)={len(train_dataset)} len(val)={len(val_dataset)}\")\n",
    "\n",
    "# Create Dataloaders\n",
    "train_loader = DataLoader(train_dataset, batch_size=CONFIG.BATCH_SIZE, pin_memory=CONFIG.PIN_MEMORY, num_workers=CONFIG.NUM_WORKERS,  shuffle=True)\n",
    "val_loader = DataLoader(val_dataset, batch_size=CONFIG.BATCH_SIZE, pin_memory=CONFIG.PIN_MEMORY, num_workers=CONFIG.NUM_WORKERS)"
   ]
  },
  {
   "cell_type": "code",
   "execution_count": 20,
   "metadata": {},
   "outputs": [],
   "source": [
    "# get sample batch, useful for prototyping the architectures\n",
    "x, y = next(iter(train_loader))"
   ]
  },
  {
   "cell_type": "code",
   "execution_count": 10,
   "metadata": {},
   "outputs": [
    {
     "data": {
      "image/png": "[encoded data removed]",
      "text/plain": [
       "<Figure size 1600x500 with 2 Axes>"
      ]
     },
     "metadata": {},
     "output_type": "display_data"
    }
   ],
   "source": [
    "# sanity check \n",
    "a = 0.7\n",
    "plt.figure(figsize=(16, 5))\n",
    "plt.subplot(1, 2, 1)\n",
    "plt.hist(dataset.HR_data.numpy().reshape(-1), bins=100, color=\"red\", edgecolor=\"black\", alpha=a, label=\"HR\")\n",
    "plt.hist(dataset.LR_data.numpy().reshape(-1), bins=100, color=\"blue\", edgecolor=\"black\", alpha=a, label=\"LR\")\n",
    "plt.grid()\n",
    "\n",
    "plt.subplot(1, 2, 2)\n",
    "plt.hist(dataset.HR_data.numpy().reshape(-1), bins=100, color=\"red\", edgecolor=\"black\", alpha=a, label=\"HR\")\n",
    "plt.hist(dataset.LR_data.numpy().reshape(-1), bins=100, color=\"blue\", edgecolor=\"black\", alpha=a, label=\"LR\")\n",
    "plt.yscale(\"log\")\n",
    "plt.grid()\n",
    "plt.show()\n"
   ]
  },
  {
   "cell_type": "code",
   "execution_count": 11,
   "metadata": {},
   "outputs": [
    {
     "name": "stdout",
     "output_type": "stream",
     "text": [
      "mean_LR = 0.06329753994941711 std_LR = 0.12216157466173172\n",
      "mean_HR = 0.06329753994941711 std_HR = 0.12211320549249649\n",
      "RAM used : 14.97GB, RAM free : 760.11MB, memory used : 1.62GB\n"
     ]
    }
   ],
   "source": [
    "try:\n",
    "    print(f\"mean_LR = {dataset.mean_LR.item()} std_LR = {dataset.std_LR.item()}\")\n",
    "except Exception as e:\n",
    "    print(f\"mean_LR = {dataset.mean_LR} std_LR = {dataset.std_LR}\")\n",
    "\n",
    "\n",
    "try:\n",
    "    print(f\"mean_HR = {dataset.mean_HR.item()} std_HR = {dataset.std_HR.item()}\")\n",
    "except Exception as e:\n",
    "    print(f\"mean_HR = {dataset.mean_HR} std_HR = {dataset.std_HR}\")\n",
    "    \n",
    "\n",
    "memory_after = psutil.virtual_memory()\n",
    "print(f\"RAM used : {format(memory_after.used)}, RAM free : {format(memory_after.free)}, memory used : {format(memory_after.used - memory_start.used)}\")"
   ]
  },
  {
   "cell_type": "markdown",
   "metadata": {},
   "source": [
    "# SRCNN\n",
    "\n",
    "Paper : https://arxiv.org/abs/1501.00092"
   ]
  },
  {
   "cell_type": "code",
   "execution_count": 9,
   "metadata": {},
   "outputs": [],
   "source": [
    "class SRCNN_upsampler(nn.Module):\n",
    "    def __init__(self) -> None:\n",
    "        super(SRCNN_upsampler, self).__init__()\n",
    "        \n",
    "        self.upsampler = nn.Upsample(scale_factor=2, mode='bilinear', align_corners=False)        \n",
    "        \n",
    "        self.features = nn.Sequential(\n",
    "            nn.Conv2d(1, 128, (9, 9), (1, 1), (4, 4)),\n",
    "            nn.ReLU(True)\n",
    "        )\n",
    "\n",
    "        self.map = nn.Sequential(\n",
    "            nn.Conv2d(128, 64, (5, 5), (1, 1), (2, 2)),\n",
    "            nn.ReLU(True)\n",
    "        )\n",
    "\n",
    "        self.reconstruction = nn.Conv2d(64, 1, (5, 5), (1, 1), (2, 2))\n",
    "\n",
    "        self._initialize_weights()\n",
    "\n",
    "    def forward(self, x: torch.Tensor) -> torch.Tensor:\n",
    "        if self.upsampler is not None:\n",
    "            x = self.upsampler(x)\n",
    "        return self._forward_impl(x)\n",
    "\n",
    "    # Support torch.script function.\n",
    "    def _forward_impl(self, x: torch.Tensor) -> torch.Tensor:\n",
    "        out = self.features(x)\n",
    "        out = self.map(out)\n",
    "        out = self.reconstruction(out)\n",
    "        return out\n",
    "\n",
    "    # The filter weight of each layer is a Gaussian distribution with zero mean and\n",
    "    # standard deviation initialized by random extraction 0.001 (deviation is 0)\n",
    "    def _initialize_weights(self) -> None:\n",
    "        for module in self.modules():\n",
    "            if isinstance(module, nn.Conv2d):\n",
    "                nn.init.normal_(module.weight.data, 0.0, math.sqrt(2 / (module.out_channels * module.weight.data[0][0].numel())))\n",
    "                nn.init.zeros_(module.bias.data)\n",
    "\n",
    "        nn.init.normal_(self.reconstruction.weight.data, 0.0, 0.001)\n",
    "        nn.init.zeros_(self.reconstruction.bias.data)"
   ]
  },
  {
   "cell_type": "markdown",
   "metadata": {},
   "source": [
    "## Run for upsampler layer"
   ]
  },
  {
   "cell_type": "code",
   "execution_count": 10,
   "metadata": {},
   "outputs": [
    {
     "data": {
      "text/plain": [
       "==========================================================================================\n",
       "Layer (type:depth-idx)                   Output Shape              Param #\n",
       "==========================================================================================\n",
       "SRCNN_upsampler                          [4, 1, 150, 150]          --\n",
       "├─Upsample: 1-1                          [4, 1, 150, 150]          --\n",
       "├─Sequential: 1-2                        [4, 128, 150, 150]        --\n",
       "│    └─Conv2d: 2-1                       [4, 128, 150, 150]        10,496\n",
       "│    └─ReLU: 2-2                         [4, 128, 150, 150]        --\n",
       "├─Sequential: 1-3                        [4, 64, 150, 150]         --\n",
       "│    └─Conv2d: 2-3                       [4, 64, 150, 150]         204,864\n",
       "│    └─ReLU: 2-4                         [4, 64, 150, 150]         --\n",
       "├─Conv2d: 1-4                            [4, 1, 150, 150]          1,601\n",
       "==========================================================================================\n",
       "Total params: 216,961\n",
       "Trainable params: 216,961\n",
       "Non-trainable params: 0\n",
       "Total mult-adds (G): 19.53\n",
       "==========================================================================================\n",
       "Input size (MB): 0.09\n",
       "Forward/backward pass size (MB): 138.96\n",
       "Params size (MB): 0.87\n",
       "Estimated Total Size (MB): 139.92\n",
       "=========================================================================================="
      ]
     },
     "execution_count": 10,
     "metadata": {},
     "output_type": "execute_result"
    }
   ],
   "source": [
    "model  = SRCNN_upsampler()\n",
    "model(x).shape\n",
    "summary(model, input_size=(CONFIG.BATCH_SIZE, 1, 75, 75))"
   ]
  },
  {
   "cell_type": "code",
   "execution_count": 12,
   "metadata": {},
   "outputs": [
    {
     "data": {
      "text/html": [
       "Tracking run with wandb version 0.16.5"
      ],
      "text/plain": [
       "<IPython.core.display.HTML object>"
      ]
     },
     "metadata": {},
     "output_type": "display_data"
    },
    {
     "data": {
      "text/html": [
       "Run data is saved locally in <code>/workspace/wandb/run-20240327_163707-f87k5s4e</code>"
      ],
      "text/plain": [
       "<IPython.core.display.HTML object>"
      ]
     },
     "metadata": {},
     "output_type": "display_data"
    },
    {
     "data": {
      "text/html": [
       "Syncing run <strong><a href='https://wandb.ai/mlewand7/DeepLense2024_task2A/runs/f87k5s4e/workspace' target=\"_blank\">experiment_SRCNN_upsample</a></strong> to <a href='https://wandb.ai/mlewand7/DeepLense2024_task2A' target=\"_blank\">Weights & Biases</a> (<a href='https://wandb.me/run' target=\"_blank\">docs</a>)<br/>"
      ],
      "text/plain": [
       "<IPython.core.display.HTML object>"
      ]
     },
     "metadata": {},
     "output_type": "display_data"
    },
    {
     "data": {
      "text/html": [
       " View project at <a href='https://wandb.ai/mlewand7/DeepLense2024_task2A' target=\"_blank\">https://wandb.ai/mlewand7/DeepLense2024_task2A</a>"
      ],
      "text/plain": [
       "<IPython.core.display.HTML object>"
      ]
     },
     "metadata": {},
     "output_type": "display_data"
    },
    {
     "data": {
      "text/html": [
       " View run at <a href='https://wandb.ai/mlewand7/DeepLense2024_task2A/runs/f87k5s4e/workspace' target=\"_blank\">https://wandb.ai/mlewand7/DeepLense2024_task2A/runs/f87k5s4e/workspace</a>"
      ],
      "text/plain": [
       "<IPython.core.display.HTML object>"
      ]
     },
     "metadata": {},
     "output_type": "display_data"
    },
    {
     "name": "stderr",
     "output_type": "stream",
     "text": [
      "examples seen so far : 904 Mean Squared Error (MSE)=0.017340709361457086 ; PSNR=17.76590000144139 ; SSIM=0.22122938137249826 ; :  12%|█▏        | 265/2250 [00:11<01:24, 23.60it/s]\n"
     ]
    },
    {
     "ename": "KeyboardInterrupt",
     "evalue": "",
     "output_type": "error",
     "traceback": [
      "\u001b[0;31m---------------------------------------------------------------------------\u001b[0m",
      "\u001b[0;31mKeyboardInterrupt\u001b[0m                         Traceback (most recent call last)",
      "Cell \u001b[0;32mIn[12], line 3\u001b[0m\n\u001b[1;32m      1\u001b[0m \u001b[38;5;28;01mimport\u001b[39;00m \u001b[38;5;21;01mutil\u001b[39;00m\n\u001b[0;32m----> 3\u001b[0m \u001b[43mutil\u001b[49m\u001b[38;5;241;43m.\u001b[39;49m\u001b[43mrun_experiment_task2\u001b[49m\u001b[43m(\u001b[49m\u001b[43mtrain_dataloader\u001b[49m\u001b[38;5;241;43m=\u001b[39;49m\u001b[43mtrain_loader\u001b[49m\u001b[43m,\u001b[49m\u001b[43m \u001b[49m\n\u001b[1;32m      4\u001b[0m \u001b[43m                     \u001b[49m\u001b[43mval_dataloader\u001b[49m\u001b[38;5;241;43m=\u001b[39;49m\u001b[43mval_loader\u001b[49m\u001b[43m,\u001b[49m\u001b[43m \u001b[49m\n\u001b[1;32m      5\u001b[0m \u001b[43m                     \u001b[49m\u001b[43mModel\u001b[49m\u001b[38;5;241;43m=\u001b[39;49m\u001b[43mSRCNN_upsampler\u001b[49m\u001b[43m,\u001b[49m\u001b[43m \u001b[49m\n\u001b[1;32m      6\u001b[0m \u001b[43m                     \u001b[49m\u001b[43mrun_name\u001b[49m\u001b[38;5;241;43m=\u001b[39;49m\u001b[38;5;124;43m\"\u001b[39;49m\u001b[38;5;124;43mSRCNN_upsample\u001b[39;49m\u001b[38;5;124;43m\"\u001b[39;49m\u001b[43m,\u001b[49m\u001b[43m \u001b[49m\n\u001b[1;32m      7\u001b[0m \u001b[43m                     \u001b[49m\u001b[43mmodel_parameters\u001b[49m\u001b[38;5;241;43m=\u001b[39;49m\u001b[43m{\u001b[49m\u001b[43m}\u001b[49m\u001b[43m,\u001b[49m\u001b[43m \u001b[49m\n\u001b[1;32m      8\u001b[0m \u001b[43m                     \u001b[49m\u001b[43mepochs\u001b[49m\u001b[38;5;241;43m=\u001b[39;49m\u001b[38;5;241;43m30\u001b[39;49m\u001b[43m,\u001b[49m\n\u001b[1;32m      9\u001b[0m \u001b[43m                     \u001b[49m\u001b[43mlearning_rate\u001b[49m\u001b[38;5;241;43m=\u001b[39;49m\u001b[38;5;241;43m1e-4\u001b[39;49m\u001b[43m,\u001b[49m\u001b[43m \u001b[49m\n\u001b[1;32m     10\u001b[0m \u001b[43m                     \u001b[49m\u001b[43moptimizer\u001b[49m\u001b[38;5;241;43m=\u001b[39;49m\u001b[38;5;124;43m'\u001b[39;49m\u001b[38;5;124;43madam\u001b[39;49m\u001b[38;5;124;43m'\u001b[39;49m\u001b[43m,\u001b[49m\n\u001b[1;32m     11\u001b[0m \u001b[43m                     \u001b[49m\u001b[43msavepath\u001b[49m\u001b[38;5;241;43m=\u001b[39;49m\u001b[38;5;124;43m\"\u001b[39;49m\u001b[38;5;124;43mmodels/srcnn_upsample.pth\u001b[39;49m\u001b[38;5;124;43m\"\u001b[39;49m\u001b[43m,\u001b[49m\n\u001b[1;32m     12\u001b[0m \u001b[43m                     \u001b[49m\u001b[43mmetrics\u001b[49m\u001b[38;5;241;43m=\u001b[39;49m\u001b[43m[\u001b[49m\u001b[43mMSE_Metric\u001b[49m\u001b[43m(\u001b[49m\u001b[43m)\u001b[49m\u001b[43m,\u001b[49m\u001b[43m \u001b[49m\u001b[43mPSNR_Metric\u001b[49m\u001b[43m(\u001b[49m\u001b[43m)\u001b[49m\u001b[43m,\u001b[49m\u001b[43m \u001b[49m\u001b[43mSSIM_Metric\u001b[49m\u001b[43m(\u001b[49m\u001b[43m)\u001b[49m\u001b[43m]\u001b[49m\u001b[43m,\u001b[49m\n\u001b[1;32m     13\u001b[0m \u001b[43m                     \u001b[49m\u001b[43mcfg\u001b[49m\u001b[38;5;241;43m=\u001b[39;49m\u001b[43mCONFIG\u001b[49m\u001b[43m,\u001b[49m\n\u001b[1;32m     14\u001b[0m \u001b[43m                     \u001b[49m\u001b[43mloss\u001b[49m\u001b[38;5;241;43m=\u001b[39;49m\u001b[38;5;124;43m\"\u001b[39;49m\u001b[38;5;124;43mMSE\u001b[39;49m\u001b[38;5;124;43m\"\u001b[39;49m\u001b[43m,\u001b[49m\n\u001b[1;32m     15\u001b[0m \u001b[43m                     \u001b[49m\u001b[43mtest_params\u001b[49m\u001b[38;5;241;43m=\u001b[39;49m\u001b[43m{\u001b[49m\u001b[38;5;124;43m\"\u001b[39;49m\u001b[38;5;124;43msave_in_total\u001b[39;49m\u001b[38;5;124;43m\"\u001b[39;49m\u001b[43m \u001b[49m\u001b[43m:\u001b[49m\u001b[43m \u001b[49m\u001b[38;5;241;43m10\u001b[39;49m\u001b[43m}\u001b[49m\u001b[43m,\u001b[49m\n\u001b[1;32m     16\u001b[0m \u001b[43m                     \u001b[49m\u001b[43mmin_lr\u001b[49m\u001b[38;5;241;43m=\u001b[39;49m\u001b[38;5;241;43m5e-5\u001b[39;49m\u001b[43m,\u001b[49m\n\u001b[1;32m     17\u001b[0m \u001b[43m                     \u001b[49m\u001b[43mcosine_annealer_epochs\u001b[49m\u001b[38;5;241;43m=\u001b[39;49m\u001b[38;5;241;43m10\u001b[39;49m\u001b[43m,\u001b[49m\n\u001b[1;32m     18\u001b[0m \u001b[43m                     \u001b[49m\u001b[43mscheduler_en\u001b[49m\u001b[38;5;241;43m=\u001b[39;49m\u001b[38;5;28;43;01mTrue\u001b[39;49;00m\u001b[43m,\u001b[49m\n\u001b[1;32m     19\u001b[0m \u001b[43m                     \u001b[49m\u001b[43mmetric_keyword\u001b[49m\u001b[38;5;241;43m=\u001b[39;49m\u001b[38;5;124;43m\"\u001b[39;49m\u001b[38;5;124;43mval_PSNR\u001b[39;49m\u001b[38;5;124;43m\"\u001b[39;49m\u001b[43m,\u001b[49m\n\u001b[1;32m     20\u001b[0m \u001b[43m                     \u001b[49m\u001b[43mlr_steps\u001b[49m\u001b[38;5;241;43m=\u001b[39;49m\u001b[38;5;28;43mlen\u001b[39;49m\u001b[43m(\u001b[49m\u001b[43mdataset\u001b[49m\u001b[43m)\u001b[49m\u001b[43m \u001b[49m\u001b[38;5;241;43m/\u001b[39;49m\u001b[38;5;241;43m/\u001b[39;49m\u001b[43m \u001b[49m\u001b[38;5;241;43m2\u001b[39;49m\u001b[43m,\u001b[49m\n\u001b[1;32m     21\u001b[0m \u001b[43m                     \u001b[49m\u001b[43mstart_with_test\u001b[49m\u001b[38;5;241;43m=\u001b[39;49m\u001b[38;5;28;43;01mTrue\u001b[39;49;00m\u001b[43m,\u001b[49m\n\u001b[1;32m     22\u001b[0m \u001b[43m                     \u001b[49m\u001b[43mWANDB_ON\u001b[49m\u001b[38;5;241;43m=\u001b[39;49m\u001b[38;5;28;43;01mTrue\u001b[39;49;00m\u001b[43m)\u001b[49m\n",
      "File \u001b[0;32m/workspace/util.py:485\u001b[0m, in \u001b[0;36mrun_experiment_task2\u001b[0;34m(train_dataloader, val_dataloader, Model, run_name, model_parameters, epochs, learning_rate, optimizer, savepath, cfg, saved_path_file, loss, test_params, min_lr, cosine_annealer_epochs, metrics, scheduler_en, metric_keyword, lr_steps, WANDB_ON, start_with_test)\u001b[0m\n\u001b[1;32m    483\u001b[0m \u001b[38;5;66;03m# it was useful for superresolution, to have some starting point, to see how much it improved\u001b[39;00m\n\u001b[1;32m    484\u001b[0m \u001b[38;5;28;01mif\u001b[39;00m start_with_test:\n\u001b[0;32m--> 485\u001b[0m     test_res \u001b[38;5;241m=\u001b[39m \u001b[43mtest_task2\u001b[49m\u001b[43m(\u001b[49m\u001b[43mmodel\u001b[49m\u001b[43m,\u001b[49m\u001b[43m \u001b[49m\u001b[43mtrain_dataloader\u001b[49m\u001b[43m,\u001b[49m\u001b[43m \u001b[49m\u001b[43mcfg\u001b[49m\u001b[38;5;241;43m=\u001b[39;49m\u001b[43mcfg\u001b[49m\u001b[43m,\u001b[49m\u001b[43m \u001b[49m\u001b[43mtest_params\u001b[49m\u001b[38;5;241;43m=\u001b[39;49m\u001b[43mtest_params\u001b[49m\u001b[43m,\u001b[49m\u001b[43m  \u001b[49m\u001b[43mmetrics\u001b[49m\u001b[38;5;241;43m=\u001b[39;49m\u001b[43mmetrics\u001b[49m\u001b[43m)\u001b[49m\n\u001b[1;32m    486\u001b[0m     evaluation \u001b[38;5;241m=\u001b[39m report_metrics_task2(test_res, epoch\u001b[38;5;241m=\u001b[39m\u001b[38;5;241m-\u001b[39m\u001b[38;5;241m1\u001b[39m, metrics\u001b[38;5;241m=\u001b[39mmetrics, prefix\u001b[38;5;241m=\u001b[39m\u001b[38;5;124m\"\u001b[39m\u001b[38;5;124mtrain\u001b[39m\u001b[38;5;124m\"\u001b[39m, WANDB_ON\u001b[38;5;241m=\u001b[39mWANDB_ON)\n\u001b[1;32m    488\u001b[0m     test_res \u001b[38;5;241m=\u001b[39m test_task2(model, val_dataloader, cfg\u001b[38;5;241m=\u001b[39mcfg, test_params\u001b[38;5;241m=\u001b[39mtest_params,  metrics\u001b[38;5;241m=\u001b[39mmetrics)\n",
      "File \u001b[0;32m/workspace/util.py:346\u001b[0m, in \u001b[0;36mtest_task2\u001b[0;34m(model, val_dataset, cfg, metrics, test_params, run)\u001b[0m\n\u001b[1;32m    344\u001b[0m \u001b[38;5;66;03m# variable that will track where we are in terms of all data (after iteration add batch size to it)\u001b[39;00m\n\u001b[1;32m    345\u001b[0m c \u001b[38;5;241m=\u001b[39m \u001b[38;5;241m0\u001b[39m\n\u001b[0;32m--> 346\u001b[0m \u001b[38;5;28;01mfor\u001b[39;00m i, (x,y) \u001b[38;5;129;01min\u001b[39;00m \u001b[38;5;28menumerate\u001b[39m(pbar): \n\u001b[1;32m    347\u001b[0m     \u001b[38;5;66;03m# get the predictions\u001b[39;00m\n\u001b[1;32m    348\u001b[0m     pred \u001b[38;5;241m=\u001b[39m model(x\u001b[38;5;241m.\u001b[39mto(CONFIG\u001b[38;5;241m.\u001b[39mDEVICE))\n\u001b[1;32m    349\u001b[0m     y \u001b[38;5;241m=\u001b[39m y\u001b[38;5;241m.\u001b[39mto(CONFIG\u001b[38;5;241m.\u001b[39mDEVICE)\n",
      "File \u001b[0;32m/usr/local/lib/python3.10/dist-packages/tqdm/std.py:1181\u001b[0m, in \u001b[0;36mtqdm.__iter__\u001b[0;34m(self)\u001b[0m\n\u001b[1;32m   1178\u001b[0m time \u001b[38;5;241m=\u001b[39m \u001b[38;5;28mself\u001b[39m\u001b[38;5;241m.\u001b[39m_time\n\u001b[1;32m   1180\u001b[0m \u001b[38;5;28;01mtry\u001b[39;00m:\n\u001b[0;32m-> 1181\u001b[0m     \u001b[38;5;28;01mfor\u001b[39;00m obj \u001b[38;5;129;01min\u001b[39;00m iterable:\n\u001b[1;32m   1182\u001b[0m         \u001b[38;5;28;01myield\u001b[39;00m obj\n\u001b[1;32m   1183\u001b[0m         \u001b[38;5;66;03m# Update and possibly print the progressbar.\u001b[39;00m\n\u001b[1;32m   1184\u001b[0m         \u001b[38;5;66;03m# Note: does not call self.update(1) for speed optimisation.\u001b[39;00m\n",
      "File \u001b[0;32m/usr/local/lib/python3.10/dist-packages/torch/utils/data/dataloader.py:630\u001b[0m, in \u001b[0;36m_BaseDataLoaderIter.__next__\u001b[0;34m(self)\u001b[0m\n\u001b[1;32m    627\u001b[0m \u001b[38;5;28;01mif\u001b[39;00m \u001b[38;5;28mself\u001b[39m\u001b[38;5;241m.\u001b[39m_sampler_iter \u001b[38;5;129;01mis\u001b[39;00m \u001b[38;5;28;01mNone\u001b[39;00m:\n\u001b[1;32m    628\u001b[0m     \u001b[38;5;66;03m# TODO(https://github.com/pytorch/pytorch/issues/76750)\u001b[39;00m\n\u001b[1;32m    629\u001b[0m     \u001b[38;5;28mself\u001b[39m\u001b[38;5;241m.\u001b[39m_reset()  \u001b[38;5;66;03m# type: ignore[call-arg]\u001b[39;00m\n\u001b[0;32m--> 630\u001b[0m data \u001b[38;5;241m=\u001b[39m \u001b[38;5;28;43mself\u001b[39;49m\u001b[38;5;241;43m.\u001b[39;49m\u001b[43m_next_data\u001b[49m\u001b[43m(\u001b[49m\u001b[43m)\u001b[49m\n\u001b[1;32m    631\u001b[0m \u001b[38;5;28mself\u001b[39m\u001b[38;5;241m.\u001b[39m_num_yielded \u001b[38;5;241m+\u001b[39m\u001b[38;5;241m=\u001b[39m \u001b[38;5;241m1\u001b[39m\n\u001b[1;32m    632\u001b[0m \u001b[38;5;28;01mif\u001b[39;00m \u001b[38;5;28mself\u001b[39m\u001b[38;5;241m.\u001b[39m_dataset_kind \u001b[38;5;241m==\u001b[39m _DatasetKind\u001b[38;5;241m.\u001b[39mIterable \u001b[38;5;129;01mand\u001b[39;00m \\\n\u001b[1;32m    633\u001b[0m         \u001b[38;5;28mself\u001b[39m\u001b[38;5;241m.\u001b[39m_IterableDataset_len_called \u001b[38;5;129;01mis\u001b[39;00m \u001b[38;5;129;01mnot\u001b[39;00m \u001b[38;5;28;01mNone\u001b[39;00m \u001b[38;5;129;01mand\u001b[39;00m \\\n\u001b[1;32m    634\u001b[0m         \u001b[38;5;28mself\u001b[39m\u001b[38;5;241m.\u001b[39m_num_yielded \u001b[38;5;241m>\u001b[39m \u001b[38;5;28mself\u001b[39m\u001b[38;5;241m.\u001b[39m_IterableDataset_len_called:\n",
      "File \u001b[0;32m/usr/local/lib/python3.10/dist-packages/torch/utils/data/dataloader.py:676\u001b[0m, in \u001b[0;36m_SingleProcessDataLoaderIter._next_data\u001b[0;34m(self)\u001b[0m\n\u001b[1;32m    674\u001b[0m data \u001b[38;5;241m=\u001b[39m \u001b[38;5;28mself\u001b[39m\u001b[38;5;241m.\u001b[39m_dataset_fetcher\u001b[38;5;241m.\u001b[39mfetch(index)  \u001b[38;5;66;03m# may raise StopIteration\u001b[39;00m\n\u001b[1;32m    675\u001b[0m \u001b[38;5;28;01mif\u001b[39;00m \u001b[38;5;28mself\u001b[39m\u001b[38;5;241m.\u001b[39m_pin_memory:\n\u001b[0;32m--> 676\u001b[0m     data \u001b[38;5;241m=\u001b[39m \u001b[43m_utils\u001b[49m\u001b[38;5;241;43m.\u001b[39;49m\u001b[43mpin_memory\u001b[49m\u001b[38;5;241;43m.\u001b[39;49m\u001b[43mpin_memory\u001b[49m\u001b[43m(\u001b[49m\u001b[43mdata\u001b[49m\u001b[43m,\u001b[49m\u001b[43m \u001b[49m\u001b[38;5;28;43mself\u001b[39;49m\u001b[38;5;241;43m.\u001b[39;49m\u001b[43m_pin_memory_device\u001b[49m\u001b[43m)\u001b[49m\n\u001b[1;32m    677\u001b[0m \u001b[38;5;28;01mreturn\u001b[39;00m data\n",
      "File \u001b[0;32m/usr/local/lib/python3.10/dist-packages/torch/utils/data/_utils/pin_memory.py:73\u001b[0m, in \u001b[0;36mpin_memory\u001b[0;34m(data, device)\u001b[0m\n\u001b[1;32m     71\u001b[0m \u001b[38;5;28;01melif\u001b[39;00m \u001b[38;5;28misinstance\u001b[39m(data, collections\u001b[38;5;241m.\u001b[39mabc\u001b[38;5;241m.\u001b[39mSequence):\n\u001b[1;32m     72\u001b[0m     \u001b[38;5;28;01mtry\u001b[39;00m:\n\u001b[0;32m---> 73\u001b[0m         \u001b[38;5;28;01mreturn\u001b[39;00m \u001b[38;5;28mtype\u001b[39m(data)([pin_memory(sample, device) \u001b[38;5;28;01mfor\u001b[39;00m sample \u001b[38;5;129;01min\u001b[39;00m data])  \u001b[38;5;66;03m# type: ignore[call-arg]\u001b[39;00m\n\u001b[1;32m     74\u001b[0m     \u001b[38;5;28;01mexcept\u001b[39;00m \u001b[38;5;167;01mTypeError\u001b[39;00m:\n\u001b[1;32m     75\u001b[0m         \u001b[38;5;66;03m# The sequence type may not support `__init__(iterable)` (e.g., `range`).\u001b[39;00m\n\u001b[1;32m     76\u001b[0m         \u001b[38;5;28;01mreturn\u001b[39;00m [pin_memory(sample, device) \u001b[38;5;28;01mfor\u001b[39;00m sample \u001b[38;5;129;01min\u001b[39;00m data]\n",
      "File \u001b[0;32m/usr/local/lib/python3.10/dist-packages/torch/utils/data/_utils/pin_memory.py:73\u001b[0m, in \u001b[0;36m<listcomp>\u001b[0;34m(.0)\u001b[0m\n\u001b[1;32m     71\u001b[0m \u001b[38;5;28;01melif\u001b[39;00m \u001b[38;5;28misinstance\u001b[39m(data, collections\u001b[38;5;241m.\u001b[39mabc\u001b[38;5;241m.\u001b[39mSequence):\n\u001b[1;32m     72\u001b[0m     \u001b[38;5;28;01mtry\u001b[39;00m:\n\u001b[0;32m---> 73\u001b[0m         \u001b[38;5;28;01mreturn\u001b[39;00m \u001b[38;5;28mtype\u001b[39m(data)([\u001b[43mpin_memory\u001b[49m\u001b[43m(\u001b[49m\u001b[43msample\u001b[49m\u001b[43m,\u001b[49m\u001b[43m \u001b[49m\u001b[43mdevice\u001b[49m\u001b[43m)\u001b[49m \u001b[38;5;28;01mfor\u001b[39;00m sample \u001b[38;5;129;01min\u001b[39;00m data])  \u001b[38;5;66;03m# type: ignore[call-arg]\u001b[39;00m\n\u001b[1;32m     74\u001b[0m     \u001b[38;5;28;01mexcept\u001b[39;00m \u001b[38;5;167;01mTypeError\u001b[39;00m:\n\u001b[1;32m     75\u001b[0m         \u001b[38;5;66;03m# The sequence type may not support `__init__(iterable)` (e.g., `range`).\u001b[39;00m\n\u001b[1;32m     76\u001b[0m         \u001b[38;5;28;01mreturn\u001b[39;00m [pin_memory(sample, device) \u001b[38;5;28;01mfor\u001b[39;00m sample \u001b[38;5;129;01min\u001b[39;00m data]\n",
      "File \u001b[0;32m/usr/local/lib/python3.10/dist-packages/torch/utils/data/_utils/pin_memory.py:58\u001b[0m, in \u001b[0;36mpin_memory\u001b[0;34m(data, device)\u001b[0m\n\u001b[1;32m     56\u001b[0m \u001b[38;5;28;01mdef\u001b[39;00m \u001b[38;5;21mpin_memory\u001b[39m(data, device\u001b[38;5;241m=\u001b[39m\u001b[38;5;28;01mNone\u001b[39;00m):\n\u001b[1;32m     57\u001b[0m     \u001b[38;5;28;01mif\u001b[39;00m \u001b[38;5;28misinstance\u001b[39m(data, torch\u001b[38;5;241m.\u001b[39mTensor):\n\u001b[0;32m---> 58\u001b[0m         \u001b[38;5;28;01mreturn\u001b[39;00m \u001b[43mdata\u001b[49m\u001b[38;5;241;43m.\u001b[39;49m\u001b[43mpin_memory\u001b[49m\u001b[43m(\u001b[49m\u001b[43mdevice\u001b[49m\u001b[43m)\u001b[49m\n\u001b[1;32m     59\u001b[0m     \u001b[38;5;28;01melif\u001b[39;00m \u001b[38;5;28misinstance\u001b[39m(data, (\u001b[38;5;28mstr\u001b[39m, \u001b[38;5;28mbytes\u001b[39m)):\n\u001b[1;32m     60\u001b[0m         \u001b[38;5;28;01mreturn\u001b[39;00m data\n",
      "\u001b[0;31mKeyboardInterrupt\u001b[0m: "
     ]
    }
   ],
   "source": [
    "import util\n",
    "\n",
    "util.run_experiment_task2(train_dataloader=train_loader, \n",
    "                     val_dataloader=val_loader, \n",
    "                     Model=SRCNN_upsampler, \n",
    "                     run_name=\"SRCNN_upsample\", \n",
    "                     model_parameters={}, \n",
    "                     epochs=30,\n",
    "                     learning_rate=1e-4, \n",
    "                     optimizer='adam',\n",
    "                     savepath=\"models/srcnn_upsample.pth\",\n",
    "                     metrics=[MSE_Metric(), PSNR_Metric(), SSIM_Metric()],\n",
    "                     cfg=CONFIG,\n",
    "                     loss=\"MSE\",\n",
    "                     test_params={\"save_in_total\" : 10},\n",
    "                     min_lr=5e-5,\n",
    "                     cosine_annealer_epochs=10,\n",
    "                     scheduler_en=True,\n",
    "                     metric_keyword=\"val_PSNR\",\n",
    "                     lr_steps=len(dataset) // 2,\n",
    "                     start_with_test=True,\n",
    "                     WANDB_ON=True)"
   ]
  },
  {
   "cell_type": "markdown",
   "metadata": {},
   "source": [
    "## Run for Conv2DTranspose"
   ]
  },
  {
   "cell_type": "code",
   "execution_count": 13,
   "metadata": {},
   "outputs": [],
   "source": [
    "\n",
    "class SRCNN_conv2DTranspose(nn.Module):\n",
    "    def __init__(self) -> None:\n",
    "        super(SRCNN_conv2DTranspose, self).__init__()\n",
    "        \n",
    "        self.features = nn.Sequential(\n",
    "            nn.Conv2d(1, 128, (9, 9), (1, 1), (4, 4)),\n",
    "            nn.ReLU(True)\n",
    "        )\n",
    "\n",
    "        self.map = nn.Sequential(\n",
    "            nn.Conv2d(128, 64, (5, 5), (1, 1), (2, 2)),\n",
    "            nn.ReLU(True)\n",
    "        )\n",
    "        \n",
    "        self.upsampler = nn.ConvTranspose2d(64, 64, (3, 3), stride=2, padding=1, output_padding=1)\n",
    "\n",
    "        self.reconstruction = nn.Conv2d(64, 1, (5, 5), (1, 1), (2, 2))\n",
    "\n",
    "        self._initialize_weights()\n",
    "\n",
    "    def forward(self, x: torch.Tensor) -> torch.Tensor:\n",
    "        return self._forward_impl(x)\n",
    "\n",
    "    # Support torch.script function.\n",
    "    def _forward_impl(self, x: torch.Tensor) -> torch.Tensor:\n",
    "        out = self.features(x)\n",
    "        out = self.map(out)\n",
    "        out = self.upsampler(out)\n",
    "        out = self.reconstruction(out)\n",
    "        return out\n",
    "\n",
    "    # The filter weight of each layer is a Gaussian distribution with zero mean and\n",
    "    # standard deviation initialized by random extraction 0.001 (deviation is 0)\n",
    "    def _initialize_weights(self) -> None:\n",
    "        for module in self.modules():\n",
    "            if isinstance(module, nn.Conv2d):\n",
    "                nn.init.normal_(module.weight.data, 0.0, math.sqrt(2 / (module.out_channels * module.weight.data[0][0].numel())))\n",
    "                nn.init.zeros_(module.bias.data)\n",
    "\n",
    "        nn.init.normal_(self.reconstruction.weight.data, 0.0, 0.001)\n",
    "        nn.init.zeros_(self.reconstruction.bias.data)"
   ]
  },
  {
   "cell_type": "code",
   "execution_count": 14,
   "metadata": {},
   "outputs": [
    {
     "data": {
      "text/plain": [
       "==========================================================================================\n",
       "Layer (type:depth-idx)                   Output Shape              Param #\n",
       "==========================================================================================\n",
       "SRCNN_conv2DTranspose                    [4, 1, 150, 150]          --\n",
       "├─Sequential: 1-1                        [4, 128, 75, 75]          --\n",
       "│    └─Conv2d: 2-1                       [4, 128, 75, 75]          10,496\n",
       "│    └─ReLU: 2-2                         [4, 128, 75, 75]          --\n",
       "├─Sequential: 1-2                        [4, 64, 75, 75]           --\n",
       "│    └─Conv2d: 2-3                       [4, 64, 75, 75]           204,864\n",
       "│    └─ReLU: 2-4                         [4, 64, 75, 75]           --\n",
       "├─ConvTranspose2d: 1-3                   [4, 64, 150, 150]         36,928\n",
       "├─Conv2d: 1-4                            [4, 1, 150, 150]          1,601\n",
       "==========================================================================================\n",
       "Total params: 253,889\n",
       "Trainable params: 253,889\n",
       "Non-trainable params: 0\n",
       "Total mult-adds (G): 8.31\n",
       "==========================================================================================\n",
       "Input size (MB): 0.09\n",
       "Forward/backward pass size (MB): 81.36\n",
       "Params size (MB): 1.02\n",
       "Estimated Total Size (MB): 82.47\n",
       "=========================================================================================="
      ]
     },
     "execution_count": 14,
     "metadata": {},
     "output_type": "execute_result"
    }
   ],
   "source": [
    "model  = SRCNN_conv2DTranspose()\n",
    "model(x).shape\n",
    "summary(model, input_size=(CONFIG.BATCH_SIZE, 1, 75, 75))"
   ]
  },
  {
   "cell_type": "code",
   "execution_count": 15,
   "metadata": {},
   "outputs": [
    {
     "data": {
      "text/html": [
       "Finishing last run (ID:f87k5s4e) before initializing another..."
      ],
      "text/plain": [
       "<IPython.core.display.HTML object>"
      ]
     },
     "metadata": {},
     "output_type": "display_data"
    },
    {
     "data": {
      "application/vnd.jupyter.widget-view+json": {
       "model_id": "",
       "version_major": 2,
       "version_minor": 0
      },
      "text/plain": [
       "VBox(children=(Label(value='0.003 MB of 0.008 MB uploaded\\r'), FloatProgress(value=0.44254247954688486, max=1.…"
      ]
     },
     "metadata": {},
     "output_type": "display_data"
    },
    {
     "data": {
      "text/html": [
       " View run <strong style=\"color:#cdcd00\">experiment_SRCNN_upsample</strong> at: <a href='https://wandb.ai/mlewand7/DeepLense2024_task2A/runs/f87k5s4e/workspace' target=\"_blank\">https://wandb.ai/mlewand7/DeepLense2024_task2A/runs/f87k5s4e/workspace</a><br/>Synced 5 W&B file(s), 0 media file(s), 0 artifact file(s) and 0 other file(s)"
      ],
      "text/plain": [
       "<IPython.core.display.HTML object>"
      ]
     },
     "metadata": {},
     "output_type": "display_data"
    },
    {
     "data": {
      "text/html": [
       "Find logs at: <code>./wandb/run-20240327_163707-f87k5s4e/logs</code>"
      ],
      "text/plain": [
       "<IPython.core.display.HTML object>"
      ]
     },
     "metadata": {},
     "output_type": "display_data"
    },
    {
     "data": {
      "text/html": [
       "Successfully finished last run (ID:f87k5s4e). Initializing new run:<br/>"
      ],
      "text/plain": [
       "<IPython.core.display.HTML object>"
      ]
     },
     "metadata": {},
     "output_type": "display_data"
    },
    {
     "data": {
      "application/vnd.jupyter.widget-view+json": {
       "model_id": "57f7d3345fc5431ea0ec2b38dabd2bed",
       "version_major": 2,
       "version_minor": 0
      },
      "text/plain": [
       "VBox(children=(Label(value='Waiting for wandb.init()...\\r'), FloatProgress(value=0.011112337355088028, max=1.0…"
      ]
     },
     "metadata": {},
     "output_type": "display_data"
    },
    {
     "data": {
      "text/html": [
       "Tracking run with wandb version 0.16.5"
      ],
      "text/plain": [
       "<IPython.core.display.HTML object>"
      ]
     },
     "metadata": {},
     "output_type": "display_data"
    },
    {
     "data": {
      "text/html": [
       "Run data is saved locally in <code>/workspace/wandb/run-20240327_163853-2ts3gxkm</code>"
      ],
      "text/plain": [
       "<IPython.core.display.HTML object>"
      ]
     },
     "metadata": {},
     "output_type": "display_data"
    },
    {
     "data": {
      "text/html": [
       "Syncing run <strong><a href='https://wandb.ai/mlewand7/DeepLense2024_task2A/runs/2ts3gxkm/workspace' target=\"_blank\">experiment_SRCNN_conv2DTranspose</a></strong> to <a href='https://wandb.ai/mlewand7/DeepLense2024_task2A' target=\"_blank\">Weights & Biases</a> (<a href='https://wandb.me/run' target=\"_blank\">docs</a>)<br/>"
      ],
      "text/plain": [
       "<IPython.core.display.HTML object>"
      ]
     },
     "metadata": {},
     "output_type": "display_data"
    },
    {
     "data": {
      "text/html": [
       " View project at <a href='https://wandb.ai/mlewand7/DeepLense2024_task2A' target=\"_blank\">https://wandb.ai/mlewand7/DeepLense2024_task2A</a>"
      ],
      "text/plain": [
       "<IPython.core.display.HTML object>"
      ]
     },
     "metadata": {},
     "output_type": "display_data"
    },
    {
     "data": {
      "text/html": [
       " View run at <a href='https://wandb.ai/mlewand7/DeepLense2024_task2A/runs/2ts3gxkm/workspace' target=\"_blank\">https://wandb.ai/mlewand7/DeepLense2024_task2A/runs/2ts3gxkm/workspace</a>"
      ],
      "text/plain": [
       "<IPython.core.display.HTML object>"
      ]
     },
     "metadata": {},
     "output_type": "display_data"
    },
    {
     "name": "stderr",
     "output_type": "stream",
     "text": [
      "examples seen so far : 9000 Mean Squared Error (MSE)=0.01762917545748371 ; PSNR=17.695914857188043 ; SSIM=0.1291277524874944 ; : 100%|██████████| 2250/2250 [01:31<00:00, 24.65it/s]  \n",
      "examples seen so far : 1000 Mean Squared Error (MSE)=0.017541225789836398 ; PSNR=17.720558265785318 ; SSIM=0.12887810232552202 ; : 100%|██████████| 250/250 [00:10<00:00, 24.07it/s]\n",
      "EPOCH : 0, average loss : 0.00027158137499807503, lr=0.0001: 100%|██████████| 2250/2250 [01:21<00:00, 27.46it/s]\n",
      "examples seen so far : 9000 Mean Squared Error (MSE)=7.525431962246686e-05 ; PSNR=41.268144861673406 ; SSIM=0.967333522084316 ; : 100%|██████████| 2250/2250 [01:32<00:00, 24.46it/s] \n",
      "examples seen so far : 1000 Mean Squared Error (MSE)=7.51597329220097e-05 ; PSNR=41.27492329976461 ; SSIM=0.9673578720073681 ; : 100%|██████████| 250/250 [00:10<00:00, 24.37it/s] \n"
     ]
    },
    {
     "name": "stdout",
     "output_type": "stream",
     "text": [
      "Saving metric with val_PSNR=41.27548551940918 (previous : 0)\n"
     ]
    },
    {
     "name": "stderr",
     "output_type": "stream",
     "text": [
      "EPOCH : 1, average loss : 7.471865373695942e-05, lr=9.877641290737885e-05: 100%|██████████| 2250/2250 [01:22<00:00, 27.35it/s]\n",
      "examples seen so far : 9000 Mean Squared Error (MSE)=7.364888785464436e-05 ; PSNR=41.363468868333186 ; SSIM=0.9682363163816862 ; : 100%|██████████| 2250/2250 [01:31<00:00, 24.54it/s]\n",
      "examples seen so far : 1000 Mean Squared Error (MSE)=7.351188592415688e-05 ; PSNR=41.37326737901231 ; SSIM=0.9682631321974822 ; : 100%|██████████| 250/250 [00:10<00:00, 24.26it/s]\n"
     ]
    },
    {
     "name": "stdout",
     "output_type": "stream",
     "text": [
      "Saving metric with val_PSNR=41.37382900238037 (previous : 41.27548551940918)\n"
     ]
    },
    {
     "name": "stderr",
     "output_type": "stream",
     "text": [
      "EPOCH : 2, average loss : 7.162660901020798e-05, lr=9.52254248593737e-05: 100%|██████████| 2250/2250 [01:22<00:00, 27.36it/s]\n",
      "examples seen so far : 9000 Mean Squared Error (MSE)=6.600246099225264e-05 ; PSNR=41.83970701012271 ; SSIM=0.971353855122724 ; : 100%|██████████| 2250/2250 [01:30<00:00, 24.86it/s]  \n",
      "examples seen so far : 1000 Mean Squared Error (MSE)=6.586513730902546e-05 ; PSNR=41.85058488358965 ; SSIM=0.9713808485456893 ; : 100%|██████████| 250/250 [00:10<00:00, 24.47it/s]\n"
     ]
    },
    {
     "name": "stdout",
     "output_type": "stream",
     "text": [
      "Saving metric with val_PSNR=41.85109855651856 (previous : 41.37382900238037)\n"
     ]
    },
    {
     "name": "stderr",
     "output_type": "stream",
     "text": [
      "EPOCH : 3, average loss : 6.223324737867288e-05, lr=8.969463130731185e-05: 100%|██████████| 2250/2250 [01:22<00:00, 27.11it/s]\n",
      "examples seen so far : 9000 Mean Squared Error (MSE)=5.953966367780065e-05 ; PSNR=42.28682165763712 ; SSIM=0.9742729489916443 ; : 100%|██████████| 2250/2250 [01:31<00:00, 24.48it/s] \n",
      "examples seen so far : 1000 Mean Squared Error (MSE)=5.939286118653534e-05 ; PSNR=42.29912836725886 ; SSIM=0.9742985763349332 ; : 100%|██████████| 250/250 [00:10<00:00, 24.60it/s]\n"
     ]
    },
    {
     "name": "stdout",
     "output_type": "stream",
     "text": [
      "Saving metric with val_PSNR=42.29961828613281 (previous : 41.85109855651856)\n"
     ]
    },
    {
     "name": "stderr",
     "output_type": "stream",
     "text": [
      "EPOCH : 4, average loss : 5.9528279383408115e-05, lr=8.27254248593737e-05: 100%|██████████| 2250/2250 [01:22<00:00, 27.30it/s]\n",
      "examples seen so far : 9000 Mean Squared Error (MSE)=6.706988885855972e-05 ; PSNR=41.77482355513935 ; SSIM=0.9734055076867875 ; : 100%|██████████| 2250/2250 [01:30<00:00, 24.73it/s] \n",
      "examples seen so far : 1000 Mean Squared Error (MSE)=6.690755998369077e-05 ; PSNR=41.786943842340875 ; SSIM=0.9734270496888681 ; : 100%|██████████| 250/250 [00:09<00:00, 25.01it/s]\n",
      "EPOCH : 5, average loss : 5.9411635894017914e-05, lr=7.500000000000001e-05: 100%|██████████| 2250/2250 [01:22<00:00, 27.27it/s]\n",
      "examples seen so far : 9000 Mean Squared Error (MSE)=5.912327660958549e-05 ; PSNR=42.31746595162049 ; SSIM=0.9744576668657188 ; : 100%|██████████| 2250/2250 [01:31<00:00, 24.59it/s] \n",
      "examples seen so far : 1000 Mean Squared Error (MSE)=5.8983888214191156e-05 ; PSNR=42.329158431655536 ; SSIM=0.9744808912515879 ; : 100%|██████████| 250/250 [00:10<00:00, 24.21it/s]\n"
     ]
    },
    {
     "name": "stdout",
     "output_type": "stream",
     "text": [
      "Saving metric with val_PSNR=42.329657180786135 (previous : 42.29961828613281)\n"
     ]
    },
    {
     "name": "stderr",
     "output_type": "stream",
     "text": [
      "EPOCH : 6, average loss : 5.899874888968447e-05, lr=6.727457514062632e-05: 100%|██████████| 2250/2250 [01:22<00:00, 27.43it/s] \n",
      "examples seen so far : 9000 Mean Squared Error (MSE)=5.8830969827835665e-05 ; PSNR=42.33876397872265 ; SSIM=0.974497699932279 ; : 100%|██████████| 2250/2250 [01:32<00:00, 24.35it/s]  \n",
      "examples seen so far : 1000 Mean Squared Error (MSE)=5.869267759178681e-05 ; PSNR=42.350437954739405 ; SSIM=0.9745202150430765 ; : 100%|██████████| 250/250 [00:10<00:00, 24.33it/s]\n"
     ]
    },
    {
     "name": "stdout",
     "output_type": "stream",
     "text": [
      "Saving metric with val_PSNR=42.3509282875061 (previous : 42.329657180786135)\n"
     ]
    },
    {
     "name": "stderr",
     "output_type": "stream",
     "text": [
      "EPOCH : 7, average loss : 5.899101558639409e-05, lr=6.030536869268818e-05: 100%|██████████| 2250/2250 [01:21<00:00, 27.54it/s] \n",
      "examples seen so far : 9000 Mean Squared Error (MSE)=5.9072306780276393e-05 ; PSNR=42.32109033919689 ; SSIM=0.9744745621960459 ; : 100%|██████████| 2250/2250 [01:32<00:00, 24.24it/s] \n",
      "examples seen so far : 1000 Mean Squared Error (MSE)=5.8934353676834817e-05 ; PSNR=42.3327077306188 ; SSIM=0.9744965050432894 ; : 100%|██████████| 250/250 [00:10<00:00, 24.80it/s]\n",
      "EPOCH : 8, average loss : 5.887435308411821e-05, lr=5.477457514062632e-05: 100%|██████████| 2250/2250 [01:23<00:00, 26.98it/s] \n",
      "examples seen so far : 9000 Mean Squared Error (MSE)=5.876749649882951e-05 ; PSNR=42.3433971805617 ; SSIM=0.9745150455661264 ; : 100%|██████████| 2250/2250 [01:31<00:00, 24.51it/s]  \n",
      "examples seen so far : 1000 Mean Squared Error (MSE)=5.8624471585226435e-05 ; PSNR=42.35545015000963 ; SSIM=0.9745376789056742 ; : 100%|██████████| 250/250 [00:10<00:00, 24.73it/s]\n"
     ]
    },
    {
     "name": "stdout",
     "output_type": "stream",
     "text": [
      "Saving metric with val_PSNR=42.35592705535889 (previous : 42.3509282875061)\n"
     ]
    },
    {
     "name": "stderr",
     "output_type": "stream",
     "text": [
      "EPOCH : 9, average loss : 5.88471308712744e-05, lr=5.122358709262116e-05: 100%|██████████| 2250/2250 [01:22<00:00, 27.15it/s]  \n",
      "examples seen so far : 9000 Mean Squared Error (MSE)=5.877016021890762e-05 ; PSNR=42.34329407564043 ; SSIM=0.9745276992301674 ; : 100%|██████████| 2250/2250 [01:32<00:00, 24.43it/s]  \n",
      "examples seen so far : 1000 Mean Squared Error (MSE)=5.862870545695057e-05 ; PSNR=42.355187386483166 ; SSIM=0.9745492252620969 ; : 100%|██████████| 250/250 [00:10<00:00, 24.31it/s]\n",
      "EPOCH : 10, average loss : 5.883040206713809e-05, lr=5e-05: 100%|██████████| 2250/2250 [01:22<00:00, 27.21it/s] \n",
      "examples seen so far : 9000 Mean Squared Error (MSE)=5.870783669596462e-05 ; PSNR=42.3479138902193 ; SSIM=0.9745183397907855 ; : 100%|██████████| 2250/2250 [01:31<00:00, 24.59it/s]  \n",
      "examples seen so far : 1000 Mean Squared Error (MSE)=5.857006986193742e-05 ; PSNR=42.35957885146499 ; SSIM=0.9745397624430117 ; : 100%|██████████| 250/250 [00:10<00:00, 24.07it/s] \n"
     ]
    },
    {
     "name": "stdout",
     "output_type": "stream",
     "text": [
      "Saving metric with val_PSNR=42.360061164855956 (previous : 42.35592705535889)\n"
     ]
    },
    {
     "name": "stderr",
     "output_type": "stream",
     "text": [
      "EPOCH : 11, average loss : 5.881550808973973e-05, lr=5.122358709262116e-05: 100%|██████████| 2250/2250 [01:22<00:00, 27.28it/s] \n",
      "examples seen so far : 9000 Mean Squared Error (MSE)=5.8693339719512106e-05 ; PSNR=42.34897924881668 ; SSIM=0.9745226433931794 ; : 100%|██████████| 2250/2250 [01:29<00:00, 25.08it/s]\n",
      "examples seen so far : 1000 Mean Squared Error (MSE)=5.8552663131149484e-05 ; PSNR=42.360898366322864 ; SSIM=0.9745445232968908 ; : 100%|██████████| 250/250 [00:09<00:00, 26.86it/s]\n"
     ]
    },
    {
     "name": "stdout",
     "output_type": "stream",
     "text": [
      "Saving metric with val_PSNR=42.361369667053225 (previous : 42.360061164855956)\n"
     ]
    },
    {
     "name": "stderr",
     "output_type": "stream",
     "text": [
      "EPOCH : 12, average loss : 5.8825918875906306e-05, lr=5.477457514062633e-05: 100%|██████████| 2250/2250 [01:17<00:00, 28.97it/s]\n",
      "examples seen so far : 9000 Mean Squared Error (MSE)=5.882043993063079e-05 ; PSNR=42.3396663837452 ; SSIM=0.9745292140849631 ; : 100%|██████████| 2250/2250 [01:26<00:00, 25.86it/s]  \n",
      "examples seen so far : 1000 Mean Squared Error (MSE)=5.8676427337681285e-05 ; PSNR=42.35178495909239 ; SSIM=0.9745514684014611 ; : 100%|██████████| 250/250 [00:09<00:00, 26.30it/s]\n",
      "EPOCH : 13, average loss : 5.882307475904882e-05, lr=6.03053686926882e-05: 100%|██████████| 2250/2250 [01:18<00:00, 28.73it/s] \n",
      "examples seen so far : 9000 Mean Squared Error (MSE)=5.9427025531433974e-05 ; PSNR=42.29546626396531 ; SSIM=0.9743379549736949 ; : 100%|██████████| 2250/2250 [01:26<00:00, 26.04it/s] \n",
      "examples seen so far : 1000 Mean Squared Error (MSE)=5.9287820251258154e-05 ; PSNR=42.3071045899415 ; SSIM=0.9743597335046953 ; : 100%|██████████| 250/250 [00:09<00:00, 26.05it/s]\n",
      "EPOCH : 14, average loss : 5.889708439968268e-05, lr=6.727457514062637e-05: 100%|██████████| 2250/2250 [01:17<00:00, 28.88it/s] \n",
      "examples seen so far : 9000 Mean Squared Error (MSE)=5.8626271582124666e-05 ; PSNR=42.35396280255844 ; SSIM=0.974537100397437 ; : 100%|██████████| 2250/2250 [01:30<00:00, 24.92it/s] \n",
      "examples seen so far : 1000 Mean Squared Error (MSE)=5.848767559600619e-05 ; PSNR=42.36576321270611 ; SSIM=0.9745587364092723 ; : 100%|██████████| 250/250 [00:10<00:00, 24.83it/s] \n"
     ]
    },
    {
     "name": "stdout",
     "output_type": "stream",
     "text": [
      "Saving metric with val_PSNR=42.36623920822144 (previous : 42.361369667053225)\n"
     ]
    },
    {
     "name": "stderr",
     "output_type": "stream",
     "text": [
      "EPOCH : 15, average loss : 5.888092448488654e-05, lr=7.500000000000009e-05: 100%|██████████| 2250/2250 [01:15<00:00, 29.64it/s] \n",
      "examples seen so far : 9000 Mean Squared Error (MSE)=5.86524370515827e-05 ; PSNR=42.35204999024821 ; SSIM=0.9745297695228903 ; : 100%|██████████| 2250/2250 [01:31<00:00, 24.65it/s]  \n",
      "examples seen so far : 1000 Mean Squared Error (MSE)=5.8514448286845696e-05 ; PSNR=42.363840895491435 ; SSIM=0.9745519697009861 ; : 100%|██████████| 250/250 [00:10<00:00, 24.82it/s]\n",
      "EPOCH : 16, average loss : 5.887152105666852e-05, lr=8.27254248593738e-05: 100%|██████████| 2250/2250 [01:20<00:00, 27.94it/s] \n",
      "examples seen so far : 9000 Mean Squared Error (MSE)=5.866379211587636e-05 ; PSNR=42.35125554510058 ; SSIM=0.9745355253220135 ; : 100%|██████████| 2250/2250 [01:29<00:00, 25.22it/s] \n",
      "examples seen so far : 1000 Mean Squared Error (MSE)=5.852160224289231e-05 ; PSNR=42.363323039836715 ; SSIM=0.9745577824962987 ; : 100%|██████████| 250/250 [00:10<00:00, 24.64it/s]\n",
      "EPOCH : 17, average loss : 5.8915840532992865e-05, lr=8.969463130731197e-05: 100%|██████████| 2250/2250 [01:21<00:00, 27.74it/s]\n",
      "examples seen so far : 9000 Mean Squared Error (MSE)=5.972583647070357e-05 ; PSNR=42.273980507043646 ; SSIM=0.9744694695060472 ; : 100%|██████████| 2250/2250 [01:27<00:00, 25.63it/s]\n",
      "examples seen so far : 1000 Mean Squared Error (MSE)=5.958348489954958e-05 ; PSNR=42.28588197801683 ; SSIM=0.9744914672873519 ; : 100%|██████████| 250/250 [00:09<00:00, 26.00it/s]\n",
      "EPOCH : 18, average loss : 5.903915172934325e-05, lr=9.522542485937386e-05: 100%|██████████| 2250/2250 [01:20<00:00, 28.09it/s] \n",
      "examples seen so far : 9000 Mean Squared Error (MSE)=5.8624110794930054e-05 ; PSNR=42.35418843560675 ; SSIM=0.9745335865516188 ; : 100%|██████████| 2250/2250 [01:26<00:00, 26.10it/s]\n",
      "examples seen so far : 1000 Mean Squared Error (MSE)=5.848784811413233e-05 ; PSNR=42.365842614923274 ; SSIM=0.97455466408152 ; : 100%|██████████| 250/250 [00:09<00:00, 25.85it/s]  \n"
     ]
    },
    {
     "name": "stdout",
     "output_type": "stream",
     "text": [
      "Saving metric with val_PSNR=42.366314876556395 (previous : 42.36623920822144)\n"
     ]
    },
    {
     "name": "stderr",
     "output_type": "stream",
     "text": [
      "EPOCH : 19, average loss : 5.895406631073759e-05, lr=9.877641290737903e-05: 100%|██████████| 2250/2250 [01:17<00:00, 29.03it/s] \n",
      "examples seen so far : 9000 Mean Squared Error (MSE)=5.8923792847800526e-05 ; PSNR=42.332046145080845 ; SSIM=0.9744176186115321 ; : 100%|██████████| 2250/2250 [01:27<00:00, 25.77it/s]\n",
      "examples seen so far : 1000 Mean Squared Error (MSE)=5.878211363000577e-05 ; PSNR=42.34404134511709 ; SSIM=0.9744400422613662 ; : 100%|██████████| 250/250 [00:09<00:00, 25.17it/s]\n",
      "EPOCH : 20, average loss : 5.9032693332281066e-05, lr=0.00010000000000000018: 100%|██████████| 2250/2250 [01:02<00:00, 36.15it/s]\n",
      "examples seen so far : 9000 Mean Squared Error (MSE)=5.8586567213234394e-05 ; PSNR=42.35693728127656 ; SSIM=0.9745447233671982 ; : 100%|██████████| 2250/2250 [01:19<00:00, 28.26it/s]\n",
      "examples seen so far : 1000 Mean Squared Error (MSE)=5.844477077430297e-05 ; PSNR=42.36891996061002 ; SSIM=0.9745667352452054 ; : 100%|██████████| 250/250 [00:09<00:00, 25.39it/s]\n"
     ]
    },
    {
     "name": "stdout",
     "output_type": "stream",
     "text": [
      "Saving metric with val_PSNR=42.36939661026001 (previous : 42.366314876556395)\n"
     ]
    },
    {
     "name": "stderr",
     "output_type": "stream",
     "text": [
      "EPOCH : 21, average loss : 5.881528557155333e-05, lr=9.877641290737901e-05: 100%|██████████| 2250/2250 [01:08<00:00, 33.04it/s] \n",
      "examples seen so far : 9000 Mean Squared Error (MSE)=5.89736580921054e-05 ; PSNR=42.32868351000046 ; SSIM=0.9744943824989661 ; : 100%|██████████| 2250/2250 [01:16<00:00, 29.44it/s]  \n",
      "examples seen so far : 1000 Mean Squared Error (MSE)=5.883414679966928e-05 ; PSNR=42.34051389188261 ; SSIM=0.9745161346606426 ; : 100%|██████████| 250/250 [00:09<00:00, 26.59it/s]\n",
      "EPOCH : 22, average loss : 5.882932927407738e-05, lr=9.522542485937386e-05: 100%|██████████| 2250/2250 [01:16<00:00, 29.24it/s] \n",
      "examples seen so far : 9000 Mean Squared Error (MSE)=5.860838084120082e-05 ; PSNR=42.355406731390296 ; SSIM=0.9745459330917822 ; : 100%|██████████| 2250/2250 [01:18<00:00, 28.56it/s] \n",
      "examples seen so far : 1000 Mean Squared Error (MSE)=5.8463156827864374e-05 ; PSNR=42.36774097476994 ; SSIM=0.9745684758917587 ; : 100%|██████████| 250/250 [00:09<00:00, 25.45it/s]\n",
      "EPOCH : 23, average loss : 5.877267463882971e-05, lr=8.969463130731198e-05: 100%|██████████| 2250/2250 [01:18<00:00, 28.62it/s] \n",
      "examples seen so far : 9000 Mean Squared Error (MSE)=5.858885054804337e-05 ; PSNR=42.35675112455868 ; SSIM=0.9745490983375272 ; : 100%|██████████| 2250/2250 [01:26<00:00, 25.94it/s]  \n",
      "examples seen so far : 1000 Mean Squared Error (MSE)=5.8450974573314124e-05 ; PSNR=42.368489090744795 ; SSIM=0.9745706909292333 ; : 100%|██████████| 250/250 [00:09<00:00, 26.57it/s]\n",
      "EPOCH : 24, average loss : 5.87231924615076e-05, lr=8.27254248593738e-05: 100%|██████████| 2250/2250 [01:19<00:00, 28.32it/s]  \n",
      "examples seen so far : 9000 Mean Squared Error (MSE)=5.853446764132133e-05 ; PSNR=42.36079960524314 ; SSIM=0.9745526155679408 ; : 100%|██████████| 2250/2250 [01:26<00:00, 25.86it/s]  \n",
      "examples seen so far : 1000 Mean Squared Error (MSE)=5.8396461860717716e-05 ; PSNR=42.37256547089692 ; SSIM=0.9745741425095139 ; : 100%|██████████| 250/250 [00:09<00:00, 26.02it/s]\n"
     ]
    },
    {
     "name": "stdout",
     "output_type": "stream",
     "text": [
      "Saving metric with val_PSNR=42.373046600341794 (previous : 42.36939661026001)\n"
     ]
    },
    {
     "name": "stderr",
     "output_type": "stream",
     "text": [
      "EPOCH : 25, average loss : 5.8669569433226975e-05, lr=7.500000000000009e-05: 100%|██████████| 2250/2250 [01:17<00:00, 28.95it/s]\n",
      "examples seen so far : 9000 Mean Squared Error (MSE)=5.8573334188220096e-05 ; PSNR=42.357969951067965 ; SSIM=0.9745458638234885 ; : 100%|██████████| 2250/2250 [01:26<00:00, 25.98it/s]\n",
      "examples seen so far : 1000 Mean Squared Error (MSE)=5.843373066665874e-05 ; PSNR=42.36988955813724 ; SSIM=0.9745668115558567 ; : 100%|██████████| 250/250 [00:10<00:00, 24.70it/s]\n",
      "EPOCH : 26, average loss : 5.862994191476092e-05, lr=6.727457514062637e-05: 100%|██████████| 2250/2250 [01:17<00:00, 29.19it/s] \n",
      "examples seen so far : 9000 Mean Squared Error (MSE)=5.8530034389189295e-05 ; PSNR=42.36115114364853 ; SSIM=0.9745502090411712 ; : 100%|██████████| 2250/2250 [01:26<00:00, 26.04it/s] \n",
      "examples seen so far : 1000 Mean Squared Error (MSE)=5.839439269927404e-05 ; PSNR=42.372740786593475 ; SSIM=0.9745716381001401 ; : 100%|██████████| 250/250 [00:09<00:00, 25.83it/s]\n"
     ]
    },
    {
     "name": "stdout",
     "output_type": "stream",
     "text": [
      "Saving metric with val_PSNR=42.37323126220703 (previous : 42.373046600341794)\n"
     ]
    },
    {
     "name": "stderr",
     "output_type": "stream",
     "text": [
      "EPOCH : 27, average loss : 5.8599744988087976e-05, lr=6.030536869268821e-05: 100%|██████████| 2250/2250 [01:17<00:00, 28.88it/s]\n",
      "examples seen so far : 9000 Mean Squared Error (MSE)=5.8783625779856545e-05 ; PSNR=42.34257254000173 ; SSIM=0.9745062352591243 ; : 100%|██████████| 2250/2250 [01:27<00:00, 25.80it/s]\n",
      "examples seen so far : 1000 Mean Squared Error (MSE)=5.864279635031605e-05 ; PSNR=42.35453140747559 ; SSIM=0.9745281409095596 ; : 100%|██████████| 250/250 [00:09<00:00, 27.19it/s]\n",
      "EPOCH : 28, average loss : 5.865155332624757e-05, lr=5.4774575140626335e-05: 100%|██████████| 2250/2250 [01:16<00:00, 29.55it/s] \n",
      "examples seen so far : 9000 Mean Squared Error (MSE)=5.8507242573040174e-05 ; PSNR=42.36285471987732 ; SSIM=0.974563011541302 ; : 100%|██████████| 2250/2250 [01:25<00:00, 26.33it/s] \n",
      "examples seen so far : 1000 Mean Squared Error (MSE)=5.836788677169734e-05 ; PSNR=42.374721194888735 ; SSIM=0.9745836629643216 ; : 100%|██████████| 250/250 [00:09<00:00, 25.36it/s]\n"
     ]
    },
    {
     "name": "stdout",
     "output_type": "stream",
     "text": [
      "Saving metric with val_PSNR=42.37520601272583 (previous : 42.37323126220703)\n"
     ]
    },
    {
     "name": "stderr",
     "output_type": "stream",
     "text": [
      "EPOCH : 29, average loss : 5.8553662864142095e-05, lr=5.122358709262117e-05: 100%|██████████| 2250/2250 [01:18<00:00, 28.60it/s]\n",
      "examples seen so far : 9000 Mean Squared Error (MSE)=5.8516175970796196e-05 ; PSNR=42.36218968406361 ; SSIM=0.9745572654919328 ; : 100%|██████████| 2250/2250 [01:26<00:00, 26.04it/s]\n",
      "examples seen so far : 1000 Mean Squared Error (MSE)=5.837521526696943e-05 ; PSNR=42.374165616116606 ; SSIM=0.9745781762941225 ; : 100%|██████████| 250/250 [00:09<00:00, 25.61it/s]\n"
     ]
    },
    {
     "data": {
      "application/vnd.jupyter.widget-view+json": {
       "model_id": "",
       "version_major": 2,
       "version_minor": 0
      },
      "text/plain": [
       "VBox(children=(Label(value='9.033 MB of 9.033 MB uploaded\\r'), FloatProgress(value=1.0, max=1.0)))"
      ]
     },
     "metadata": {},
     "output_type": "display_data"
    },
    {
     "data": {
      "text/html": [
       "<style>\n",
       "    table.wandb td:nth-child(1) { padding: 0 10px; text-align: left ; width: auto;} td:nth-child(2) {text-align: left ; width: 100%}\n",
       "    .wandb-row { display: flex; flex-direction: row; flex-wrap: wrap; justify-content: flex-start; width: 100% }\n",
       "    .wandb-col { display: flex; flex-direction: column; flex-basis: 100%; flex: 1; padding: 10px; }\n",
       "    </style>\n",
       "<div class=\"wandb-row\"><div class=\"wandb-col\"><h3>Run history:</h3><br/><table class=\"wandb\"><tr><td>loss</td><td>█▂▁▁▁▁▁▁▁▁▁▁▁▁▁▁▁▁▁▁▁▁▁▁▁▁▁▁▁▁</td></tr><tr><td>train_Mean Squared Error (MSE)</td><td>█▁▁▁▁▁▁▁▁▁▁▁▁▁▁▁▁▁▁▁▁▁▁▁▁▁▁▁▁▁▁</td></tr><tr><td>train_PSNR</td><td>▁██████████████████████████████</td></tr><tr><td>train_SSIM</td><td>▁██████████████████████████████</td></tr><tr><td>val_Mean Squared Error (MSE)</td><td>█▁▁▁▁▁▁▁▁▁▁▁▁▁▁▁▁▁▁▁▁▁▁▁▁▁▁▁▁▁▁</td></tr><tr><td>val_PSNR</td><td>▁██████████████████████████████</td></tr><tr><td>val_SSIM</td><td>▁██████████████████████████████</td></tr></table><br/></div><div class=\"wandb-col\"><h3>Run summary:</h3><br/><table class=\"wandb\"><tr><td>loss</td><td>6e-05</td></tr><tr><td>train_Mean Squared Error (MSE)</td><td>6e-05</td></tr><tr><td>train_PSNR</td><td>42.36224</td></tr><tr><td>train_SSIM</td><td>0.97456</td></tr><tr><td>val_Mean Squared Error (MSE)</td><td>6e-05</td></tr><tr><td>val_PSNR</td><td>42.37465</td></tr><tr><td>val_SSIM</td><td>0.97458</td></tr></table><br/></div></div>"
      ],
      "text/plain": [
       "<IPython.core.display.HTML object>"
      ]
     },
     "metadata": {},
     "output_type": "display_data"
    },
    {
     "data": {
      "text/html": [
       " View run <strong style=\"color:#cdcd00\">experiment_SRCNN_conv2DTranspose</strong> at: <a href='https://wandb.ai/mlewand7/DeepLense2024_task2A/runs/2ts3gxkm/workspace' target=\"_blank\">https://wandb.ai/mlewand7/DeepLense2024_task2A/runs/2ts3gxkm/workspace</a><br/>Synced 5 W&B file(s), 620 media file(s), 0 artifact file(s) and 0 other file(s)"
      ],
      "text/plain": [
       "<IPython.core.display.HTML object>"
      ]
     },
     "metadata": {},
     "output_type": "display_data"
    },
    {
     "data": {
      "text/html": [
       "Find logs at: <code>./wandb/run-20240327_163853-2ts3gxkm/logs</code>"
      ],
      "text/plain": [
       "<IPython.core.display.HTML object>"
      ]
     },
     "metadata": {},
     "output_type": "display_data"
    }
   ],
   "source": [
    "run_experiment_task2(train_dataloader=train_loader, \n",
    "                     val_dataloader=val_loader, \n",
    "                     Model=SRCNN_conv2DTranspose, \n",
    "                     run_name=\"SRCNN_conv2DTranspose\", \n",
    "                     model_parameters={}, \n",
    "                     epochs=30,\n",
    "                     learning_rate=1e-4, \n",
    "                     optimizer='adam',\n",
    "                     savepath=\"models/srcnn_upsample_transpose.pth\",\n",
    "                     metrics=[MSE_Metric(), PSNR_Metric(), SSIM_Metric()],\n",
    "                     cfg=CONFIG,\n",
    "                     loss=\"MSE\",\n",
    "                     test_params={\"save_in_total\" : 10},\n",
    "                     min_lr=5e-5,\n",
    "                     cosine_annealer_epochs=10,\n",
    "                     scheduler_en=True,\n",
    "                     metric_keyword=\"val_PSNR\",\n",
    "                     lr_steps=len(dataset) // 2,\n",
    "                     start_with_test=True,\n",
    "                     WANDB_ON=True)"
   ]
  },
  {
   "cell_type": "markdown",
   "metadata": {},
   "source": [
    "## Pixel reshuffling"
   ]
  },
  {
   "cell_type": "code",
   "execution_count": 33,
   "metadata": {},
   "outputs": [],
   "source": [
    "\n",
    "class SRCNN_reshuffle(nn.Module):\n",
    "    def __init__(self) -> None:\n",
    "        super(SRCNN_reshuffle, self).__init__()\n",
    "        \n",
    "        self.features = nn.Sequential(\n",
    "            nn.Conv2d(1, 128, (9, 9), (1, 1), (4, 4)),\n",
    "            nn.ReLU(True)\n",
    "        )\n",
    "\n",
    "        self.map = nn.Sequential(\n",
    "            nn.Conv2d(128, 256, (5, 5), (1, 1), (2, 2)),\n",
    "            nn.ReLU(True)\n",
    "        )\n",
    "        \n",
    "        self.upsampler = nn.PixelShuffle(2)\n",
    "\n",
    "        self.reconstruction = nn.Conv2d(64, 1, (5, 5), (1, 1), (2, 2))\n",
    "\n",
    "        self._initialize_weights()\n",
    "\n",
    "    def forward(self, x: torch.Tensor) -> torch.Tensor:\n",
    "        return self._forward_impl(x)\n",
    "\n",
    "    # Support torch.script function.\n",
    "    def _forward_impl(self, x: torch.Tensor) -> torch.Tensor:\n",
    "        out = self.features(x)\n",
    "        out = self.map(out)\n",
    "        out = self.upsampler(out)\n",
    "        out = self.reconstruction(out)\n",
    "        return out\n",
    "\n",
    "    # The filter weight of each layer is a Gaussian distribution with zero mean and\n",
    "    # standard deviation initialized by random extraction 0.001 (deviation is 0)\n",
    "    def _initialize_weights(self) -> None:\n",
    "        for module in self.modules():\n",
    "            if isinstance(module, nn.Conv2d):\n",
    "                nn.init.normal_(module.weight.data, 0.0, math.sqrt(2 / (module.out_channels * module.weight.data[0][0].numel())))\n",
    "                nn.init.zeros_(module.bias.data)\n",
    "\n",
    "        nn.init.normal_(self.reconstruction.weight.data, 0.0, 0.001)\n",
    "        nn.init.zeros_(self.reconstruction.bias.data)"
   ]
  },
  {
   "cell_type": "code",
   "execution_count": 34,
   "metadata": {},
   "outputs": [
    {
     "data": {
      "text/plain": [
       "==========================================================================================\n",
       "Layer (type:depth-idx)                   Output Shape              Param #\n",
       "==========================================================================================\n",
       "SRCNN_reshuffle                          [4, 1, 150, 150]          --\n",
       "├─Sequential: 1-1                        [4, 128, 75, 75]          --\n",
       "│    └─Conv2d: 2-1                       [4, 128, 75, 75]          10,496\n",
       "│    └─ReLU: 2-2                         [4, 128, 75, 75]          --\n",
       "├─Sequential: 1-2                        [4, 256, 75, 75]          --\n",
       "│    └─Conv2d: 2-3                       [4, 256, 75, 75]          819,456\n",
       "│    └─ReLU: 2-4                         [4, 256, 75, 75]          --\n",
       "├─PixelShuffle: 1-3                      [4, 64, 150, 150]         --\n",
       "├─Conv2d: 1-4                            [4, 1, 150, 150]          1,601\n",
       "==========================================================================================\n",
       "Total params: 831,553\n",
       "Trainable params: 831,553\n",
       "Non-trainable params: 0\n",
       "Total mult-adds (G): 18.82\n",
       "==========================================================================================\n",
       "Input size (MB): 0.09\n",
       "Forward/backward pass size (MB): 69.84\n",
       "Params size (MB): 3.33\n",
       "Estimated Total Size (MB): 73.26\n",
       "=========================================================================================="
      ]
     },
     "execution_count": 34,
     "metadata": {},
     "output_type": "execute_result"
    }
   ],
   "source": [
    "model  = SRCNN_reshuffle()\n",
    "model(x).shape\n",
    "summary(model, input_size=(CONFIG.BATCH_SIZE, 1, 75, 75))"
   ]
  },
  {
   "cell_type": "code",
   "execution_count": null,
   "metadata": {},
   "outputs": [
    {
     "data": {
      "text/html": [
       "Tracking run with wandb version 0.16.5"
      ],
      "text/plain": [
       "<IPython.core.display.HTML object>"
      ]
     },
     "metadata": {},
     "output_type": "display_data"
    },
    {
     "data": {
      "text/html": [
       "Run data is saved locally in <code>/workspace/wandb/run-20240327_181737-rgadaiyj</code>"
      ],
      "text/plain": [
       "<IPython.core.display.HTML object>"
      ]
     },
     "metadata": {},
     "output_type": "display_data"
    },
    {
     "data": {
      "text/html": [
       "Syncing run <strong><a href='https://wandb.ai/mlewand7/DeepLense2024_task2A/runs/rgadaiyj/workspace' target=\"_blank\">experiment_SRCNN_reshuffle</a></strong> to <a href='https://wandb.ai/mlewand7/DeepLense2024_task2A' target=\"_blank\">Weights & Biases</a> (<a href='https://wandb.me/run' target=\"_blank\">docs</a>)<br/>"
      ],
      "text/plain": [
       "<IPython.core.display.HTML object>"
      ]
     },
     "metadata": {},
     "output_type": "display_data"
    },
    {
     "data": {
      "text/html": [
       " View project at <a href='https://wandb.ai/mlewand7/DeepLense2024_task2A' target=\"_blank\">https://wandb.ai/mlewand7/DeepLense2024_task2A</a>"
      ],
      "text/plain": [
       "<IPython.core.display.HTML object>"
      ]
     },
     "metadata": {},
     "output_type": "display_data"
    },
    {
     "data": {
      "text/html": [
       " View run at <a href='https://wandb.ai/mlewand7/DeepLense2024_task2A/runs/rgadaiyj/workspace' target=\"_blank\">https://wandb.ai/mlewand7/DeepLense2024_task2A/runs/rgadaiyj/workspace</a>"
      ],
      "text/plain": [
       "<IPython.core.display.HTML object>"
      ]
     },
     "metadata": {},
     "output_type": "display_data"
    },
    {
     "name": "stderr",
     "output_type": "stream",
     "text": [
      "examples seen so far : 9000 Mean Squared Error (MSE)=0.017465208161256754 ; PSNR=17.73807981711306 ; SSIM=0.21806179337739176 ; : 100%|██████████| 2250/2250 [01:29<00:00, 25.28it/s] \n",
      "examples seen so far : 1000 Mean Squared Error (MSE)=0.01737945490340526 ; PSNR=17.762498177804268 ; SSIM=0.21793488950820059 ; : 100%|██████████| 250/250 [00:10<00:00, 23.97it/s]\n",
      "EPOCH : 0, average loss : 0.0005084724951022788, lr=0.0001:  31%|███       | 694/2250 [00:24<00:50, 30.76it/s]"
     ]
    }
   ],
   "source": [
    "run_experiment_task2(train_dataloader=train_loader, \n",
    "                     val_dataloader=val_loader, \n",
    "                     Model=SRCNN_reshuffle, \n",
    "                     run_name=\"SRCNN_reshuffle\", \n",
    "                     model_parameters={}, \n",
    "                     epochs=30,\n",
    "                     learning_rate=1e-4, \n",
    "                     optimizer='adam',\n",
    "                     savepath=\"models/srcnn_reshuffle.pth\",\n",
    "                     metrics=[MSE_Metric(), PSNR_Metric(), SSIM_Metric()],\n",
    "                     cfg=CONFIG,\n",
    "                     loss=\"MSE\",\n",
    "                     test_params={\"save_in_total\" : 10},\n",
    "                     min_lr=5e-5,\n",
    "                     cosine_annealer_epochs=10,\n",
    "                     scheduler_en=True,\n",
    "                     metric_keyword=\"val_PSNR\",\n",
    "                     lr_steps=len(dataset) // 2,\n",
    "                     start_with_test=True,\n",
    "                     WANDB_ON=True)"
   ]
  },
  {
   "cell_type": "markdown",
   "metadata": {},
   "source": [
    "# Enhanced Deep Super-Resolution Network\n",
    "Paper : https://arxiv.org/abs/1707.02921"
   ]
  },
  {
   "cell_type": "markdown",
   "metadata": {},
   "source": [
    "# EDSR with upsampler"
   ]
  },
  {
   "cell_type": "code",
   "execution_count": 38,
   "metadata": {},
   "outputs": [
    {
     "data": {
      "text/plain": [
       "==========================================================================================\n",
       "Layer (type:depth-idx)                   Output Shape              Param #\n",
       "==========================================================================================\n",
       "EDSR_upsampler                           [4, 1, 150, 150]          --\n",
       "├─Upsample: 1-1                          [4, 1, 150, 150]          --\n",
       "├─Conv2d: 1-2                            [4, 64, 150, 150]         640\n",
       "├─Sequential: 1-3                        [4, 64, 150, 150]         --\n",
       "│    └─EDSRBlock: 2-1                    [4, 64, 150, 150]         --\n",
       "│    │    └─Conv2d: 3-1                  [4, 64, 150, 150]         36,928\n",
       "│    │    └─ReLU: 3-2                    [4, 64, 150, 150]         --\n",
       "│    │    └─Conv2d: 3-3                  [4, 64, 150, 150]         36,928\n",
       "│    └─EDSRBlock: 2-2                    [4, 64, 150, 150]         --\n",
       "│    │    └─Conv2d: 3-4                  [4, 64, 150, 150]         36,928\n",
       "│    │    └─ReLU: 3-5                    [4, 64, 150, 150]         --\n",
       "│    │    └─Conv2d: 3-6                  [4, 64, 150, 150]         36,928\n",
       "│    └─EDSRBlock: 2-3                    [4, 64, 150, 150]         --\n",
       "│    │    └─Conv2d: 3-7                  [4, 64, 150, 150]         36,928\n",
       "│    │    └─ReLU: 3-8                    [4, 64, 150, 150]         --\n",
       "│    │    └─Conv2d: 3-9                  [4, 64, 150, 150]         36,928\n",
       "│    └─EDSRBlock: 2-4                    [4, 64, 150, 150]         --\n",
       "│    │    └─Conv2d: 3-10                 [4, 64, 150, 150]         36,928\n",
       "│    │    └─ReLU: 3-11                   [4, 64, 150, 150]         --\n",
       "│    │    └─Conv2d: 3-12                 [4, 64, 150, 150]         36,928\n",
       "│    └─EDSRBlock: 2-5                    [4, 64, 150, 150]         --\n",
       "│    │    └─Conv2d: 3-13                 [4, 64, 150, 150]         36,928\n",
       "│    │    └─ReLU: 3-14                   [4, 64, 150, 150]         --\n",
       "│    │    └─Conv2d: 3-15                 [4, 64, 150, 150]         36,928\n",
       "│    └─EDSRBlock: 2-6                    [4, 64, 150, 150]         --\n",
       "│    │    └─Conv2d: 3-16                 [4, 64, 150, 150]         36,928\n",
       "│    │    └─ReLU: 3-17                   [4, 64, 150, 150]         --\n",
       "│    │    └─Conv2d: 3-18                 [4, 64, 150, 150]         36,928\n",
       "│    └─EDSRBlock: 2-7                    [4, 64, 150, 150]         --\n",
       "│    │    └─Conv2d: 3-19                 [4, 64, 150, 150]         36,928\n",
       "│    │    └─ReLU: 3-20                   [4, 64, 150, 150]         --\n",
       "│    │    └─Conv2d: 3-21                 [4, 64, 150, 150]         36,928\n",
       "│    └─EDSRBlock: 2-8                    [4, 64, 150, 150]         --\n",
       "│    │    └─Conv2d: 3-22                 [4, 64, 150, 150]         36,928\n",
       "│    │    └─ReLU: 3-23                   [4, 64, 150, 150]         --\n",
       "│    │    └─Conv2d: 3-24                 [4, 64, 150, 150]         36,928\n",
       "│    └─EDSRBlock: 2-9                    [4, 64, 150, 150]         --\n",
       "│    │    └─Conv2d: 3-25                 [4, 64, 150, 150]         36,928\n",
       "│    │    └─ReLU: 3-26                   [4, 64, 150, 150]         --\n",
       "│    │    └─Conv2d: 3-27                 [4, 64, 150, 150]         36,928\n",
       "│    └─EDSRBlock: 2-10                   [4, 64, 150, 150]         --\n",
       "│    │    └─Conv2d: 3-28                 [4, 64, 150, 150]         36,928\n",
       "│    │    └─ReLU: 3-29                   [4, 64, 150, 150]         --\n",
       "│    │    └─Conv2d: 3-30                 [4, 64, 150, 150]         36,928\n",
       "│    └─EDSRBlock: 2-11                   [4, 64, 150, 150]         --\n",
       "│    │    └─Conv2d: 3-31                 [4, 64, 150, 150]         36,928\n",
       "│    │    └─ReLU: 3-32                   [4, 64, 150, 150]         --\n",
       "│    │    └─Conv2d: 3-33                 [4, 64, 150, 150]         36,928\n",
       "│    └─EDSRBlock: 2-12                   [4, 64, 150, 150]         --\n",
       "│    │    └─Conv2d: 3-34                 [4, 64, 150, 150]         36,928\n",
       "│    │    └─ReLU: 3-35                   [4, 64, 150, 150]         --\n",
       "│    │    └─Conv2d: 3-36                 [4, 64, 150, 150]         36,928\n",
       "│    └─EDSRBlock: 2-13                   [4, 64, 150, 150]         --\n",
       "│    │    └─Conv2d: 3-37                 [4, 64, 150, 150]         36,928\n",
       "│    │    └─ReLU: 3-38                   [4, 64, 150, 150]         --\n",
       "│    │    └─Conv2d: 3-39                 [4, 64, 150, 150]         36,928\n",
       "│    └─EDSRBlock: 2-14                   [4, 64, 150, 150]         --\n",
       "│    │    └─Conv2d: 3-40                 [4, 64, 150, 150]         36,928\n",
       "│    │    └─ReLU: 3-41                   [4, 64, 150, 150]         --\n",
       "│    │    └─Conv2d: 3-42                 [4, 64, 150, 150]         36,928\n",
       "│    └─EDSRBlock: 2-15                   [4, 64, 150, 150]         --\n",
       "│    │    └─Conv2d: 3-43                 [4, 64, 150, 150]         36,928\n",
       "│    │    └─ReLU: 3-44                   [4, 64, 150, 150]         --\n",
       "│    │    └─Conv2d: 3-45                 [4, 64, 150, 150]         36,928\n",
       "│    └─EDSRBlock: 2-16                   [4, 64, 150, 150]         --\n",
       "│    │    └─Conv2d: 3-46                 [4, 64, 150, 150]         36,928\n",
       "│    │    └─ReLU: 3-47                   [4, 64, 150, 150]         --\n",
       "│    │    └─Conv2d: 3-48                 [4, 64, 150, 150]         36,928\n",
       "├─Conv2d: 1-4                            [4, 64, 150, 150]         36,928\n",
       "├─Conv2d: 1-5                            [4, 1, 150, 150]          577\n",
       "==========================================================================================\n",
       "Total params: 1,219,841\n",
       "Trainable params: 1,219,841\n",
       "Non-trainable params: 0\n",
       "Total mult-adds (G): 109.79\n",
       "==========================================================================================\n",
       "Input size (MB): 0.09\n",
       "Forward/backward pass size (MB): 1567.44\n",
       "Params size (MB): 4.88\n",
       "Estimated Total Size (MB): 1572.41\n",
       "=========================================================================================="
      ]
     },
     "execution_count": 38,
     "metadata": {},
     "output_type": "execute_result"
    }
   ],
   "source": [
    "import torch\n",
    "import torch.nn as nn\n",
    "\n",
    "class EDSRBlock(nn.Module):\n",
    "    def __init__(self, n_feats):\n",
    "        super(EDSRBlock, self).__init__()\n",
    "        self.conv1 = nn.Conv2d(n_feats, n_feats, kernel_size=3, padding=1)\n",
    "        self.relu = nn.ReLU(inplace=True)\n",
    "        self.conv2 = nn.Conv2d(n_feats, n_feats, kernel_size=3, padding=1)\n",
    "\n",
    "    def forward(self, x):\n",
    "        res = self.conv1(x)\n",
    "        res = self.relu(res)\n",
    "        res = self.conv2(res)\n",
    "        return x + res\n",
    "\n",
    "class EDSR_upsampler(nn.Module):\n",
    "    def __init__(self, n_blocks=16, n_feats=64):\n",
    "        super(EDSR_upsampler, self).__init__()\n",
    "        self.upsampler = nn.Upsample(scale_factor=2, mode='bilinear', align_corners=False)        \n",
    "        self.conv1 = nn.Conv2d(1, n_feats, kernel_size=3, padding=1)\n",
    "        self.blocks = nn.Sequential(*[EDSRBlock(n_feats) for _ in range(n_blocks)])\n",
    "        self.conv2 = nn.Conv2d(n_feats, n_feats, kernel_size=3, padding=1)\n",
    "        self.conv3 = nn.Conv2d(n_feats, 1, kernel_size=3, padding=1)\n",
    "\n",
    "    def forward(self, x):\n",
    "        x = self.upsampler(x)\n",
    "        x = self.conv1(x)\n",
    "        res = self.blocks(x)\n",
    "        res = self.conv2(res)\n",
    "        res += x\n",
    "        x = self.conv3(res)\n",
    "        return x\n",
    "\n",
    "\n",
    "model  = EDSR_upsampler()\n",
    "model(x).shape\n",
    "summary(model, input_size=(CONFIG.BATCH_SIZE, 1, 75, 75))"
   ]
  },
  {
   "cell_type": "code",
   "execution_count": null,
   "metadata": {},
   "outputs": [
    {
     "data": {
      "text/html": [
       "Finishing last run (ID:vedoma5z) before initializing another..."
      ],
      "text/plain": [
       "<IPython.core.display.HTML object>"
      ]
     },
     "metadata": {},
     "output_type": "display_data"
    },
    {
     "data": {
      "application/vnd.jupyter.widget-view+json": {
       "model_id": "",
       "version_major": 2,
       "version_minor": 0
      },
      "text/plain": [
       "VBox(children=(Label(value='0.550 MB of 0.550 MB uploaded\\r'), FloatProgress(value=1.0, max=1.0)))"
      ]
     },
     "metadata": {},
     "output_type": "display_data"
    },
    {
     "data": {
      "text/html": [
       "<style>\n",
       "    table.wandb td:nth-child(1) { padding: 0 10px; text-align: left ; width: auto;} td:nth-child(2) {text-align: left ; width: 100%}\n",
       "    .wandb-row { display: flex; flex-direction: row; flex-wrap: wrap; justify-content: flex-start; width: 100% }\n",
       "    .wandb-col { display: flex; flex-direction: column; flex-basis: 100%; flex: 1; padding: 10px; }\n",
       "    </style>\n",
       "<div class=\"wandb-row\"><div class=\"wandb-col\"><h3>Run history:</h3><br/><table class=\"wandb\"><tr><td>loss</td><td>▁</td></tr><tr><td>train_Mean Squared Error (MSE)</td><td>█▁</td></tr><tr><td>train_PSNR</td><td>▁█</td></tr><tr><td>train_SSIM</td><td>▁█</td></tr><tr><td>val_Mean Squared Error (MSE)</td><td>█▁</td></tr><tr><td>val_PSNR</td><td>▁█</td></tr><tr><td>val_SSIM</td><td>▁█</td></tr></table><br/></div><div class=\"wandb-col\"><h3>Run summary:</h3><br/><table class=\"wandb\"><tr><td>loss</td><td>0.0001</td></tr><tr><td>train_Mean Squared Error (MSE)</td><td>6e-05</td></tr><tr><td>train_PSNR</td><td>42.11307</td></tr><tr><td>train_SSIM</td><td>0.97233</td></tr><tr><td>val_Mean Squared Error (MSE)</td><td>6e-05</td></tr><tr><td>val_PSNR</td><td>42.12508</td></tr><tr><td>val_SSIM</td><td>0.97235</td></tr></table><br/></div></div>"
      ],
      "text/plain": [
       "<IPython.core.display.HTML object>"
      ]
     },
     "metadata": {},
     "output_type": "display_data"
    },
    {
     "data": {
      "text/html": [
       " View run <strong style=\"color:#cdcd00\">experiment_EDSR_upsampler</strong> at: <a href='https://wandb.ai/mlewand7/DeepLense2024_task2A/runs/vedoma5z/workspace' target=\"_blank\">https://wandb.ai/mlewand7/DeepLense2024_task2A/runs/vedoma5z/workspace</a><br/>Synced 5 W&B file(s), 40 media file(s), 0 artifact file(s) and 0 other file(s)"
      ],
      "text/plain": [
       "<IPython.core.display.HTML object>"
      ]
     },
     "metadata": {},
     "output_type": "display_data"
    },
    {
     "data": {
      "text/html": [
       "Find logs at: <code>./wandb/run-20240327_204704-vedoma5z/logs</code>"
      ],
      "text/plain": [
       "<IPython.core.display.HTML object>"
      ]
     },
     "metadata": {},
     "output_type": "display_data"
    },
    {
     "data": {
      "text/html": [
       "Successfully finished last run (ID:vedoma5z). Initializing new run:<br/>"
      ],
      "text/plain": [
       "<IPython.core.display.HTML object>"
      ]
     },
     "metadata": {},
     "output_type": "display_data"
    },
    {
     "data": {
      "application/vnd.jupyter.widget-view+json": {
       "model_id": "745a0de9dc244281ade2cb98e3715979",
       "version_major": 2,
       "version_minor": 0
      },
      "text/plain": [
       "VBox(children=(Label(value='Waiting for wandb.init()...\\r'), FloatProgress(value=0.01111277456705769, max=1.0)…"
      ]
     },
     "metadata": {},
     "output_type": "display_data"
    },
    {
     "data": {
      "text/html": [
       "Tracking run with wandb version 0.16.5"
      ],
      "text/plain": [
       "<IPython.core.display.HTML object>"
      ]
     },
     "metadata": {},
     "output_type": "display_data"
    },
    {
     "data": {
      "text/html": [
       "Run data is saved locally in <code>/workspace/wandb/run-20240327_205637-rd3odo9b</code>"
      ],
      "text/plain": [
       "<IPython.core.display.HTML object>"
      ]
     },
     "metadata": {},
     "output_type": "display_data"
    },
    {
     "data": {
      "text/html": [
       "Syncing run <strong><a href='https://wandb.ai/mlewand7/DeepLense2024_task2A/runs/rd3odo9b/workspace' target=\"_blank\">experiment_EDSR_upsampler</a></strong> to <a href='https://wandb.ai/mlewand7/DeepLense2024_task2A' target=\"_blank\">Weights & Biases</a> (<a href='https://wandb.me/run' target=\"_blank\">docs</a>)<br/>"
      ],
      "text/plain": [
       "<IPython.core.display.HTML object>"
      ]
     },
     "metadata": {},
     "output_type": "display_data"
    },
    {
     "data": {
      "text/html": [
       " View project at <a href='https://wandb.ai/mlewand7/DeepLense2024_task2A' target=\"_blank\">https://wandb.ai/mlewand7/DeepLense2024_task2A</a>"
      ],
      "text/plain": [
       "<IPython.core.display.HTML object>"
      ]
     },
     "metadata": {},
     "output_type": "display_data"
    },
    {
     "data": {
      "text/html": [
       " View run at <a href='https://wandb.ai/mlewand7/DeepLense2024_task2A/runs/rd3odo9b/workspace' target=\"_blank\">https://wandb.ai/mlewand7/DeepLense2024_task2A/runs/rd3odo9b/workspace</a>"
      ],
      "text/plain": [
       "<IPython.core.display.HTML object>"
      ]
     },
     "metadata": {},
     "output_type": "display_data"
    },
    {
     "name": "stderr",
     "output_type": "stream",
     "text": [
      "examples seen so far : 9000 Mean Squared Error (MSE)=0.006392158674605457 ; PSNR=21.978029569449298 ; SSIM=-0.30003679748647333 ; : 100%|██████████| 2250/2250 [01:50<00:00, 20.42it/s]\n",
      "examples seen so far : 1000 Mean Squared Error (MSE)=0.006374406982567515 ; PSNR=21.990833416118754 ; SSIM=-0.30203486042278066 ; : 100%|██████████| 250/250 [00:11<00:00, 21.32it/s]\n",
      "EPOCH : 0, average loss : 0.00010217877932073962, lr=0.0001: 100%|██████████| 2250/2250 [02:10<00:00, 17.22it/s]\n",
      "examples seen so far : 9000 Mean Squared Error (MSE)=6.075581664429445e-05 ; PSNR=42.19947788998582 ; SSIM=0.9737020878940705 ; : 100%|██████████| 2250/2250 [01:56<00:00, 19.30it/s] \n",
      "examples seen so far : 1000 Mean Squared Error (MSE)=6.060298701495494e-05 ; PSNR=42.21215019187889 ; SSIM=0.973728963145026 ; : 100%|██████████| 250/250 [00:13<00:00, 18.81it/s]\n"
     ]
    },
    {
     "name": "stdout",
     "output_type": "stream",
     "text": [
      "Saving metric with val_PSNR=42.212643840789795 (previous : 0)\n"
     ]
    },
    {
     "name": "stderr",
     "output_type": "stream",
     "text": [
      "EPOCH : 1, average loss : 6.105539161783074e-05, lr=0.00010978869674096927: 100%|██████████| 2250/2250 [02:14<00:00, 16.69it/s]\n",
      "examples seen so far : 9000 Mean Squared Error (MSE)=5.993453306635191e-05 ; PSNR=42.25849286327495 ; SSIM=0.9740237719761767 ; : 100%|██████████| 2250/2250 [01:53<00:00, 19.74it/s] \n",
      "examples seen so far : 1000 Mean Squared Error (MSE)=5.9783026689719e-05 ; PSNR=42.271182005827846 ; SSIM=0.9740490188469758 ; : 100%|██████████| 250/250 [00:13<00:00, 18.86it/s] \n"
     ]
    },
    {
     "name": "stdout",
     "output_type": "stream",
     "text": [
      "Saving metric with val_PSNR=42.271692428588864 (previous : 42.212643840789795)\n"
     ]
    },
    {
     "name": "stderr",
     "output_type": "stream",
     "text": [
      "EPOCH : 2, average loss : 0.00013149227225868446, lr=0.00013819660112501054: 100%|██████████| 2250/2250 [02:13<00:00, 16.85it/s]\n",
      "examples seen so far : 9000 Mean Squared Error (MSE)=6.064908162872444e-05 ; PSNR=42.207090612013666 ; SSIM=0.97374678329039 ; : 100%|██████████| 2250/2250 [01:56<00:00, 19.39it/s]  \n",
      "examples seen so far : 1000 Mean Squared Error (MSE)=6.0506120046322885e-05 ; PSNR=42.218973532095326 ; SSIM=0.9737718099946374 ; : 100%|██████████| 250/250 [00:13<00:00, 18.83it/s]\n",
      "EPOCH : 3, average loss : 6.040353964878402e-05, lr=0.00018244294954150537: 100%|██████████| 2250/2250 [02:10<00:00, 17.19it/s] \n",
      "examples seen so far : 9000 Mean Squared Error (MSE)=6.0335843649193214e-05 ; PSNR=42.229635888701715 ; SSIM=0.9739633091079724 ; : 100%|██████████| 2250/2250 [01:56<00:00, 19.36it/s]\n",
      "examples seen so far : 1000 Mean Squared Error (MSE)=6.0181889697108546e-05 ; PSNR=42.24237044127257 ; SSIM=0.9739887322988119 ; : 100%|██████████| 250/250 [00:13<00:00, 18.38it/s]\n",
      "EPOCH : 4, average loss : 6.142646464609748e-05, lr=0.00023819660112501053: 100%|██████████| 2250/2250 [02:09<00:00, 17.37it/s]\n",
      "examples seen so far : 9000 Mean Squared Error (MSE)=5.958668910388248e-05 ; PSNR=42.28382444376415 ; SSIM=0.9741938560919597 ; : 100%|██████████| 2250/2250 [01:55<00:00, 19.42it/s] \n",
      "examples seen so far : 1000 Mean Squared Error (MSE)=5.9425949284768855e-05 ; PSNR=42.29719606844393 ; SSIM=0.9742193815705774 ; : 100%|██████████| 250/250 [00:13<00:00, 18.79it/s]\n"
     ]
    },
    {
     "name": "stdout",
     "output_type": "stream",
     "text": [
      "Saving metric with val_PSNR=42.297710289001465 (previous : 42.271692428588864)\n"
     ]
    },
    {
     "name": "stderr",
     "output_type": "stream",
     "text": [
      "EPOCH : 5, average loss : 6.233260565527922e-05, lr=0.00030000000000000003: 100%|██████████| 2250/2250 [02:12<00:00, 16.93it/s]\n",
      "examples seen so far : 9000 Mean Squared Error (MSE)=5.931012334483385e-05 ; PSNR=42.303915848081836 ; SSIM=0.9742741030393037 ; : 100%|██████████| 2250/2250 [01:57<00:00, 19.21it/s] \n",
      "examples seen so far : 1000 Mean Squared Error (MSE)=5.9156637936458786e-05 ; PSNR=42.31686770235812 ; SSIM=0.9742981736605113 ; : 100%|██████████| 250/250 [00:13<00:00, 18.92it/s]\n"
     ]
    },
    {
     "name": "stdout",
     "output_type": "stream",
     "text": [
      "Saving metric with val_PSNR=42.31737080383301 (previous : 42.297710289001465)\n"
     ]
    },
    {
     "name": "stderr",
     "output_type": "stream",
     "text": [
      "EPOCH : 6, average loss : 6.177992977609392e-05, lr=0.0003618033988749895: 100%|██████████| 2250/2250 [02:12<00:00, 16.99it/s]\n",
      "examples seen so far : 9000 Mean Squared Error (MSE)=5.9257483698614364e-05 ; PSNR=42.307887547757176 ; SSIM=0.9743601852807088 ; : 100%|██████████| 2250/2250 [01:55<00:00, 19.40it/s]\n",
      "examples seen so far : 1000 Mean Squared Error (MSE)=5.910608892376699e-05 ; PSNR=42.32069261797198 ; SSIM=0.9743836479740696 ; : 100%|██████████| 250/250 [00:13<00:00, 18.34it/s] \n"
     ]
    },
    {
     "name": "stdout",
     "output_type": "stream",
     "text": [
      "Saving metric with val_PSNR=42.321188110351564 (previous : 42.31737080383301)\n"
     ]
    },
    {
     "name": "stderr",
     "output_type": "stream",
     "text": [
      "EPOCH : 7, average loss : 5.9808582683520704e-05, lr=0.00041755705045849463: 100%|██████████| 2250/2250 [02:09<00:00, 17.33it/s]\n",
      "examples seen so far : 9000 Mean Squared Error (MSE)=5.915947595649487e-05 ; PSNR=42.31501624154732 ; SSIM=0.9744186243132388 ; : 100%|██████████| 2250/2250 [01:55<00:00, 19.46it/s]  \n",
      "examples seen so far : 1000 Mean Squared Error (MSE)=5.89987266776061e-05 ; PSNR=42.32852984286166 ; SSIM=0.9744427131341623 ; : 100%|██████████| 250/250 [00:13<00:00, 18.66it/s] \n"
     ]
    },
    {
     "name": "stdout",
     "output_type": "stream",
     "text": [
      "Saving metric with val_PSNR=42.329013980865476 (previous : 42.321188110351564)\n"
     ]
    },
    {
     "name": "stderr",
     "output_type": "stream",
     "text": [
      "EPOCH : 8, average loss : 0.001573595172670644, lr=0.00046180339887498946: 100%|██████████| 2250/2250 [02:09<00:00, 17.42it/s] \n",
      "examples seen so far : 9000 Mean Squared Error (MSE)=6.733013315698532e-05 ; PSNR=41.751968227793 ; SSIM=0.9700977700871221 ; : 100%|██████████| 2250/2250 [01:56<00:00, 19.37it/s]  \n",
      "examples seen so far : 1000 Mean Squared Error (MSE)=6.717161246065821e-05 ; PSNR=41.76402127683103 ; SSIM=0.9701193578250416 ; : 100%|██████████| 250/250 [00:13<00:00, 18.54it/s]\n",
      "EPOCH : 9, average loss : 6.537394164479338e-05, lr=0.0004902113032590307: 100%|██████████| 2250/2250 [02:06<00:00, 17.75it/s]\n",
      "examples seen so far : 9000 Mean Squared Error (MSE)=6.376526774787403e-05 ; PSNR=41.98845509277846 ; SSIM=0.9715916881668315 ; : 100%|██████████| 2250/2250 [01:56<00:00, 19.34it/s]\n",
      "examples seen so far : 1000 Mean Squared Error (MSE)=6.36203855553337e-05 ; PSNR=42.00006516297181 ; SSIM=0.9716136030726008 ; : 100%|██████████| 250/250 [00:13<00:00, 18.92it/s] \n",
      "examples seen so far : 9000 Mean Squared Error (MSE)=6.257349624125384e-05 ; PSNR=42.07048816555857 ; SSIM=0.972040407133574 ; : 100%|██████████| 2250/2250 [01:55<00:00, 19.50it/s]  \n",
      "examples seen so far : 1000 Mean Squared Error (MSE)=6.242361987087488e-05 ; PSNR=42.08245718252432 ; SSIM=0.9720727659918524 ; : 100%|██████████| 250/250 [00:13<00:00, 18.96it/s]\n",
      "EPOCH : 11, average loss : 6.243324054877222e-05, lr=0.0004902113032590307: 100%|██████████| 2250/2250 [02:12<00:00, 16.94it/s]\n",
      "examples seen so far : 9000 Mean Squared Error (MSE)=6.437627583038682e-05 ; PSNR=41.94977394211675 ; SSIM=0.9732253123739187 ; : 100%|██████████| 2250/2250 [01:55<00:00, 19.47it/s] \n",
      "examples seen so far : 1000 Mean Squared Error (MSE)=6.420236124424148e-05 ; PSNR=41.96327700533786 ; SSIM=0.9732564440718642 ; : 100%|██████████| 250/250 [00:13<00:00, 18.50it/s]\n",
      "EPOCH : 12, average loss : 6.13528054495368e-05, lr=0.0004618033988749892: 100%|██████████| 2250/2250 [02:06<00:00, 17.73it/s] \n",
      "examples seen so far : 9000 Mean Squared Error (MSE)=6.0262057196632806e-05 ; PSNR=42.234980381731326 ; SSIM=0.9739289952392167 ; : 100%|██████████| 2250/2250 [01:56<00:00, 19.23it/s]\n",
      "examples seen so far : 1000 Mean Squared Error (MSE)=6.010175278428145e-05 ; PSNR=42.2482115561301 ; SSIM=0.9739555951591965 ; : 100%|██████████| 250/250 [00:13<00:00, 18.49it/s] \n",
      "EPOCH : 13, average loss : 6.064785029674466e-05, lr=0.0004175570504584939: 100%|██████████| 2250/2250 [02:06<00:00, 17.85it/s] \n",
      "examples seen so far : 9000 Mean Squared Error (MSE)=5.993626150832661e-05 ; PSNR=42.25836351540688 ; SSIM=0.9740474318872493 ; : 100%|██████████| 2250/2250 [01:56<00:00, 19.33it/s] \n",
      "examples seen so far : 1000 Mean Squared Error (MSE)=5.978163571453078e-05 ; PSNR=42.271242892061984 ; SSIM=0.9740728706688255 ; : 100%|██████████| 250/250 [00:13<00:00, 18.68it/s]\n",
      "EPOCH : 14, average loss : 0.0003008104727681105, lr=0.0003618033988749883: 100%|██████████| 2250/2250 [02:06<00:00, 17.79it/s] \n",
      "examples seen so far : 9000 Mean Squared Error (MSE)=6.40289834987391e-05 ; PSNR=41.97111494613497 ; SSIM=0.9721201634470629 ; : 100%|██████████| 2250/2250 [01:57<00:00, 19.19it/s]  \n",
      "examples seen so far : 1000 Mean Squared Error (MSE)=6.387586186324629e-05 ; PSNR=41.98326434649982 ; SSIM=0.9721512548677675 ; : 100%|██████████| 250/250 [00:13<00:00, 18.69it/s]\n",
      "EPOCH : 15, average loss : 6.423314926602567e-05, lr=0.00029999999999999824: 100%|██████████| 2250/2250 [02:05<00:00, 17.94it/s]\n",
      "examples seen so far : 9000 Mean Squared Error (MSE)=6.392251352765221e-05 ; PSNR=41.97759863392143 ; SSIM=0.9710529946872878 ; : 100%|██████████| 2250/2250 [01:56<00:00, 19.34it/s] \n",
      "examples seen so far : 1000 Mean Squared Error (MSE)=6.378070702794958e-05 ; PSNR=41.9888277712527 ; SSIM=0.9710734939432001 ; : 100%|██████████| 250/250 [00:13<00:00, 19.06it/s] \n",
      "EPOCH : 16, average loss : 6.444757774523977e-05, lr=0.0002381966011250082: 100%|██████████| 2250/2250 [02:07<00:00, 17.59it/s]\n",
      "examples seen so far : 9000 Mean Squared Error (MSE)=6.34352959812878e-05 ; PSNR=42.0108310955076 ; SSIM=0.9714669296974366 ; : 100%|██████████| 2250/2250 [01:56<00:00, 19.25it/s]   \n",
      "examples seen so far : 1000 Mean Squared Error (MSE)=6.328769226232684e-05 ; PSNR=42.022487101970135 ; SSIM=0.9714972299856467 ; : 100%|██████████| 250/250 [00:13<00:00, 18.63it/s]\n",
      "EPOCH : 17, average loss : 6.291260107375113e-05, lr=0.00018244294954150255: 100%|██████████| 2250/2250 [02:09<00:00, 17.40it/s]\n",
      "examples seen so far : 9000 Mean Squared Error (MSE)=6.310076411600344e-05 ; PSNR=42.03375091705339 ; SSIM=0.9716620144280795 ; : 100%|██████████| 2250/2250 [01:56<00:00, 19.23it/s] \n",
      "examples seen so far : 1000 Mean Squared Error (MSE)=6.29445196238805e-05 ; PSNR=42.04607262291589 ; SSIM=0.9716931903087819 ; : 100%|██████████| 250/250 [00:13<00:00, 18.73it/s] \n",
      "EPOCH : 18, average loss : 6.195135579198702e-05, lr=0.00013819660112500724: 100%|██████████| 2250/2250 [02:08<00:00, 17.54it/s]\n",
      "examples seen so far : 9000 Mean Squared Error (MSE)=6.138725192040346e-05 ; PSNR=42.154492136292596 ; SSIM=0.9732626553296593 ; : 100%|██████████| 2250/2250 [01:57<00:00, 19.21it/s]\n",
      "examples seen so far : 1000 Mean Squared Error (MSE)=6.123395953775482e-05 ; PSNR=42.167016706189834 ; SSIM=0.9732907644740574 ; : 100%|██████████| 250/250 [00:13<00:00, 18.53it/s]\n",
      "EPOCH : 19, average loss : 6.133032208890654e-05, lr=0.00010978869674096574: 100%|██████████| 2250/2250 [02:07<00:00, 17.65it/s]\n",
      "examples seen so far : 9000 Mean Squared Error (MSE)=6.108236431037982e-05 ; PSNR=42.17618545530531 ; SSIM=0.9734106529804187 ; : 100%|██████████| 2250/2250 [01:56<00:00, 19.26it/s] \n",
      "examples seen so far : 1000 Mean Squared Error (MSE)=6.092914391975702e-05 ; PSNR=42.18878202466993 ; SSIM=0.9734377903981252 ; : 100%|██████████| 250/250 [00:13<00:00, 18.64it/s]\n",
      "EPOCH : 20, average loss : 6.09417490114639e-05, lr=9.999999999999641e-05: 100%|██████████| 2250/2250 [02:06<00:00, 17.79it/s]  \n",
      "examples seen so far : 9000 Mean Squared Error (MSE)=6.060120066233194e-05 ; PSNR=42.21064668942165 ; SSIM=0.9737057147231125 ; : 100%|██████████| 2250/2250 [01:55<00:00, 19.43it/s]  \n",
      "examples seen so far : 1000 Mean Squared Error (MSE)=6.045165877525664e-05 ; PSNR=42.22302839872954 ; SSIM=0.9737313987614514 ; : 100%|██████████| 250/250 [00:13<00:00, 19.06it/s] \n",
      "EPOCH : 21, average loss : 6.060946237670982e-05, lr=0.0001097886967409658: 100%|██████████| 2250/2250 [02:07<00:00, 17.67it/s] \n",
      "examples seen so far : 9000 Mean Squared Error (MSE)=6.033738643903329e-05 ; PSNR=42.22954744274768 ; SSIM=0.9738467333978885 ; : 100%|██████████| 2250/2250 [01:57<00:00, 19.16it/s]  \n",
      "examples seen so far : 1000 Mean Squared Error (MSE)=6.0185362397330915e-05 ; PSNR=42.242163928302084 ; SSIM=0.9738728746518239 ; : 100%|██████████| 250/250 [00:13<00:00, 18.31it/s]\n",
      "EPOCH : 22, average loss : 6.124648620607332e-05, lr=0.00013819660112500718: 100%|██████████| 2250/2250 [02:07<00:00, 17.70it/s]\n",
      "examples seen so far : 9000 Mean Squared Error (MSE)=6.0305659926831774e-05 ; PSNR=42.231850758143594 ; SSIM=0.9738413363261307 ; : 100%|██████████| 2250/2250 [01:57<00:00, 19.16it/s]\n",
      "examples seen so far : 1000 Mean Squared Error (MSE)=6.015539333971033e-05 ; PSNR=42.24438560569847 ; SSIM=0.9738666816755339 ; : 100%|██████████| 250/250 [00:13<00:00, 18.44it/s]\n",
      "EPOCH : 23, average loss : 6.055888237864969e-05, lr=0.0001824429495415025: 100%|██████████| 2250/2250 [02:06<00:00, 17.81it/s]\n",
      "examples seen so far : 9000 Mean Squared Error (MSE)=5.989365955783937e-05 ; PSNR=42.26157309715185 ; SSIM=0.9740719531082898 ; : 100%|██████████| 2250/2250 [01:56<00:00, 19.24it/s]  \n",
      "examples seen so far : 1000 Mean Squared Error (MSE)=5.974439326663841e-05 ; PSNR=42.27408927864021 ; SSIM=0.9740964679030685 ; : 100%|██████████| 250/250 [00:13<00:00, 18.41it/s]\n",
      "EPOCH : 24, average loss : 6.093643525188478e-05, lr=0.00023819660112500815: 100%|██████████| 2250/2250 [02:06<00:00, 17.82it/s]\n",
      "examples seen so far : 9000 Mean Squared Error (MSE)=5.9835834144642904e-05 ; PSNR=42.26580474561871 ; SSIM=0.9740860662085173 ; : 100%|██████████| 2250/2250 [01:57<00:00, 19.21it/s]\n",
      "examples seen so far : 1000 Mean Squared Error (MSE)=5.968161579087475e-05 ; PSNR=42.278728756222044 ; SSIM=0.9741119696451975 ; : 100%|██████████| 250/250 [00:13<00:00, 18.51it/s]\n",
      "EPOCH : 25, average loss : 0.00035857787135076553, lr=0.0002999999999999982: 100%|██████████| 2250/2250 [02:04<00:00, 18.02it/s]\n",
      "examples seen so far : 9000 Mean Squared Error (MSE)=6.287569166934139e-05 ; PSNR=42.05080553536575 ; SSIM=0.9730758316279225 ; : 100%|██████████| 2250/2250 [01:56<00:00, 19.32it/s] \n",
      "examples seen so far : 1000 Mean Squared Error (MSE)=6.273371437091955e-05 ; PSNR=42.06227870937344 ; SSIM=0.9731038419811336 ; : 100%|██████████| 250/250 [00:13<00:00, 18.54it/s]\n",
      "EPOCH : 26, average loss : 7.306238559896075e-05, lr=0.0003618033988749882: 100%|██████████| 2250/2250 [02:05<00:00, 17.91it/s]\n",
      "examples seen so far : 9000 Mean Squared Error (MSE)=7.192461130504076e-05 ; PSNR=41.458392986709214 ; SSIM=0.9584118586034824 ; : 100%|██████████| 2250/2250 [01:57<00:00, 19.20it/s]\n",
      "examples seen so far : 1000 Mean Squared Error (MSE)=7.180033882415539e-05 ; PSNR=41.46704177550964 ; SSIM=0.9584497644736603 ; : 100%|██████████| 250/250 [00:13<00:00, 19.07it/s]\n",
      "EPOCH : 27, average loss : 6.842241040107587e-05, lr=0.00041755705045849387: 100%|██████████| 2250/2250 [02:05<00:00, 17.87it/s]\n",
      "examples seen so far : 9000 Mean Squared Error (MSE)=6.164641772123359e-05 ; PSNR=42.136319380996625 ; SSIM=0.9733403560744085 ; : 100%|██████████| 2250/2250 [01:56<00:00, 19.32it/s]\n",
      "examples seen so far : 1000 Mean Squared Error (MSE)=6.149793982688054e-05 ; PSNR=42.148511961057736 ; SSIM=0.9733697378241623 ; : 100%|██████████| 250/250 [00:13<00:00, 18.41it/s]\n",
      "EPOCH : 28, average loss : 6.356351224692642e-05, lr=0.00046180339887498913: 100%|██████████| 2250/2250 [02:06<00:00, 17.78it/s]\n",
      "examples seen so far : 9000 Mean Squared Error (MSE)=6.26716314662522e-05 ; PSNR=42.06637318858386 ; SSIM=0.9735219730895311 ; : 100%|██████████| 2250/2250 [01:56<00:00, 19.24it/s]  \n",
      "examples seen so far : 1000 Mean Squared Error (MSE)=6.251041053404992e-05 ; PSNR=42.07941888497995 ; SSIM=0.9735505558826305 ; : 100%|██████████| 250/250 [00:13<00:00, 18.96it/s]\n",
      "EPOCH : 29, average loss : 5.638426591758616e-05, lr=0.0004902113032590306:   2%|▏         | 49/2250 [00:02<01:54, 19.18it/s]"
     ]
    }
   ],
   "source": [
    "run_experiment_task2(train_dataloader=train_loader, \n",
    "                     val_dataloader=val_loader, \n",
    "                     Model=EDSR_upsampler, \n",
    "                     run_name=\"EDSR_upsampler\", \n",
    "                     model_parameters={}, \n",
    "                     epochs=30,\n",
    "                     learning_rate=1e-4, \n",
    "                     optimizer='adam',\n",
    "                     savepath=\"models/EDSR_upsampler.pth\",\n",
    "                     metrics=[MSE_Metric(), PSNR_Metric(), SSIM_Metric()],\n",
    "                     cfg=CONFIG,\n",
    "                     loss=\"MSE\",\n",
    "                     cosine_annealer_epochs=10,\n",
    "                     test_params={\"save_in_total\" : 10},\n",
    "                     min_lr=2.5e-5,\n",
    "                     scheduler_en=True,\n",
    "                     metric_keyword=\"val_PSNR\",\n",
    "                     lr_steps=len(dataset) // 2,\n",
    "                     start_with_test=True,\n",
    "                     WANDB_ON=True)"
   ]
  },
  {
   "cell_type": "markdown",
   "metadata": {},
   "source": [
    "## EDSR with Conv2DTranspose"
   ]
  },
  {
   "cell_type": "code",
   "execution_count": 42,
   "metadata": {},
   "outputs": [
    {
     "data": {
      "text/plain": [
       "==========================================================================================\n",
       "Layer (type:depth-idx)                   Output Shape              Param #\n",
       "==========================================================================================\n",
       "EDSR_conv2DTranspose                     [4, 1, 150, 150]          --\n",
       "├─Conv2d: 1-1                            [4, 64, 75, 75]           640\n",
       "├─Sequential: 1-2                        [4, 64, 75, 75]           --\n",
       "│    └─EDSRBlock: 2-1                    [4, 64, 75, 75]           --\n",
       "│    │    └─Conv2d: 3-1                  [4, 64, 75, 75]           36,928\n",
       "│    │    └─ReLU: 3-2                    [4, 64, 75, 75]           --\n",
       "│    │    └─Conv2d: 3-3                  [4, 64, 75, 75]           36,928\n",
       "│    └─EDSRBlock: 2-2                    [4, 64, 75, 75]           --\n",
       "│    │    └─Conv2d: 3-4                  [4, 64, 75, 75]           36,928\n",
       "│    │    └─ReLU: 3-5                    [4, 64, 75, 75]           --\n",
       "│    │    └─Conv2d: 3-6                  [4, 64, 75, 75]           36,928\n",
       "│    └─EDSRBlock: 2-3                    [4, 64, 75, 75]           --\n",
       "│    │    └─Conv2d: 3-7                  [4, 64, 75, 75]           36,928\n",
       "│    │    └─ReLU: 3-8                    [4, 64, 75, 75]           --\n",
       "│    │    └─Conv2d: 3-9                  [4, 64, 75, 75]           36,928\n",
       "│    └─EDSRBlock: 2-4                    [4, 64, 75, 75]           --\n",
       "│    │    └─Conv2d: 3-10                 [4, 64, 75, 75]           36,928\n",
       "│    │    └─ReLU: 3-11                   [4, 64, 75, 75]           --\n",
       "│    │    └─Conv2d: 3-12                 [4, 64, 75, 75]           36,928\n",
       "│    └─EDSRBlock: 2-5                    [4, 64, 75, 75]           --\n",
       "│    │    └─Conv2d: 3-13                 [4, 64, 75, 75]           36,928\n",
       "│    │    └─ReLU: 3-14                   [4, 64, 75, 75]           --\n",
       "│    │    └─Conv2d: 3-15                 [4, 64, 75, 75]           36,928\n",
       "│    └─EDSRBlock: 2-6                    [4, 64, 75, 75]           --\n",
       "│    │    └─Conv2d: 3-16                 [4, 64, 75, 75]           36,928\n",
       "│    │    └─ReLU: 3-17                   [4, 64, 75, 75]           --\n",
       "│    │    └─Conv2d: 3-18                 [4, 64, 75, 75]           36,928\n",
       "│    └─EDSRBlock: 2-7                    [4, 64, 75, 75]           --\n",
       "│    │    └─Conv2d: 3-19                 [4, 64, 75, 75]           36,928\n",
       "│    │    └─ReLU: 3-20                   [4, 64, 75, 75]           --\n",
       "│    │    └─Conv2d: 3-21                 [4, 64, 75, 75]           36,928\n",
       "│    └─EDSRBlock: 2-8                    [4, 64, 75, 75]           --\n",
       "│    │    └─Conv2d: 3-22                 [4, 64, 75, 75]           36,928\n",
       "│    │    └─ReLU: 3-23                   [4, 64, 75, 75]           --\n",
       "│    │    └─Conv2d: 3-24                 [4, 64, 75, 75]           36,928\n",
       "│    └─EDSRBlock: 2-9                    [4, 64, 75, 75]           --\n",
       "│    │    └─Conv2d: 3-25                 [4, 64, 75, 75]           36,928\n",
       "│    │    └─ReLU: 3-26                   [4, 64, 75, 75]           --\n",
       "│    │    └─Conv2d: 3-27                 [4, 64, 75, 75]           36,928\n",
       "│    └─EDSRBlock: 2-10                   [4, 64, 75, 75]           --\n",
       "│    │    └─Conv2d: 3-28                 [4, 64, 75, 75]           36,928\n",
       "│    │    └─ReLU: 3-29                   [4, 64, 75, 75]           --\n",
       "│    │    └─Conv2d: 3-30                 [4, 64, 75, 75]           36,928\n",
       "│    └─EDSRBlock: 2-11                   [4, 64, 75, 75]           --\n",
       "│    │    └─Conv2d: 3-31                 [4, 64, 75, 75]           36,928\n",
       "│    │    └─ReLU: 3-32                   [4, 64, 75, 75]           --\n",
       "│    │    └─Conv2d: 3-33                 [4, 64, 75, 75]           36,928\n",
       "│    └─EDSRBlock: 2-12                   [4, 64, 75, 75]           --\n",
       "│    │    └─Conv2d: 3-34                 [4, 64, 75, 75]           36,928\n",
       "│    │    └─ReLU: 3-35                   [4, 64, 75, 75]           --\n",
       "│    │    └─Conv2d: 3-36                 [4, 64, 75, 75]           36,928\n",
       "│    └─EDSRBlock: 2-13                   [4, 64, 75, 75]           --\n",
       "│    │    └─Conv2d: 3-37                 [4, 64, 75, 75]           36,928\n",
       "│    │    └─ReLU: 3-38                   [4, 64, 75, 75]           --\n",
       "│    │    └─Conv2d: 3-39                 [4, 64, 75, 75]           36,928\n",
       "│    └─EDSRBlock: 2-14                   [4, 64, 75, 75]           --\n",
       "│    │    └─Conv2d: 3-40                 [4, 64, 75, 75]           36,928\n",
       "│    │    └─ReLU: 3-41                   [4, 64, 75, 75]           --\n",
       "│    │    └─Conv2d: 3-42                 [4, 64, 75, 75]           36,928\n",
       "│    └─EDSRBlock: 2-15                   [4, 64, 75, 75]           --\n",
       "│    │    └─Conv2d: 3-43                 [4, 64, 75, 75]           36,928\n",
       "│    │    └─ReLU: 3-44                   [4, 64, 75, 75]           --\n",
       "│    │    └─Conv2d: 3-45                 [4, 64, 75, 75]           36,928\n",
       "│    └─EDSRBlock: 2-16                   [4, 64, 75, 75]           --\n",
       "│    │    └─Conv2d: 3-46                 [4, 64, 75, 75]           36,928\n",
       "│    │    └─ReLU: 3-47                   [4, 64, 75, 75]           --\n",
       "│    │    └─Conv2d: 3-48                 [4, 64, 75, 75]           36,928\n",
       "├─Conv2d: 1-3                            [4, 64, 75, 75]           36,928\n",
       "├─ConvTranspose2d: 1-4                   [4, 64, 150, 150]         36,928\n",
       "├─Conv2d: 1-5                            [4, 1, 150, 150]          577\n",
       "==========================================================================================\n",
       "Total params: 1,256,769\n",
       "Trainable params: 1,256,769\n",
       "Non-trainable params: 0\n",
       "Total mult-adds (G): 30.81\n",
       "==========================================================================================\n",
       "Input size (MB): 0.09\n",
       "Forward/backward pass size (MB): 438.48\n",
       "Params size (MB): 5.03\n",
       "Estimated Total Size (MB): 443.60\n",
       "=========================================================================================="
      ]
     },
     "execution_count": 42,
     "metadata": {},
     "output_type": "execute_result"
    }
   ],
   "source": [
    "import torch\n",
    "import torch.nn as nn\n",
    "\n",
    "class EDSRBlock(nn.Module):\n",
    "    def __init__(self, n_feats):\n",
    "        super(EDSRBlock, self).__init__()\n",
    "        self.conv1 = nn.Conv2d(n_feats, n_feats, kernel_size=3, padding=1)\n",
    "        self.relu = nn.ReLU(inplace=True)\n",
    "        self.conv2 = nn.Conv2d(n_feats, n_feats, kernel_size=3, padding=1)\n",
    "\n",
    "    def forward(self, x):\n",
    "        res = self.conv1(x)\n",
    "        res = self.relu(res)\n",
    "        res = self.conv2(res)\n",
    "        return x + res\n",
    "\n",
    "class EDSR_conv2DTranspose(nn.Module):\n",
    "    def __init__(self, n_blocks=16, n_feats=64):\n",
    "        super(EDSR_conv2DTranspose, self).__init__()\n",
    "        self.conv1 = nn.Conv2d(1, n_feats, kernel_size=3, padding=1)\n",
    "        self.blocks = nn.Sequential(*[EDSRBlock(n_feats) for _ in range(n_blocks)])\n",
    "        self.conv2 = nn.Conv2d(n_feats, n_feats, kernel_size=3, padding=1)\n",
    "        self.upsampler = nn.ConvTranspose2d(n_feats, n_feats, (3,3), stride=2, padding=1, output_padding=1)\n",
    "        self.conv3 = nn.Conv2d(n_feats, 1, kernel_size=3, padding=1)\n",
    "\n",
    "    def forward(self, x):\n",
    "        x = self.conv1(x)\n",
    "        res = self.blocks(x)\n",
    "        res = self.conv2(res)\n",
    "        res += x\n",
    "        res = self.upsampler(res)\n",
    "        x = self.conv3(res)\n",
    "        return x\n",
    "\n",
    "\n",
    "model  = EDSR_conv2DTranspose()\n",
    "model(x).shape\n",
    "summary(model, input_size=(CONFIG.BATCH_SIZE, 1, 75, 75))"
   ]
  },
  {
   "cell_type": "code",
   "execution_count": null,
   "metadata": {},
   "outputs": [
    {
     "data": {
      "text/html": [
       "Finishing last run (ID:9ht238p0) before initializing another..."
      ],
      "text/plain": [
       "<IPython.core.display.HTML object>"
      ]
     },
     "metadata": {},
     "output_type": "display_data"
    },
    {
     "data": {
      "application/vnd.jupyter.widget-view+json": {
       "model_id": "",
       "version_major": 2,
       "version_minor": 0
      },
      "text/plain": [
       "VBox(children=(Label(value='0.677 MB of 0.677 MB uploaded\\r'), FloatProgress(value=1.0, max=1.0)))"
      ]
     },
     "metadata": {},
     "output_type": "display_data"
    },
    {
     "data": {
      "text/html": [
       "<style>\n",
       "    table.wandb td:nth-child(1) { padding: 0 10px; text-align: left ; width: auto;} td:nth-child(2) {text-align: left ; width: 100%}\n",
       "    .wandb-row { display: flex; flex-direction: row; flex-wrap: wrap; justify-content: flex-start; width: 100% }\n",
       "    .wandb-col { display: flex; flex-direction: column; flex-basis: 100%; flex: 1; padding: 10px; }\n",
       "    </style>\n",
       "<div class=\"wandb-row\"><div class=\"wandb-col\"><h3>Run history:</h3><br/><table class=\"wandb\"><tr><td>loss</td><td>▁</td></tr><tr><td>train_Mean Squared Error (MSE)</td><td>█▁</td></tr><tr><td>train_PSNR</td><td>▁█</td></tr><tr><td>train_SSIM</td><td>▁█</td></tr><tr><td>val_Mean Squared Error (MSE)</td><td>█▁</td></tr><tr><td>val_PSNR</td><td>▁█</td></tr><tr><td>val_SSIM</td><td>▁█</td></tr></table><br/></div><div class=\"wandb-col\"><h3>Run summary:</h3><br/><table class=\"wandb\"><tr><td>loss</td><td>0.00012</td></tr><tr><td>train_Mean Squared Error (MSE)</td><td>6e-05</td></tr><tr><td>train_PSNR</td><td>42.25108</td></tr><tr><td>train_SSIM</td><td>0.97411</td></tr><tr><td>val_Mean Squared Error (MSE)</td><td>6e-05</td></tr><tr><td>val_PSNR</td><td>42.264</td></tr><tr><td>val_SSIM</td><td>0.97413</td></tr></table><br/></div></div>"
      ],
      "text/plain": [
       "<IPython.core.display.HTML object>"
      ]
     },
     "metadata": {},
     "output_type": "display_data"
    },
    {
     "data": {
      "text/html": [
       " View run <strong style=\"color:#cdcd00\">experiment_EDSR_conv2DTranspose</strong> at: <a href='https://wandb.ai/mlewand7/DeepLense2024_task2A/runs/9ht238p0/workspace' target=\"_blank\">https://wandb.ai/mlewand7/DeepLense2024_task2A/runs/9ht238p0/workspace</a><br/>Synced 5 W&B file(s), 40 media file(s), 0 artifact file(s) and 0 other file(s)"
      ],
      "text/plain": [
       "<IPython.core.display.HTML object>"
      ]
     },
     "metadata": {},
     "output_type": "display_data"
    },
    {
     "data": {
      "text/html": [
       "Find logs at: <code>./wandb/run-20240327_232242-9ht238p0/logs</code>"
      ],
      "text/plain": [
       "<IPython.core.display.HTML object>"
      ]
     },
     "metadata": {},
     "output_type": "display_data"
    },
    {
     "data": {
      "text/html": [
       "Successfully finished last run (ID:9ht238p0). Initializing new run:<br/>"
      ],
      "text/plain": [
       "<IPython.core.display.HTML object>"
      ]
     },
     "metadata": {},
     "output_type": "display_data"
    },
    {
     "data": {
      "application/vnd.jupyter.widget-view+json": {
       "model_id": "6dc0a604bed34c5887a7bcdcf50598ca",
       "version_major": 2,
       "version_minor": 0
      },
      "text/plain": [
       "VBox(children=(Label(value='Waiting for wandb.init()...\\r'), FloatProgress(value=0.011112397210672498, max=1.0…"
      ]
     },
     "metadata": {},
     "output_type": "display_data"
    },
    {
     "data": {
      "text/html": [
       "Tracking run with wandb version 0.16.5"
      ],
      "text/plain": [
       "<IPython.core.display.HTML object>"
      ]
     },
     "metadata": {},
     "output_type": "display_data"
    },
    {
     "data": {
      "text/html": [
       "Run data is saved locally in <code>/workspace/wandb/run-20240327_234521-ntm9yskh</code>"
      ],
      "text/plain": [
       "<IPython.core.display.HTML object>"
      ]
     },
     "metadata": {},
     "output_type": "display_data"
    },
    {
     "data": {
      "text/html": [
       "Syncing run <strong><a href='https://wandb.ai/mlewand7/DeepLense2024_task2A/runs/ntm9yskh/workspace' target=\"_blank\">experiment_EDSR_conv2DTranspose</a></strong> to <a href='https://wandb.ai/mlewand7/DeepLense2024_task2A' target=\"_blank\">Weights & Biases</a> (<a href='https://wandb.me/run' target=\"_blank\">docs</a>)<br/>"
      ],
      "text/plain": [
       "<IPython.core.display.HTML object>"
      ]
     },
     "metadata": {},
     "output_type": "display_data"
    },
    {
     "data": {
      "text/html": [
       " View project at <a href='https://wandb.ai/mlewand7/DeepLense2024_task2A' target=\"_blank\">https://wandb.ai/mlewand7/DeepLense2024_task2A</a>"
      ],
      "text/plain": [
       "<IPython.core.display.HTML object>"
      ]
     },
     "metadata": {},
     "output_type": "display_data"
    },
    {
     "data": {
      "text/html": [
       " View run at <a href='https://wandb.ai/mlewand7/DeepLense2024_task2A/runs/ntm9yskh/workspace' target=\"_blank\">https://wandb.ai/mlewand7/DeepLense2024_task2A/runs/ntm9yskh/workspace</a>"
      ],
      "text/plain": [
       "<IPython.core.display.HTML object>"
      ]
     },
     "metadata": {},
     "output_type": "display_data"
    },
    {
     "name": "stderr",
     "output_type": "stream",
     "text": [
      "examples seen so far : 9000 Mean Squared Error (MSE)=0.014778143124898509 ; PSNR=18.455215881395134 ; SSIM=0.36382634101384004 ; : 100%|██████████| 2250/2250 [01:44<00:00, 21.51it/s]\n",
      "examples seen so far : 1000 Mean Squared Error (MSE)=0.014709937304642436 ; PSNR=18.47728975351389 ; SSIM=0.3642064636355048 ; : 100%|██████████| 250/250 [00:11<00:00, 21.06it/s]\n",
      "EPOCH : 0, average loss : 8.34089794645681e-05, lr=0.0001: 100%|██████████| 2250/2250 [01:51<00:00, 20.23it/s]  \n",
      "examples seen so far : 9000 Mean Squared Error (MSE)=6.011997426753813e-05 ; PSNR=42.24450806906944 ; SSIM=0.9739445018919326 ; : 100%|██████████| 2250/2250 [01:44<00:00, 21.63it/s]  \n",
      "examples seen so far : 1000 Mean Squared Error (MSE)=5.995827608943886e-05 ; PSNR=42.25764907516159 ; SSIM=0.9739755409377234 ; : 100%|██████████| 250/250 [00:11<00:00, 21.58it/s]\n"
     ]
    },
    {
     "name": "stdout",
     "output_type": "stream",
     "text": [
      "Saving metric with val_PSNR=42.2581640663147 (previous : 0)\n"
     ]
    },
    {
     "name": "stderr",
     "output_type": "stream",
     "text": [
      "EPOCH : 1, average loss : 6.000501712939392e-05, lr=0.00010978869674096927: 100%|██████████| 2250/2250 [01:51<00:00, 20.20it/s]\n",
      "examples seen so far : 9000 Mean Squared Error (MSE)=5.951851419401406e-05 ; PSNR=42.28835613201136 ; SSIM=0.9742426148506387 ; : 100%|██████████| 2250/2250 [01:44<00:00, 21.54it/s] \n",
      "examples seen so far : 1000 Mean Squared Error (MSE)=5.936885680456215e-05 ; PSNR=42.30077761859149 ; SSIM=0.9742647934485007 ; : 100%|██████████| 250/250 [00:11<00:00, 21.45it/s] \n"
     ]
    },
    {
     "name": "stdout",
     "output_type": "stream",
     "text": [
      "Saving metric with val_PSNR=42.30127647018433 (previous : 42.2581640663147)\n"
     ]
    },
    {
     "name": "stderr",
     "output_type": "stream",
     "text": [
      "EPOCH : 2, average loss : 5.9874067569681854e-05, lr=0.00013819660112501054: 100%|██████████| 2250/2250 [01:50<00:00, 20.27it/s]\n",
      "examples seen so far : 9000 Mean Squared Error (MSE)=5.898053289271936e-05 ; PSNR=42.327795059843346 ; SSIM=0.9743366593757673 ; : 100%|██████████| 2250/2250 [01:41<00:00, 22.10it/s]\n",
      "examples seen so far : 1000 Mean Squared Error (MSE)=5.882838676124019e-05 ; PSNR=42.34056604135263 ; SSIM=0.9743600203706935 ; : 100%|██████████| 250/250 [00:10<00:00, 24.58it/s]\n"
     ]
    },
    {
     "name": "stdout",
     "output_type": "stream",
     "text": [
      "Saving metric with val_PSNR=42.34105185699463 (previous : 42.30127647018433)\n"
     ]
    },
    {
     "name": "stderr",
     "output_type": "stream",
     "text": [
      "EPOCH : 3, average loss : 7.111682553335817e-05, lr=0.00018244294954150537: 100%|██████████| 2250/2250 [01:40<00:00, 22.41it/s]\n",
      "examples seen so far : 9000 Mean Squared Error (MSE)=5.887769730753627e-05 ; PSNR=42.3353678273789 ; SSIM=0.9744522656476661 ; : 100%|██████████| 2250/2250 [01:34<00:00, 23.80it/s]  \n",
      "examples seen so far : 1000 Mean Squared Error (MSE)=5.872385039068134e-05 ; PSNR=42.348321515637956 ; SSIM=0.9744752135959354 ; : 100%|██████████| 250/250 [00:10<00:00, 23.88it/s]\n"
     ]
    },
    {
     "name": "stdout",
     "output_type": "stream",
     "text": [
      "Saving metric with val_PSNR=42.34880696487427 (previous : 42.34105185699463)\n"
     ]
    },
    {
     "name": "stderr",
     "output_type": "stream",
     "text": [
      "EPOCH : 4, average loss : 5.924822623233518e-05, lr=0.00023819660112501053: 100%|██████████| 2250/2250 [01:48<00:00, 20.72it/s] \n",
      "examples seen so far : 9000 Mean Squared Error (MSE)=5.889988140152891e-05 ; PSNR=42.333759319730596 ; SSIM=0.9744166680370017 ; : 100%|██████████| 2250/2250 [01:42<00:00, 22.01it/s]\n",
      "examples seen so far : 1000 Mean Squared Error (MSE)=5.875135652208304e-05 ; PSNR=42.346295919026936 ; SSIM=0.9744370822553281 ; : 100%|██████████| 250/250 [00:11<00:00, 22.16it/s]\n",
      "EPOCH : 5, average loss : 5.936849001833859e-05, lr=0.00030000000000000003: 100%|██████████| 2250/2250 [01:49<00:00, 20.63it/s] \n",
      "examples seen so far : 9000 Mean Squared Error (MSE)=5.900909540373413e-05 ; PSNR=42.32577459456351 ; SSIM=0.9743104989375786 ; : 100%|██████████| 2250/2250 [01:41<00:00, 22.19it/s] \n",
      "examples seen so far : 1000 Mean Squared Error (MSE)=5.886741424770886e-05 ; PSNR=42.33779091973443 ; SSIM=0.9743321465777682 ; : 100%|██████████| 250/250 [00:11<00:00, 22.35it/s] \n",
      "EPOCH : 6, average loss : 8.996379415718063e-05, lr=0.0003618033988749895: 100%|██████████| 2250/2250 [01:49<00:00, 20.61it/s] \n",
      "examples seen so far : 9000 Mean Squared Error (MSE)=5.8927830898763286e-05 ; PSNR=42.33171533253315 ; SSIM=0.9743677082956201 ; : 100%|██████████| 2250/2250 [01:41<00:00, 22.10it/s]\n",
      "examples seen so far : 1000 Mean Squared Error (MSE)=5.8773787607499694e-05 ; PSNR=42.344692875553775 ; SSIM=0.9743911995066775 ; : 100%|██████████| 250/250 [00:11<00:00, 22.01it/s]\n",
      "EPOCH : 7, average loss : 5.9167482243436906e-05, lr=0.00041755705045849463: 100%|██████████| 2250/2250 [01:48<00:00, 20.65it/s]\n",
      "examples seen so far : 9000 Mean Squared Error (MSE)=5.873849031266994e-05 ; PSNR=42.34575479276207 ; SSIM=0.9745053391891634 ; : 100%|██████████| 2250/2250 [01:41<00:00, 22.22it/s] \n",
      "examples seen so far : 1000 Mean Squared Error (MSE)=5.858998456578893e-05 ; PSNR=42.35834775052152 ; SSIM=0.9745275075729187 ; : 100%|██████████| 250/250 [00:11<00:00, 22.10it/s] \n"
     ]
    },
    {
     "name": "stdout",
     "output_type": "stream",
     "text": [
      "Saving metric with val_PSNR=42.35882473754883 (previous : 42.34880696487427)\n"
     ]
    },
    {
     "name": "stderr",
     "output_type": "stream",
     "text": [
      "examples seen so far : 9000 Mean Squared Error (MSE)=5.870900060945387e-05 ; PSNR=42.3480369694194 ; SSIM=0.9744734635338782 ; : 100%|██████████| 2250/2250 [01:41<00:00, 22.15it/s]  \n",
      "examples seen so far : 1000 Mean Squared Error (MSE)=5.856200881101689e-05 ; PSNR=42.36057479293258 ; SSIM=0.9744954955828441 ; : 100%|██████████| 250/250 [00:11<00:00, 22.36it/s]\n"
     ]
    },
    {
     "name": "stdout",
     "output_type": "stream",
     "text": [
      "Saving metric with val_PSNR=42.36104567337036 (previous : 42.35882473754883)\n"
     ]
    },
    {
     "name": "stderr",
     "output_type": "stream",
     "text": [
      "EPOCH : 9, average loss : 0.00018423758449757265, lr=0.0004902113032590307: 100%|██████████| 2250/2250 [01:49<00:00, 20.64it/s]\n",
      "examples seen so far : 9000 Mean Squared Error (MSE)=6.11730674660658e-05 ; PSNR=42.170238888678334 ; SSIM=0.9738740728343642 ; : 100%|██████████| 2250/2250 [01:41<00:00, 22.10it/s] \n",
      "examples seen so far : 1000 Mean Squared Error (MSE)=6.10132764913496e-05 ; PSNR=42.1831080347926 ; SSIM=0.9739072026910486 ; : 100%|██████████| 250/250 [00:11<00:00, 22.14it/s]   \n",
      "EPOCH : 10, average loss : 6.0171685956043395e-05, lr=0.0005: 100%|██████████| 2250/2250 [01:48<00:00, 20.68it/s]\n",
      "examples seen so far : 9000 Mean Squared Error (MSE)=5.9648380776529525e-05 ; PSNR=42.27936180454716 ; SSIM=0.9742003353731753 ; : 100%|██████████| 2250/2250 [01:41<00:00, 22.24it/s]\n",
      "examples seen so far : 1000 Mean Squared Error (MSE)=5.9478924989556286e-05 ; PSNR=42.29342770886731 ; SSIM=0.9742301990081359 ; : 100%|██████████| 250/250 [00:11<00:00, 21.92it/s]\n",
      "EPOCH : 11, average loss : 5.9918680011631095e-05, lr=0.0004902113032590307: 100%|██████████| 2250/2250 [01:49<00:00, 20.62it/s]\n",
      "examples seen so far : 9000 Mean Squared Error (MSE)=6.13536772092527e-05 ; PSNR=42.15819850319266 ; SSIM=0.9738384415035924 ; : 100%|██████████| 2250/2250 [01:41<00:00, 22.12it/s]  \n",
      "examples seen so far : 1000 Mean Squared Error (MSE)=6.119281636085827e-05 ; PSNR=42.171321750522495 ; SSIM=0.9738658950612828 ; : 100%|██████████| 250/250 [00:11<00:00, 22.44it/s]\n",
      "EPOCH : 12, average loss : 5.995200628886879e-05, lr=0.0004618033988749892: 100%|██████████| 2250/2250 [01:48<00:00, 20.66it/s] \n",
      "examples seen so far : 9000 Mean Squared Error (MSE)=5.945116587202302e-05 ; PSNR=42.29388290601964 ; SSIM=0.9744524706905584 ; : 100%|██████████| 2250/2250 [01:41<00:00, 22.22it/s] \n",
      "examples seen so far : 1000 Mean Squared Error (MSE)=5.929759815141248e-05 ; PSNR=42.30677585009937 ; SSIM=0.9744755243873214 ; : 100%|██████████| 250/250 [00:11<00:00, 22.08it/s]\n",
      "EPOCH : 13, average loss : 5.9637137232736376e-05, lr=0.0004175570504584939: 100%|██████████| 2250/2250 [01:48<00:00, 20.67it/s]\n",
      "examples seen so far : 9000 Mean Squared Error (MSE)=5.927363422112817e-05 ; PSNR=42.306420351349125 ; SSIM=0.9742208516442759 ; : 100%|██████████| 2250/2250 [01:41<00:00, 22.15it/s]\n",
      "examples seen so far : 1000 Mean Squared Error (MSE)=5.9126205103910265e-05 ; PSNR=42.31878519678737 ; SSIM=0.9742449041720744 ; : 100%|██████████| 250/250 [00:11<00:00, 22.13it/s]\n",
      "EPOCH : 14, average loss : 6.077976998898925e-05, lr=0.0003618033988749883: 100%|██████████| 2250/2250 [01:48<00:00, 20.68it/s]\n",
      "examples seen so far : 9000 Mean Squared Error (MSE)=5.8908974183102316e-05 ; PSNR=42.333347229841536 ; SSIM=0.9744603043066712 ; : 100%|██████████| 2250/2250 [01:42<00:00, 22.04it/s]\n",
      "examples seen so far : 1000 Mean Squared Error (MSE)=5.875527190496782e-05 ; PSNR=42.34633710935667 ; SSIM=0.9744843377604021 ; : 100%|██████████| 250/250 [00:11<00:00, 22.20it/s]\n",
      "EPOCH : 15, average loss : 5.900014235521667e-05, lr=0.00029999999999999824: 100%|██████████| 2250/2250 [01:48<00:00, 20.70it/s] \n",
      "examples seen so far : 9000 Mean Squared Error (MSE)=5.896516158876092e-05 ; PSNR=42.32918715898243 ; SSIM=0.9743876960797103 ; : 100%|██████████| 2250/2250 [01:42<00:00, 22.04it/s] \n",
      "examples seen so far : 1000 Mean Squared Error (MSE)=5.881446301825233e-05 ; PSNR=42.34199926015493 ; SSIM=0.9744115167551929 ; : 100%|██████████| 250/250 [00:11<00:00, 22.11it/s] \n",
      "EPOCH : 16, average loss : 5.889897827000823e-05, lr=0.0002381966011250082: 100%|██████████| 2250/2250 [01:48<00:00, 20.66it/s] \n",
      "examples seen so far : 9000 Mean Squared Error (MSE)=5.877587212316253e-05 ; PSNR=42.34299977549792 ; SSIM=0.9744926155348701 ; : 100%|██████████| 2250/2250 [01:41<00:00, 22.15it/s]  \n",
      "examples seen so far : 1000 Mean Squared Error (MSE)=5.8619547174870364e-05 ; PSNR=42.356234060751426 ; SSIM=0.9745160652710511 ; : 100%|██████████| 250/250 [00:11<00:00, 21.19it/s]\n",
      "EPOCH : 17, average loss : 5.879576879669912e-05, lr=0.00018244294954150255: 100%|██████████| 2250/2250 [01:48<00:00, 20.68it/s]\n",
      "examples seen so far : 9000 Mean Squared Error (MSE)=5.880438410734518e-05 ; PSNR=42.34096831122376 ; SSIM=0.9744464440045854 ; : 100%|██████████| 2250/2250 [01:41<00:00, 22.14it/s] \n",
      "examples seen so far : 1000 Mean Squared Error (MSE)=5.8646370367701955e-05 ; PSNR=42.354279213600805 ; SSIM=0.974470737400475 ; : 100%|██████████| 250/250 [00:11<00:00, 22.32it/s]\n",
      "EPOCH : 18, average loss : 5.872691681078221e-05, lr=0.00013819660112500724: 100%|██████████| 2250/2250 [01:48<00:00, 20.72it/s] \n",
      "examples seen so far : 9000 Mean Squared Error (MSE)=5.8678627029391235e-05 ; PSNR=42.35018196110196 ; SSIM=0.9745066882583986 ; : 100%|██████████| 2250/2250 [01:41<00:00, 22.15it/s] \n",
      "examples seen so far : 1000 Mean Squared Error (MSE)=5.852802462652801e-05 ; PSNR=42.362951838099086 ; SSIM=0.9745301341747975 ; : 100%|██████████| 250/250 [00:11<00:00, 22.10it/s]\n"
     ]
    },
    {
     "name": "stdout",
     "output_type": "stream",
     "text": [
      "Saving metric with val_PSNR=42.36342416381836 (previous : 42.36104567337036)\n"
     ]
    },
    {
     "name": "stderr",
     "output_type": "stream",
     "text": [
      "EPOCH : 19, average loss : 5.8670917163706485e-05, lr=0.00010978869674096574: 100%|██████████| 2250/2250 [01:49<00:00, 20.61it/s]\n",
      "examples seen so far : 9000 Mean Squared Error (MSE)=5.8638503563644474e-05 ; PSNR=42.3531378618756 ; SSIM=0.9745328905105802 ; : 100%|██████████| 2250/2250 [01:43<00:00, 21.81it/s] \n",
      "examples seen so far : 1000 Mean Squared Error (MSE)=5.8488237578153805e-05 ; PSNR=42.36588677605828 ; SSIM=0.974556204315659 ; : 100%|██████████| 250/250 [00:11<00:00, 22.00it/s]\n"
     ]
    },
    {
     "name": "stdout",
     "output_type": "stream",
     "text": [
      "Saving metric with val_PSNR=42.36635429763794 (previous : 42.36342416381836)\n"
     ]
    },
    {
     "name": "stderr",
     "output_type": "stream",
     "text": [
      "EPOCH : 20, average loss : 5.8937173503383056e-05, lr=9.999999999999641e-05:  19%|█▉        | 425/2250 [00:20<01:20, 22.54it/s]"
     ]
    }
   ],
   "source": [
    "run_experiment_task2(train_dataloader=train_loader, \n",
    "                     val_dataloader=val_loader, \n",
    "                     Model=EDSR_conv2DTranspose, \n",
    "                     run_name=\"EDSR_conv2DTranspose\", \n",
    "                     model_parameters={}, \n",
    "                     epochs=30,\n",
    "                     learning_rate=1e-4, \n",
    "                     optimizer='adam',\n",
    "                     savepath=\"models/EDSR_upEDSR_conv2DTransposesampler.pth\",\n",
    "                     metrics=[MSE_Metric(), PSNR_Metric(), SSIM_Metric()],\n",
    "                     cfg=CONFIG,\n",
    "                     cosine_annealer_epochs=10,\n",
    "                     test_params={\"save_in_total\" : 10},\n",
    "                     min_lr=2.5e-5,\n",
    "                     scheduler_en=True,\n",
    "                     metric_keyword=\"val_PSNR\",\n",
    "                     lr_steps=len(dataset) // 2,\n",
    "                     start_with_test=True,\n",
    "                     WANDB_ON=True)"
   ]
  },
  {
   "cell_type": "markdown",
   "metadata": {},
   "source": [
    "## EDSR with pixel reshuffle"
   ]
  },
  {
   "cell_type": "code",
   "execution_count": 12,
   "metadata": {},
   "outputs": [
    {
     "data": {
      "text/plain": [
       "==========================================================================================\n",
       "Layer (type:depth-idx)                   Output Shape              Param #\n",
       "==========================================================================================\n",
       "EDSR_pixelshuffle                        [4, 1, 150, 150]          --\n",
       "├─Conv2d: 1-1                            [4, 256, 75, 75]          2,560\n",
       "├─Conv2d: 1-2                            [4, 64, 75, 75]           147,520\n",
       "├─Sequential: 1-3                        [4, 64, 75, 75]           --\n",
       "│    └─EDSRBlock: 2-1                    [4, 64, 75, 75]           --\n",
       "│    │    └─Conv2d: 3-1                  [4, 64, 75, 75]           36,928\n",
       "│    │    └─ReLU: 3-2                    [4, 64, 75, 75]           --\n",
       "│    │    └─Conv2d: 3-3                  [4, 64, 75, 75]           36,928\n",
       "│    └─EDSRBlock: 2-2                    [4, 64, 75, 75]           --\n",
       "│    │    └─Conv2d: 3-4                  [4, 64, 75, 75]           36,928\n",
       "│    │    └─ReLU: 3-5                    [4, 64, 75, 75]           --\n",
       "│    │    └─Conv2d: 3-6                  [4, 64, 75, 75]           36,928\n",
       "│    └─EDSRBlock: 2-3                    [4, 64, 75, 75]           --\n",
       "│    │    └─Conv2d: 3-7                  [4, 64, 75, 75]           36,928\n",
       "│    │    └─ReLU: 3-8                    [4, 64, 75, 75]           --\n",
       "│    │    └─Conv2d: 3-9                  [4, 64, 75, 75]           36,928\n",
       "│    └─EDSRBlock: 2-4                    [4, 64, 75, 75]           --\n",
       "│    │    └─Conv2d: 3-10                 [4, 64, 75, 75]           36,928\n",
       "│    │    └─ReLU: 3-11                   [4, 64, 75, 75]           --\n",
       "│    │    └─Conv2d: 3-12                 [4, 64, 75, 75]           36,928\n",
       "│    └─EDSRBlock: 2-5                    [4, 64, 75, 75]           --\n",
       "│    │    └─Conv2d: 3-13                 [4, 64, 75, 75]           36,928\n",
       "│    │    └─ReLU: 3-14                   [4, 64, 75, 75]           --\n",
       "│    │    └─Conv2d: 3-15                 [4, 64, 75, 75]           36,928\n",
       "│    └─EDSRBlock: 2-6                    [4, 64, 75, 75]           --\n",
       "│    │    └─Conv2d: 3-16                 [4, 64, 75, 75]           36,928\n",
       "│    │    └─ReLU: 3-17                   [4, 64, 75, 75]           --\n",
       "│    │    └─Conv2d: 3-18                 [4, 64, 75, 75]           36,928\n",
       "│    └─EDSRBlock: 2-7                    [4, 64, 75, 75]           --\n",
       "│    │    └─Conv2d: 3-19                 [4, 64, 75, 75]           36,928\n",
       "│    │    └─ReLU: 3-20                   [4, 64, 75, 75]           --\n",
       "│    │    └─Conv2d: 3-21                 [4, 64, 75, 75]           36,928\n",
       "│    └─EDSRBlock: 2-8                    [4, 64, 75, 75]           --\n",
       "│    │    └─Conv2d: 3-22                 [4, 64, 75, 75]           36,928\n",
       "│    │    └─ReLU: 3-23                   [4, 64, 75, 75]           --\n",
       "│    │    └─Conv2d: 3-24                 [4, 64, 75, 75]           36,928\n",
       "│    └─EDSRBlock: 2-9                    [4, 64, 75, 75]           --\n",
       "│    │    └─Conv2d: 3-25                 [4, 64, 75, 75]           36,928\n",
       "│    │    └─ReLU: 3-26                   [4, 64, 75, 75]           --\n",
       "│    │    └─Conv2d: 3-27                 [4, 64, 75, 75]           36,928\n",
       "│    └─EDSRBlock: 2-10                   [4, 64, 75, 75]           --\n",
       "│    │    └─Conv2d: 3-28                 [4, 64, 75, 75]           36,928\n",
       "│    │    └─ReLU: 3-29                   [4, 64, 75, 75]           --\n",
       "│    │    └─Conv2d: 3-30                 [4, 64, 75, 75]           36,928\n",
       "│    └─EDSRBlock: 2-11                   [4, 64, 75, 75]           --\n",
       "│    │    └─Conv2d: 3-31                 [4, 64, 75, 75]           36,928\n",
       "│    │    └─ReLU: 3-32                   [4, 64, 75, 75]           --\n",
       "│    │    └─Conv2d: 3-33                 [4, 64, 75, 75]           36,928\n",
       "│    └─EDSRBlock: 2-12                   [4, 64, 75, 75]           --\n",
       "│    │    └─Conv2d: 3-34                 [4, 64, 75, 75]           36,928\n",
       "│    │    └─ReLU: 3-35                   [4, 64, 75, 75]           --\n",
       "│    │    └─Conv2d: 3-36                 [4, 64, 75, 75]           36,928\n",
       "│    └─EDSRBlock: 2-13                   [4, 64, 75, 75]           --\n",
       "│    │    └─Conv2d: 3-37                 [4, 64, 75, 75]           36,928\n",
       "│    │    └─ReLU: 3-38                   [4, 64, 75, 75]           --\n",
       "│    │    └─Conv2d: 3-39                 [4, 64, 75, 75]           36,928\n",
       "│    └─EDSRBlock: 2-14                   [4, 64, 75, 75]           --\n",
       "│    │    └─Conv2d: 3-40                 [4, 64, 75, 75]           36,928\n",
       "│    │    └─ReLU: 3-41                   [4, 64, 75, 75]           --\n",
       "│    │    └─Conv2d: 3-42                 [4, 64, 75, 75]           36,928\n",
       "│    └─EDSRBlock: 2-15                   [4, 64, 75, 75]           --\n",
       "│    │    └─Conv2d: 3-43                 [4, 64, 75, 75]           36,928\n",
       "│    │    └─ReLU: 3-44                   [4, 64, 75, 75]           --\n",
       "│    │    └─Conv2d: 3-45                 [4, 64, 75, 75]           36,928\n",
       "│    └─EDSRBlock: 2-16                   [4, 64, 75, 75]           --\n",
       "│    │    └─Conv2d: 3-46                 [4, 64, 75, 75]           36,928\n",
       "│    │    └─ReLU: 3-47                   [4, 64, 75, 75]           --\n",
       "│    │    └─Conv2d: 3-48                 [4, 64, 75, 75]           36,928\n",
       "├─Conv2d: 1-4                            [4, 256, 75, 75]          147,712\n",
       "├─PixelShuffle: 1-5                      [4, 64, 150, 150]         --\n",
       "├─Conv2d: 1-6                            [4, 1, 150, 150]          577\n",
       "==========================================================================================\n",
       "Total params: 1,480,065\n",
       "Trainable params: 1,480,065\n",
       "Non-trainable params: 0\n",
       "Total mult-adds (G): 33.34\n",
       "==========================================================================================\n",
       "Input size (MB): 0.09\n",
       "Forward/backward pass size (MB): 473.04\n",
       "Params size (MB): 5.92\n",
       "Estimated Total Size (MB): 479.05\n",
       "=========================================================================================="
      ]
     },
     "execution_count": 12,
     "metadata": {},
     "output_type": "execute_result"
    }
   ],
   "source": [
    "import torch\n",
    "import torch.nn as nn\n",
    "\n",
    "class EDSRBlock(nn.Module):\n",
    "    def __init__(self, n_feats):\n",
    "        super(EDSRBlock, self).__init__()\n",
    "        self.conv1 = nn.Conv2d(n_feats, n_feats, kernel_size=3, padding=1)\n",
    "        self.relu = nn.ReLU(inplace=True)\n",
    "        self.conv2 = nn.Conv2d(n_feats, n_feats, kernel_size=3, padding=1)\n",
    "\n",
    "    def forward(self, x):\n",
    "        res = self.conv1(x)\n",
    "        res = self.relu(res)\n",
    "        res = self.conv2(res)\n",
    "        return x + res\n",
    "\n",
    "class EDSR_pixelshuffle(nn.Module):\n",
    "    def __init__(self, n_blocks=16, n_feats=64):\n",
    "        super(EDSR_pixelshuffle, self).__init__()\n",
    "        self.conv1 = nn.Conv2d(1, 4 * n_feats, kernel_size=3, padding=1)\n",
    "        self.conv2 = nn.Conv2d(4 * n_feats, n_feats, kernel_size=3, padding=1)\n",
    "        self.blocks = nn.Sequential(*[EDSRBlock(n_feats) for _ in range(n_blocks)])\n",
    "        self.conv3 = nn.Conv2d(n_feats, 4 * n_feats, kernel_size=3, padding=1)\n",
    "        self.upsampler = nn.PixelShuffle(2)\n",
    "        self.conv4 = nn.Conv2d(n_feats, 1, kernel_size=3, padding=1)\n",
    "\n",
    "    def forward(self, x):\n",
    "        x = self.conv1(x)\n",
    "        out = self.conv2(x)\n",
    "        res = self.blocks(out)\n",
    "        res = self.conv3(res)\n",
    "        res += x\n",
    "        res = self.upsampler(res)\n",
    "        x = self.conv4(res)\n",
    "        return x\n",
    "\n",
    "\n",
    "model  = EDSR_pixelshuffle()\n",
    "model(x).shape\n",
    "summary(model, input_size=(CONFIG.BATCH_SIZE, 1, 75, 75))"
   ]
  },
  {
   "cell_type": "code",
   "execution_count": 13,
   "metadata": {},
   "outputs": [
    {
     "name": "stderr",
     "output_type": "stream",
     "text": [
      "\u001b[34m\u001b[1mwandb\u001b[0m: Logging into wandb.ai. (Learn how to deploy a W&B server locally: https://wandb.me/wandb-server)\n",
      "\u001b[34m\u001b[1mwandb\u001b[0m: You can find your API key in your browser here: https://wandb.ai/authorize\n",
      "\u001b[34m\u001b[1mwandb\u001b[0m: Paste an API key from your profile and hit enter, or press ctrl+c to quit:"
     ]
    },
    {
     "name": "stdout",
     "output_type": "stream",
     "text": [
      "  ········\n"
     ]
    },
    {
     "name": "stderr",
     "output_type": "stream",
     "text": [
      "\u001b[34m\u001b[1mwandb\u001b[0m: Appending key for api.wandb.ai to your netrc file: /root/.netrc\n"
     ]
    },
    {
     "data": {
      "text/html": [
       "Tracking run with wandb version 0.16.5"
      ],
      "text/plain": [
       "<IPython.core.display.HTML object>"
      ]
     },
     "metadata": {},
     "output_type": "display_data"
    },
    {
     "data": {
      "text/html": [
       "Run data is saved locally in <code>/workspace/wandb/run-20240328_111419-y9xtxayh</code>"
      ],
      "text/plain": [
       "<IPython.core.display.HTML object>"
      ]
     },
     "metadata": {},
     "output_type": "display_data"
    },
    {
     "data": {
      "text/html": [
       "Syncing run <strong><a href='https://wandb.ai/mlewand7/DeepLense2024_task2A/runs/y9xtxayh/workspace' target=\"_blank\">experiment_EDSR_pixelshuffle</a></strong> to <a href='https://wandb.ai/mlewand7/DeepLense2024_task2A' target=\"_blank\">Weights & Biases</a> (<a href='https://wandb.me/run' target=\"_blank\">docs</a>)<br/>"
      ],
      "text/plain": [
       "<IPython.core.display.HTML object>"
      ]
     },
     "metadata": {},
     "output_type": "display_data"
    },
    {
     "data": {
      "text/html": [
       " View project at <a href='https://wandb.ai/mlewand7/DeepLense2024_task2A' target=\"_blank\">https://wandb.ai/mlewand7/DeepLense2024_task2A</a>"
      ],
      "text/plain": [
       "<IPython.core.display.HTML object>"
      ]
     },
     "metadata": {},
     "output_type": "display_data"
    },
    {
     "data": {
      "text/html": [
       " View run at <a href='https://wandb.ai/mlewand7/DeepLense2024_task2A/runs/y9xtxayh/workspace' target=\"_blank\">https://wandb.ai/mlewand7/DeepLense2024_task2A/runs/y9xtxayh/workspace</a>"
      ],
      "text/plain": [
       "<IPython.core.display.HTML object>"
      ]
     },
     "metadata": {},
     "output_type": "display_data"
    },
    {
     "name": "stderr",
     "output_type": "stream",
     "text": [
      "examples seen so far : 9000 Mean Squared Error (MSE)=0.04583414798578245 ; PSNR=13.403949515423996 ; SSIM=0.01398551951899689 ; : 100%|██████████| 2250/2250 [01:42<00:00, 21.93it/s]  \n",
      "examples seen so far : 1000 Mean Squared Error (MSE)=0.04599919429308063 ; PSNR=13.389551476792649 ; SSIM=0.013998712199526626 ; : 100%|██████████| 250/250 [00:11<00:00, 21.27it/s]\n",
      "EPOCH : 0, average loss : 0.00011470056050812774, lr=0.0001: 100%|██████████| 2250/2250 [01:52<00:00, 20.05it/s]\n",
      "examples seen so far : 9000 Mean Squared Error (MSE)=7.303592760254554e-05 ; PSNR=41.40050561656712 ; SSIM=0.9695063951360158 ; : 100%|██████████| 2250/2250 [01:41<00:00, 22.08it/s] \n",
      "examples seen so far : 1000 Mean Squared Error (MSE)=7.346986678459946e-05 ; PSNR=41.38053935664791 ; SSIM=0.9695628540771263 ; : 100%|██████████| 250/250 [00:11<00:00, 22.12it/s]\n"
     ]
    },
    {
     "name": "stdout",
     "output_type": "stream",
     "text": [
      "Saving metric with val_PSNR=41.38031328964233 (previous : 0)\n"
     ]
    },
    {
     "name": "stderr",
     "output_type": "stream",
     "text": [
      "EPOCH : 1, average loss : 6.075520024913001e-05, lr=9.816461936106827e-05: 100%|██████████| 2250/2250 [01:52<00:00, 19.99it/s]\n",
      "examples seen so far : 9000 Mean Squared Error (MSE)=6.0964310004109176e-05 ; PSNR=42.182433168945586 ; SSIM=0.9726064267893979 ; : 100%|██████████| 2250/2250 [01:42<00:00, 21.89it/s]\n",
      "examples seen so far : 1000 Mean Squared Error (MSE)=6.131610950557967e-05 ; PSNR=42.16288633986159 ; SSIM=0.9726277289089856 ; : 100%|██████████| 250/250 [00:11<00:00, 22.29it/s] \n"
     ]
    },
    {
     "name": "stdout",
     "output_type": "stream",
     "text": [
      "Saving metric with val_PSNR=42.1625173072815 (previous : 41.38031328964233)\n"
     ]
    },
    {
     "name": "stderr",
     "output_type": "stream",
     "text": [
      "EPOCH : 2, average loss : 6.012814122368581e-05, lr=9.283813728906054e-05: 100%|██████████| 2250/2250 [01:33<00:00, 23.98it/s] \n",
      "examples seen so far : 9000 Mean Squared Error (MSE)=5.9323925283798e-05 ; PSNR=42.30190802611355 ; SSIM=0.9741176751033771 ; : 100%|██████████| 2250/2250 [01:14<00:00, 30.02it/s]    \n",
      "examples seen so far : 1000 Mean Squared Error (MSE)=5.9666377492103346e-05 ; PSNR=42.282613546163354 ; SSIM=0.9741513014317036 ; : 100%|██████████| 250/250 [00:08<00:00, 30.14it/s]\n"
     ]
    },
    {
     "name": "stdout",
     "output_type": "stream",
     "text": [
      "Saving metric with val_PSNR=42.28225576019287 (previous : 42.1625173072815)\n"
     ]
    },
    {
     "name": "stderr",
     "output_type": "stream",
     "text": [
      "EPOCH : 3, average loss : 5.952263262265155e-05, lr=8.454194696096776e-05: 100%|██████████| 2250/2250 [01:34<00:00, 23.86it/s] \n",
      "examples seen so far : 9000 Mean Squared Error (MSE)=5.904650757673559e-05 ; PSNR=42.32259351474098 ; SSIM=0.9743445823491712 ; : 100%|██████████| 2250/2250 [01:21<00:00, 27.61it/s] \n",
      "examples seen so far : 1000 Mean Squared Error (MSE)=5.938865580684943e-05 ; PSNR=42.30334680001657 ; SSIM=0.9743802592799709 ; : 100%|██████████| 250/250 [00:08<00:00, 31.12it/s] \n"
     ]
    },
    {
     "name": "stdout",
     "output_type": "stream",
     "text": [
      "Saving metric with val_PSNR=42.30297698974609 (previous : 42.28225576019287)\n"
     ]
    },
    {
     "name": "stderr",
     "output_type": "stream",
     "text": [
      "EPOCH : 4, average loss : 0.00010071837045769724, lr=7.408813728906054e-05: 100%|██████████| 2250/2250 [01:35<00:00, 23.58it/s]\n",
      "examples seen so far : 9000 Mean Squared Error (MSE)=6.011728874950277e-05 ; PSNR=42.24410044838288 ; SSIM=0.9740758755363641 ; : 100%|██████████| 2250/2250 [01:18<00:00, 28.58it/s] \n",
      "examples seen so far : 1000 Mean Squared Error (MSE)=6.0448945775321376e-05 ; PSNR=42.2260284385643 ; SSIM=0.9741145895646738 ; : 100%|██████████| 250/250 [00:08<00:00, 29.79it/s] \n",
      "EPOCH : 5, average loss : 5.943114757408492e-05, lr=6.250000000000001e-05: 100%|██████████| 2250/2250 [01:39<00:00, 22.68it/s] \n",
      "examples seen so far : 9000 Mean Squared Error (MSE)=5.9059850826767186e-05 ; PSNR=42.32142771883983 ; SSIM=0.9743954629841904 ; : 100%|██████████| 2250/2250 [01:11<00:00, 31.51it/s] \n",
      "examples seen so far : 1000 Mean Squared Error (MSE)=5.9394942183245405e-05 ; PSNR=42.302853329403625 ; SSIM=0.9744340113930039 ; : 100%|██████████| 250/250 [00:07<00:00, 31.37it/s]\n",
      "EPOCH : 6, average loss : 5.913379887998518e-05, lr=5.0911862710939485e-05: 100%|██████████| 2250/2250 [01:33<00:00, 23.95it/s] \n",
      "examples seen so far : 9000 Mean Squared Error (MSE)=5.9247820085258976e-05 ; PSNR=42.30728522490522 ; SSIM=0.9740589132095949 ; : 100%|██████████| 2250/2250 [01:29<00:00, 25.26it/s]\n",
      "examples seen so far : 1000 Mean Squared Error (MSE)=5.958179067206188e-05 ; PSNR=42.28871740545477 ; SSIM=0.974097491682948 ; : 100%|██████████| 250/250 [00:11<00:00, 22.10it/s] \n",
      "EPOCH : 7, average loss : 5.904815845294959e-05, lr=4.045805303903227e-05: 100%|██████████| 2250/2250 [01:52<00:00, 20.07it/s] \n",
      "examples seen so far : 9000 Mean Squared Error (MSE)=5.892325571310549e-05 ; PSNR=42.33153533596425 ; SSIM=0.9743931147771115 ; : 100%|██████████| 2250/2250 [01:42<00:00, 21.93it/s] \n",
      "examples seen so far : 1000 Mean Squared Error (MSE)=5.927271097874011e-05 ; PSNR=42.31165259115927 ; SSIM=0.974431318563742 ; : 100%|██████████| 250/250 [00:11<00:00, 21.50it/s] \n"
     ]
    },
    {
     "name": "stdout",
     "output_type": "stream",
     "text": [
      "Saving metric with val_PSNR=42.31126369857788 (previous : 42.30297698974609)\n"
     ]
    },
    {
     "name": "stderr",
     "output_type": "stream",
     "text": [
      "EPOCH : 8, average loss : 5.894414518681717e-05, lr=3.2161862710939476e-05: 100%|██████████| 2250/2250 [01:52<00:00, 20.06it/s] \n",
      "examples seen so far : 9000 Mean Squared Error (MSE)=5.912518958246643e-05 ; PSNR=42.31647761184145 ; SSIM=0.9740949811332954 ; : 100%|██████████| 2250/2250 [01:41<00:00, 22.06it/s] \n",
      "examples seen so far : 1000 Mean Squared Error (MSE)=5.946365679308117e-05 ; PSNR=42.29752109287021 ; SSIM=0.9741341376805807 ; : 100%|██████████| 250/250 [00:11<00:00, 21.94it/s] \n",
      "EPOCH : 9, average loss : 5.885915653844778e-05, lr=2.6835380638931744e-05: 100%|██████████| 2250/2250 [01:52<00:00, 20.01it/s]\n",
      "examples seen so far : 9000 Mean Squared Error (MSE)=5.879905741265323e-05 ; PSNR=42.34080546871134 ; SSIM=0.9744501001292539 ; : 100%|██████████| 2250/2250 [01:41<00:00, 22.17it/s] \n",
      "examples seen so far : 1000 Mean Squared Error (MSE)=5.913706245683334e-05 ; PSNR=42.32174431358849 ; SSIM=0.9744893308277722 ; : 100%|██████████| 250/250 [00:11<00:00, 21.78it/s]\n"
     ]
    },
    {
     "name": "stdout",
     "output_type": "stream",
     "text": [
      "Saving metric with val_PSNR=42.3213621673584 (previous : 42.31126369857788)\n"
     ]
    },
    {
     "name": "stderr",
     "output_type": "stream",
     "text": [
      "EPOCH : 10, average loss : 5.880349731402627e-05, lr=2.5e-05: 100%|██████████| 2250/2250 [01:52<00:00, 20.00it/s] \n",
      "examples seen so far : 9000 Mean Squared Error (MSE)=5.87905179982188e-05 ; PSNR=42.34136913929903 ; SSIM=0.9744389600218077 ; : 100%|██████████| 2250/2250 [01:42<00:00, 21.93it/s]   \n",
      "examples seen so far : 1000 Mean Squared Error (MSE)=5.9137810638675035e-05 ; PSNR=42.32162538973299 ; SSIM=0.9744781383403668 ; : 100%|██████████| 250/250 [00:11<00:00, 22.30it/s]\n",
      "EPOCH : 11, average loss : 5.878395056546045e-05, lr=2.6835380638931744e-05: 100%|██████████| 2250/2250 [01:52<00:00, 20.01it/s] \n",
      "examples seen so far : 9000 Mean Squared Error (MSE)=5.867707879511516e-05 ; PSNR=42.34985179288584 ; SSIM=0.9745046719138736 ; : 100%|██████████| 2250/2250 [01:41<00:00, 22.09it/s] \n",
      "examples seen so far : 1000 Mean Squared Error (MSE)=5.9013548036329905e-05 ; PSNR=42.33094207946961 ; SSIM=0.9745436749300799 ; : 100%|██████████| 250/250 [00:11<00:00, 21.94it/s]\n"
     ]
    },
    {
     "name": "stdout",
     "output_type": "stream",
     "text": [
      "Saving metric with val_PSNR=42.33056704330444 (previous : 42.3213621673584)\n"
     ]
    },
    {
     "name": "stderr",
     "output_type": "stream",
     "text": [
      "EPOCH : 12, average loss : 5.8774140564815345e-05, lr=3.2161862710939503e-05: 100%|██████████| 2250/2250 [01:51<00:00, 20.09it/s]\n",
      "examples seen so far : 9000 Mean Squared Error (MSE)=5.8687072302280735e-05 ; PSNR=42.34914641216578 ; SSIM=0.9744957815754319 ; : 100%|██████████| 2250/2250 [01:41<00:00, 22.14it/s]\n",
      "examples seen so far : 1000 Mean Squared Error (MSE)=5.902420321377008e-05 ; PSNR=42.33018311890993 ; SSIM=0.9745346261216355 ; : 100%|██████████| 250/250 [00:11<00:00, 22.23it/s] \n",
      "EPOCH : 13, average loss : 6.020208701698316e-05, lr=4.045805303903233e-05: 100%|██████████| 2250/2250 [01:51<00:00, 20.12it/s]\n",
      "examples seen so far : 9000 Mean Squared Error (MSE)=5.866034664310907e-05 ; PSNR=42.351054779859844 ; SSIM=0.9744937982158086 ; : 100%|██████████| 2250/2250 [01:41<00:00, 22.18it/s]\n",
      "examples seen so far : 1000 Mean Squared Error (MSE)=5.900273697204409e-05 ; PSNR=42.331613783125164 ; SSIM=0.9745325289808355 ; : 100%|██████████| 250/250 [00:11<00:00, 22.43it/s]\n"
     ]
    },
    {
     "name": "stdout",
     "output_type": "stream",
     "text": [
      "Saving metric with val_PSNR=42.331242065429684 (previous : 42.33056704330444)\n"
     ]
    },
    {
     "name": "stderr",
     "output_type": "stream",
     "text": [
      "EPOCH : 14, average loss : 5.87443654722948e-05, lr=5.091186271093959e-05: 100%|██████████| 2250/2250 [01:51<00:00, 20.11it/s] \n",
      "examples seen so far : 9000 Mean Squared Error (MSE)=5.8703006376374936e-05 ; PSNR=42.34795335510437 ; SSIM=0.9745132540951756 ; : 100%|██████████| 2250/2250 [01:41<00:00, 22.06it/s]\n",
      "examples seen so far : 1000 Mean Squared Error (MSE)=5.9035500270510056e-05 ; PSNR=42.329216786213706 ; SSIM=0.9745529233753025 ; : 100%|██████████| 250/250 [00:11<00:00, 22.30it/s]\n",
      "EPOCH : 15, average loss : 5.879773874120373e-05, lr=6.250000000000018e-05: 100%|██████████| 2250/2250 [01:52<00:00, 20.05it/s] \n",
      "examples seen so far : 9000 Mean Squared Error (MSE)=5.88612041473713e-05 ; PSNR=42.336320226173136 ; SSIM=0.9743830241194195 ; : 100%|██████████| 2250/2250 [01:44<00:00, 21.59it/s]  \n",
      "examples seen so far : 1000 Mean Squared Error (MSE)=5.91977542782544e-05 ; PSNR=42.3172769059648 ; SSIM=0.9744220143323904 ; : 100%|██████████| 250/250 [00:11<00:00, 21.40it/s]  \n",
      "EPOCH : 16, average loss : 5.8802990508007094e-05, lr=7.408813728906076e-05: 100%|██████████| 2250/2250 [01:54<00:00, 19.73it/s]\n",
      "examples seen so far : 9000 Mean Squared Error (MSE)=5.889565455507068e-05 ; PSNR=42.333656244906386 ; SSIM=0.9743972600784708 ; : 100%|██████████| 2250/2250 [01:43<00:00, 21.68it/s]\n",
      "examples seen so far : 1000 Mean Squared Error (MSE)=5.9225539219399284e-05 ; PSNR=42.31521512127973 ; SSIM=0.9744379928520134 ; : 100%|██████████| 250/250 [00:11<00:00, 20.96it/s]\n",
      "EPOCH : 17, average loss : 5.878400709318359e-05, lr=8.454194696096803e-05: 100%|██████████| 2250/2250 [01:44<00:00, 21.47it/s] \n",
      "examples seen so far : 9000 Mean Squared Error (MSE)=5.884854602144699e-05 ; PSNR=42.3373306300696 ; SSIM=0.9744094067221815 ; : 100%|██████████| 2250/2250 [01:40<00:00, 22.46it/s]   \n",
      "examples seen so far : 1000 Mean Squared Error (MSE)=5.918614962476178e-05 ; PSNR=42.31834614766133 ; SSIM=0.9744482715208609 ; : 100%|██████████| 250/250 [00:10<00:00, 24.57it/s]\n",
      "EPOCH : 18, average loss : 5.874590282069726e-05, lr=9.283813728906087e-05: 100%|██████████| 2250/2250 [01:40<00:00, 22.37it/s] \n",
      "examples seen so far : 9000 Mean Squared Error (MSE)=5.862809023800977e-05 ; PSNR=42.353676205993374 ; SSIM=0.9745014053223491 ; : 100%|██████████| 2250/2250 [01:43<00:00, 21.74it/s]\n",
      "examples seen so far : 1000 Mean Squared Error (MSE)=5.8972487975777994e-05 ; PSNR=42.33406315098057 ; SSIM=0.9745386900963845 ; : 100%|██████████| 250/250 [00:11<00:00, 21.56it/s]\n"
     ]
    },
    {
     "name": "stdout",
     "output_type": "stream",
     "text": [
      "Saving metric with val_PSNR=42.33368366622925 (previous : 42.331242065429684)\n"
     ]
    },
    {
     "name": "stderr",
     "output_type": "stream",
     "text": [
      "EPOCH : 19, average loss : 5.8698965034434674e-05, lr=9.816461936106862e-05: 100%|██████████| 2250/2250 [01:51<00:00, 20.14it/s]\n",
      "examples seen so far : 9000 Mean Squared Error (MSE)=5.862386184341954e-05 ; PSNR=42.35397662050341 ; SSIM=0.9744654018649235 ; : 100%|██████████| 2250/2250 [01:43<00:00, 21.66it/s]  \n",
      "examples seen so far : 1000 Mean Squared Error (MSE)=5.8963012453934244e-05 ; PSNR=42.33481671215894 ; SSIM=0.9745026147878683 ; : 100%|██████████| 250/250 [00:11<00:00, 21.17it/s]\n"
     ]
    },
    {
     "name": "stdout",
     "output_type": "stream",
     "text": [
      "Saving metric with val_PSNR=42.334420906066896 (previous : 42.33368366622925)\n"
     ]
    },
    {
     "name": "stderr",
     "output_type": "stream",
     "text": [
      "EPOCH : 20, average loss : 5.865949577613113e-05, lr=0.00010000000000000037: 100%|██████████| 2250/2250 [01:50<00:00, 20.37it/s] \n",
      "examples seen so far : 9000 Mean Squared Error (MSE)=5.851896997712733e-05 ; PSNR=42.36178444740388 ; SSIM=0.9745494450962746 ; : 100%|██████████| 2250/2250 [01:43<00:00, 21.82it/s] \n",
      "examples seen so far : 1000 Mean Squared Error (MSE)=5.8867558688941495e-05 ; PSNR=42.34192640669234 ; SSIM=0.9745866201661371 ; : 100%|██████████| 250/250 [00:11<00:00, 21.94it/s]\n"
     ]
    },
    {
     "name": "stdout",
     "output_type": "stream",
     "text": [
      "Saving metric with val_PSNR=42.341542316436765 (previous : 42.334420906066896)\n"
     ]
    },
    {
     "name": "stderr",
     "output_type": "stream",
     "text": [
      "EPOCH : 21, average loss : 5.862788550924355e-05, lr=9.816461936106862e-05: 100%|██████████| 2250/2250 [01:51<00:00, 20.23it/s] \n",
      "examples seen so far : 9000 Mean Squared Error (MSE)=5.8585359388504114e-05 ; PSNR=42.35674450320394 ; SSIM=0.9744634581202997 ; : 100%|██████████| 2250/2250 [01:44<00:00, 21.61it/s]\n",
      "examples seen so far : 1000 Mean Squared Error (MSE)=5.893133762853082e-05 ; PSNR=42.33698279578407 ; SSIM=0.9745011061161488 ; : 100%|██████████| 250/250 [00:11<00:00, 21.76it/s] \n",
      "EPOCH : 22, average loss : 5.8587489004518525e-05, lr=9.283813728906088e-05: 100%|██████████| 2250/2250 [01:50<00:00, 20.43it/s]\n",
      "examples seen so far : 9000 Mean Squared Error (MSE)=5.863901559208138e-05 ; PSNR=42.35290168425629 ; SSIM=0.9744698807641868 ; : 100%|██████████| 2250/2250 [01:43<00:00, 21.74it/s] \n",
      "examples seen so far : 1000 Mean Squared Error (MSE)=5.898885051560778e-05 ; PSNR=42.33292411445259 ; SSIM=0.9745067402168557 ; : 100%|██████████| 250/250 [00:11<00:00, 21.93it/s] \n",
      "EPOCH : 23, average loss : 5.854889475126078e-05, lr=8.454194696096804e-05: 100%|██████████| 2250/2250 [01:45<00:00, 21.38it/s] \n",
      "examples seen so far : 9000 Mean Squared Error (MSE)=5.8584156983145416e-05 ; PSNR=42.3567776930625 ; SSIM=0.9744272306304811 ; : 100%|██████████| 2250/2250 [01:34<00:00, 23.90it/s]  \n",
      "examples seen so far : 1000 Mean Squared Error (MSE)=5.893502327979093e-05 ; PSNR=42.336764983825375 ; SSIM=0.9744641196143042 ; : 100%|██████████| 250/250 [00:11<00:00, 21.67it/s]\n",
      "EPOCH : 24, average loss : 5.850632453641285e-05, lr=7.408813728906078e-05: 100%|██████████| 2250/2250 [01:49<00:00, 20.46it/s]\n",
      "examples seen so far : 9000 Mean Squared Error (MSE)=5.849269680445574e-05 ; PSNR=42.36368621366662 ; SSIM=0.9745367107980581 ; : 100%|██████████| 2250/2250 [01:42<00:00, 21.93it/s]  \n",
      "examples seen so far : 1000 Mean Squared Error (MSE)=5.883471593760104e-05 ; PSNR=42.34422505772985 ; SSIM=0.9745738057044891 ; : 100%|██████████| 250/250 [00:11<00:00, 22.14it/s] \n"
     ]
    },
    {
     "name": "stdout",
     "output_type": "stream",
     "text": [
      "Saving metric with val_PSNR=42.34383429718017 (previous : 42.341542316436765)\n"
     ]
    },
    {
     "name": "stderr",
     "output_type": "stream",
     "text": [
      "EPOCH : 25, average loss : 5.847250499128778e-05, lr=6.250000000000019e-05: 100%|██████████| 2250/2250 [01:50<00:00, 20.43it/s] \n",
      "examples seen so far : 9000 Mean Squared Error (MSE)=5.842226619410631e-05 ; PSNR=42.36902332740408 ; SSIM=0.9745650911267592 ; : 100%|██████████| 2250/2250 [01:42<00:00, 21.88it/s] \n",
      "examples seen so far : 1000 Mean Squared Error (MSE)=5.8779448204199775e-05 ; PSNR=42.34844588469695 ; SSIM=0.9746008830982166 ; : 100%|██████████| 250/250 [00:11<00:00, 21.92it/s]\n"
     ]
    },
    {
     "name": "stdout",
     "output_type": "stream",
     "text": [
      "Saving metric with val_PSNR=42.348036273956296 (previous : 42.34383429718017)\n"
     ]
    },
    {
     "name": "stderr",
     "output_type": "stream",
     "text": [
      "EPOCH : 26, average loss : 5.8434097249927515e-05, lr=5.0911862710939614e-05: 100%|██████████| 2250/2250 [01:49<00:00, 20.51it/s]\n",
      "examples seen so far : 9000 Mean Squared Error (MSE)=5.840335117537794e-05 ; PSNR=42.370298919525126 ; SSIM=0.9745615438986307 ; : 100%|██████████| 2250/2250 [01:43<00:00, 21.76it/s]\n",
      "examples seen so far : 1000 Mean Squared Error (MSE)=5.8755258361781455e-05 ; PSNR=42.35017040661267 ; SSIM=0.9745982858511779 ; : 100%|██████████| 250/250 [00:11<00:00, 22.19it/s]\n"
     ]
    },
    {
     "name": "stdout",
     "output_type": "stream",
     "text": [
      "Saving metric with val_PSNR=42.34976593017578 (previous : 42.348036273956296)\n"
     ]
    },
    {
     "name": "stderr",
     "output_type": "stream",
     "text": [
      "EPOCH : 27, average loss : 5.840310491880195e-05, lr=4.0458053039032345e-05: 100%|██████████| 2250/2250 [01:50<00:00, 20.34it/s] \n",
      "examples seen so far : 9000 Mean Squared Error (MSE)=5.855631489057506e-05 ; PSNR=42.35882973525243 ; SSIM=0.9744312499334897 ; : 100%|██████████| 2250/2250 [01:43<00:00, 21.75it/s]  \n",
      "examples seen so far : 1000 Mean Squared Error (MSE)=5.8914261057975705e-05 ; PSNR=42.3381918447989 ; SSIM=0.9744670759808194 ; : 100%|██████████| 250/250 [00:11<00:00, 22.11it/s]\n",
      "EPOCH : 28, average loss : 5.83739469212661e-05, lr=3.216186271093952e-05: 100%|██████████| 2250/2250 [01:50<00:00, 20.44it/s] \n",
      "examples seen so far : 9000 Mean Squared Error (MSE)=5.835049702626312e-05 ; PSNR=42.37430324060597 ; SSIM=0.9745868322040945 ; : 100%|██████████| 2250/2250 [01:42<00:00, 21.87it/s]  \n",
      "examples seen so far : 1000 Mean Squared Error (MSE)=5.8712922670726744e-05 ; PSNR=42.3533042701515 ; SSIM=0.9746232896118432 ; : 100%|██████████| 250/250 [00:11<00:00, 21.93it/s] \n"
     ]
    },
    {
     "name": "stdout",
     "output_type": "stream",
     "text": [
      "Saving metric with val_PSNR=42.35290901184082 (previous : 42.34976593017578)\n"
     ]
    },
    {
     "name": "stderr",
     "output_type": "stream",
     "text": [
      "EPOCH : 29, average loss : 5.8357033125099e-05, lr=2.6835380638931757e-05: 100%|██████████| 2250/2250 [01:50<00:00, 20.42it/s]   \n",
      "examples seen so far : 9000 Mean Squared Error (MSE)=5.836076862980254e-05 ; PSNR=42.37350318129559 ; SSIM=0.9745787816692 ; : 100%|██████████| 2250/2250 [01:42<00:00, 21.91it/s]     \n",
      "examples seen so far : 1000 Mean Squared Error (MSE)=5.87252945335278e-05 ; PSNR=42.35238944541465 ; SSIM=0.9746143647858331 ; : 100%|██████████| 250/250 [00:11<00:00, 22.35it/s] \n"
     ]
    },
    {
     "data": {
      "application/vnd.jupyter.widget-view+json": {
       "model_id": "",
       "version_major": 2,
       "version_minor": 0
      },
      "text/plain": [
       "VBox(children=(Label(value='9.051 MB of 9.051 MB uploaded\\r'), FloatProgress(value=1.0, max=1.0)))"
      ]
     },
     "metadata": {},
     "output_type": "display_data"
    },
    {
     "data": {
      "text/html": [
       "<style>\n",
       "    table.wandb td:nth-child(1) { padding: 0 10px; text-align: left ; width: auto;} td:nth-child(2) {text-align: left ; width: 100%}\n",
       "    .wandb-row { display: flex; flex-direction: row; flex-wrap: wrap; justify-content: flex-start; width: 100% }\n",
       "    .wandb-col { display: flex; flex-direction: column; flex-basis: 100%; flex: 1; padding: 10px; }\n",
       "    </style>\n",
       "<div class=\"wandb-row\"><div class=\"wandb-col\"><h3>Run history:</h3><br/><table class=\"wandb\"><tr><td>loss</td><td>█▁▁▁▆▁▁▁▁▁▁▁▁▁▁▁▁▁▁▁▁▁▁▁▁▁▁▁▁▁</td></tr><tr><td>train_Mean Squared Error (MSE)</td><td>█▁▁▁▁▁▁▁▁▁▁▁▁▁▁▁▁▁▁▁▁▁▁▁▁▁▁▁▁▁▁</td></tr><tr><td>train_PSNR</td><td>▁██████████████████████████████</td></tr><tr><td>train_SSIM</td><td>▁██████████████████████████████</td></tr><tr><td>val_Mean Squared Error (MSE)</td><td>█▁▁▁▁▁▁▁▁▁▁▁▁▁▁▁▁▁▁▁▁▁▁▁▁▁▁▁▁▁▁</td></tr><tr><td>val_PSNR</td><td>▁██████████████████████████████</td></tr><tr><td>val_SSIM</td><td>▁██████████████████████████████</td></tr></table><br/></div><div class=\"wandb-col\"><h3>Run summary:</h3><br/><table class=\"wandb\"><tr><td>loss</td><td>6e-05</td></tr><tr><td>train_Mean Squared Error (MSE)</td><td>6e-05</td></tr><tr><td>train_PSNR</td><td>42.37348</td></tr><tr><td>train_SSIM</td><td>0.97458</td></tr><tr><td>val_Mean Squared Error (MSE)</td><td>6e-05</td></tr><tr><td>val_PSNR</td><td>42.35199</td></tr><tr><td>val_SSIM</td><td>0.97461</td></tr></table><br/></div></div>"
      ],
      "text/plain": [
       "<IPython.core.display.HTML object>"
      ]
     },
     "metadata": {},
     "output_type": "display_data"
    },
    {
     "data": {
      "text/html": [
       " View run <strong style=\"color:#cdcd00\">experiment_EDSR_pixelshuffle</strong> at: <a href='https://wandb.ai/mlewand7/DeepLense2024_task2A/runs/y9xtxayh/workspace' target=\"_blank\">https://wandb.ai/mlewand7/DeepLense2024_task2A/runs/y9xtxayh/workspace</a><br/>Synced 5 W&B file(s), 620 media file(s), 0 artifact file(s) and 0 other file(s)"
      ],
      "text/plain": [
       "<IPython.core.display.HTML object>"
      ]
     },
     "metadata": {},
     "output_type": "display_data"
    },
    {
     "data": {
      "text/html": [
       "Find logs at: <code>./wandb/run-20240328_111419-y9xtxayh/logs</code>"
      ],
      "text/plain": [
       "<IPython.core.display.HTML object>"
      ]
     },
     "metadata": {},
     "output_type": "display_data"
    }
   ],
   "source": [
    "run_experiment_task2(train_dataloader=train_loader, \n",
    "                     val_dataloader=val_loader, \n",
    "                     Model=EDSR_pixelshuffle, \n",
    "                     run_name=\"EDSR_pixelshuffle\", \n",
    "                     model_parameters={}, \n",
    "                     epochs=30,\n",
    "                     learning_rate=1e-4, \n",
    "                     optimizer='adam',\n",
    "                     savepath=\"models/EDSR_pixelshuffle.pth\",\n",
    "                     metrics=[MSE_Metric(), PSNR_Metric(), SSIM_Metric()],\n",
    "                     cfg=CONFIG,\n",
    "                     cosine_annealer_epochs=10,\n",
    "                     test_params={\"save_in_total\" : 10},\n",
    "                     min_lr=2.5e-5,\n",
    "                     scheduler_en=True,\n",
    "                     metric_keyword=\"val_PSNR\",\n",
    "                     lr_steps=len(dataset) // 2,\n",
    "                     start_with_test=True,\n",
    "                     WANDB_ON=True)"
   ]
  },
  {
   "cell_type": "markdown",
   "metadata": {},
   "source": [
    "# Residual Dense Network for Image Super-Resolution\n",
    "\n",
    "Paper: https://arxiv.org/pdf/1802.08797v2.pdf"
   ]
  },
  {
   "cell_type": "code",
   "execution_count": 14,
   "metadata": {},
   "outputs": [
    {
     "name": "stdout",
     "output_type": "stream",
     "text": [
      "==========================================================================================\n",
      "Layer (type:depth-idx)                   Output Shape              Param #\n",
      "==========================================================================================\n",
      "RDN                                      [4, 1, 150, 150]          --\n",
      "├─Conv2d: 1-1                            [4, 64, 75, 75]           640\n",
      "├─Conv2d: 1-2                            [4, 64, 75, 75]           36,928\n",
      "├─ModuleList: 1-3                        --                        --\n",
      "│    └─RDB: 2-1                          [4, 64, 75, 75]           --\n",
      "│    │    └─Sequential: 3-1              [4, 256, 75, 75]          221,376\n",
      "│    │    └─Conv2d: 3-2                  [4, 64, 75, 75]           16,448\n",
      "│    └─RDB: 2-2                          [4, 64, 75, 75]           --\n",
      "│    │    └─Sequential: 3-3              [4, 256, 75, 75]          221,376\n",
      "│    │    └─Conv2d: 3-4                  [4, 64, 75, 75]           16,448\n",
      "│    └─RDB: 2-3                          [4, 64, 75, 75]           --\n",
      "│    │    └─Sequential: 3-5              [4, 256, 75, 75]          221,376\n",
      "│    │    └─Conv2d: 3-6                  [4, 64, 75, 75]           16,448\n",
      "├─Sequential: 1-4                        [4, 64, 75, 75]           --\n",
      "│    └─Conv2d: 2-4                       [4, 64, 75, 75]           12,352\n",
      "│    └─Conv2d: 2-5                       [4, 64, 75, 75]           36,928\n",
      "├─Sequential: 1-5                        [4, 64, 150, 150]         --\n",
      "│    └─Conv2d: 2-6                       [4, 256, 75, 75]          147,712\n",
      "│    └─PixelShuffle: 2-7                 [4, 64, 150, 150]         --\n",
      "├─Conv2d: 1-6                            [4, 1, 150, 150]          577\n",
      "==========================================================================================\n",
      "Total params: 948,609\n",
      "Trainable params: 948,609\n",
      "Non-trainable params: 0\n",
      "Total mult-adds (G): 21.38\n",
      "==========================================================================================\n",
      "Input size (MB): 0.09\n",
      "Forward/backward pass size (MB): 231.12\n",
      "Params size (MB): 3.79\n",
      "Estimated Total Size (MB): 235.00\n",
      "==========================================================================================\n"
     ]
    }
   ],
   "source": [
    "import torch\n",
    "from torch import nn\n",
    "\n",
    "\n",
    "class DenseLayer(nn.Module):\n",
    "    def __init__(self, in_channels, out_channels):\n",
    "        super(DenseLayer, self).__init__()\n",
    "        self.conv = nn.Conv2d(in_channels, out_channels, kernel_size=3, padding=3 // 2)\n",
    "        self.relu = nn.ReLU(inplace=True)\n",
    "\n",
    "    def forward(self, x):\n",
    "        return torch.cat([x, self.relu(self.conv(x))], 1)\n",
    "\n",
    "\n",
    "class RDB(nn.Module):\n",
    "    def __init__(self, in_channels, growth_rate, num_layers):\n",
    "        super(RDB, self).__init__()\n",
    "        self.layers = nn.Sequential(*[DenseLayer(in_channels + growth_rate * i, growth_rate) for i in range(num_layers)])\n",
    "\n",
    "        # local feature fusion\n",
    "        self.lff = nn.Conv2d(in_channels + growth_rate * num_layers, growth_rate, kernel_size=1)\n",
    "\n",
    "    def forward(self, x):\n",
    "        \n",
    "        return x + self.lff(self.layers(x))  # local residual learning\n",
    "\n",
    "\n",
    "class RDN(nn.Module):\n",
    "    def __init__(self, scale_factor, num_channels, num_features, growth_rate, num_blocks, num_layers):\n",
    "        super(RDN, self).__init__()\n",
    "        self.G0 = num_features\n",
    "        self.G = growth_rate\n",
    "        self.D = num_blocks\n",
    "        self.C = num_layers\n",
    "\n",
    "        # shallow feature extraction\n",
    "        self.sfe1 = nn.Conv2d(num_channels, num_features, kernel_size=3, padding=3 // 2)\n",
    "        self.sfe2 = nn.Conv2d(num_features, num_features, kernel_size=3, padding=3 // 2)\n",
    "\n",
    "        # residual dense blocks\n",
    "        self.rdbs = nn.ModuleList([RDB(self.G0, self.G, self.C)])\n",
    "        for _ in range(self.D - 1):\n",
    "            self.rdbs.append(RDB(self.G, self.G, self.C))\n",
    "\n",
    "        # global feature fusion\n",
    "        self.gff = nn.Sequential(\n",
    "            nn.Conv2d(self.G * self.D, self.G0, kernel_size=1),\n",
    "            nn.Conv2d(self.G0, self.G0, kernel_size=3, padding=3 // 2)\n",
    "        )\n",
    "\n",
    "        # up-sampling\n",
    "        assert 2 <= scale_factor <= 4\n",
    "        if scale_factor == 2 or scale_factor == 4:\n",
    "            self.upscale = []\n",
    "            for _ in range(scale_factor // 2):\n",
    "                self.upscale.extend([nn.Conv2d(self.G0, self.G0 * (2 ** 2), kernel_size=3, padding=3 // 2),\n",
    "                                     nn.PixelShuffle(2)])\n",
    "            self.upscale = nn.Sequential(*self.upscale)\n",
    "        else:\n",
    "            self.upscale = nn.Sequential(\n",
    "                nn.Conv2d(self.G0, self.G0 * (scale_factor ** 2), kernel_size=3, padding=3 // 2),\n",
    "                nn.PixelShuffle(scale_factor)\n",
    "            )\n",
    "\n",
    "        self.output = nn.Conv2d(self.G0, num_channels, kernel_size=3, padding=3 // 2)\n",
    "\n",
    "    def forward(self, x):\n",
    "        sfe1 = self.sfe1(x)\n",
    "        sfe2 = self.sfe2(sfe1)\n",
    "\n",
    "        x = sfe2\n",
    "        local_features = []\n",
    "        for i in range(self.D):\n",
    "            x = self.rdbs[i](x)\n",
    "            local_features.append(x)\n",
    "\n",
    "        x = self.gff(torch.cat(local_features, 1)) + sfe1  # global residual learning\n",
    "        x = self.upscale(x)\n",
    "        x = self.output(x)\n",
    "        return x\n",
    "    \n",
    "model = RDN(scale_factor=2, num_channels=1, num_features=64, growth_rate=64, num_blocks=3, num_layers=3)\n",
    "model(x).shape\n",
    "print(summary(model, input_size=(4, 1, 75, 75)))"
   ]
  },
  {
   "cell_type": "code",
   "execution_count": null,
   "metadata": {},
   "outputs": [
    {
     "data": {
      "text/html": [
       "Tracking run with wandb version 0.16.5"
      ],
      "text/plain": [
       "<IPython.core.display.HTML object>"
      ]
     },
     "metadata": {},
     "output_type": "display_data"
    },
    {
     "data": {
      "text/html": [
       "Run data is saved locally in <code>/workspace/wandb/run-20240328_160932-de6pgbsl</code>"
      ],
      "text/plain": [
       "<IPython.core.display.HTML object>"
      ]
     },
     "metadata": {},
     "output_type": "display_data"
    },
    {
     "data": {
      "text/html": [
       "Syncing run <strong><a href='https://wandb.ai/mlewand7/DeepLense2024_task2A/runs/de6pgbsl/workspace' target=\"_blank\">experiment_RDN</a></strong> to <a href='https://wandb.ai/mlewand7/DeepLense2024_task2A' target=\"_blank\">Weights & Biases</a> (<a href='https://wandb.me/run' target=\"_blank\">docs</a>)<br/>"
      ],
      "text/plain": [
       "<IPython.core.display.HTML object>"
      ]
     },
     "metadata": {},
     "output_type": "display_data"
    },
    {
     "data": {
      "text/html": [
       " View project at <a href='https://wandb.ai/mlewand7/DeepLense2024_task2A' target=\"_blank\">https://wandb.ai/mlewand7/DeepLense2024_task2A</a>"
      ],
      "text/plain": [
       "<IPython.core.display.HTML object>"
      ]
     },
     "metadata": {},
     "output_type": "display_data"
    },
    {
     "data": {
      "text/html": [
       " View run at <a href='https://wandb.ai/mlewand7/DeepLense2024_task2A/runs/de6pgbsl/workspace' target=\"_blank\">https://wandb.ai/mlewand7/DeepLense2024_task2A/runs/de6pgbsl/workspace</a>"
      ],
      "text/plain": [
       "<IPython.core.display.HTML object>"
      ]
     },
     "metadata": {},
     "output_type": "display_data"
    },
    {
     "name": "stderr",
     "output_type": "stream",
     "text": [
      "examples seen so far : 9000 Mean Squared Error (MSE)=0.018966859095717572 ; PSNR=17.361017442939147 ; SSIM=0.214247094445963 ; : 100%|██████████| 2250/2250 [01:52<00:00, 20.02it/s]  \n",
      "examples seen so far : 1000 Mean Squared Error (MSE)=0.019185128701930947 ; PSNR=17.321034488735258 ; SSIM=0.21363879221158702 ; : 100%|██████████| 250/250 [00:13<00:00, 18.80it/s]\n",
      "EPOCH : 0, average loss : 8.926514859356555e-05, lr=0.0001: 100%|██████████| 2250/2250 [03:01<00:00, 12.38it/s] \n",
      "examples seen so far : 9000 Mean Squared Error (MSE)=7.448428257650442e-05 ; PSNR=41.30023013794339 ; SSIM=0.9480895808980603 ; : 100%|██████████| 2250/2250 [01:53<00:00, 19.91it/s] \n",
      "examples seen so far : 1000 Mean Squared Error (MSE)=7.481367839983916e-05 ; PSNR=41.28459918582523 ; SSIM=0.9480867710438099 ; : 100%|██████████| 250/250 [00:13<00:00, 18.78it/s]\n"
     ]
    },
    {
     "name": "stdout",
     "output_type": "stream",
     "text": [
      "Saving metric with val_PSNR=41.284316764831544 (previous : 0)\n"
     ]
    },
    {
     "name": "stderr",
     "output_type": "stream",
     "text": [
      "EPOCH : 1, average loss : 5.986560857693096e-05, lr=9.816461936106827e-05: 100%|██████████| 2250/2250 [03:05<00:00, 12.15it/s] \n",
      "examples seen so far : 9000 Mean Squared Error (MSE)=5.901837537849953e-05 ; PSNR=42.32487522129059 ; SSIM=0.9744874285133511 ; : 100%|██████████| 2250/2250 [01:52<00:00, 19.98it/s]  \n",
      "examples seen so far : 1000 Mean Squared Error (MSE)=5.936057632780276e-05 ; PSNR=42.30573232228811 ; SSIM=0.9745270003069628 ; : 100%|██████████| 250/250 [00:13<00:00, 18.93it/s] \n"
     ]
    },
    {
     "name": "stdout",
     "output_type": "stream",
     "text": [
      "Saving metric with val_PSNR=42.30534328842163 (previous : 41.284316764831544)\n"
     ]
    },
    {
     "name": "stderr",
     "output_type": "stream",
     "text": [
      "EPOCH : 2, average loss : 5.954179949023657e-05, lr=9.283813728906054e-05: 100%|██████████| 2250/2250 [03:06<00:00, 12.09it/s] \n",
      "examples seen so far : 9000 Mean Squared Error (MSE)=5.896644879270108e-05 ; PSNR=42.32877071646402 ; SSIM=0.9744734332447305 ; : 100%|██████████| 2250/2250 [01:52<00:00, 19.99it/s]  \n",
      "examples seen so far : 1000 Mean Squared Error (MSE)=5.929807028385929e-05 ; PSNR=42.31030681636837 ; SSIM=0.9745127195949191 ; : 100%|██████████| 250/250 [00:13<00:00, 18.81it/s]\n"
     ]
    },
    {
     "name": "stdout",
     "output_type": "stream",
     "text": [
      "Saving metric with val_PSNR=42.30993138504029 (previous : 42.30534328842163)\n"
     ]
    },
    {
     "name": "stderr",
     "output_type": "stream",
     "text": [
      "EPOCH : 3, average loss : 5.9179674691727594e-05, lr=8.454194696096776e-05: 100%|██████████| 2250/2250 [03:06<00:00, 12.07it/s]\n",
      "examples seen so far : 9000 Mean Squared Error (MSE)=5.921147856772253e-05 ; PSNR=42.310398700356764 ; SSIM=0.9739917397883247 ; : 100%|██████████| 2250/2250 [01:53<00:00, 19.90it/s] \n",
      "examples seen so far : 1000 Mean Squared Error (MSE)=5.955978422507842e-05 ; PSNR=42.29076162114874 ; SSIM=0.9740282127091119 ; : 100%|██████████| 250/250 [00:13<00:00, 19.12it/s]\n",
      "EPOCH : 4, average loss : 0.0002160147023322578, lr=7.408813728906054e-05: 100%|██████████| 2250/2250 [03:06<00:00, 12.06it/s] \n",
      "examples seen so far : 9000 Mean Squared Error (MSE)=5.919460107484493e-05 ; PSNR=42.311510461849004 ; SSIM=0.9743486357630723 ; : 100%|██████████| 2250/2250 [01:52<00:00, 19.92it/s]\n",
      "examples seen so far : 1000 Mean Squared Error (MSE)=5.952415013890569e-05 ; PSNR=42.29333223833575 ; SSIM=0.9743892854756421 ; : 100%|██████████| 250/250 [00:13<00:00, 18.81it/s]\n",
      "EPOCH : 5, average loss : 5.8961963745079834e-05, lr=6.250000000000001e-05: 100%|██████████| 2250/2250 [03:05<00:00, 12.10it/s]\n",
      "examples seen so far : 9000 Mean Squared Error (MSE)=5.887472819330678e-05 ; PSNR=42.335153544316064 ; SSIM=0.9744742082839463 ; : 100%|██████████| 2250/2250 [01:53<00:00, 19.91it/s] \n",
      "examples seen so far : 1000 Mean Squared Error (MSE)=5.920435092799404e-05 ; PSNR=42.31686824076885 ; SSIM=0.9745141288658997 ; : 100%|██████████| 250/250 [00:13<00:00, 19.03it/s]\n"
     ]
    },
    {
     "name": "stdout",
     "output_type": "stream",
     "text": [
      "Saving metric with val_PSNR=42.31649656295777 (previous : 42.30993138504029)\n"
     ]
    },
    {
     "name": "stderr",
     "output_type": "stream",
     "text": [
      "EPOCH : 6, average loss : 5.8810903053704855e-05, lr=5.0911862710939485e-05: 100%|██████████| 2250/2250 [03:03<00:00, 12.24it/s]\n",
      "examples seen so far : 9000 Mean Squared Error (MSE)=5.893837202705031e-05 ; PSNR=42.330568677518805 ; SSIM=0.9744105936222731 ; : 100%|██████████| 2250/2250 [01:52<00:00, 19.98it/s]\n",
      "examples seen so far : 1000 Mean Squared Error (MSE)=5.927635873893968e-05 ; PSNR=42.311578657056714 ; SSIM=0.9744499499375397 ; : 100%|██████████| 250/250 [00:12<00:00, 19.24it/s]\n",
      "EPOCH : 7, average loss : 5.884918652009219e-05, lr=4.045805303903227e-05: 100%|██████████| 2250/2250 [03:04<00:00, 12.19it/s] \n",
      "examples seen so far : 9000 Mean Squared Error (MSE)=5.888564399642071e-05 ; PSNR=42.3340517809847 ; SSIM=0.9741903680578207 ; : 100%|██████████| 2250/2250 [01:52<00:00, 19.96it/s]   \n",
      "examples seen so far : 1000 Mean Squared Error (MSE)=5.921022018954462e-05 ; PSNR=42.31598339138088 ; SSIM=0.9742301815264934 ; : 100%|██████████| 250/250 [00:13<00:00, 18.95it/s] \n",
      "EPOCH : 8, average loss : 5.8821679964441704e-05, lr=3.2161862710939476e-05: 100%|██████████| 2250/2250 [03:04<00:00, 12.21it/s]\n",
      "examples seen so far : 9000 Mean Squared Error (MSE)=5.887786542893059e-05 ; PSNR=42.33489368751137 ; SSIM=0.9743878179251426 ; : 100%|██████████| 2250/2250 [01:52<00:00, 20.00it/s] \n",
      "examples seen so far : 1000 Mean Squared Error (MSE)=5.921410208044632e-05 ; PSNR=42.316050398695815 ; SSIM=0.9744280857128186 ; : 100%|██████████| 250/250 [00:13<00:00, 19.08it/s]\n",
      "EPOCH : 9, average loss : 5.8749079671947075e-05, lr=2.6835380638931744e-05: 100%|██████████| 2250/2250 [03:02<00:00, 12.31it/s]\n",
      "examples seen so far : 9000 Mean Squared Error (MSE)=5.877327780544365e-05 ; PSNR=42.34265352061145 ; SSIM=0.9744171888871462 ; : 100%|██████████| 2250/2250 [01:52<00:00, 20.01it/s] \n",
      "examples seen so far : 1000 Mean Squared Error (MSE)=5.9109437597680835e-05 ; PSNR=42.323787272990764 ; SSIM=0.9744560820562346 ; : 100%|██████████| 250/250 [00:13<00:00, 18.83it/s]\n"
     ]
    },
    {
     "name": "stdout",
     "output_type": "stream",
     "text": [
      "Saving metric with val_PSNR=42.32341393661499 (previous : 42.31649656295777)\n"
     ]
    },
    {
     "name": "stderr",
     "output_type": "stream",
     "text": [
      "EPOCH : 10, average loss : 5.8716443009972055e-05, lr=2.5e-05: 100%|██████████| 2250/2250 [03:04<00:00, 12.17it/s]\n",
      "examples seen so far : 9000 Mean Squared Error (MSE)=5.882707683192922e-05 ; PSNR=42.3389193999766 ; SSIM=0.974525744695904 ; : 100%|██████████| 2250/2250 [01:52<00:00, 20.00it/s]    \n",
      "examples seen so far : 1000 Mean Squared Error (MSE)=5.916844901884696e-05 ; PSNR=42.319727362097204 ; SSIM=0.9745640906247052 ; : 100%|██████████| 250/250 [00:13<00:00, 18.86it/s]\n",
      "EPOCH : 11, average loss : 5.872133860571517e-05, lr=2.6835380638931744e-05: 100%|██████████| 2250/2250 [03:06<00:00, 12.05it/s] \n",
      "examples seen so far : 9000 Mean Squared Error (MSE)=5.876560975788199e-05 ; PSNR=42.3433820044336 ; SSIM=0.9744873974293864 ; : 100%|██████████| 2250/2250 [01:50<00:00, 20.42it/s]   \n",
      "examples seen so far : 1000 Mean Squared Error (MSE)=5.9104672264229895e-05 ; PSNR=42.32433841082904 ; SSIM=0.9745265259160413 ; : 100%|██████████| 250/250 [00:13<00:00, 18.30it/s]\n"
     ]
    },
    {
     "name": "stdout",
     "output_type": "stream",
     "text": [
      "Saving metric with val_PSNR=42.32395841598511 (previous : 42.32341393661499)\n"
     ]
    },
    {
     "name": "stderr",
     "output_type": "stream",
     "text": [
      "EPOCH : 12, average loss : 6.209829126277731e-05, lr=3.2161862710939503e-05: 100%|██████████| 2250/2250 [03:09<00:00, 11.86it/s]\n",
      "examples seen so far : 9000 Mean Squared Error (MSE)=5.859755468562233e-05 ; PSNR=42.35565848657324 ; SSIM=0.9745194970640769 ; : 100%|██████████| 2250/2250 [01:50<00:00, 20.28it/s]  \n",
      "examples seen so far : 1000 Mean Squared Error (MSE)=5.892756285225237e-05 ; PSNR=42.33712843779448 ; SSIM=0.9745600279029067 ; : 100%|██████████| 250/250 [00:12<00:00, 19.43it/s] \n"
     ]
    },
    {
     "name": "stdout",
     "output_type": "stream",
     "text": [
      "Saving metric with val_PSNR=42.336737590789795 (previous : 42.32395841598511)\n"
     ]
    },
    {
     "name": "stderr",
     "output_type": "stream",
     "text": [
      "EPOCH : 13, average loss : 5.8667652321875924e-05, lr=4.045805303903233e-05: 100%|██████████| 2250/2250 [03:05<00:00, 12.14it/s]\n",
      "examples seen so far : 9000 Mean Squared Error (MSE)=5.861927583822115e-05 ; PSNR=42.35413876696817 ; SSIM=0.9745113293797933 ; : 100%|██████████| 2250/2250 [01:53<00:00, 19.82it/s]  \n",
      "examples seen so far : 1000 Mean Squared Error (MSE)=5.896364011634789e-05 ; PSNR=42.334586677131234 ; SSIM=0.9745492432210539 ; : 100%|██████████| 250/250 [00:13<00:00, 18.66it/s]\n",
      "EPOCH : 14, average loss : 5.892974814923946e-05, lr=5.091186271093959e-05: 100%|██████████| 2250/2250 [03:01<00:00, 12.39it/s] \n",
      "examples seen so far : 9000 Mean Squared Error (MSE)=5.862338933853581e-05 ; PSNR=42.35400198936357 ; SSIM=0.9745349486492279 ; : 100%|██████████| 2250/2250 [01:52<00:00, 19.97it/s]  \n",
      "examples seen so far : 1000 Mean Squared Error (MSE)=5.896253824576379e-05 ; PSNR=42.33480348100176 ; SSIM=0.974573618060237 ; : 100%|██████████| 250/250 [00:13<00:00, 18.89it/s] \n",
      "EPOCH : 15, average loss : 7.849784264140503e-05, lr=6.250000000000018e-05: 100%|██████████| 2250/2250 [03:00<00:00, 12.46it/s] \n",
      "examples seen so far : 904 Mean Squared Error (MSE)=5.934243081345745e-05 ; PSNR=42.30228115685887 ; SSIM=0.9745851612566317 ; :  17%|█▋        | 389/2250 [00:19<01:32, 20.22it/s]IOPub message rate exceeded.\n",
      "The Jupyter server will temporarily stop sending output\n",
      "to the client in order to avoid crashing it.\n",
      "To change this limit, set the config variable\n",
      "`--ServerApp.iopub_msg_rate_limit`.\n",
      "\n",
      "Current values:\n",
      "ServerApp.iopub_msg_rate_limit=1000.0 (msgs/sec)\n",
      "ServerApp.rate_limit_window=3.0 (secs)\n",
      "\n",
      "EPOCH : 36, average loss : 5.860515732880837e-05, lr=7.408813728906065e-05: 100%|██████████| 2250/2250 [02:57<00:00, 12.68it/s] \n",
      "examples seen so far : 9000 Mean Squared Error (MSE)=5.922000586189442e-05 ; PSNR=42.30962000021419 ; SSIM=0.9738774612382036 ; : 100%|██████████| 2250/2250 [01:55<00:00, 19.45it/s]  \n",
      "examples seen so far : 1000 Mean Squared Error (MSE)=5.9575382450688026e-05 ; PSNR=42.28955987313608 ; SSIM=0.9739129974080755 ; : 100%|██████████| 250/250 [00:14<00:00, 17.80it/s]\n",
      "EPOCH : 37, average loss : 9.723560621366939e-05, lr=8.454194696096791e-05: 100%|██████████| 2250/2250 [02:58<00:00, 12.59it/s] \n",
      "examples seen so far : 9000 Mean Squared Error (MSE)=5.850080704472323e-05 ; PSNR=42.36286645052711 ; SSIM=0.9745531915386381 ; : 100%|██████████| 2250/2250 [01:52<00:00, 19.97it/s]  \n",
      "examples seen so far : 1000 Mean Squared Error (MSE)=5.883526349893176e-05 ; PSNR=42.34398136005268 ; SSIM=0.974592888021135 ; : 100%|██████████| 250/250 [00:13<00:00, 18.77it/s] \n",
      "EPOCH : 38, average loss : 5.852785766506309e-05, lr=9.283813728906072e-05: 100%|██████████| 2250/2250 [02:59<00:00, 12.57it/s] \n",
      "examples seen so far : 9000 Mean Squared Error (MSE)=5.849539464023699e-05 ; PSNR=42.36348475449773 ; SSIM=0.9745613492214755 ; : 100%|██████████| 2250/2250 [01:52<00:00, 19.94it/s] \n",
      "examples seen so far : 1000 Mean Squared Error (MSE)=5.884409146054785e-05 ; PSNR=42.34353093174962 ; SSIM=0.9745986433597179 ; : 100%|██████████| 250/250 [00:13<00:00, 18.85it/s]\n",
      "EPOCH : 39, average loss : 5.87611319579597e-05, lr=9.816461936106847e-05:  46%|████▌     | 1024/2250 [01:21<01:40, 12.18it/s] "
     ]
    }
   ],
   "source": [
    "run_experiment_task2(train_dataloader=train_loader, \n",
    "                     val_dataloader=val_loader, \n",
    "                     Model=RDN, \n",
    "                     run_name=\"RDN\", \n",
    "                     model_parameters={\"scale_factor\":2, \"num_channels\":1, \"num_features\":128, \"growth_rate\":128, \"num_blocks\":9, \"num_layers\":3}, \n",
    "                     epochs=50,\n",
    "                     learning_rate=1e-4, \n",
    "                     optimizer='adam',\n",
    "                     savepath=\"models/RDN.pth\",\n",
    "                     metrics=[MSE_Metric(), PSNR_Metric(), SSIM_Metric()],\n",
    "                     cfg=CONFIG,\n",
    "                     cosine_annealer_epochs=10,\n",
    "                     loss=\"MSE\",\n",
    "                     test_params={\"save_in_total\" : 10},\n",
    "                     min_lr=2.5e-5,\n",
    "                     scheduler_en=True,\n",
    "                     metric_keyword=\"val_PSNR\",\n",
    "                     lr_steps=len(dataset) // 2,\n",
    "                     start_with_test=True,\n",
    "                     WANDB_ON=True)"
   ]
  },
  {
   "cell_type": "markdown",
   "metadata": {},
   "source": [
    "# ESRGAN \n",
    "\n",
    "see prototyping-esrgan / srgan"
   ]
  },
  {
   "cell_type": "markdown",
   "metadata": {},
   "source": [
    "# RCAN\n"
   ]
  },
  {
   "cell_type": "code",
   "execution_count": 14,
   "metadata": {},
   "outputs": [
    {
     "name": "stdout",
     "output_type": "stream",
     "text": [
      "==============================================================================================================\n",
      "Layer (type:depth-idx)                                       Output Shape              Param #\n",
      "==============================================================================================================\n",
      "RCAN                                                         [4, 1, 150, 150]          --\n",
      "├─Sequential: 1-1                                            [4, 64, 75, 75]           --\n",
      "│    └─Conv2d: 2-1                                           [4, 64, 75, 75]           640\n",
      "├─Sequential: 1-2                                            [4, 64, 75, 75]           --\n",
      "│    └─ResidualGroup: 2-2                                    [4, 64, 75, 75]           --\n",
      "│    │    └─Sequential: 3-1                                  [4, 64, 75, 75]           505,216\n",
      "│    └─ResidualGroup: 2-3                                    [4, 64, 75, 75]           --\n",
      "│    │    └─Sequential: 3-2                                  [4, 64, 75, 75]           505,216\n",
      "│    └─ResidualGroup: 2-4                                    [4, 64, 75, 75]           --\n",
      "│    │    └─Sequential: 3-3                                  [4, 64, 75, 75]           505,216\n",
      "│    └─Conv2d: 2-5                                           [4, 64, 75, 75]           36,928\n",
      "├─Sequential: 1-3                                            [4, 1, 150, 150]          --\n",
      "│    └─Upsampler: 2-6                                        [4, 64, 150, 150]         --\n",
      "│    │    └─Conv2d: 3-4                                      [4, 256, 75, 75]          147,712\n",
      "│    │    └─PixelShuffle: 3-5                                [4, 64, 150, 150]         --\n",
      "│    └─Conv2d: 2-7                                           [4, 1, 150, 150]          577\n",
      "==============================================================================================================\n",
      "Total params: 1,701,505\n",
      "Trainable params: 1,701,505\n",
      "Non-trainable params: 0\n",
      "Total mult-adds (Units.GIGABYTES): 36.63\n",
      "==============================================================================================================\n",
      "Input size (MB): 0.09\n",
      "Forward/backward pass size (MB): 519.18\n",
      "Params size (MB): 6.81\n",
      "Estimated Total Size (MB): 526.07\n",
      "==============================================================================================================\n"
     ]
    }
   ],
   "source": [
    "import math\n",
    "\n",
    "import torch\n",
    "import torch.nn as nn\n",
    "import torch.nn.functional as F\n",
    "\n",
    "from torch.autograd import Variable\n",
    "\n",
    "def default_conv(in_channels, out_channels, kernel_size, bias=True):\n",
    "    return nn.Conv2d(\n",
    "        in_channels, out_channels, kernel_size,\n",
    "        padding=(kernel_size//2), bias=bias)\n",
    "\n",
    "class BasicBlock(nn.Sequential):\n",
    "    def __init__(\n",
    "        self, in_channels, out_channels, kernel_size, stride=1, bias=False,\n",
    "        bn=True, act=nn.ReLU(True)):\n",
    "\n",
    "        m = [nn.Conv2d(\n",
    "            in_channels, out_channels, kernel_size,\n",
    "            padding=(kernel_size//2), stride=stride, bias=bias)\n",
    "        ]\n",
    "        if bn: m.append(nn.BatchNorm2d(out_channels))\n",
    "        if act is not None: m.append(act)\n",
    "        super(BasicBlock, self).__init__(*m)\n",
    "\n",
    "class ResBlock(nn.Module):\n",
    "    def __init__(\n",
    "        self, conv, n_feat, kernel_size,\n",
    "        bias=True, bn=False, act=nn.ReLU(True), res_scale=1):\n",
    "\n",
    "        super(ResBlock, self).__init__()\n",
    "        m = []\n",
    "        for i in range(2):\n",
    "            m.append(conv(n_feat, n_feat, kernel_size, bias=bias))\n",
    "            if bn: m.append(nn.BatchNorm2d(n_feat))\n",
    "            if i == 0: m.append(act)\n",
    "\n",
    "        self.body = nn.Sequential(*m)\n",
    "        self.res_scale = res_scale\n",
    "\n",
    "    def forward(self, x):\n",
    "        res = self.body(x).mul(self.res_scale)\n",
    "        res += x\n",
    "\n",
    "        return res\n",
    "\n",
    "class Upsampler(nn.Sequential):\n",
    "    def __init__(self, conv, scale, n_feat, bn=False, act=False, bias=True):\n",
    "\n",
    "        m = []\n",
    "        if (scale & (scale - 1)) == 0:    # Is scale = 2^n?\n",
    "            for _ in range(int(math.log(scale, 2))):\n",
    "                m.append(conv(n_feat, 4 * n_feat, 3, bias))\n",
    "                m.append(nn.PixelShuffle(2))\n",
    "                if bn: m.append(nn.BatchNorm2d(n_feat))\n",
    "                if act: m.append(act())\n",
    "        elif scale == 3:\n",
    "            m.append(conv(n_feat, 9 * n_feat, 3, bias))\n",
    "            m.append(nn.PixelShuffle(3))\n",
    "            if bn: m.append(nn.BatchNorm2d(n_feat))\n",
    "            if act: m.append(act())\n",
    "        else:\n",
    "            raise NotImplementedError\n",
    "\n",
    "        super(Upsampler, self).__init__(*m)\n",
    "\n",
    "## Channel Attention (CA) Layer\n",
    "class CALayer(nn.Module):\n",
    "    def __init__(self, channel, reduction=16):\n",
    "        super(CALayer, self).__init__()\n",
    "        # global average pooling: feature --> point\n",
    "        self.avg_pool = nn.AdaptiveAvgPool2d(1)\n",
    "        # feature channel downscale and upscale --> channel weight\n",
    "        self.conv_du = nn.Sequential(\n",
    "                nn.Conv2d(channel, channel // reduction, 1, padding=0, bias=True),\n",
    "                nn.ReLU(inplace=True),\n",
    "                nn.Conv2d(channel // reduction, channel, 1, padding=0, bias=True),\n",
    "                nn.Sigmoid()\n",
    "        )\n",
    "\n",
    "    def forward(self, x):\n",
    "        y = self.avg_pool(x)\n",
    "        y = self.conv_du(y)\n",
    "        return x * y\n",
    "\n",
    "## Residual Channel Attention Block (RCAB)\n",
    "class RCAB(nn.Module):\n",
    "    def __init__(\n",
    "        self, conv, n_feat, kernel_size, reduction,\n",
    "        bias=True, bn=False, act=nn.ReLU(True), res_scale=1):\n",
    "\n",
    "        super(RCAB, self).__init__()\n",
    "        modules_body = []\n",
    "        for i in range(2):\n",
    "            modules_body.append(conv(n_feat, n_feat, kernel_size, bias=bias))\n",
    "            if bn: modules_body.append(nn.BatchNorm2d(n_feat))\n",
    "            if i == 0: modules_body.append(act)\n",
    "        modules_body.append(CALayer(n_feat, reduction))\n",
    "        self.body = nn.Sequential(*modules_body)\n",
    "        self.res_scale = res_scale\n",
    "\n",
    "    def forward(self, x):\n",
    "        res = self.body(x)\n",
    "        #res = self.body(x).mul(self.res_scale)\n",
    "        res += x\n",
    "        return res\n",
    "\n",
    "## Residual Group (RG)\n",
    "class ResidualGroup(nn.Module):\n",
    "    def __init__(self, conv, n_feat, kernel_size, reduction, act, res_scale, n_resblocks):\n",
    "        super(ResidualGroup, self).__init__()\n",
    "        modules_body = []\n",
    "        modules_body = [\n",
    "            RCAB(\n",
    "                conv, n_feat, kernel_size, reduction, bias=True, bn=False, act=nn.ReLU(True), res_scale=1) \\\n",
    "            for _ in range(n_resblocks)]\n",
    "        modules_body.append(conv(n_feat, n_feat, kernel_size))\n",
    "        self.body = nn.Sequential(*modules_body)\n",
    "\n",
    "    def forward(self, x):\n",
    "        res = self.body(x)\n",
    "        res += x\n",
    "        return res\n",
    "\n",
    "## Residual Channel Attention Network (RCAN)\n",
    "class RCAN(nn.Module):\n",
    "    def __init__(self, n_resgroups, n_resblocks, n_feats, reduction, scale, res_scale,  conv=default_conv):\n",
    "        super(RCAN, self).__init__()\n",
    "        \n",
    "        kernel_size = 3\n",
    "        scale = scale[0]\n",
    "        act = nn.ReLU(True)\n",
    "\n",
    "        \n",
    "        # define head module\n",
    "        modules_head = [conv(1, n_feats, kernel_size)]\n",
    "\n",
    "        # define body module\n",
    "        modules_body = [\n",
    "            ResidualGroup(\n",
    "                conv, n_feats, kernel_size, reduction, act=act, res_scale=res_scale, n_resblocks=n_resblocks) \\\n",
    "            for _ in range(n_resgroups)]\n",
    "\n",
    "        modules_body.append(conv(n_feats, n_feats, kernel_size))\n",
    "\n",
    "        # define tail module\n",
    "        modules_tail = [\n",
    "            Upsampler(conv, scale, n_feats, act=False),\n",
    "            conv(n_feats, 1, kernel_size)]\n",
    "\n",
    "        self.head = nn.Sequential(*modules_head)\n",
    "        self.body = nn.Sequential(*modules_body)\n",
    "        self.tail = nn.Sequential(*modules_tail)\n",
    "\n",
    "    def forward(self, x):\n",
    "        x = self.head(x)\n",
    "\n",
    "        res = self.body(x)\n",
    "        res += x\n",
    "\n",
    "        x = self.tail(res)\n",
    "        return x \n",
    "\n",
    "    def load_state_dict(self, state_dict, strict=False):\n",
    "        own_state = self.state_dict()\n",
    "        for name, param in state_dict.items():\n",
    "            if name in own_state:\n",
    "                if isinstance(param, nn.Parameter):\n",
    "                    param = param.data\n",
    "                try:\n",
    "                    own_state[name].copy_(param)\n",
    "                except Exception:\n",
    "                    if name.find('tail') >= 0:\n",
    "                        print('Replace pre-trained upsampler to new one...')\n",
    "                    else:\n",
    "                        raise RuntimeError('While copying the parameter named {}, '\n",
    "                                           'whose dimensions in the model are {} and '\n",
    "                                           'whose dimensions in the checkpoint are {}.'\n",
    "                                           .format(name, own_state[name].size(), param.size()))\n",
    "            elif strict:\n",
    "                if name.find('tail') == -1:\n",
    "                    raise KeyError('unexpected key \"{}\" in state_dict'\n",
    "                                   .format(name))\n",
    "\n",
    "        if strict:\n",
    "            missing = set(own_state.keys()) - set(state_dict.keys())\n",
    "            if len(missing) > 0:\n",
    "                raise KeyError('missing keys in state_dict: \"{}\"'.format(missing))\n",
    "            \n",
    "        \n",
    "model = RCAN(n_resgroups=3, n_resblocks=6, n_feats=64, reduction=2, scale=(2,2), res_scale=2)\n",
    "model(x).shape\n",
    "print(summary(model, input_size=(4, 1, 75, 75)))"
   ]
  },
  {
   "cell_type": "code",
   "execution_count": 21,
   "metadata": {},
   "outputs": [
    {
     "name": "stderr",
     "output_type": "stream",
     "text": [
      "examples seen so far : 180 Mean Squared Error (MSE)=0.04615158827028461 ; PSNR=13.383776686045044 ; SSIM=-0.05693516455715595 ; : 100%|██████████| 45/45 [00:01<00:00, 36.57it/s] \n",
      "examples seen so far : 20 Mean Squared Error (MSE)=0.048865496720138346 ; PSNR=13.135079735203794 ; SSIM=-0.05806643182509824 ; : 100%|██████████| 5/5 [00:00<00:00, 17.51it/s]\n",
      "EPOCH : 0, average loss : 0.003029062218653659, lr=0.0001: 100%|██████████| 45/45 [00:02<00:00, 16.74it/s]\n",
      "examples seen so far : 180 Mean Squared Error (MSE)=0.0002643169839924992 ; PSNR=35.89122299109091 ; SSIM=0.912597660578829 ; : 100%|██████████| 45/45 [00:01<00:00, 43.78it/s]   \n",
      "examples seen so far : 20 Mean Squared Error (MSE)=0.00029231987795547436 ; PSNR=35.44108822471217 ; SSIM=0.9132339264217176 ; : 100%|██████████| 5/5 [00:00<00:00, 43.22it/s]\n"
     ]
    },
    {
     "name": "stdout",
     "output_type": "stream",
     "text": [
      "Saving metric with val_PSNR=35.403696060180664 (previous : 0)\n"
     ]
    },
    {
     "name": "stderr",
     "output_type": "stream",
     "text": [
      "EPOCH : 1, average loss : 0.00017329463686716434, lr=9.816461936106827e-05: 100%|██████████| 45/45 [00:01<00:00, 26.23it/s]\n",
      "examples seen so far : 180 Mean Squared Error (MSE)=0.00012345171032581405 ; PSNR=39.17391138769395 ; SSIM=0.9637582318742848 ; : 100%|██████████| 45/45 [00:00<00:00, 45.88it/s]\n",
      "examples seen so far : 20 Mean Squared Error (MSE)=0.00013465094219243743 ; PSNR=38.77365072149979 ; SSIM=0.9636131681894001 ; : 100%|██████████| 5/5 [00:00<00:00, 41.97it/s]\n"
     ]
    },
    {
     "name": "stdout",
     "output_type": "stream",
     "text": [
      "Saving metric with val_PSNR=38.74590854644775 (previous : 35.403696060180664)\n"
     ]
    },
    {
     "name": "stderr",
     "output_type": "stream",
     "text": [
      "EPOCH : 2, average loss : 0.00010366061275514463, lr=9.283813728906054e-05: 100%|██████████| 45/45 [00:01<00:00, 27.06it/s]\n",
      "examples seen so far : 180 Mean Squared Error (MSE)=8.990423693780153e-05 ; PSNR=40.523743741339146 ; SSIM=0.9670715734945329 ; : 100%|██████████| 45/45 [00:01<00:00, 44.16it/s]\n",
      "examples seen so far : 20 Mean Squared Error (MSE)=9.647215253943087e-05 ; PSNR=40.19401791221217 ; SSIM=0.9671165409841036 ; : 100%|██████████| 5/5 [00:00<00:00, 28.26it/s]\n"
     ]
    },
    {
     "name": "stdout",
     "output_type": "stream",
     "text": [
      "Saving metric with val_PSNR=40.180388832092284 (previous : 38.74590854644775)\n"
     ]
    },
    {
     "name": "stderr",
     "output_type": "stream",
     "text": [
      "EPOCH : 3, average loss : 8.420603796063611e-05, lr=8.454194696096776e-05: 100%|██████████| 45/45 [00:01<00:00, 25.51it/s]\n",
      "examples seen so far : 180 Mean Squared Error (MSE)=7.985655814503559e-05 ; PSNR=41.027450668079226 ; SSIM=0.968555776100585 ; : 100%|██████████| 45/45 [00:01<00:00, 41.28it/s]\n",
      "examples seen so far : 20 Mean Squared Error (MSE)=8.514068911991719e-05 ; PSNR=40.726112164949114 ; SSIM=0.9686531675489325 ; : 100%|██████████| 5/5 [00:00<00:00, 36.60it/s]\n"
     ]
    },
    {
     "name": "stdout",
     "output_type": "stream",
     "text": [
      "Saving metric with val_PSNR=40.72031097412109 (previous : 40.180388832092284)\n"
     ]
    },
    {
     "name": "stderr",
     "output_type": "stream",
     "text": [
      "EPOCH : 4, average loss : 7.765582106205531e-05, lr=7.408813728906054e-05: 100%|██████████| 45/45 [00:03<00:00, 13.58it/s]\n",
      "examples seen so far : 180 Mean Squared Error (MSE)=7.563548421668663e-05 ; PSNR=41.25865058259591 ; SSIM=0.9691986105295533 ; : 100%|██████████| 45/45 [00:03<00:00, 13.74it/s] \n",
      "examples seen so far : 20 Mean Squared Error (MSE)=8.047364635307244e-05 ; PSNR=40.967232955129525 ; SSIM=0.9693958853420458 ; : 100%|██████████| 5/5 [00:00<00:00, 12.92it/s]\n"
     ]
    },
    {
     "name": "stdout",
     "output_type": "stream",
     "text": [
      "Saving metric with val_PSNR=40.964552307128905 (previous : 40.72031097412109)\n"
     ]
    },
    {
     "name": "stderr",
     "output_type": "stream",
     "text": [
      "EPOCH : 5, average loss : 7.45455687542239e-05, lr=6.250000000000001e-05: 100%|██████████| 45/45 [00:04<00:00, 10.85it/s] \n",
      "examples seen so far : 180 Mean Squared Error (MSE)=7.350476077880044e-05 ; PSNR=41.381591391963 ; SSIM=0.9696249971842633 ; : 100%|██████████| 45/45 [00:03<00:00, 13.59it/s]   \n",
      "examples seen so far : 20 Mean Squared Error (MSE)=7.803753703085117e-05 ; PSNR=41.0996910898309 ; SSIM=0.9698138456595572 ; : 100%|██████████| 5/5 [00:00<00:00, 12.87it/s]  \n"
     ]
    },
    {
     "name": "stdout",
     "output_type": "stream",
     "text": [
      "Saving metric with val_PSNR=41.100250816345216 (previous : 40.964552307128905)\n"
     ]
    },
    {
     "name": "stderr",
     "output_type": "stream",
     "text": [
      "EPOCH : 6, average loss : 7.279603661219072e-05, lr=5.0911862710939485e-05: 100%|██████████| 45/45 [00:04<00:00, 10.56it/s]\n",
      "examples seen so far : 180 Mean Squared Error (MSE)=7.216619202387831e-05 ; PSNR=41.46032655172508 ; SSIM=0.9699263233046292 ; : 100%|██████████| 45/45 [00:03<00:00, 13.84it/s]\n",
      "examples seen so far : 20 Mean Squared Error (MSE)=7.648819921182861e-05 ; PSNR=41.18615903352436 ; SSIM=0.9701313501910159 ; : 100%|██████████| 5/5 [00:00<00:00, 14.53it/s]\n"
     ]
    },
    {
     "name": "stdout",
     "output_type": "stream",
     "text": [
      "Saving metric with val_PSNR=41.187095642089844 (previous : 41.100250816345216)\n"
     ]
    },
    {
     "name": "stderr",
     "output_type": "stream",
     "text": [
      "EPOCH : 7, average loss : 7.16712941842464e-05, lr=4.045805303903227e-05: 100%|██████████| 45/45 [00:04<00:00, 10.91it/s] \n",
      "examples seen so far : 180 Mean Squared Error (MSE)=7.127081898028712e-05 ; PSNR=41.51417993300454 ; SSIM=0.9701387146331745 ; : 100%|██████████| 45/45 [00:03<00:00, 14.23it/s] \n",
      "examples seen so far : 20 Mean Squared Error (MSE)=7.55342166245866e-05 ; PSNR=41.240588539525085 ; SSIM=0.9703287356778195 ; : 100%|██████████| 5/5 [00:00<00:00, 14.65it/s]\n"
     ]
    },
    {
     "name": "stdout",
     "output_type": "stream",
     "text": [
      "Saving metric with val_PSNR=41.2423017501831 (previous : 41.187095642089844)\n"
     ]
    },
    {
     "name": "stderr",
     "output_type": "stream",
     "text": [
      "EPOCH : 8, average loss : 7.090493422260302e-05, lr=3.2161862710939476e-05: 100%|██████████| 45/45 [00:04<00:00, 10.89it/s]\n",
      "examples seen so far : 180 Mean Squared Error (MSE)=7.058846532655281e-05 ; PSNR=41.555930984752806 ; SSIM=0.970324659147742 ; : 100%|██████████| 45/45 [00:03<00:00, 14.49it/s] \n",
      "examples seen so far : 20 Mean Squared Error (MSE)=7.482731368662299e-05 ; PSNR=41.28148550736277 ; SSIM=0.9705211081002888 ; : 100%|██████████| 5/5 [00:00<00:00, 15.44it/s]\n"
     ]
    },
    {
     "name": "stdout",
     "output_type": "stream",
     "text": [
      "Saving metric with val_PSNR=41.2837007522583 (previous : 41.2423017501831)\n"
     ]
    },
    {
     "name": "stderr",
     "output_type": "stream",
     "text": [
      "EPOCH : 9, average loss : 7.032194585513531e-05, lr=2.6835380638931744e-05: 100%|██████████| 45/45 [00:04<00:00, 11.20it/s]\n",
      "examples seen so far : 180 Mean Squared Error (MSE)=7.005884493707663e-05 ; PSNR=41.588493922569235 ; SSIM=0.9705142378807068 ; : 100%|██████████| 45/45 [00:03<00:00, 13.74it/s]\n",
      "examples seen so far : 20 Mean Squared Error (MSE)=7.423704051976337e-05 ; PSNR=41.315736871016654 ; SSIM=0.9706723690032959 ; : 100%|██████████| 5/5 [00:00<00:00, 15.68it/s]\n"
     ]
    },
    {
     "name": "stdout",
     "output_type": "stream",
     "text": [
      "Saving metric with val_PSNR=41.31832637786865 (previous : 41.2837007522583)\n"
     ]
    },
    {
     "name": "stderr",
     "output_type": "stream",
     "text": [
      "EPOCH : 10, average loss : 6.985138186589918e-05, lr=2.5e-05: 100%|██████████| 45/45 [00:03<00:00, 12.18it/s]\n",
      "examples seen so far : 180 Mean Squared Error (MSE)=6.959340095294993e-05 ; PSNR=41.61725656946278 ; SSIM=0.9705944061279297 ; : 100%|██████████| 45/45 [00:03<00:00, 14.90it/s] \n",
      "examples seen so far : 20 Mean Squared Error (MSE)=7.378511241097983e-05 ; PSNR=41.342384940699525 ; SSIM=0.9707776998218737 ; : 100%|██████████| 5/5 [00:00<00:00, 15.69it/s]\n"
     ]
    },
    {
     "name": "stdout",
     "output_type": "stream",
     "text": [
      "Saving metric with val_PSNR=41.345391273498535 (previous : 41.31832637786865)\n"
     ]
    },
    {
     "name": "stderr",
     "output_type": "stream",
     "text": [
      "EPOCH : 11, average loss : 6.939558079466224e-05, lr=2.6835380638931744e-05: 100%|██████████| 45/45 [00:03<00:00, 11.60it/s]\n",
      "examples seen so far : 180 Mean Squared Error (MSE)=6.908255802157242e-05 ; PSNR=41.649002032572994 ; SSIM=0.9707388348419573 ; : 100%|██████████| 45/45 [00:03<00:00, 14.96it/s]\n",
      "examples seen so far : 20 Mean Squared Error (MSE)=7.328758510993794e-05 ; PSNR=41.37174004002621 ; SSIM=0.9709406526465165 ; : 100%|██████████| 5/5 [00:00<00:00, 13.58it/s]\n"
     ]
    },
    {
     "name": "stdout",
     "output_type": "stream",
     "text": [
      "Saving metric with val_PSNR=41.37464008331299 (previous : 41.345391273498535)\n"
     ]
    },
    {
     "name": "stderr",
     "output_type": "stream",
     "text": [
      "EPOCH : 12, average loss : 6.891334018695892e-05, lr=3.2161862710939503e-05: 100%|██████████| 45/45 [00:03<00:00, 11.36it/s]\n",
      "examples seen so far : 180 Mean Squared Error (MSE)=6.867271056447527e-05 ; PSNR=41.67495258693589 ; SSIM=0.9709006105055357 ; : 100%|██████████| 45/45 [00:02<00:00, 16.10it/s]\n",
      "examples seen so far : 20 Mean Squared Error (MSE)=7.27153452125525e-05 ; PSNR=41.40595646908409 ; SSIM=0.971116630654586 ; : 100%|██████████| 5/5 [00:00<00:00, 11.77it/s]  \n"
     ]
    },
    {
     "name": "stdout",
     "output_type": "stream",
     "text": [
      "Saving metric with val_PSNR=41.40949020385742 (previous : 41.37464008331299)\n"
     ]
    },
    {
     "name": "stderr",
     "output_type": "stream",
     "text": [
      "EPOCH : 13, average loss : 6.835634380372034e-05, lr=4.0458053039032325e-05: 100%|██████████| 45/45 [00:03<00:00, 12.16it/s]\n",
      "examples seen so far : 180 Mean Squared Error (MSE)=6.808438392807391e-05 ; PSNR=41.71242333524054 ; SSIM=0.9710757858926358 ; : 100%|██████████| 45/45 [00:02<00:00, 15.65it/s] \n",
      "examples seen so far : 20 Mean Squared Error (MSE)=7.218589158391726e-05 ; PSNR=41.437782889918275 ; SSIM=0.9712671104230379 ; : 100%|██████████| 5/5 [00:00<00:00, 13.25it/s]\n"
     ]
    },
    {
     "name": "stdout",
     "output_type": "stream",
     "text": [
      "Saving metric with val_PSNR=41.44115314483643 (previous : 41.40949020385742)\n"
     ]
    },
    {
     "name": "stderr",
     "output_type": "stream",
     "text": [
      "EPOCH : 14, average loss : 6.773209800788511e-05, lr=5.0911862710939587e-05: 100%|██████████| 45/45 [00:04<00:00, 11.18it/s]\n",
      "examples seen so far : 180 Mean Squared Error (MSE)=6.731537638320561e-05 ; PSNR=41.76146141776825 ; SSIM=0.9712945069680666 ; : 100%|██████████| 45/45 [00:02<00:00, 16.48it/s]\n",
      "examples seen so far : 20 Mean Squared Error (MSE)=7.140843732294773e-05 ; PSNR=41.484881953189245 ; SSIM=0.9714909227270829 ; : 100%|██████████| 5/5 [00:00<00:00, 16.96it/s]\n"
     ]
    },
    {
     "name": "stdout",
     "output_type": "stream",
     "text": [
      "Saving metric with val_PSNR=41.4887300491333 (previous : 41.44115314483643)\n"
     ]
    },
    {
     "name": "stderr",
     "output_type": "stream",
     "text": [
      "EPOCH : 15, average loss : 6.699890493311816e-05, lr=6.250000000000016e-05: 100%|██████████| 45/45 [00:03<00:00, 13.18it/s]\n",
      "examples seen so far : 180 Mean Squared Error (MSE)=6.651082590733545e-05 ; PSNR=41.81389666935585 ; SSIM=0.9717079407675973 ; : 100%|██████████| 45/45 [00:02<00:00, 18.27it/s]\n",
      "examples seen so far : 20 Mean Squared Error (MSE)=7.05241007764064e-05 ; PSNR=41.53946304321289 ; SSIM=0.9718607256287023 ; : 100%|██████████| 5/5 [00:00<00:00, 16.16it/s] \n"
     ]
    },
    {
     "name": "stdout",
     "output_type": "stream",
     "text": [
      "Saving metric with val_PSNR=41.54400825500488 (previous : 41.4887300491333)\n"
     ]
    },
    {
     "name": "stderr",
     "output_type": "stream",
     "text": [
      "EPOCH : 16, average loss : 6.624096479046986e-05, lr=7.408813728906075e-05: 100%|██████████| 45/45 [00:03<00:00, 12.37it/s]\n",
      "examples seen so far : 180 Mean Squared Error (MSE)=6.573478602748963e-05 ; PSNR=41.864909997865475 ; SSIM=0.9719207306813927 ; : 100%|██████████| 45/45 [00:02<00:00, 18.48it/s]\n",
      "examples seen so far : 20 Mean Squared Error (MSE)=6.970875983824953e-05 ; PSNR=41.59020594546669 ; SSIM=0.9720986485481262 ; : 100%|██████████| 5/5 [00:00<00:00, 16.16it/s]\n"
     ]
    },
    {
     "name": "stdout",
     "output_type": "stream",
     "text": [
      "Saving metric with val_PSNR=41.59487819671631 (previous : 41.54400825500488)\n"
     ]
    },
    {
     "name": "stderr",
     "output_type": "stream",
     "text": [
      "EPOCH : 17, average loss : 6.538007485990723e-05, lr=8.454194696096802e-05: 100%|██████████| 45/45 [00:03<00:00, 12.41it/s]\n",
      "examples seen so far : 180 Mean Squared Error (MSE)=6.49764109939446e-05 ; PSNR=41.91539905057939 ; SSIM=0.9722553708033854 ; : 100%|██████████| 45/45 [00:02<00:00, 15.69it/s]  \n",
      "examples seen so far : 20 Mean Squared Error (MSE)=6.884095733096871e-05 ; PSNR=41.644749089291224 ; SSIM=0.9724368892217937 ; : 100%|██████████| 5/5 [00:00<00:00, 15.45it/s]\n"
     ]
    },
    {
     "name": "stdout",
     "output_type": "stream",
     "text": [
      "Saving metric with val_PSNR=41.64927711486816 (previous : 41.59487819671631)\n"
     ]
    },
    {
     "name": "stderr",
     "output_type": "stream",
     "text": [
      "EPOCH : 18, average loss : 6.46165045004131e-05, lr=9.283813728906085e-05: 100%|██████████| 45/45 [00:03<00:00, 12.07it/s] \n",
      "examples seen so far : 180 Mean Squared Error (MSE)=6.40731860539491e-05 ; PSNR=41.975831740395314 ; SSIM=0.9725712787505635 ; : 100%|██████████| 45/45 [00:02<00:00, 15.90it/s] \n",
      "examples seen so far : 20 Mean Squared Error (MSE)=6.798159244537696e-05 ; PSNR=41.699540991532174 ; SSIM=0.9727417356089542 ; : 100%|██████████| 5/5 [00:00<00:00, 15.59it/s]\n"
     ]
    },
    {
     "name": "stdout",
     "output_type": "stream",
     "text": [
      "Saving metric with val_PSNR=41.7045337677002 (previous : 41.64927711486816)\n"
     ]
    },
    {
     "name": "stderr",
     "output_type": "stream",
     "text": [
      "EPOCH : 19, average loss : 6.384224624424758e-05, lr=9.816461936106861e-05: 100%|██████████| 45/45 [00:03<00:00, 13.28it/s]\n",
      "examples seen so far : 180 Mean Squared Error (MSE)=6.396304490418673e-05 ; PSNR=41.982697470894074 ; SSIM=0.972290552195224 ; : 100%|██████████| 45/45 [00:03<00:00, 14.43it/s] \n",
      "examples seen so far : 20 Mean Squared Error (MSE)=6.77230759480919e-05 ; PSNR=41.715648450349505 ; SSIM=0.9724982537721333 ; : 100%|██████████| 5/5 [00:00<00:00, 16.38it/s]\n"
     ]
    },
    {
     "name": "stdout",
     "output_type": "stream",
     "text": [
      "Saving metric with val_PSNR=41.720469284057614 (previous : 41.7045337677002)\n"
     ]
    },
    {
     "name": "stderr",
     "output_type": "stream",
     "text": [
      "EPOCH : 20, average loss : 6.328318308482672e-05, lr=0.00010000000000000036: 100%|██████████| 45/45 [00:04<00:00, 10.82it/s]\n",
      "examples seen so far : 180 Mean Squared Error (MSE)=6.272103241547244e-05 ; PSNR=42.068922394480786 ; SSIM=0.9732478121139484 ; : 100%|██████████| 45/45 [00:03<00:00, 12.49it/s]\n",
      "examples seen so far : 20 Mean Squared Error (MSE)=6.648398745088151e-05 ; PSNR=41.79673385620117 ; SSIM=0.973376707026833 ; : 100%|██████████| 5/5 [00:00<00:00, 11.04it/s] \n"
     ]
    },
    {
     "name": "stdout",
     "output_type": "stream",
     "text": [
      "Saving metric with val_PSNR=41.80136280059814 (previous : 41.720469284057614)\n"
     ]
    },
    {
     "name": "stderr",
     "output_type": "stream",
     "text": [
      "EPOCH : 21, average loss : 6.24962897240443e-05, lr=9.816461936106861e-05: 100%|██████████| 45/45 [00:04<00:00, 10.14it/s] \n",
      "examples seen so far : 180 Mean Squared Error (MSE)=6.225845881694845e-05 ; PSNR=42.101150384828365 ; SSIM=0.9733325809073847 ; : 100%|██████████| 45/45 [00:03<00:00, 14.67it/s]\n",
      "examples seen so far : 20 Mean Squared Error (MSE)=6.603083027967889e-05 ; PSNR=41.82630619249846 ; SSIM=0.9735020116755837 ; : 100%|██████████| 5/5 [00:00<00:00, 16.42it/s] \n"
     ]
    },
    {
     "name": "stdout",
     "output_type": "stream",
     "text": [
      "Saving metric with val_PSNR=41.83159618377685 (previous : 41.80136280059814)\n"
     ]
    },
    {
     "name": "stderr",
     "output_type": "stream",
     "text": [
      "EPOCH : 22, average loss : 6.212833007642378e-05, lr=9.283813728906088e-05: 100%|██████████| 45/45 [00:04<00:00, 10.21it/s]\n",
      "examples seen so far : 180 Mean Squared Error (MSE)=6.165070153249938e-05 ; PSNR=42.14297822067857 ; SSIM=0.973560481431098 ; : 100%|██████████| 45/45 [00:02<00:00, 15.88it/s]  \n",
      "examples seen so far : 20 Mean Squared Error (MSE)=6.550093147732121e-05 ; PSNR=41.86153612638775 ; SSIM=0.9737424003450494 ; : 100%|██████████| 5/5 [00:00<00:00, 12.14it/s]\n"
     ]
    },
    {
     "name": "stdout",
     "output_type": "stream",
     "text": [
      "Saving metric with val_PSNR=41.86685276031494 (previous : 41.83159618377685)\n"
     ]
    },
    {
     "name": "stderr",
     "output_type": "stream",
     "text": [
      "EPOCH : 23, average loss : 6.165824007540424e-05, lr=8.454194696096804e-05: 100%|██████████| 45/45 [00:04<00:00, 11.19it/s]\n",
      "examples seen so far : 180 Mean Squared Error (MSE)=6.133692090135516e-05 ; PSNR=42.16598540577809 ; SSIM=0.9737821274629518 ; : 100%|██████████| 45/45 [00:03<00:00, 12.63it/s] \n",
      "examples seen so far : 20 Mean Squared Error (MSE)=6.507178113679402e-05 ; PSNR=41.89011262592516 ; SSIM=0.9739532596186588 ; : 100%|██████████| 5/5 [00:00<00:00, 12.73it/s]\n"
     ]
    },
    {
     "name": "stdout",
     "output_type": "stream",
     "text": [
      "Saving metric with val_PSNR=41.89551620483398 (previous : 41.86685276031494)\n"
     ]
    },
    {
     "name": "stderr",
     "output_type": "stream",
     "text": [
      "EPOCH : 24, average loss : 6.131911108645404e-05, lr=7.408813728906078e-05: 100%|██████████| 45/45 [00:04<00:00, 10.58it/s]\n",
      "examples seen so far : 180 Mean Squared Error (MSE)=6.114982576880152e-05 ; PSNR=42.1790667699036 ; SSIM=0.9737565690578696 ; : 100%|██████████| 45/45 [00:03<00:00, 12.73it/s]  \n",
      "examples seen so far : 20 Mean Squared Error (MSE)=6.489581191042242e-05 ; PSNR=41.902057446931536 ; SSIM=0.9739388384317097 ; : 100%|██████████| 5/5 [00:00<00:00, 11.68it/s]\n"
     ]
    },
    {
     "name": "stdout",
     "output_type": "stream",
     "text": [
      "Saving metric with val_PSNR=41.90761528015137 (previous : 41.89551620483398)\n"
     ]
    },
    {
     "name": "stderr",
     "output_type": "stream",
     "text": [
      "EPOCH : 25, average loss : 6.1000885842885406e-05, lr=6.250000000000019e-05: 100%|██████████| 45/45 [00:04<00:00,  9.66it/s]\n",
      "examples seen so far : 180 Mean Squared Error (MSE)=6.082587651944168e-05 ; PSNR=42.20250160600886 ; SSIM=0.9740149491992076 ; : 100%|██████████| 45/45 [00:03<00:00, 13.70it/s]  \n",
      "examples seen so far : 20 Mean Squared Error (MSE)=6.459723896880045e-05 ; PSNR=41.92224683259663 ; SSIM=0.9741862353525663 ; : 100%|██████████| 5/5 [00:00<00:00, 13.44it/s] \n"
     ]
    },
    {
     "name": "stdout",
     "output_type": "stream",
     "text": [
      "Saving metric with val_PSNR=41.92773780822754 (previous : 41.90761528015137)\n"
     ]
    },
    {
     "name": "stderr",
     "output_type": "stream",
     "text": [
      "EPOCH : 26, average loss : 6.0814909940947675e-05, lr=5.0911862710939614e-05: 100%|██████████| 45/45 [00:03<00:00, 11.73it/s]\n",
      "examples seen so far : 180 Mean Squared Error (MSE)=6.0630860206295145e-05 ; PSNR=42.21589500810847 ; SSIM=0.9741422367495531 ; : 100%|██████████| 45/45 [00:02<00:00, 15.72it/s]\n",
      "examples seen so far : 20 Mean Squared Error (MSE)=6.445806272830324e-05 ; PSNR=41.93168138202868 ; SSIM=0.9742466399544164 ; : 100%|██████████| 5/5 [00:00<00:00, 15.44it/s]\n"
     ]
    },
    {
     "name": "stdout",
     "output_type": "stream",
     "text": [
      "Saving metric with val_PSNR=41.9373384475708 (previous : 41.92773780822754)\n"
     ]
    },
    {
     "name": "stderr",
     "output_type": "stream",
     "text": [
      "EPOCH : 27, average loss : 6.0708734882710914e-05, lr=4.0458053039032345e-05: 100%|██████████| 45/45 [00:04<00:00,  9.98it/s]\n",
      "examples seen so far : 180 Mean Squared Error (MSE)=6.053476387003369e-05 ; PSNR=42.222706736133084 ; SSIM=0.9740923716369287 ; : 100%|██████████| 45/45 [00:02<00:00, 17.92it/s]\n",
      "examples seen so far : 20 Mean Squared Error (MSE)=6.438240368305215e-05 ; PSNR=41.93666879754318 ; SSIM=0.9742697602824161 ; : 100%|██████████| 5/5 [00:00<00:00, 13.26it/s]\n"
     ]
    },
    {
     "name": "stdout",
     "output_type": "stream",
     "text": [
      "Saving metric with val_PSNR=41.942322731018066 (previous : 41.9373384475708)\n"
     ]
    },
    {
     "name": "stderr",
     "output_type": "stream",
     "text": [
      "EPOCH : 28, average loss : 6.056613613812563e-05, lr=3.216186271093952e-05: 100%|██████████| 45/45 [00:03<00:00, 11.96it/s] \n",
      "examples seen so far : 180 Mean Squared Error (MSE)=6.0571729047510086e-05 ; PSNR=42.22042051773497 ; SSIM=0.9741707111204136 ; : 100%|██████████| 45/45 [00:03<00:00, 13.64it/s]\n",
      "examples seen so far : 20 Mean Squared Error (MSE)=6.426715462064174e-05 ; PSNR=41.94456582320364 ; SSIM=0.9743067402588693 ; : 100%|██████████| 5/5 [00:00<00:00, 11.29it/s] \n"
     ]
    },
    {
     "name": "stdout",
     "output_type": "stream",
     "text": [
      "Saving metric with val_PSNR=41.95046119689941 (previous : 41.942322731018066)\n"
     ]
    },
    {
     "name": "stderr",
     "output_type": "stream",
     "text": [
      "EPOCH : 29, average loss : 6.0497505425397925e-05, lr=2.6835380638931757e-05: 100%|██████████| 45/45 [00:04<00:00, 10.03it/s]\n",
      "examples seen so far : 180 Mean Squared Error (MSE)=6.041514639519597e-05 ; PSNR=42.23189655495756 ; SSIM=0.974189038716215 ; : 100%|██████████| 45/45 [00:03<00:00, 14.16it/s]   \n",
      "examples seen so far : 20 Mean Squared Error (MSE)=6.41892968958832e-05 ; PSNR=41.94967330129523 ; SSIM=0.9743462330416629 ; : 100%|██████████| 5/5 [00:00<00:00, 14.89it/s] \n"
     ]
    },
    {
     "name": "stdout",
     "output_type": "stream",
     "text": [
      "Saving metric with val_PSNR=41.95526256561279 (previous : 41.95046119689941)\n"
     ]
    },
    {
     "name": "stderr",
     "output_type": "stream",
     "text": [
      "EPOCH : 30, average loss : 6.0451216348964305e-05, lr=2.5e-05: 100%|██████████| 45/45 [00:04<00:00, 10.77it/s]\n",
      "examples seen so far : 180 Mean Squared Error (MSE)=6.043428011100698e-05 ; PSNR=42.23042695881934 ; SSIM=0.9742100844836102 ; : 100%|██████████| 45/45 [00:03<00:00, 13.46it/s]  \n",
      "examples seen so far : 20 Mean Squared Error (MSE)=6.412975907503431e-05 ; PSNR=41.9538016068308 ; SSIM=0.974361002445221 ; : 100%|██████████| 5/5 [00:00<00:00, 11.66it/s]   \n"
     ]
    },
    {
     "name": "stdout",
     "output_type": "stream",
     "text": [
      "Saving metric with val_PSNR=41.95937538146973 (previous : 41.95526256561279)\n"
     ]
    },
    {
     "name": "stderr",
     "output_type": "stream",
     "text": [
      "EPOCH : 31, average loss : 6.037535826585049e-05, lr=2.6835380638931744e-05: 100%|██████████| 45/45 [00:03<00:00, 11.36it/s] \n",
      "examples seen so far : 180 Mean Squared Error (MSE)=6.0352166681634994e-05 ; PSNR=42.23628569448461 ; SSIM=0.9742799294727474 ; : 100%|██████████| 45/45 [00:03<00:00, 13.60it/s]\n",
      "examples seen so far : 20 Mean Squared Error (MSE)=6.403148750235375e-05 ; PSNR=41.960615258467826 ; SSIM=0.974416014395262 ; : 100%|██████████| 5/5 [00:00<00:00, 15.64it/s] \n"
     ]
    },
    {
     "name": "stdout",
     "output_type": "stream",
     "text": [
      "Saving metric with val_PSNR=41.96650409698486 (previous : 41.95937538146973)\n"
     ]
    },
    {
     "name": "stderr",
     "output_type": "stream",
     "text": [
      "EPOCH : 32, average loss : 6.0330166646357006e-05, lr=3.216186271093948e-05: 100%|██████████| 45/45 [00:04<00:00,  9.68it/s]\n",
      "examples seen so far : 180 Mean Squared Error (MSE)=6.024182210991799e-05 ; PSNR=42.24431556829527 ; SSIM=0.9742806463934189 ; : 100%|██████████| 45/45 [00:03<00:00, 12.62it/s]  \n",
      "examples seen so far : 20 Mean Squared Error (MSE)=6.400167350013937e-05 ; PSNR=41.96263925652755 ; SSIM=0.9744206478721217 ; : 100%|██████████| 5/5 [00:00<00:00, 12.31it/s]\n"
     ]
    },
    {
     "name": "stdout",
     "output_type": "stream",
     "text": [
      "Saving metric with val_PSNR=41.968452072143556 (previous : 41.96650409698486)\n"
     ]
    },
    {
     "name": "stderr",
     "output_type": "stream",
     "text": [
      "EPOCH : 33, average loss : 6.030517502545586e-05, lr=4.0458053039032284e-05: 100%|██████████| 45/45 [00:04<00:00, 11.06it/s] \n",
      "examples seen so far : 180 Mean Squared Error (MSE)=6.0163644038715696e-05 ; PSNR=42.24982814682262 ; SSIM=0.9743096905047667 ; : 100%|██████████| 45/45 [00:02<00:00, 17.65it/s]\n",
      "examples seen so far : 20 Mean Squared Error (MSE)=6.395197028484147e-05 ; PSNR=41.965880143015006 ; SSIM=0.974440430340014 ; : 100%|██████████| 5/5 [00:00<00:00, 15.48it/s]\n"
     ]
    },
    {
     "name": "stdout",
     "output_type": "stream",
     "text": [
      "Saving metric with val_PSNR=41.97152690887451 (previous : 41.968452072143556)\n"
     ]
    },
    {
     "name": "stderr",
     "output_type": "stream",
     "text": [
      "EPOCH : 34, average loss : 6.024517667052957e-05, lr=5.091186271093952e-05: 100%|██████████| 45/45 [00:04<00:00, 11.23it/s] \n",
      "examples seen so far : 180 Mean Squared Error (MSE)=6.022854045901042e-05 ; PSNR=42.24541057821093 ; SSIM=0.9743182466016801 ; : 100%|██████████| 45/45 [00:02<00:00, 15.86it/s]\n",
      "examples seen so far : 20 Mean Squared Error (MSE)=6.393956228796589e-05 ; PSNR=41.96678864328485 ; SSIM=0.9744689182231301 ; : 100%|██████████| 5/5 [00:00<00:00, 16.35it/s] \n"
     ]
    },
    {
     "name": "stdout",
     "output_type": "stream",
     "text": [
      "Saving metric with val_PSNR=41.97251529693604 (previous : 41.97152690887451)\n"
     ]
    },
    {
     "name": "stderr",
     "output_type": "stream",
     "text": [
      "EPOCH : 35, average loss : 6.0311128213975785e-05, lr=6.250000000000008e-05: 100%|██████████| 45/45 [00:03<00:00, 11.90it/s]\n",
      "examples seen so far : 180 Mean Squared Error (MSE)=6.0290716138607224e-05 ; PSNR=42.2406458508369 ; SSIM=0.9740790341819465 ; : 100%|██████████| 45/45 [00:03<00:00, 14.48it/s]  \n",
      "examples seen so far : 20 Mean Squared Error (MSE)=6.404415724223087e-05 ; PSNR=41.9598119635331 ; SSIM=0.9742539399548581 ; : 100%|██████████| 5/5 [00:00<00:00, 12.85it/s] \n",
      "EPOCH : 36, average loss : 6.0390242288121955e-05, lr=7.408813728906065e-05: 100%|██████████| 45/45 [00:03<00:00, 11.98it/s]\n",
      "examples seen so far : 180 Mean Squared Error (MSE)=6.013794972606175e-05 ; PSNR=42.249942459873644 ; SSIM=0.9743092486312269 ; : 100%|██████████| 45/45 [00:02<00:00, 15.65it/s] \n",
      "examples seen so far : 20 Mean Squared Error (MSE)=6.374498709766685e-05 ; PSNR=41.98024609214381 ; SSIM=0.9744933122082761 ; : 100%|██████████| 5/5 [00:00<00:00, 14.65it/s] \n"
     ]
    },
    {
     "name": "stdout",
     "output_type": "stream",
     "text": [
      "Saving metric with val_PSNR=41.98596477508545 (previous : 41.97251529693604)\n"
     ]
    },
    {
     "name": "stderr",
     "output_type": "stream",
     "text": [
      "EPOCH : 37, average loss : 6.071141114160936e-05, lr=8.454194696096791e-05: 100%|██████████| 45/45 [00:04<00:00, 11.08it/s] \n",
      "examples seen so far : 180 Mean Squared Error (MSE)=6.019184250022316e-05 ; PSNR=42.24742957600002 ; SSIM=0.9743178423556536 ; : 100%|██████████| 45/45 [00:02<00:00, 15.60it/s]  \n",
      "examples seen so far : 20 Mean Squared Error (MSE)=6.388786737500738e-05 ; PSNR=41.970396543803965 ; SSIM=0.9744892559553447 ; : 100%|██████████| 5/5 [00:00<00:00, 13.53it/s]\n",
      "EPOCH : 38, average loss : 6.062015874906339e-05, lr=9.283813728906072e-05: 100%|██████████| 45/45 [00:03<00:00, 11.55it/s] \n",
      "examples seen so far : 180 Mean Squared Error (MSE)=5.999570349462242e-05 ; PSNR=42.262404372572234 ; SSIM=0.9744173944329416 ; : 100%|██████████| 45/45 [00:02<00:00, 15.58it/s]\n",
      "examples seen so far : 20 Mean Squared Error (MSE)=6.37653189953294e-05 ; PSNR=41.97890693263004 ; SSIM=0.9745921335722271 ; : 100%|██████████| 5/5 [00:00<00:00, 15.24it/s] \n",
      "EPOCH : 39, average loss : 6.170757397841144e-05, lr=9.816461936106847e-05: 100%|██████████| 45/45 [00:03<00:00, 11.82it/s]\n",
      "examples seen so far : 180 Mean Squared Error (MSE)=6.07416680817266e-05 ; PSNR=42.20817357068621 ; SSIM=0.97392742294173 ; : 100%|██████████| 45/45 [00:02<00:00, 15.65it/s]    \n",
      "examples seen so far : 20 Mean Squared Error (MSE)=6.450756240826052e-05 ; PSNR=41.928355969880755 ; SSIM=0.9740994509897734 ; : 100%|██████████| 5/5 [00:00<00:00, 15.34it/s]\n",
      "EPOCH : 40, average loss : 6.016584512609471e-05, lr=0.00010000000000000024: 100%|██████████| 45/45 [00:03<00:00, 11.98it/s] \n",
      "examples seen so far : 180 Mean Squared Error (MSE)=5.979062784489182e-05 ; PSNR=42.27551452807208 ; SSIM=0.9744988366878232 ; : 100%|██████████| 45/45 [00:02<00:00, 17.22it/s] \n",
      "examples seen so far : 20 Mean Squared Error (MSE)=6.341761936231418e-05 ; PSNR=42.002788744474714 ; SSIM=0.9746717402809545 ; : 100%|██████████| 5/5 [00:00<00:00, 14.13it/s]\n"
     ]
    },
    {
     "name": "stdout",
     "output_type": "stream",
     "text": [
      "Saving metric with val_PSNR=42.00877513885498 (previous : 41.98596477508545)\n"
     ]
    },
    {
     "name": "stderr",
     "output_type": "stream",
     "text": [
      "EPOCH : 41, average loss : 5.989968695858907e-05, lr=9.816461936106851e-05: 100%|██████████| 45/45 [00:04<00:00, 10.74it/s] \n",
      "examples seen so far : 180 Mean Squared Error (MSE)=6.058931654103246e-05 ; PSNR=42.21780521243644 ; SSIM=0.9735027172046 ; : 100%|██████████| 45/45 [00:02<00:00, 18.00it/s]    \n",
      "examples seen so far : 20 Mean Squared Error (MSE)=6.433193285422596e-05 ; PSNR=41.939578809236224 ; SSIM=0.9736546528966803 ; : 100%|██████████| 5/5 [00:00<00:00, 13.76it/s]\n",
      "EPOCH : 42, average loss : 5.996126039665089e-05, lr=9.283813728906076e-05: 100%|██████████| 45/45 [00:04<00:00, 11.13it/s] \n",
      "examples seen so far : 180 Mean Squared Error (MSE)=6.001972982447917e-05 ; PSNR=42.26029333189213 ; SSIM=0.9743791225902195 ; : 100%|██████████| 45/45 [00:02<00:00, 18.00it/s]  \n",
      "examples seen so far : 20 Mean Squared Error (MSE)=6.382386441385422e-05 ; PSNR=41.975223541259766 ; SSIM=0.9745613556159171 ; : 100%|██████████| 5/5 [00:00<00:00, 16.60it/s]\n",
      "EPOCH : 43, average loss : 5.965795854636882e-05, lr=8.454194696096795e-05: 100%|██████████| 45/45 [00:03<00:00, 11.95it/s] \n",
      "examples seen so far : 180 Mean Squared Error (MSE)=5.9446457306972794e-05 ; PSNR=42.301918456008316 ; SSIM=0.9746086900460653 ; : 100%|██████████| 45/45 [00:02<00:00, 15.61it/s]\n",
      "examples seen so far : 20 Mean Squared Error (MSE)=6.321474230437736e-05 ; PSNR=42.01700893201326 ; SSIM=0.9747592085286191 ; : 100%|██████████| 5/5 [00:00<00:00, 14.98it/s] \n"
     ]
    },
    {
     "name": "stdout",
     "output_type": "stream",
     "text": [
      "Saving metric with val_PSNR=42.02320537567139 (previous : 42.00877513885498)\n"
     ]
    },
    {
     "name": "stderr",
     "output_type": "stream",
     "text": [
      "EPOCH : 44, average loss : 5.951166110915235e-05, lr=7.408813728906078e-05: 100%|██████████| 45/45 [00:03<00:00, 12.81it/s] \n",
      "examples seen so far : 180 Mean Squared Error (MSE)=5.936372771780475e-05 ; PSNR=42.30765316073455 ; SSIM=0.9746756270611087 ; : 100%|██████████| 45/45 [00:02<00:00, 15.57it/s]\n",
      "examples seen so far : 20 Mean Squared Error (MSE)=6.315676938883323e-05 ; PSNR=42.02072786030016 ; SSIM=0.9747814096902546 ; : 100%|██████████| 5/5 [00:00<00:00, 14.99it/s]\n"
     ]
    },
    {
     "name": "stdout",
     "output_type": "stream",
     "text": [
      "Saving metric with val_PSNR=42.02695980072021 (previous : 42.02320537567139)\n"
     ]
    },
    {
     "name": "stderr",
     "output_type": "stream",
     "text": [
      "EPOCH : 45, average loss : 5.950832419330254e-05, lr=6.250000000000014e-05: 100%|██████████| 45/45 [00:03<00:00, 12.58it/s] \n",
      "examples seen so far : 180 Mean Squared Error (MSE)=5.9669520140120855e-05 ; PSNR=42.286219847268896 ; SSIM=0.9745928035768051 ; : 100%|██████████| 45/45 [00:02<00:00, 15.96it/s]\n",
      "examples seen so far : 20 Mean Squared Error (MSE)=6.342843583919795e-05 ; PSNR=42.002624110171666 ; SSIM=0.9747289670141119 ; : 100%|██████████| 5/5 [00:00<00:00, 15.35it/s]\n",
      "EPOCH : 46, average loss : 5.9523159547501966e-05, lr=5.091186271093958e-05: 100%|██████████| 45/45 [00:03<00:00, 12.71it/s]\n",
      "examples seen so far : 180 Mean Squared Error (MSE)=5.952653631355936e-05 ; PSNR=42.29629030707162 ; SSIM=0.9745264572804201 ; : 100%|██████████| 45/45 [00:02<00:00, 16.52it/s]\n",
      "examples seen so far : 20 Mean Squared Error (MSE)=6.327376544696132e-05 ; PSNR=42.01258388318514 ; SSIM=0.9746651618104232 ; : 100%|██████████| 5/5 [00:00<00:00, 14.64it/s]\n",
      "EPOCH : 47, average loss : 5.932125269383606e-05, lr=4.045805303903227e-05: 100%|██████████| 45/45 [00:03<00:00, 11.65it/s] \n",
      "examples seen so far : 180 Mean Squared Error (MSE)=5.932218817829456e-05 ; PSNR=42.3111612756825 ; SSIM=0.9746578472286629 ; : 100%|██████████| 45/45 [00:02<00:00, 17.82it/s]  \n",
      "examples seen so far : 20 Mean Squared Error (MSE)=6.300394498363235e-05 ; PSNR=42.031387730648646 ; SSIM=0.9748149545569169 ; : 100%|██████████| 5/5 [00:00<00:00, 16.01it/s]\n"
     ]
    },
    {
     "name": "stdout",
     "output_type": "stream",
     "text": [
      "Saving metric with val_PSNR=42.03775691986084 (previous : 42.02695980072021)\n"
     ]
    },
    {
     "name": "stderr",
     "output_type": "stream",
     "text": [
      "EPOCH : 48, average loss : 5.926986996200867e-05, lr=3.216186271093951e-05: 100%|██████████| 45/45 [00:04<00:00, 10.63it/s] \n",
      "examples seen so far : 180 Mean Squared Error (MSE)=5.9207817786711387e-05 ; PSNR=42.31960000405765 ; SSIM=0.974710097193052 ; : 100%|██████████| 45/45 [00:02<00:00, 16.05it/s] \n",
      "examples seen so far : 20 Mean Squared Error (MSE)=6.296177927747761e-05 ; PSNR=42.03424172652395 ; SSIM=0.9748242842523676 ; : 100%|██████████| 5/5 [00:00<00:00, 17.08it/s] \n"
     ]
    },
    {
     "name": "stdout",
     "output_type": "stream",
     "text": [
      "Saving metric with val_PSNR=42.04068603515625 (previous : 42.03775691986084)\n"
     ]
    },
    {
     "name": "stderr",
     "output_type": "stream",
     "text": [
      "EPOCH : 49, average loss : 5.927812995246818e-05, lr=2.6835380638931774e-05: 100%|██████████| 45/45 [00:04<00:00, 10.06it/s] \n",
      "examples seen so far : 180 Mean Squared Error (MSE)=5.9236630741454786e-05 ; PSNR=42.317685473564616 ; SSIM=0.9747277757974976 ; : 100%|██████████| 45/45 [00:03<00:00, 14.62it/s]\n",
      "examples seen so far : 20 Mean Squared Error (MSE)=6.293758901608128e-05 ; PSNR=42.03596958361174 ; SSIM=0.9748514231882597 ; : 100%|██████████| 5/5 [00:00<00:00, 15.86it/s]\n"
     ]
    },
    {
     "name": "stdout",
     "output_type": "stream",
     "text": [
      "Saving metric with val_PSNR=42.04226207733154 (previous : 42.04068603515625)\n"
     ]
    }
   ],
   "source": [
    "run_experiment_task2(train_dataloader=train_loader, \n",
    "                     val_dataloader=val_loader, \n",
    "                     Model=RCAN, \n",
    "                     run_name=\"RCAN\", \n",
    "                     model_parameters={\"n_resgroups\":3, \"n_resblocks\":6, \"n_feats\":64, \"reduction\":2, \"scale\":(2,2), \"res_scale\":2}, \n",
    "                     epochs=50,\n",
    "                     learning_rate=1e-4, \n",
    "                     optimizer='adam',\n",
    "                     savepath=\"models/RCAN.pth\",\n",
    "                     metrics=[MSE_Metric(), PSNR_Metric(), SSIM_Metric()],\n",
    "                     cfg=CONFIG,\n",
    "                     cosine_annealer_epochs=10,\n",
    "                     loss=\"MSE\",\n",
    "                     test_params={\"save_in_total\" : 10},\n",
    "                     min_lr=2.5e-5,\n",
    "                     scheduler_en=True,\n",
    "                     metric_keyword=\"val_PSNR\",\n",
    "                     lr_steps=len(dataset) // 2,\n",
    "                     start_with_test=True,\n",
    "                     WANDB_ON=False)"
   ]
  },
  {
   "cell_type": "code",
   "execution_count": null,
   "metadata": {},
   "outputs": [],
   "source": []
  }
 ],
 "metadata": {
  "kernelspec": {
   "display_name": "Python 3 (ipykernel)",
   "language": "python",
   "name": "python3"
  },
  "language_info": {
   "codemirror_mode": {
    "name": "ipython",
    "version": 3
   },
   "file_extension": ".py",
   "mimetype": "text/x-python",
   "name": "python",
   "nbconvert_exporter": "python",
   "pygments_lexer": "ipython3",
   "version": "3.11.5"
  }
 },
 "nbformat": 4,
 "nbformat_minor": 4
}
