{
 "cells": [
  {
   "cell_type": "markdown",
   "metadata": {},
   "source": [
    "# installation"
   ]
  },
  {
   "cell_type": "code",
   "execution_count": 1,
   "metadata": {},
   "outputs": [
    {
     "name": "stdout",
     "output_type": "stream",
     "text": [
      "Defaulting to user installation because normal site-packages is not writeable\n",
      "Requirement already satisfied: scikit-image in /home/mlewand/.local/lib/python3.10/site-packages (0.22.0)\n",
      "Requirement already satisfied: pandas in /home/mlewand/.local/lib/python3.10/site-packages (2.1.4)\n",
      "Requirement already satisfied: matplotlib in /home/mlewand/.local/lib/python3.10/site-packages (3.8.2)\n",
      "Requirement already satisfied: tqdm in /home/mlewand/.local/lib/python3.10/site-packages (4.66.1)\n",
      "Requirement already satisfied: torchinfo in /home/mlewand/.local/lib/python3.10/site-packages (1.8.0)\n",
      "Requirement already satisfied: tensorboard in /home/mlewand/.local/lib/python3.10/site-packages (2.15.1)\n",
      "Requirement already satisfied: wandb in /home/mlewand/.local/lib/python3.10/site-packages (0.16.4)\n",
      "Requirement already satisfied: scikit-learn in /home/mlewand/.local/lib/python3.10/site-packages (1.3.2)\n",
      "Requirement already satisfied: pytorch-msssim in /home/mlewand/.local/lib/python3.10/site-packages (1.0.0)\n",
      "Requirement already satisfied: networkx>=2.8 in /home/mlewand/.local/lib/python3.10/site-packages (from scikit-image) (3.2.1)\n",
      "Requirement already satisfied: scipy>=1.8 in /home/mlewand/.local/lib/python3.10/site-packages (from scikit-image) (1.11.4)\n",
      "Requirement already satisfied: pillow>=9.0.1 in /home/mlewand/.local/lib/python3.10/site-packages (from scikit-image) (10.1.0)\n",
      "Requirement already satisfied: tifffile>=2022.8.12 in /home/mlewand/.local/lib/python3.10/site-packages (from scikit-image) (2024.2.12)\n",
      "Requirement already satisfied: numpy>=1.22 in /home/mlewand/.local/lib/python3.10/site-packages (from scikit-image) (1.26.2)\n",
      "Requirement already satisfied: packaging>=21 in /home/mlewand/.local/lib/python3.10/site-packages (from scikit-image) (23.2)\n",
      "Requirement already satisfied: lazy_loader>=0.3 in /home/mlewand/.local/lib/python3.10/site-packages (from scikit-image) (0.3)\n",
      "Requirement already satisfied: imageio>=2.27 in /home/mlewand/.local/lib/python3.10/site-packages (from scikit-image) (2.34.0)\n",
      "Requirement already satisfied: tzdata>=2022.1 in /home/mlewand/.local/lib/python3.10/site-packages (from pandas) (2023.4)\n",
      "Requirement already satisfied: pytz>=2020.1 in /home/mlewand/.local/lib/python3.10/site-packages (from pandas) (2023.3.post1)\n",
      "Requirement already satisfied: python-dateutil>=2.8.2 in /home/mlewand/.local/lib/python3.10/site-packages (from pandas) (2.8.2)\n",
      "Requirement already satisfied: pyparsing>=2.3.1 in /usr/lib/python3/dist-packages (from matplotlib) (2.4.7)\n",
      "Requirement already satisfied: contourpy>=1.0.1 in /home/mlewand/.local/lib/python3.10/site-packages (from matplotlib) (1.2.0)\n",
      "Requirement already satisfied: fonttools>=4.22.0 in /home/mlewand/.local/lib/python3.10/site-packages (from matplotlib) (4.47.2)\n",
      "Requirement already satisfied: cycler>=0.10 in /home/mlewand/.local/lib/python3.10/site-packages (from matplotlib) (0.12.1)\n",
      "Requirement already satisfied: kiwisolver>=1.3.1 in /home/mlewand/.local/lib/python3.10/site-packages (from matplotlib) (1.4.5)\n",
      "Requirement already satisfied: requests<3,>=2.21.0 in /home/mlewand/.local/lib/python3.10/site-packages (from tensorboard) (2.31.0)\n",
      "Requirement already satisfied: grpcio>=1.48.2 in /home/mlewand/.local/lib/python3.10/site-packages (from tensorboard) (1.60.0)\n",
      "Requirement already satisfied: protobuf<4.24,>=3.19.6 in /home/mlewand/.local/lib/python3.10/site-packages (from tensorboard) (3.20.3)\n",
      "Requirement already satisfied: absl-py>=0.4 in /home/mlewand/.local/lib/python3.10/site-packages (from tensorboard) (1.4.0)\n",
      "Requirement already satisfied: google-auth<3,>=1.6.3 in /home/mlewand/.local/lib/python3.10/site-packages (from tensorboard) (2.27.0)\n",
      "Requirement already satisfied: six>1.9 in /usr/lib/python3/dist-packages (from tensorboard) (1.16.0)\n",
      "Requirement already satisfied: tensorboard-data-server<0.8.0,>=0.7.0 in /home/mlewand/.local/lib/python3.10/site-packages (from tensorboard) (0.7.2)\n",
      "Requirement already satisfied: markdown>=2.6.8 in /home/mlewand/.local/lib/python3.10/site-packages (from tensorboard) (3.5.2)\n",
      "Requirement already satisfied: werkzeug>=1.0.1 in /home/mlewand/.local/lib/python3.10/site-packages (from tensorboard) (3.0.1)\n",
      "Requirement already satisfied: google-auth-oauthlib<2,>=0.5 in /home/mlewand/.local/lib/python3.10/site-packages (from tensorboard) (1.2.0)\n",
      "Requirement already satisfied: setuptools>=41.0.0 in /usr/lib/python3/dist-packages (from tensorboard) (59.6.0)\n",
      "Requirement already satisfied: psutil>=5.0.0 in /home/mlewand/.local/lib/python3.10/site-packages (from wandb) (5.9.7)\n",
      "Requirement already satisfied: PyYAML in /usr/lib/python3/dist-packages (from wandb) (5.4.1)\n",
      "Requirement already satisfied: docker-pycreds>=0.4.0 in /home/mlewand/.local/lib/python3.10/site-packages (from wandb) (0.4.0)\n",
      "Requirement already satisfied: sentry-sdk>=1.0.0 in /home/mlewand/.local/lib/python3.10/site-packages (from wandb) (1.41.0)\n",
      "Requirement already satisfied: Click!=8.0.0,>=7.1 in /home/mlewand/.local/lib/python3.10/site-packages (from wandb) (8.1.7)\n",
      "Requirement already satisfied: setproctitle in /home/mlewand/.local/lib/python3.10/site-packages (from wandb) (1.3.3)\n",
      "Requirement already satisfied: GitPython!=3.1.29,>=1.0.0 in /home/mlewand/.local/lib/python3.10/site-packages (from wandb) (3.1.42)\n",
      "Requirement already satisfied: appdirs>=1.4.3 in /home/mlewand/.local/lib/python3.10/site-packages (from wandb) (1.4.4)\n",
      "Requirement already satisfied: joblib>=1.1.1 in /home/mlewand/.local/lib/python3.10/site-packages (from scikit-learn) (1.3.2)\n",
      "Requirement already satisfied: threadpoolctl>=2.0.0 in /home/mlewand/.local/lib/python3.10/site-packages (from scikit-learn) (3.2.0)\n",
      "Requirement already satisfied: torch in /home/mlewand/.local/lib/python3.10/site-packages (from pytorch-msssim) (2.2.1)\n",
      "Requirement already satisfied: gitdb<5,>=4.0.1 in /home/mlewand/.local/lib/python3.10/site-packages (from GitPython!=3.1.29,>=1.0.0->wandb) (4.0.11)\n",
      "Requirement already satisfied: pyasn1-modules>=0.2.1 in /home/mlewand/.local/lib/python3.10/site-packages (from google-auth<3,>=1.6.3->tensorboard) (0.3.0)\n",
      "Requirement already satisfied: rsa<5,>=3.1.4 in /home/mlewand/.local/lib/python3.10/site-packages (from google-auth<3,>=1.6.3->tensorboard) (4.9)\n",
      "Requirement already satisfied: cachetools<6.0,>=2.0.0 in /home/mlewand/.local/lib/python3.10/site-packages (from google-auth<3,>=1.6.3->tensorboard) (5.3.2)\n",
      "Requirement already satisfied: requests-oauthlib>=0.7.0 in /home/mlewand/.local/lib/python3.10/site-packages (from google-auth-oauthlib<2,>=0.5->tensorboard) (1.3.1)\n",
      "Requirement already satisfied: certifi>=2017.4.17 in /home/mlewand/.local/lib/python3.10/site-packages (from requests<3,>=2.21.0->tensorboard) (2023.11.17)\n",
      "Requirement already satisfied: idna<4,>=2.5 in /home/mlewand/.local/lib/python3.10/site-packages (from requests<3,>=2.21.0->tensorboard) (3.6)\n",
      "Requirement already satisfied: urllib3<3,>=1.21.1 in /home/mlewand/.local/lib/python3.10/site-packages (from requests<3,>=2.21.0->tensorboard) (2.1.0)\n",
      "Requirement already satisfied: charset-normalizer<4,>=2 in /home/mlewand/.local/lib/python3.10/site-packages (from requests<3,>=2.21.0->tensorboard) (3.3.2)\n",
      "Requirement already satisfied: MarkupSafe>=2.1.1 in /home/mlewand/.local/lib/python3.10/site-packages (from werkzeug>=1.0.1->tensorboard) (2.1.3)\n",
      "Requirement already satisfied: fsspec in /home/mlewand/.local/lib/python3.10/site-packages (from torch->pytorch-msssim) (2023.12.0)\n",
      "Requirement already satisfied: triton==2.2.0 in /home/mlewand/.local/lib/python3.10/site-packages (from torch->pytorch-msssim) (2.2.0)\n",
      "Requirement already satisfied: sympy in /home/mlewand/.local/lib/python3.10/site-packages (from torch->pytorch-msssim) (1.12)\n",
      "Requirement already satisfied: nvidia-cublas-cu12==12.1.3.1 in /home/mlewand/.local/lib/python3.10/site-packages (from torch->pytorch-msssim) (12.1.3.1)\n",
      "Requirement already satisfied: nvidia-cusparse-cu12==12.1.0.106 in /home/mlewand/.local/lib/python3.10/site-packages (from torch->pytorch-msssim) (12.1.0.106)\n",
      "Requirement already satisfied: filelock in /home/mlewand/.local/lib/python3.10/site-packages (from torch->pytorch-msssim) (3.13.1)\n",
      "Requirement already satisfied: jinja2 in /home/mlewand/.local/lib/python3.10/site-packages (from torch->pytorch-msssim) (3.1.2)\n",
      "Requirement already satisfied: nvidia-cuda-runtime-cu12==12.1.105 in /home/mlewand/.local/lib/python3.10/site-packages (from torch->pytorch-msssim) (12.1.105)\n",
      "Requirement already satisfied: nvidia-curand-cu12==10.3.2.106 in /home/mlewand/.local/lib/python3.10/site-packages (from torch->pytorch-msssim) (10.3.2.106)\n",
      "Requirement already satisfied: nvidia-nccl-cu12==2.19.3 in /home/mlewand/.local/lib/python3.10/site-packages (from torch->pytorch-msssim) (2.19.3)\n",
      "Requirement already satisfied: nvidia-cuda-cupti-cu12==12.1.105 in /home/mlewand/.local/lib/python3.10/site-packages (from torch->pytorch-msssim) (12.1.105)\n",
      "Requirement already satisfied: nvidia-cudnn-cu12==8.9.2.26 in /home/mlewand/.local/lib/python3.10/site-packages (from torch->pytorch-msssim) (8.9.2.26)\n",
      "Requirement already satisfied: nvidia-cuda-nvrtc-cu12==12.1.105 in /home/mlewand/.local/lib/python3.10/site-packages (from torch->pytorch-msssim) (12.1.105)\n",
      "Requirement already satisfied: nvidia-cusolver-cu12==11.4.5.107 in /home/mlewand/.local/lib/python3.10/site-packages (from torch->pytorch-msssim) (11.4.5.107)\n",
      "Requirement already satisfied: typing-extensions>=4.8.0 in /home/mlewand/.local/lib/python3.10/site-packages (from torch->pytorch-msssim) (4.8.0)\n",
      "Requirement already satisfied: nvidia-cufft-cu12==11.0.2.54 in /home/mlewand/.local/lib/python3.10/site-packages (from torch->pytorch-msssim) (11.0.2.54)\n",
      "Requirement already satisfied: nvidia-nvtx-cu12==12.1.105 in /home/mlewand/.local/lib/python3.10/site-packages (from torch->pytorch-msssim) (12.1.105)\n",
      "Requirement already satisfied: nvidia-nvjitlink-cu12 in /home/mlewand/.local/lib/python3.10/site-packages (from nvidia-cusolver-cu12==11.4.5.107->torch->pytorch-msssim) (12.4.99)\n",
      "Requirement already satisfied: smmap<6,>=3.0.1 in /home/mlewand/.local/lib/python3.10/site-packages (from gitdb<5,>=4.0.1->GitPython!=3.1.29,>=1.0.0->wandb) (5.0.1)\n",
      "Requirement already satisfied: pyasn1<0.6.0,>=0.4.6 in /home/mlewand/.local/lib/python3.10/site-packages (from pyasn1-modules>=0.2.1->google-auth<3,>=1.6.3->tensorboard) (0.5.1)\n",
      "Requirement already satisfied: oauthlib>=3.0.0 in /usr/lib/python3/dist-packages (from requests-oauthlib>=0.7.0->google-auth-oauthlib<2,>=0.5->tensorboard) (3.2.0)\n",
      "Requirement already satisfied: mpmath>=0.19 in /home/mlewand/.local/lib/python3.10/site-packages (from sympy->torch->pytorch-msssim) (1.3.0)\n",
      "Note: you may need to restart the kernel to use updated packages.\n"
     ]
    }
   ],
   "source": [
    "%pip install scikit-image pandas matplotlib tqdm torchinfo tensorboard wandb scikit-learn pytorch-msssim"
   ]
  },
  {
   "cell_type": "markdown",
   "metadata": {},
   "source": [
    "# Config"
   ]
  },
  {
   "cell_type": "code",
   "execution_count": 2,
   "metadata": {},
   "outputs": [],
   "source": [
    "import os\n",
    "import torch\n",
    "import psutil\n",
    "from util import format\n",
    "from torch.utils.data import Dataset, DataLoader, random_split\n",
    "from datasets import DeepLenseSuperresolutionDataset\n",
    "import matplotlib.pyplot as plt \n",
    "from torchinfo import summary\n",
    "from util import run_experiment_task2, MSE_Metric, PSNR_Metric, SSIM_Metric\n",
    "import math\n",
    "\n",
    "# PyTorch imports\n",
    "import torch.nn as nn\n",
    "import torch.nn.functional as F\n",
    "\n",
    "\n",
    "\n",
    "class CONFIG:\n",
    "    BATCH_SIZE = 4\n",
    "    \n",
    "    # limit the data to prototype faster\n",
    "    DATA_LIMIT = 200\n",
    "    \n",
    "    DEVICE = torch.device(\"cuda\") if torch.cuda.is_available() else torch.device(\"cpu\")\n",
    "    ROUND_NUMBER = 3\n",
    "    TASK_NAME = \"DeepLense2024_task2A\"\n",
    "    DATA_PATH = os.path.join(\"Data\", \"Superresolution\")\n",
    "    PORTION_OF_DATA_FOR_TRAINING = 0.8"
   ]
  },
  {
   "cell_type": "code",
   "execution_count": 3,
   "metadata": {},
   "outputs": [
    {
     "name": "stdout",
     "output_type": "stream",
     "text": [
      "RAM used : 2.57GB\n"
     ]
    }
   ],
   "source": [
    "memory_start = psutil.virtual_memory()\n",
    "print(f\"RAM used : {format(memory_start.used)}\")"
   ]
  },
  {
   "cell_type": "code",
   "execution_count": 4,
   "metadata": {},
   "outputs": [
    {
     "name": "stderr",
     "output_type": "stream",
     "text": [
      "Loading dataset : : 100%|██████████| 200/200 [00:00<00:00, 232.89it/s]\n",
      "preprocessing :: 100%|██████████| 200/200 [00:00<00:00, 1149.95it/s]"
     ]
    },
    {
     "name": "stdout",
     "output_type": "stream",
     "text": [
      "splitting into : 160 40\n",
      "sizes of datasets : len(train)=160 len(val)=40\n"
     ]
    },
    {
     "name": "stderr",
     "output_type": "stream",
     "text": [
      "\n"
     ]
    }
   ],
   "source": [
    "dataset = DeepLenseSuperresolutionDataset(folder_path=CONFIG.DATA_PATH, \n",
    "                                          randomize_dataset=True,\n",
    "                                          data_limit=CONFIG.DATA_LIMIT)\n",
    "\n",
    "# do train/val split\n",
    "dataset_size = len(dataset)\n",
    "train_size = int(dataset_size * CONFIG.PORTION_OF_DATA_FOR_TRAINING)\n",
    "val_size = dataset_size - train_size\n",
    "\n",
    "print(f\"splitting into : {train_size} {val_size}\")\n",
    "\n",
    "# splitting dataset \n",
    "train_dataset, val_dataset = random_split(dataset, [train_size, val_size])\n",
    "\n",
    "print(f\"sizes of datasets : len(train)={len(train_dataset)} len(val)={len(val_dataset)}\")\n",
    "\n",
    "# Create Dataloaders\n",
    "train_loader = DataLoader(train_dataset, batch_size=CONFIG.BATCH_SIZE, shuffle=True)\n",
    "val_loader = DataLoader(val_dataset, batch_size=CONFIG.BATCH_SIZE)"
   ]
  },
  {
   "cell_type": "code",
   "execution_count": 5,
   "metadata": {},
   "outputs": [],
   "source": [
    "# get sample batch, useful for prototyping the architectures\n",
    "x, y = next(iter(train_loader))"
   ]
  },
  {
   "cell_type": "code",
   "execution_count": 6,
   "metadata": {},
   "outputs": [
    {
     "data": {
      "image/png": "[encoded data removed]",
      "text/plain": [
       "<Figure size 1600x500 with 2 Axes>"
      ]
     },
     "metadata": {},
     "output_type": "display_data"
    }
   ],
   "source": [
    "# sanity check \n",
    "a = 0.7\n",
    "plt.figure(figsize=(16, 5))\n",
    "plt.subplot(1, 2, 1)\n",
    "plt.hist(dataset.HR_data.numpy().reshape(-1), bins=100, color=\"red\", edgecolor=\"black\", alpha=a, label=\"HR\")\n",
    "plt.hist(dataset.LR_data.numpy().reshape(-1), bins=100, color=\"blue\", edgecolor=\"black\", alpha=a, label=\"LR\")\n",
    "plt.grid()\n",
    "\n",
    "plt.subplot(1, 2, 2)\n",
    "plt.hist(dataset.HR_data.numpy().reshape(-1), bins=100, color=\"red\", edgecolor=\"black\", alpha=a, label=\"HR\")\n",
    "plt.hist(dataset.LR_data.numpy().reshape(-1), bins=100, color=\"blue\", edgecolor=\"black\", alpha=a, label=\"LR\")\n",
    "plt.yscale(\"log\")\n",
    "plt.grid()\n",
    "plt.show()\n"
   ]
  },
  {
   "cell_type": "code",
   "execution_count": 7,
   "metadata": {},
   "outputs": [
    {
     "name": "stdout",
     "output_type": "stream",
     "text": [
      "mean_LR = 0.061324529349803925 std_LR = 0.11733044683933258\n",
      "mean_HR = 0.06132453307509422 std_HR = 0.11728931218385696\n",
      "RAM used : 2.65GB, RAM free : 3.7GB, memory used : 82.09MB\n"
     ]
    }
   ],
   "source": [
    "try:\n",
    "    print(f\"mean_LR = {dataset.mean_LR.item()} std_LR = {dataset.std_LR.item()}\")\n",
    "except Exception as e:\n",
    "    print(f\"mean_LR = {dataset.mean_LR} std_LR = {dataset.std_LR}\")\n",
    "\n",
    "\n",
    "try:\n",
    "    print(f\"mean_HR = {dataset.mean_HR.item()} std_HR = {dataset.std_HR.item()}\")\n",
    "except Exception as e:\n",
    "    print(f\"mean_HR = {dataset.mean_HR} std_HR = {dataset.std_HR}\")\n",
    "    \n",
    "\n",
    "memory_after = psutil.virtual_memory()\n",
    "print(f\"RAM used : {format(memory_after.used)}, RAM free : {format(memory_after.free)}, memory used : {format(memory_after.used - memory_start.used)}\")"
   ]
  },
  {
   "cell_type": "markdown",
   "metadata": {},
   "source": [
    "# SRCNN\n",
    "\n",
    "Paper : https://arxiv.org/abs/1501.00092"
   ]
  },
  {
   "cell_type": "code",
   "execution_count": 19,
   "metadata": {},
   "outputs": [],
   "source": [
    "\n",
    "class SRCNN_upsampler(nn.Module):\n",
    "    def __init__(self) -> None:\n",
    "        super(SRCNN_upsampler, self).__init__()\n",
    "        \n",
    "        self.upsampler = nn.Upsample(scale_factor=2, mode='bilinear', align_corners=False)        \n",
    "        \n",
    "        self.features = nn.Sequential(\n",
    "            nn.Conv2d(1, 128, (9, 9), (1, 1), (4, 4)),\n",
    "            nn.ReLU(True)\n",
    "        )\n",
    "\n",
    "        self.map = nn.Sequential(\n",
    "            nn.Conv2d(128, 64, (5, 5), (1, 1), (2, 2)),\n",
    "            nn.ReLU(True)\n",
    "        )\n",
    "\n",
    "        self.reconstruction = nn.Conv2d(64, 1, (5, 5), (1, 1), (2, 2))\n",
    "\n",
    "        self._initialize_weights()\n",
    "\n",
    "    def forward(self, x: torch.Tensor) -> torch.Tensor:\n",
    "        if self.upsampler is not None:\n",
    "            x = self.upsampler(x)\n",
    "        return self._forward_impl(x)\n",
    "\n",
    "    # Support torch.script function.\n",
    "    def _forward_impl(self, x: torch.Tensor) -> torch.Tensor:\n",
    "        out = self.features(x)\n",
    "        out = self.map(out)\n",
    "        out = self.reconstruction(out)\n",
    "        return out\n",
    "\n",
    "    # The filter weight of each layer is a Gaussian distribution with zero mean and\n",
    "    # standard deviation initialized by random extraction 0.001 (deviation is 0)\n",
    "    def _initialize_weights(self) -> None:\n",
    "        for module in self.modules():\n",
    "            if isinstance(module, nn.Conv2d):\n",
    "                nn.init.normal_(module.weight.data, 0.0, math.sqrt(2 / (module.out_channels * module.weight.data[0][0].numel())))\n",
    "                nn.init.zeros_(module.bias.data)\n",
    "\n",
    "        nn.init.normal_(self.reconstruction.weight.data, 0.0, 0.001)\n",
    "        nn.init.zeros_(self.reconstruction.bias.data)"
   ]
  },
  {
   "cell_type": "markdown",
   "metadata": {},
   "source": [
    "## Run for upsampler layer"
   ]
  },
  {
   "cell_type": "code",
   "execution_count": 20,
   "metadata": {},
   "outputs": [
    {
     "data": {
      "text/plain": [
       "==========================================================================================\n",
       "Layer (type:depth-idx)                   Output Shape              Param #\n",
       "==========================================================================================\n",
       "SRCNN_upsampler                          [4, 1, 150, 150]          --\n",
       "├─Upsample: 1-1                          [4, 1, 150, 150]          --\n",
       "├─Sequential: 1-2                        [4, 128, 150, 150]        --\n",
       "│    └─Conv2d: 2-1                       [4, 128, 150, 150]        10,496\n",
       "│    └─ReLU: 2-2                         [4, 128, 150, 150]        --\n",
       "├─Sequential: 1-3                        [4, 64, 150, 150]         --\n",
       "│    └─Conv2d: 2-3                       [4, 64, 150, 150]         204,864\n",
       "│    └─ReLU: 2-4                         [4, 64, 150, 150]         --\n",
       "├─Conv2d: 1-4                            [4, 1, 150, 150]          1,601\n",
       "==========================================================================================\n",
       "Total params: 216,961\n",
       "Trainable params: 216,961\n",
       "Non-trainable params: 0\n",
       "Total mult-adds (G): 19.53\n",
       "==========================================================================================\n",
       "Input size (MB): 0.09\n",
       "Forward/backward pass size (MB): 138.96\n",
       "Params size (MB): 0.87\n",
       "Estimated Total Size (MB): 139.92\n",
       "=========================================================================================="
      ]
     },
     "execution_count": 20,
     "metadata": {},
     "output_type": "execute_result"
    }
   ],
   "source": [
    "model  = SRCNN_upsampler()\n",
    "model(x).shape\n",
    "summary(model, input_size=(CONFIG.BATCH_SIZE, 1, 75, 75))"
   ]
  },
  {
   "cell_type": "code",
   "execution_count": 22,
   "metadata": {},
   "outputs": [
    {
     "data": {
      "text/html": [
       "Tracking run with wandb version 0.16.4"
      ],
      "text/plain": [
       "<IPython.core.display.HTML object>"
      ]
     },
     "metadata": {},
     "output_type": "display_data"
    },
    {
     "data": {
      "text/html": [
       "Run data is saved locally in <code>/home/mlewand/PROJS/DeepLense2024-1/wandb/run-20240318_231000-sebh146g</code>"
      ],
      "text/plain": [
       "<IPython.core.display.HTML object>"
      ]
     },
     "metadata": {},
     "output_type": "display_data"
    },
    {
     "data": {
      "text/html": [
       "Syncing run <strong><a href='https://wandb.ai/mlewand7/DeepLense2024_task2A/runs/sebh146g' target=\"_blank\">experiment_SRCNN_upsample</a></strong> to <a href='https://wandb.ai/mlewand7/DeepLense2024_task2A' target=\"_blank\">Weights & Biases</a> (<a href='https://wandb.me/run' target=\"_blank\">docs</a>)<br/>"
      ],
      "text/plain": [
       "<IPython.core.display.HTML object>"
      ]
     },
     "metadata": {},
     "output_type": "display_data"
    },
    {
     "data": {
      "text/html": [
       " View project at <a href='https://wandb.ai/mlewand7/DeepLense2024_task2A' target=\"_blank\">https://wandb.ai/mlewand7/DeepLense2024_task2A</a>"
      ],
      "text/plain": [
       "<IPython.core.display.HTML object>"
      ]
     },
     "metadata": {},
     "output_type": "display_data"
    },
    {
     "data": {
      "text/html": [
       " View run at <a href='https://wandb.ai/mlewand7/DeepLense2024_task2A/runs/sebh146g' target=\"_blank\">https://wandb.ai/mlewand7/DeepLense2024_task2A/runs/sebh146g</a>"
      ],
      "text/plain": [
       "<IPython.core.display.HTML object>"
      ]
     },
     "metadata": {},
     "output_type": "display_data"
    },
    {
     "name": "stderr",
     "output_type": "stream",
     "text": [
      "examples seen so far : 160 Mean Squared Error (MSE)=0.017570072896309994 ; PSNR=17.7401259085408 ; SSIM=0.2205320365211499 ; : 100%|██████████| 40/40 [00:00<00:00, 52.15it/s]   \n",
      "examples seen so far : 40 Mean Squared Error (MSE)=0.017035331123341352 ; PSNR=17.84600597073752 ; SSIM=0.2159556765586902 ; : 100%|██████████| 10/10 [00:00<00:00, 31.56it/s] \n",
      "EPOCH : 0, average loss : 0.00533578570903046: 100%|██████████| 40/40 [00:00<00:00, 56.78it/s]  \n",
      "examples seen so far : 160 Mean Squared Error (MSE)=0.0006488986359469874 ; PSNR=32.140559633793714 ; SSIM=0.9276132733566956 ; : 100%|██████████| 40/40 [00:00<00:00, 55.45it/s]\n",
      "examples seen so far : 40 Mean Squared Error (MSE)=0.0005907403687253976 ; PSNR=32.54632755803982 ; SSIM=0.9288816986939846 ; : 100%|██████████| 10/10 [00:00<00:00, 37.20it/s]\n",
      "EPOCH : 1, average loss : 0.0005498850528965704: 100%|██████████| 40/40 [00:00<00:00, 70.46it/s]\n",
      "examples seen so far : 160 Mean Squared Error (MSE)=0.0004047514752150988 ; PSNR=34.20741428661958 ; SSIM=0.9548214636508774 ; : 100%|██████████| 40/40 [00:00<00:00, 42.44it/s] \n",
      "examples seen so far : 40 Mean Squared Error (MSE)=0.00036820933149637986 ; PSNR=34.60297321322761 ; SSIM=0.9550408950218787 ; : 100%|██████████| 10/10 [00:00<00:00, 37.14it/s]\n",
      "EPOCH : 2, average loss : 0.00027512211199791635: 100%|██████████| 40/40 [00:00<00:00, 67.01it/s]\n",
      "examples seen so far : 160 Mean Squared Error (MSE)=0.0001428900380822414 ; PSNR=38.58272140732742 ; SSIM=0.9587926096136465 ; : 100%|██████████| 40/40 [00:00<00:00, 42.84it/s]  \n",
      "examples seen so far : 40 Mean Squared Error (MSE)=0.0001372290894207067 ; PSNR=38.72363399311645 ; SSIM=0.9584590853788914 ; : 100%|██████████| 10/10 [00:00<00:00, 40.12it/s]\n",
      "EPOCH : 3, average loss : 0.00011385503003111808: 100%|██████████| 40/40 [00:00<00:00, 71.66it/s]\n",
      "examples seen so far : 160 Mean Squared Error (MSE)=9.50945795234732e-05 ; PSNR=40.28406240025367 ; SSIM=0.9664834587828918 ; : 100%|██████████| 40/40 [00:00<00:00, 40.91it/s] \n",
      "examples seen so far : 40 Mean Squared Error (MSE)=9.225816048013094e-05 ; PSNR=40.39594251317052 ; SSIM=0.9655569455562494 ; : 100%|██████████| 10/10 [00:00<00:00, 42.86it/s]\n",
      "EPOCH : 4, average loss : 8.865309901011642e-05: 100%|██████████| 40/40 [00:00<00:00, 68.24it/s]\n",
      "examples seen so far : 160 Mean Squared Error (MSE)=8.379952297395874e-05 ; PSNR=40.81724603369062 ; SSIM=0.9671889303615259 ; : 100%|██████████| 40/40 [00:00<00:00, 43.43it/s]\n",
      "examples seen so far : 40 Mean Squared Error (MSE)=8.219574421020344e-05 ; PSNR=40.88669265804991 ; SSIM=0.9662369122871985 ; : 100%|██████████| 10/10 [00:00<00:00, 44.91it/s]\n",
      "EPOCH : 5, average loss : 8.162571211869362e-05: 100%|██████████| 40/40 [00:00<00:00, 70.82it/s]\n",
      "examples seen so far : 160 Mean Squared Error (MSE)=7.967163176962567e-05 ; PSNR=41.029953061158686 ; SSIM=0.9673227225459596 ; : 100%|██████████| 40/40 [00:00<00:00, 55.49it/s]\n",
      "examples seen so far : 40 Mean Squared Error (MSE)=7.876573064818214e-05 ; PSNR=41.06695956736483 ; SSIM=0.9663243033947089 ; : 100%|██████████| 10/10 [00:00<00:00, 52.37it/s]\n",
      "EPOCH : 6, average loss : 7.848518944229e-05: 100%|██████████| 40/40 [00:00<00:00, 66.41it/s]   \n",
      "examples seen so far : 160 Mean Squared Error (MSE)=7.734448507039386e-05 ; PSNR=41.155255101751884 ; SSIM=0.967727856066242 ; : 100%|██████████| 40/40 [00:00<00:00, 44.67it/s] \n",
      "examples seen so far : 40 Mean Squared Error (MSE)=7.673620777309108e-05 ; PSNR=41.17833277368842 ; SSIM=0.9667483828006647 ; : 100%|██████████| 10/10 [00:00<00:00, 44.05it/s]\n",
      "EPOCH : 7, average loss : 7.679879163333681e-05: 100%|██████████| 40/40 [00:00<00:00, 71.64it/s]\n",
      "examples seen so far : 160 Mean Squared Error (MSE)=7.607887292470425e-05 ; PSNR=41.22691188871708 ; SSIM=0.9679867149149097 ; : 100%|██████████| 40/40 [00:00<00:00, 53.70it/s] \n",
      "examples seen so far : 40 Mean Squared Error (MSE)=7.559034034224729e-05 ; PSNR=41.24349749200642 ; SSIM=0.9669586496475415 ; : 100%|██████████| 10/10 [00:00<00:00, 48.53it/s]\n",
      "EPOCH : 8, average loss : 7.577681517432212e-05: 100%|██████████| 40/40 [00:00<00:00, 68.97it/s]\n",
      "examples seen so far : 160 Mean Squared Error (MSE)=8.088301409822274e-05 ; PSNR=40.96076978360757 ; SSIM=0.9676317400152579 ; : 100%|██████████| 40/40 [00:00<00:00, 47.68it/s] \n",
      "examples seen so far : 40 Mean Squared Error (MSE)=8.054779633918467e-05 ; PSNR=40.96797024599015 ; SSIM=0.966725488503774 ; : 100%|██████████| 10/10 [00:00<00:00, 44.81it/s]\n",
      "EPOCH : 9, average loss : 7.669129554415122e-05: 100%|██████████| 40/40 [00:00<00:00, 69.94it/s]\n",
      "examples seen so far : 160 Mean Squared Error (MSE)=7.517033938150823e-05 ; PSNR=41.27812743015095 ; SSIM=0.968256949253802 ; : 100%|██████████| 40/40 [00:01<00:00, 38.17it/s] \n",
      "examples seen so far : 40 Mean Squared Error (MSE)=7.486322498059449e-05 ; PSNR=41.28475800716132 ; SSIM=0.9672594605348049 ; : 100%|██████████| 10/10 [00:00<00:00, 50.37it/s]\n",
      "wandb: WARNING Source type is set to 'repo' but some required information is missing from the environment. A job will not be created from this run. See https://docs.wandb.ai/guides/launch/create-job\n"
     ]
    },
    {
     "data": {
      "application/vnd.jupyter.widget-view+json": {
       "model_id": "860dfb847d154980a7b9042a95e78872",
       "version_major": 2,
       "version_minor": 0
      },
      "text/plain": [
       "VBox(children=(Label(value='3.122 MB of 3.153 MB uploaded\\r'), FloatProgress(value=0.9904086532062312, max=1.0…"
      ]
     },
     "metadata": {},
     "output_type": "display_data"
    },
    {
     "data": {
      "text/html": [
       "<style>\n",
       "    table.wandb td:nth-child(1) { padding: 0 10px; text-align: left ; width: auto;} td:nth-child(2) {text-align: left ; width: 100%}\n",
       "    .wandb-row { display: flex; flex-direction: row; flex-wrap: wrap; justify-content: flex-start; width: 100% }\n",
       "    .wandb-col { display: flex; flex-direction: column; flex-basis: 100%; flex: 1; padding: 10px; }\n",
       "    </style>\n",
       "<div class=\"wandb-row\"><div class=\"wandb-col\"><h3>Run history:</h3><br/><table class=\"wandb\"><tr><td>loss</td><td>█▂▁▁▁▁▁▁▁▁</td></tr><tr><td>train_Mean Squared Error (MSE)</td><td>█▁▁▁▁▁▁▁▁▁▁</td></tr><tr><td>train_PSNR</td><td>▁▅▆▇███████</td></tr><tr><td>train_SSIM</td><td>▁██████████</td></tr><tr><td>val_Mean Squared Error (MSE)</td><td>█▁▁▁▁▁▁▁▁▁▁</td></tr><tr><td>val_PSNR</td><td>▁▅▆▇███████</td></tr><tr><td>val_SSIM</td><td>▁██████████</td></tr></table><br/></div><div class=\"wandb-col\"><h3>Run summary:</h3><br/><table class=\"wandb\"><tr><td>loss</td><td>8e-05</td></tr><tr><td>train_Mean Squared Error (MSE)</td><td>8e-05</td></tr><tr><td>train_PSNR</td><td>41.27788</td></tr><tr><td>train_SSIM</td><td>0.96824</td></tr><tr><td>val_Mean Squared Error (MSE)</td><td>8e-05</td></tr><tr><td>val_PSNR</td><td>41.26449</td></tr><tr><td>val_SSIM</td><td>0.96739</td></tr></table><br/></div></div>"
      ],
      "text/plain": [
       "<IPython.core.display.HTML object>"
      ]
     },
     "metadata": {},
     "output_type": "display_data"
    },
    {
     "data": {
      "text/html": [
       " View run <strong style=\"color:#cdcd00\">experiment_SRCNN_upsample</strong> at: <a href='https://wandb.ai/mlewand7/DeepLense2024_task2A/runs/sebh146g' target=\"_blank\">https://wandb.ai/mlewand7/DeepLense2024_task2A/runs/sebh146g</a><br/>Synced 5 W&B file(s), 220 media file(s), 0 artifact file(s) and 0 other file(s)"
      ],
      "text/plain": [
       "<IPython.core.display.HTML object>"
      ]
     },
     "metadata": {},
     "output_type": "display_data"
    },
    {
     "data": {
      "text/html": [
       "Find logs at: <code>./wandb/run-20240318_231000-sebh146g/logs</code>"
      ],
      "text/plain": [
       "<IPython.core.display.HTML object>"
      ]
     },
     "metadata": {},
     "output_type": "display_data"
    }
   ],
   "source": [
    "run_experiment_task2(train_dataloader=train_loader, \n",
    "                     val_dataloader=val_loader, \n",
    "                     Model=SRCNN_upsampler, \n",
    "                     run_name=\"SRCNN_upsample\", \n",
    "                     model_parameters={}, \n",
    "                     epochs=10,\n",
    "                     learning_rate=1e-4, \n",
    "                     optimizer='adam',\n",
    "                     savepath=\"models/srcnn_upsample.pth\",\n",
    "                     metrics=[MSE_Metric(), PSNR_Metric(), SSIM_Metric()],\n",
    "                     cfg=CONFIG,\n",
    "                     loss=\"MSE\",\n",
    "                     base_lr=1e-4, \n",
    "                     test_params={\"save_in_total\" : 10},\n",
    "                     max_lr=1e-3,\n",
    "                     scheduler_en=False,\n",
    "                     metric_keyword=\"val_PSNR\",\n",
    "                     lr_steps=len(dataset) // 2,\n",
    "                     start_with_test=True,\n",
    "                     WANDB_ON=True)"
   ]
  },
  {
   "cell_type": "code",
   "execution_count": 17,
   "metadata": {},
   "outputs": [
    {
     "data": {
      "text/plain": [
       "==========================================================================================\n",
       "Layer (type:depth-idx)                   Output Shape              Param #\n",
       "==========================================================================================\n",
       "SRCNN                                    [4, 1, 150, 150]          --\n",
       "├─ConvTranspose2d: 1-1                   [4, 1, 150, 150]          5\n",
       "├─Sequential: 1-2                        [4, 128, 150, 150]        --\n",
       "│    └─Conv2d: 2-1                       [4, 128, 150, 150]        10,496\n",
       "│    └─ReLU: 2-2                         [4, 128, 150, 150]        --\n",
       "├─Sequential: 1-3                        [4, 64, 150, 150]         --\n",
       "│    └─Conv2d: 2-3                       [4, 64, 150, 150]         204,864\n",
       "│    └─ReLU: 2-4                         [4, 64, 150, 150]         --\n",
       "├─Conv2d: 1-4                            [4, 1, 150, 150]          1,601\n",
       "==========================================================================================\n",
       "Total params: 216,966\n",
       "Trainable params: 216,966\n",
       "Non-trainable params: 0\n",
       "Total mult-adds (G): 19.53\n",
       "==========================================================================================\n",
       "Input size (MB): 0.09\n",
       "Forward/backward pass size (MB): 139.68\n",
       "Params size (MB): 0.87\n",
       "Estimated Total Size (MB): 140.64\n",
       "=========================================================================================="
      ]
     },
     "execution_count": 17,
     "metadata": {},
     "output_type": "execute_result"
    }
   ],
   "source": [
    "model  = SRCNN_upsampler()\n",
    "model(x).shape\n",
    "summary(model, input_size=(CONFIG.BATCH_SIZE, 1, 75, 75))"
   ]
  },
  {
   "cell_type": "markdown",
   "metadata": {},
   "source": [
    "## Run for Conv2DTranspose"
   ]
  },
  {
   "cell_type": "code",
   "execution_count": 28,
   "metadata": {},
   "outputs": [],
   "source": [
    "\n",
    "class SRCNN_conv2DTranspose(nn.Module):\n",
    "    def __init__(self) -> None:\n",
    "        super(SRCNN_conv2DTranspose, self).__init__()\n",
    "        \n",
    "        self.features = nn.Sequential(\n",
    "            nn.Conv2d(1, 128, (9, 9), (1, 1), (4, 4)),\n",
    "            nn.ReLU(True)\n",
    "        )\n",
    "\n",
    "        self.map = nn.Sequential(\n",
    "            nn.Conv2d(128, 64, (5, 5), (1, 1), (2, 2)),\n",
    "            nn.ReLU(True)\n",
    "        )\n",
    "        \n",
    "        self.upsampler = nn.ConvTranspose2d(64, 64, (3, 3), stride=2, padding=1, output_padding=1)\n",
    "\n",
    "        self.reconstruction = nn.Conv2d(64, 1, (5, 5), (1, 1), (2, 2))\n",
    "\n",
    "        self._initialize_weights()\n",
    "\n",
    "    def forward(self, x: torch.Tensor) -> torch.Tensor:\n",
    "        return self._forward_impl(x)\n",
    "\n",
    "    # Support torch.script function.\n",
    "    def _forward_impl(self, x: torch.Tensor) -> torch.Tensor:\n",
    "        out = self.features(x)\n",
    "        out = self.map(out)\n",
    "        out = self.upsampler(out)\n",
    "        out = self.reconstruction(out)\n",
    "        return out\n",
    "\n",
    "    # The filter weight of each layer is a Gaussian distribution with zero mean and\n",
    "    # standard deviation initialized by random extraction 0.001 (deviation is 0)\n",
    "    def _initialize_weights(self) -> None:\n",
    "        for module in self.modules():\n",
    "            if isinstance(module, nn.Conv2d):\n",
    "                nn.init.normal_(module.weight.data, 0.0, math.sqrt(2 / (module.out_channels * module.weight.data[0][0].numel())))\n",
    "                nn.init.zeros_(module.bias.data)\n",
    "\n",
    "        nn.init.normal_(self.reconstruction.weight.data, 0.0, 0.001)\n",
    "        nn.init.zeros_(self.reconstruction.bias.data)"
   ]
  },
  {
   "cell_type": "code",
   "execution_count": 29,
   "metadata": {},
   "outputs": [
    {
     "data": {
      "text/plain": [
       "==========================================================================================\n",
       "Layer (type:depth-idx)                   Output Shape              Param #\n",
       "==========================================================================================\n",
       "SRCNN_conv2DTranspose                    [4, 1, 150, 150]          --\n",
       "├─Sequential: 1-1                        [4, 128, 75, 75]          --\n",
       "│    └─Conv2d: 2-1                       [4, 128, 75, 75]          10,496\n",
       "│    └─ReLU: 2-2                         [4, 128, 75, 75]          --\n",
       "├─Sequential: 1-2                        [4, 64, 75, 75]           --\n",
       "│    └─Conv2d: 2-3                       [4, 64, 75, 75]           204,864\n",
       "│    └─ReLU: 2-4                         [4, 64, 75, 75]           --\n",
       "├─ConvTranspose2d: 1-3                   [4, 64, 150, 150]         36,928\n",
       "├─Conv2d: 1-4                            [4, 1, 150, 150]          1,601\n",
       "==========================================================================================\n",
       "Total params: 253,889\n",
       "Trainable params: 253,889\n",
       "Non-trainable params: 0\n",
       "Total mult-adds (G): 8.31\n",
       "==========================================================================================\n",
       "Input size (MB): 0.09\n",
       "Forward/backward pass size (MB): 81.36\n",
       "Params size (MB): 1.02\n",
       "Estimated Total Size (MB): 82.47\n",
       "=========================================================================================="
      ]
     },
     "execution_count": 29,
     "metadata": {},
     "output_type": "execute_result"
    }
   ],
   "source": [
    "model  = SRCNN_conv2DTranspose()\n",
    "model(x).shape\n",
    "summary(model, input_size=(CONFIG.BATCH_SIZE, 1, 75, 75))"
   ]
  },
  {
   "cell_type": "code",
   "execution_count": 30,
   "metadata": {},
   "outputs": [
    {
     "data": {
      "text/html": [
       "Finishing last run (ID:ppxln0q1) before initializing another..."
      ],
      "text/plain": [
       "<IPython.core.display.HTML object>"
      ]
     },
     "metadata": {},
     "output_type": "display_data"
    },
    {
     "name": "stderr",
     "output_type": "stream",
     "text": [
      "wandb: WARNING Source type is set to 'repo' but some required information is missing from the environment. A job will not be created from this run. See https://docs.wandb.ai/guides/launch/create-job\n"
     ]
    },
    {
     "data": {
      "application/vnd.jupyter.widget-view+json": {
       "model_id": "83114043352c49a8a2008775a477a0a9",
       "version_major": 2,
       "version_minor": 0
      },
      "text/plain": [
       "VBox(children=(Label(value='0.003 MB of 0.003 MB uploaded\\r'), FloatProgress(value=1.0, max=1.0)))"
      ]
     },
     "metadata": {},
     "output_type": "display_data"
    },
    {
     "data": {
      "text/html": [
       " View run <strong style=\"color:#cdcd00\">experiment_SRCNN_conv2DTranspose</strong> at: <a href='https://wandb.ai/mlewand7/DeepLense2024_task2A/runs/ppxln0q1' target=\"_blank\">https://wandb.ai/mlewand7/DeepLense2024_task2A/runs/ppxln0q1</a><br/>Synced 5 W&B file(s), 0 media file(s), 0 artifact file(s) and 0 other file(s)"
      ],
      "text/plain": [
       "<IPython.core.display.HTML object>"
      ]
     },
     "metadata": {},
     "output_type": "display_data"
    },
    {
     "data": {
      "text/html": [
       "Find logs at: <code>./wandb/run-20240318_231145-ppxln0q1/logs</code>"
      ],
      "text/plain": [
       "<IPython.core.display.HTML object>"
      ]
     },
     "metadata": {},
     "output_type": "display_data"
    },
    {
     "data": {
      "text/html": [
       "Successfully finished last run (ID:ppxln0q1). Initializing new run:<br/>"
      ],
      "text/plain": [
       "<IPython.core.display.HTML object>"
      ]
     },
     "metadata": {},
     "output_type": "display_data"
    },
    {
     "data": {
      "application/vnd.jupyter.widget-view+json": {
       "model_id": "31f3c756897e4fdaa292d882301ac9b0",
       "version_major": 2,
       "version_minor": 0
      },
      "text/plain": [
       "VBox(children=(Label(value='Waiting for wandb.init()...\\r'), FloatProgress(value=0.011113320744435542, max=1.0…"
      ]
     },
     "metadata": {},
     "output_type": "display_data"
    },
    {
     "data": {
      "text/html": [
       "Tracking run with wandb version 0.16.4"
      ],
      "text/plain": [
       "<IPython.core.display.HTML object>"
      ]
     },
     "metadata": {},
     "output_type": "display_data"
    },
    {
     "data": {
      "text/html": [
       "Run data is saved locally in <code>/home/mlewand/PROJS/DeepLense2024-1/wandb/run-20240318_231301-vh9pf9qf</code>"
      ],
      "text/plain": [
       "<IPython.core.display.HTML object>"
      ]
     },
     "metadata": {},
     "output_type": "display_data"
    },
    {
     "data": {
      "text/html": [
       "Syncing run <strong><a href='https://wandb.ai/mlewand7/DeepLense2024_task2A/runs/vh9pf9qf' target=\"_blank\">experiment_SRCNN_conv2DTranspose</a></strong> to <a href='https://wandb.ai/mlewand7/DeepLense2024_task2A' target=\"_blank\">Weights & Biases</a> (<a href='https://wandb.me/run' target=\"_blank\">docs</a>)<br/>"
      ],
      "text/plain": [
       "<IPython.core.display.HTML object>"
      ]
     },
     "metadata": {},
     "output_type": "display_data"
    },
    {
     "data": {
      "text/html": [
       " View project at <a href='https://wandb.ai/mlewand7/DeepLense2024_task2A' target=\"_blank\">https://wandb.ai/mlewand7/DeepLense2024_task2A</a>"
      ],
      "text/plain": [
       "<IPython.core.display.HTML object>"
      ]
     },
     "metadata": {},
     "output_type": "display_data"
    },
    {
     "data": {
      "text/html": [
       " View run at <a href='https://wandb.ai/mlewand7/DeepLense2024_task2A/runs/vh9pf9qf' target=\"_blank\">https://wandb.ai/mlewand7/DeepLense2024_task2A/runs/vh9pf9qf</a>"
      ],
      "text/plain": [
       "<IPython.core.display.HTML object>"
      ]
     },
     "metadata": {},
     "output_type": "display_data"
    },
    {
     "name": "stderr",
     "output_type": "stream",
     "text": [
      "examples seen so far : 160 Mean Squared Error (MSE)=0.01753176072225818 ; PSNR=17.750210403374037 ; SSIM=0.24602452192291524 ; : 100%|██████████| 40/40 [00:01<00:00, 33.29it/s]\n",
      "examples seen so far : 40 Mean Squared Error (MSE)=0.01699721636489416 ; PSNR=17.85624247532975 ; SSIM=0.24144518146148095 ; : 100%|██████████| 10/10 [00:00<00:00, 28.54it/s] \n",
      "EPOCH : 0, average loss : 0.009168789623072372: 100%|██████████| 40/40 [00:00<00:00, 66.34it/s]\n",
      "examples seen so far : 160 Mean Squared Error (MSE)=0.0025848808629532 ; PSNR=26.047738379640926 ; SSIM=0.6788877132553724 ; : 100%|██████████| 40/40 [00:00<00:00, 59.41it/s]   \n",
      "examples seen so far : 40 Mean Squared Error (MSE)=0.0024310615456973514 ; PSNR=26.292729154298957 ; SSIM=0.6841057095772181 ; : 100%|██████████| 10/10 [00:00<00:00, 49.54it/s]\n",
      "EPOCH : 1, average loss : 0.0012000553258985746: 100%|██████████| 40/40 [00:00<00:00, 130.48it/s]\n",
      "examples seen so far : 160 Mean Squared Error (MSE)=0.0005094226683656914 ; PSNR=33.18394959570184 ; SSIM=0.9092976949499838 ; : 100%|██████████| 40/40 [00:00<00:00, 69.25it/s]\n",
      "examples seen so far : 40 Mean Squared Error (MSE)=0.00046919917207187374 ; PSNR=33.47974728167055 ; SSIM=0.9073409208884606 ; : 100%|██████████| 10/10 [00:00<00:00, 53.29it/s]\n",
      "EPOCH : 2, average loss : 0.0003363978688867064: 100%|██████████| 40/40 [00:00<00:00, 123.04it/s] \n",
      "examples seen so far : 160 Mean Squared Error (MSE)=0.00023924903658587696 ; PSNR=36.38010531607291 ; SSIM=0.9365139142522272 ; : 100%|██████████| 40/40 [00:00<00:00, 65.65it/s]\n",
      "examples seen so far : 40 Mean Squared Error (MSE)=0.0002188255718628613 ; PSNR=36.72859205491937 ; SSIM=0.9377609032850999 ; : 100%|██████████| 10/10 [00:00<00:00, 53.34it/s] \n",
      "EPOCH : 3, average loss : 0.0001922328410728369: 100%|██████████| 40/40 [00:00<00:00, 131.99it/s] \n",
      "examples seen so far : 160 Mean Squared Error (MSE)=0.00015610981758782031 ; PSNR=38.1942536031846 ; SSIM=0.9598413724569405 ; : 100%|██████████| 40/40 [00:00<00:00, 63.67it/s] \n",
      "examples seen so far : 40 Mean Squared Error (MSE)=0.00014473641502450054 ; PSNR=38.48018637112841 ; SSIM=0.9598376705096319 ; : 100%|██████████| 10/10 [00:00<00:00, 43.34it/s]\n",
      "EPOCH : 4, average loss : 0.0001405035949574085: 100%|██████████| 40/40 [00:00<00:00, 128.90it/s] \n",
      "examples seen so far : 160 Mean Squared Error (MSE)=0.00012848159508251016 ; PSNR=38.99500692039924 ; SSIM=0.9623096926407244 ; : 100%|██████████| 40/40 [00:00<00:00, 57.21it/s]\n",
      "examples seen so far : 40 Mean Squared Error (MSE)=0.00012158604640250978 ; PSNR=39.20924219108382 ; SSIM=0.9618838322468293 ; : 100%|██████████| 10/10 [00:00<00:00, 45.74it/s]\n",
      "EPOCH : 5, average loss : 0.0001221259379235562: 100%|██████████| 40/40 [00:00<00:00, 118.96it/s] \n",
      "examples seen so far : 160 Mean Squared Error (MSE)=0.00011514926442924782 ; PSNR=39.47051751089403 ; SSIM=0.9631061321534451 ; : 100%|██████████| 40/40 [00:00<00:00, 59.02it/s]\n",
      "examples seen so far : 40 Mean Squared Error (MSE)=0.00010937754156587359 ; PSNR=39.668940315289376 ; SSIM=0.9626398285230001 ; : 100%|██████████| 10/10 [00:00<00:00, 46.52it/s]\n",
      "EPOCH : 6, average loss : 0.00011089247927884572: 100%|██████████| 40/40 [00:00<00:00, 115.26it/s]\n",
      "examples seen so far : 160 Mean Squared Error (MSE)=0.00010586029805284017 ; PSNR=39.823485619701785 ; SSIM=0.9639321393186941 ; : 100%|██████████| 40/40 [00:00<00:00, 48.17it/s]\n",
      "examples seen so far : 40 Mean Squared Error (MSE)=0.00010139463866392199 ; PSNR=39.98847792608527 ; SSIM=0.9632847354962275 ; : 100%|██████████| 10/10 [00:00<00:00, 40.28it/s]\n",
      "EPOCH : 7, average loss : 0.00010215208276349585: 100%|██████████| 40/40 [00:00<00:00, 118.79it/s]\n",
      "examples seen so far : 160 Mean Squared Error (MSE)=9.912435789431486e-05 ; PSNR=40.098251377428724 ; SSIM=0.9647722454191004 ; : 100%|██████████| 40/40 [00:00<00:00, 65.20it/s]\n",
      "examples seen so far : 40 Mean Squared Error (MSE)=9.543155092381849e-05 ; PSNR=40.245078293105976 ; SSIM=0.9640001241977398 ; : 100%|██████████| 10/10 [00:00<00:00, 13.51it/s]\n",
      "EPOCH : 8, average loss : 9.601791443856201e-05: 100%|██████████| 40/40 [00:00<00:00, 102.01it/s] \n",
      "examples seen so far : 160 Mean Squared Error (MSE)=9.386869589102589e-05 ; PSNR=40.33333787433123 ; SSIM=0.9652077503174356 ; : 100%|██████████| 40/40 [00:00<00:00, 51.77it/s] \n",
      "examples seen so far : 40 Mean Squared Error (MSE)=9.081525263937716e-05 ; PSNR=40.45814199438792 ; SSIM=0.9644234944612552 ; : 100%|██████████| 10/10 [00:00<00:00, 15.45it/s]\n",
      "EPOCH : 9, average loss : 9.16901162781869e-05: 100%|██████████| 40/40 [00:00<00:00, 91.50it/s] \n",
      "examples seen so far : 160 Mean Squared Error (MSE)=8.966594874242367e-05 ; PSNR=40.52465818512262 ; SSIM=0.9657361818559514 ; : 100%|██████████| 40/40 [00:00<00:00, 64.68it/s]\n",
      "examples seen so far : 40 Mean Squared Error (MSE)=8.721818766132809e-05 ; PSNR=40.628160934437126 ; SSIM=0.9648700111951584 ; : 100%|██████████| 10/10 [00:00<00:00, 14.74it/s]\n",
      "EPOCH : 10, average loss : 8.854488714860054e-05: 100%|██████████| 40/40 [00:00<00:00, 87.92it/s] \n",
      "examples seen so far : 160 Mean Squared Error (MSE)=8.850386491632557e-05 ; PSNR=40.577657634963565 ; SSIM=0.9661019556927231 ; : 100%|██████████| 40/40 [00:00<00:00, 46.86it/s]\n",
      "examples seen so far : 40 Mean Squared Error (MSE)=8.627525489711657e-05 ; PSNR=40.67341292873387 ; SSIM=0.9651964826461596 ; : 100%|██████████| 10/10 [00:00<00:00, 42.47it/s]\n",
      "EPOCH : 11, average loss : 8.689844362379518e-05: 100%|██████████| 40/40 [00:00<00:00, 122.86it/s]\n",
      "examples seen so far : 160 Mean Squared Error (MSE)=8.817544823282533e-05 ; PSNR=40.591888959830996 ; SSIM=0.9660917992861766 ; : 100%|██████████| 40/40 [00:00<00:00, 65.33it/s]\n",
      "examples seen so far : 40 Mean Squared Error (MSE)=8.639853611104906e-05 ; PSNR=40.66617173726992 ; SSIM=0.9652374050556085 ; : 100%|██████████| 10/10 [00:00<00:00, 50.11it/s]\n",
      "EPOCH : 12, average loss : 8.58375642565079e-05: 100%|██████████| 40/40 [00:00<00:00, 121.56it/s] \n",
      "examples seen so far : 160 Mean Squared Error (MSE)=8.581258383478512e-05 ; PSNR=40.71166321177009 ; SSIM=0.9662244406136327 ; : 100%|██████████| 40/40 [00:00<00:00, 69.34it/s] \n",
      "examples seen so far : 40 Mean Squared Error (MSE)=8.416423877814594e-05 ; PSNR=40.780504059213676 ; SSIM=0.9652908719502963 ; : 100%|██████████| 10/10 [00:00<00:00, 49.16it/s]\n",
      "EPOCH : 13, average loss : 8.47239409267786e-05: 100%|██████████| 40/40 [00:00<00:00, 86.19it/s]  \n",
      "examples seen so far : 160 Mean Squared Error (MSE)=8.367080137656369e-05 ; PSNR=40.81938401980971 ; SSIM=0.9664182273097008 ; : 100%|██████████| 40/40 [00:01<00:00, 27.55it/s]\n",
      "examples seen so far : 40 Mean Squared Error (MSE)=8.227235398058278e-05 ; PSNR=40.87775594460468 ; SSIM=0.9654673230953705 ; : 100%|██████████| 10/10 [00:00<00:00, 46.77it/s]\n",
      "EPOCH : 14, average loss : 8.348477713298053e-05: 100%|██████████| 40/40 [00:00<00:00, 88.98it/s]\n",
      "examples seen so far : 160 Mean Squared Error (MSE)=8.212488900420531e-05 ; PSNR=40.896622071141614 ; SSIM=0.9665049258268105 ; : 100%|██████████| 40/40 [00:01<00:00, 29.46it/s]\n",
      "examples seen so far : 40 Mean Squared Error (MSE)=8.101481263367579e-05 ; PSNR=40.943409918885685 ; SSIM=0.9655950176410186 ; : 100%|██████████| 10/10 [00:00<00:00, 50.31it/s]\n",
      "EPOCH : 15, average loss : 8.229807190218708e-05: 100%|██████████| 40/40 [00:00<00:00, 110.65it/s]\n",
      "examples seen so far : 160 Mean Squared Error (MSE)=8.263704398099287e-05 ; PSNR=40.869669847564154 ; SSIM=0.9665542087464962 ; : 100%|██████████| 40/40 [00:00<00:00, 65.39it/s]\n",
      "examples seen so far : 40 Mean Squared Error (MSE)=8.132522382836144e-05 ; PSNR=40.92633945270005 ; SSIM=0.9656441135284228 ; : 100%|██████████| 10/10 [00:00<00:00, 40.06it/s]\n",
      "EPOCH : 16, average loss : 8.233027929236414e-05: 100%|██████████| 40/40 [00:00<00:00, 95.92it/s] \n",
      "examples seen so far : 160 Mean Squared Error (MSE)=8.123260313196916e-05 ; PSNR=40.94398188285209 ; SSIM=0.9667257576618554 ; : 100%|██████████| 40/40 [00:01<00:00, 36.92it/s] \n",
      "examples seen so far : 40 Mean Squared Error (MSE)=8.014335701143584e-05 ; PSNR=40.98948825481646 ; SSIM=0.9657382903954922 ; : 100%|██████████| 10/10 [00:00<00:00, 51.87it/s]\n",
      "EPOCH : 17, average loss : 8.155980467563494e-05: 100%|██████████| 40/40 [00:00<00:00, 112.01it/s]\n",
      "examples seen so far : 160 Mean Squared Error (MSE)=8.29850817714238e-05 ; PSNR=40.853184512811495 ; SSIM=0.9665963578524079 ; : 100%|██████████| 40/40 [00:00<00:00, 62.41it/s] \n",
      "examples seen so far : 40 Mean Squared Error (MSE)=8.207722044645403e-05 ; PSNR=40.887311631439985 ; SSIM=0.9655923063938434 ; : 100%|██████████| 10/10 [00:00<00:00, 49.99it/s]\n",
      "EPOCH : 18, average loss : 8.239519866037881e-05: 100%|██████████| 40/40 [00:00<00:00, 126.62it/s]\n",
      "examples seen so far : 160 Mean Squared Error (MSE)=8.220112914220963e-05 ; PSNR=40.89300464216424 ; SSIM=0.9667328513643276 ; : 100%|██████████| 40/40 [00:01<00:00, 25.24it/s] \n",
      "examples seen so far : 40 Mean Squared Error (MSE)=8.114800398172333e-05 ; PSNR=40.93616556858691 ; SSIM=0.9657578850403811 ; : 100%|██████████| 10/10 [00:00<00:00, 15.51it/s]\n",
      "EPOCH : 19, average loss : 8.050161013670732e-05: 100%|██████████| 40/40 [00:00<00:00, 77.65it/s]\n",
      "examples seen so far : 160 Mean Squared Error (MSE)=7.978838464554908e-05 ; PSNR=41.02001945085975 ; SSIM=0.9668086339842599 ; : 100%|██████████| 40/40 [00:00<00:00, 65.76it/s] \n",
      "examples seen so far : 40 Mean Squared Error (MSE)=7.902394552216626e-05 ; PSNR=41.04993930820144 ; SSIM=0.9658584059813083 ; : 100%|██████████| 10/10 [00:00<00:00, 50.56it/s]\n",
      "EPOCH : 20, average loss : 7.969491016410757e-05: 100%|██████████| 40/40 [00:00<00:00, 121.54it/s]\n",
      "examples seen so far : 160 Mean Squared Error (MSE)=7.969448349325853e-05 ; PSNR=41.02444263916563 ; SSIM=0.9668258439819768 ; : 100%|██████████| 40/40 [00:01<00:00, 29.38it/s] \n",
      "examples seen so far : 40 Mean Squared Error (MSE)=7.887841862751744e-05 ; PSNR=41.05771297309994 ; SSIM=0.9658859463838431 ; : 100%|██████████| 10/10 [00:00<00:00, 57.61it/s]\n",
      "EPOCH : 21, average loss : 7.953999393066624e-05: 100%|██████████| 40/40 [00:00<00:00, 128.96it/s]\n",
      "examples seen so far : 160 Mean Squared Error (MSE)=7.920910600820298e-05 ; PSNR=41.051353449556665 ; SSIM=0.9669286398767675 ; : 100%|██████████| 40/40 [00:00<00:00, 65.78it/s]\n",
      "examples seen so far : 40 Mean Squared Error (MSE)=7.849038145370566e-05 ; PSNR=41.0793294919349 ; SSIM=0.965951036184262 ; : 100%|██████████| 10/10 [00:00<00:00, 54.27it/s]  \n",
      "EPOCH : 22, average loss : 7.912951459729812e-05: 100%|██████████| 40/40 [00:00<00:00, 125.42it/s]\n",
      "examples seen so far : 160 Mean Squared Error (MSE)=7.888945696802968e-05 ; PSNR=41.06836255352264 ; SSIM=0.9669671347306209 ; : 100%|██████████| 40/40 [00:00<00:00, 63.86it/s]\n",
      "examples seen so far : 40 Mean Squared Error (MSE)=7.816553690458815e-05 ; PSNR=41.09716229282453 ; SSIM=0.9659724052135761 ; : 100%|██████████| 10/10 [00:00<00:00, 51.02it/s]\n",
      "EPOCH : 23, average loss : 7.919938725535758e-05: 100%|██████████| 40/40 [00:00<00:00, 61.14it/s]\n",
      "examples seen so far : 160 Mean Squared Error (MSE)=7.856967801311633e-05 ; PSNR=41.08628756952638 ; SSIM=0.9670290864488613 ; : 100%|██████████| 40/40 [00:01<00:00, 27.46it/s]\n",
      "examples seen so far : 40 Mean Squared Error (MSE)=7.794123069824986e-05 ; PSNR=41.10973210248954 ; SSIM=0.9659900925098321 ; : 100%|██████████| 10/10 [00:00<00:00, 46.91it/s]\n",
      "EPOCH : 24, average loss : 7.967427209223387e-05: 100%|██████████| 40/40 [00:00<00:00, 84.05it/s]\n",
      "examples seen so far : 160 Mean Squared Error (MSE)=8.575763154713402e-05 ; PSNR=40.710123623775665 ; SSIM=0.96674290093236 ; : 100%|██████████| 40/40 [00:00<00:00, 57.48it/s] \n",
      "examples seen so far : 40 Mean Squared Error (MSE)=8.495558685330578e-05 ; PSNR=40.73975934816883 ; SSIM=0.9657590251702529 ; : 100%|██████████| 10/10 [00:00<00:00, 58.37it/s]\n",
      "EPOCH : 25, average loss : 7.986960135895061e-05: 100%|██████████| 40/40 [00:00<00:00, 126.94it/s]\n",
      "examples seen so far : 160 Mean Squared Error (MSE)=7.861635067284915e-05 ; PSNR=41.08358265204579 ; SSIM=0.9670074938228296 ; : 100%|██████████| 40/40 [00:01<00:00, 21.42it/s] \n",
      "examples seen so far : 40 Mean Squared Error (MSE)=7.801355726163213e-05 ; PSNR=41.105991463937826 ; SSIM=0.9660657262190794 ; : 100%|██████████| 10/10 [00:00<00:00, 28.94it/s]\n",
      "EPOCH : 26, average loss : 7.831286184227793e-05: 100%|██████████| 40/40 [00:00<00:00, 80.47it/s]\n",
      "examples seen so far : 160 Mean Squared Error (MSE)=7.783243623097228e-05 ; PSNR=41.12608083800418 ; SSIM=0.9670997903032122 ; : 100%|██████████| 40/40 [00:00<00:00, 59.48it/s] \n",
      "examples seen so far : 40 Mean Squared Error (MSE)=7.740260088422264e-05 ; PSNR=41.139608306118916 ; SSIM=0.966084096676264 ; : 100%|██████████| 10/10 [00:00<00:00, 48.73it/s]\n",
      "EPOCH : 27, average loss : 7.808945174474502e-05: 100%|██████████| 40/40 [00:00<00:00, 126.81it/s]\n",
      "examples seen so far : 160 Mean Squared Error (MSE)=7.788177326401408e-05 ; PSNR=41.12359746982878 ; SSIM=0.9671459081787733 ; : 100%|██████████| 40/40 [00:00<00:00, 63.44it/s] \n",
      "examples seen so far : 40 Mean Squared Error (MSE)=7.728292276181329e-05 ; PSNR=41.14636381732802 ; SSIM=0.966114511856666 ; : 100%|██████████| 10/10 [00:00<00:00, 49.22it/s] \n",
      "EPOCH : 28, average loss : 7.77414979893365e-05: 100%|██████████| 40/40 [00:00<00:00, 93.74it/s]  \n",
      "examples seen so far : 160 Mean Squared Error (MSE)=7.787714985055768e-05 ; PSNR=41.124094939612945 ; SSIM=0.9670870776446361 ; : 100%|██████████| 40/40 [00:02<00:00, 17.54it/s]\n",
      "examples seen so far : 40 Mean Squared Error (MSE)=7.736801601892624e-05 ; PSNR=41.141588464444396 ; SSIM=0.9660881696603237 ; : 100%|██████████| 10/10 [00:00<00:00, 39.48it/s]\n",
      "EPOCH : 29, average loss : 7.81190052293823e-05: 100%|██████████| 40/40 [00:00<00:00, 81.51it/s] \n",
      "examples seen so far : 160 Mean Squared Error (MSE)=7.765394090579635e-05 ; PSNR=41.13598390851523 ; SSIM=0.9671416736248905 ; : 100%|██████████| 40/40 [00:00<00:00, 69.85it/s]\n",
      "examples seen so far : 40 Mean Squared Error (MSE)=7.710423690299742e-05 ; PSNR=41.15650293405021 ; SSIM=0.9661907416123611 ; : 100%|██████████| 10/10 [00:00<00:00, 50.72it/s]\n",
      "wandb: WARNING Source type is set to 'repo' but some required information is missing from the environment. A job will not be created from this run. See https://docs.wandb.ai/guides/launch/create-job\n"
     ]
    },
    {
     "data": {
      "application/vnd.jupyter.widget-view+json": {
       "model_id": "f95b3c0a41ef49a29d76194510f70857",
       "version_major": 2,
       "version_minor": 0
      },
      "text/plain": [
       "VBox(children=(Label(value='8.439 MB of 8.877 MB uploaded\\r'), FloatProgress(value=0.9506125690256069, max=1.0…"
      ]
     },
     "metadata": {},
     "output_type": "display_data"
    },
    {
     "data": {
      "text/html": [
       "<style>\n",
       "    table.wandb td:nth-child(1) { padding: 0 10px; text-align: left ; width: auto;} td:nth-child(2) {text-align: left ; width: 100%}\n",
       "    .wandb-row { display: flex; flex-direction: row; flex-wrap: wrap; justify-content: flex-start; width: 100% }\n",
       "    .wandb-col { display: flex; flex-direction: column; flex-basis: 100%; flex: 1; padding: 10px; }\n",
       "    </style>\n",
       "<div class=\"wandb-row\"><div class=\"wandb-col\"><h3>Run history:</h3><br/><table class=\"wandb\"><tr><td>loss</td><td>█▂▁▁▁▁▁▁▁▁▁▁▁▁▁▁▁▁▁▁▁▁▁▁▁▁▁▁▁▁</td></tr><tr><td>train_Mean Squared Error (MSE)</td><td>█▂▁▁▁▁▁▁▁▁▁▁▁▁▁▁▁▁▁▁▁▁▁▁▁▁▁▁▁▁▁</td></tr><tr><td>train_PSNR</td><td>▁▃▆▇▇▇▇████████████████████████</td></tr><tr><td>train_SSIM</td><td>▁▅▇████████████████████████████</td></tr><tr><td>val_Mean Squared Error (MSE)</td><td>█▂▁▁▁▁▁▁▁▁▁▁▁▁▁▁▁▁▁▁▁▁▁▁▁▁▁▁▁▁▁</td></tr><tr><td>val_PSNR</td><td>▁▄▆▇▇▇█████████████████████████</td></tr><tr><td>val_SSIM</td><td>▁▅▇████████████████████████████</td></tr></table><br/></div><div class=\"wandb-col\"><h3>Run summary:</h3><br/><table class=\"wandb\"><tr><td>loss</td><td>8e-05</td></tr><tr><td>train_Mean Squared Error (MSE)</td><td>8e-05</td></tr><tr><td>train_PSNR</td><td>41.14068</td></tr><tr><td>train_SSIM</td><td>0.96719</td></tr><tr><td>val_Mean Squared Error (MSE)</td><td>8e-05</td></tr><tr><td>val_PSNR</td><td>41.13624</td></tr><tr><td>val_SSIM</td><td>0.96633</td></tr></table><br/></div></div>"
      ],
      "text/plain": [
       "<IPython.core.display.HTML object>"
      ]
     },
     "metadata": {},
     "output_type": "display_data"
    },
    {
     "data": {
      "text/html": [
       " View run <strong style=\"color:#cdcd00\">experiment_SRCNN_conv2DTranspose</strong> at: <a href='https://wandb.ai/mlewand7/DeepLense2024_task2A/runs/vh9pf9qf' target=\"_blank\">https://wandb.ai/mlewand7/DeepLense2024_task2A/runs/vh9pf9qf</a><br/>Synced 5 W&B file(s), 620 media file(s), 0 artifact file(s) and 0 other file(s)"
      ],
      "text/plain": [
       "<IPython.core.display.HTML object>"
      ]
     },
     "metadata": {},
     "output_type": "display_data"
    },
    {
     "data": {
      "text/html": [
       "Find logs at: <code>./wandb/run-20240318_231301-vh9pf9qf/logs</code>"
      ],
      "text/plain": [
       "<IPython.core.display.HTML object>"
      ]
     },
     "metadata": {},
     "output_type": "display_data"
    }
   ],
   "source": [
    "run_experiment_task2(train_dataloader=train_loader, \n",
    "                     val_dataloader=val_loader, \n",
    "                     Model=SRCNN_conv2DTranspose, \n",
    "                     run_name=\"SRCNN_conv2DTranspose\", \n",
    "                     model_parameters={}, \n",
    "                     epochs=30,\n",
    "                     learning_rate=1e-4, \n",
    "                     optimizer='adam',\n",
    "                     savepath=\"models/srcnn_upsample.pth\",\n",
    "                     metrics=[MSE_Metric(), PSNR_Metric(), SSIM_Metric()],\n",
    "                     cfg=CONFIG,\n",
    "                     loss=\"MSE\",\n",
    "                     base_lr=1e-4, \n",
    "                     test_params={\"save_in_total\" : 10},\n",
    "                     max_lr=1e-3,\n",
    "                     scheduler_en=False,\n",
    "                     metric_keyword=\"val_PSNR\",\n",
    "                     lr_steps=len(dataset) // 2,\n",
    "                     start_with_test=True,\n",
    "                     WANDB_ON=True)"
   ]
  },
  {
   "cell_type": "markdown",
   "metadata": {},
   "source": [
    "# Enhanced Deep Super-Resolution Network\n",
    "Paper : https://arxiv.org/abs/1707.02921"
   ]
  },
  {
   "cell_type": "markdown",
   "metadata": {},
   "source": [
    "## EDSR with upsampler"
   ]
  },
  {
   "cell_type": "code",
   "execution_count": 34,
   "metadata": {},
   "outputs": [
    {
     "data": {
      "text/plain": [
       "==========================================================================================\n",
       "Layer (type:depth-idx)                   Output Shape              Param #\n",
       "==========================================================================================\n",
       "EDSR_upsampler                           [4, 1, 150, 150]          --\n",
       "├─Upsample: 1-1                          [4, 1, 150, 150]          --\n",
       "├─Conv2d: 1-2                            [4, 64, 150, 150]         640\n",
       "├─Sequential: 1-3                        [4, 64, 150, 150]         --\n",
       "│    └─EDSRBlock: 2-1                    [4, 64, 150, 150]         --\n",
       "│    │    └─Conv2d: 3-1                  [4, 64, 150, 150]         36,928\n",
       "│    │    └─ReLU: 3-2                    [4, 64, 150, 150]         --\n",
       "│    │    └─Conv2d: 3-3                  [4, 64, 150, 150]         36,928\n",
       "│    └─EDSRBlock: 2-2                    [4, 64, 150, 150]         --\n",
       "│    │    └─Conv2d: 3-4                  [4, 64, 150, 150]         36,928\n",
       "│    │    └─ReLU: 3-5                    [4, 64, 150, 150]         --\n",
       "│    │    └─Conv2d: 3-6                  [4, 64, 150, 150]         36,928\n",
       "│    └─EDSRBlock: 2-3                    [4, 64, 150, 150]         --\n",
       "│    │    └─Conv2d: 3-7                  [4, 64, 150, 150]         36,928\n",
       "│    │    └─ReLU: 3-8                    [4, 64, 150, 150]         --\n",
       "│    │    └─Conv2d: 3-9                  [4, 64, 150, 150]         36,928\n",
       "│    └─EDSRBlock: 2-4                    [4, 64, 150, 150]         --\n",
       "│    │    └─Conv2d: 3-10                 [4, 64, 150, 150]         36,928\n",
       "│    │    └─ReLU: 3-11                   [4, 64, 150, 150]         --\n",
       "│    │    └─Conv2d: 3-12                 [4, 64, 150, 150]         36,928\n",
       "│    └─EDSRBlock: 2-5                    [4, 64, 150, 150]         --\n",
       "│    │    └─Conv2d: 3-13                 [4, 64, 150, 150]         36,928\n",
       "│    │    └─ReLU: 3-14                   [4, 64, 150, 150]         --\n",
       "│    │    └─Conv2d: 3-15                 [4, 64, 150, 150]         36,928\n",
       "│    └─EDSRBlock: 2-6                    [4, 64, 150, 150]         --\n",
       "│    │    └─Conv2d: 3-16                 [4, 64, 150, 150]         36,928\n",
       "│    │    └─ReLU: 3-17                   [4, 64, 150, 150]         --\n",
       "│    │    └─Conv2d: 3-18                 [4, 64, 150, 150]         36,928\n",
       "│    └─EDSRBlock: 2-7                    [4, 64, 150, 150]         --\n",
       "│    │    └─Conv2d: 3-19                 [4, 64, 150, 150]         36,928\n",
       "│    │    └─ReLU: 3-20                   [4, 64, 150, 150]         --\n",
       "│    │    └─Conv2d: 3-21                 [4, 64, 150, 150]         36,928\n",
       "│    └─EDSRBlock: 2-8                    [4, 64, 150, 150]         --\n",
       "│    │    └─Conv2d: 3-22                 [4, 64, 150, 150]         36,928\n",
       "│    │    └─ReLU: 3-23                   [4, 64, 150, 150]         --\n",
       "│    │    └─Conv2d: 3-24                 [4, 64, 150, 150]         36,928\n",
       "│    └─EDSRBlock: 2-9                    [4, 64, 150, 150]         --\n",
       "│    │    └─Conv2d: 3-25                 [4, 64, 150, 150]         36,928\n",
       "│    │    └─ReLU: 3-26                   [4, 64, 150, 150]         --\n",
       "│    │    └─Conv2d: 3-27                 [4, 64, 150, 150]         36,928\n",
       "│    └─EDSRBlock: 2-10                   [4, 64, 150, 150]         --\n",
       "│    │    └─Conv2d: 3-28                 [4, 64, 150, 150]         36,928\n",
       "│    │    └─ReLU: 3-29                   [4, 64, 150, 150]         --\n",
       "│    │    └─Conv2d: 3-30                 [4, 64, 150, 150]         36,928\n",
       "│    └─EDSRBlock: 2-11                   [4, 64, 150, 150]         --\n",
       "│    │    └─Conv2d: 3-31                 [4, 64, 150, 150]         36,928\n",
       "│    │    └─ReLU: 3-32                   [4, 64, 150, 150]         --\n",
       "│    │    └─Conv2d: 3-33                 [4, 64, 150, 150]         36,928\n",
       "│    └─EDSRBlock: 2-12                   [4, 64, 150, 150]         --\n",
       "│    │    └─Conv2d: 3-34                 [4, 64, 150, 150]         36,928\n",
       "│    │    └─ReLU: 3-35                   [4, 64, 150, 150]         --\n",
       "│    │    └─Conv2d: 3-36                 [4, 64, 150, 150]         36,928\n",
       "│    └─EDSRBlock: 2-13                   [4, 64, 150, 150]         --\n",
       "│    │    └─Conv2d: 3-37                 [4, 64, 150, 150]         36,928\n",
       "│    │    └─ReLU: 3-38                   [4, 64, 150, 150]         --\n",
       "│    │    └─Conv2d: 3-39                 [4, 64, 150, 150]         36,928\n",
       "│    └─EDSRBlock: 2-14                   [4, 64, 150, 150]         --\n",
       "│    │    └─Conv2d: 3-40                 [4, 64, 150, 150]         36,928\n",
       "│    │    └─ReLU: 3-41                   [4, 64, 150, 150]         --\n",
       "│    │    └─Conv2d: 3-42                 [4, 64, 150, 150]         36,928\n",
       "│    └─EDSRBlock: 2-15                   [4, 64, 150, 150]         --\n",
       "│    │    └─Conv2d: 3-43                 [4, 64, 150, 150]         36,928\n",
       "│    │    └─ReLU: 3-44                   [4, 64, 150, 150]         --\n",
       "│    │    └─Conv2d: 3-45                 [4, 64, 150, 150]         36,928\n",
       "│    └─EDSRBlock: 2-16                   [4, 64, 150, 150]         --\n",
       "│    │    └─Conv2d: 3-46                 [4, 64, 150, 150]         36,928\n",
       "│    │    └─ReLU: 3-47                   [4, 64, 150, 150]         --\n",
       "│    │    └─Conv2d: 3-48                 [4, 64, 150, 150]         36,928\n",
       "├─Conv2d: 1-4                            [4, 64, 150, 150]         36,928\n",
       "├─Conv2d: 1-5                            [4, 1, 150, 150]          577\n",
       "==========================================================================================\n",
       "Total params: 1,219,841\n",
       "Trainable params: 1,219,841\n",
       "Non-trainable params: 0\n",
       "Total mult-adds (G): 109.79\n",
       "==========================================================================================\n",
       "Input size (MB): 0.09\n",
       "Forward/backward pass size (MB): 1567.44\n",
       "Params size (MB): 4.88\n",
       "Estimated Total Size (MB): 1572.41\n",
       "=========================================================================================="
      ]
     },
     "execution_count": 34,
     "metadata": {},
     "output_type": "execute_result"
    }
   ],
   "source": [
    "import torch\n",
    "import torch.nn as nn\n",
    "\n",
    "class EDSRBlock(nn.Module):\n",
    "    def __init__(self, n_feats):\n",
    "        super(EDSRBlock, self).__init__()\n",
    "        self.conv1 = nn.Conv2d(n_feats, n_feats, kernel_size=3, padding=1)\n",
    "        self.relu = nn.ReLU(inplace=True)\n",
    "        self.conv2 = nn.Conv2d(n_feats, n_feats, kernel_size=3, padding=1)\n",
    "\n",
    "    def forward(self, x):\n",
    "        res = self.conv1(x)\n",
    "        res = self.relu(res)\n",
    "        res = self.conv2(res)\n",
    "        return x + res\n",
    "\n",
    "class EDSR_upsampler(nn.Module):\n",
    "    def __init__(self, n_blocks=16, n_feats=64):\n",
    "        super(EDSR_upsampler, self).__init__()\n",
    "        self.upsampler = nn.Upsample(scale_factor=2, mode='bilinear', align_corners=False)        \n",
    "        self.conv1 = nn.Conv2d(1, n_feats, kernel_size=3, padding=1)\n",
    "        self.blocks = nn.Sequential(*[EDSRBlock(n_feats) for _ in range(n_blocks)])\n",
    "        self.conv2 = nn.Conv2d(n_feats, n_feats, kernel_size=3, padding=1)\n",
    "        self.conv3 = nn.Conv2d(n_feats, 1, kernel_size=3, padding=1)\n",
    "\n",
    "    def forward(self, x):\n",
    "        x = self.upsampler(x)\n",
    "        x = self.conv1(x)\n",
    "        res = self.blocks(x)\n",
    "        res = self.conv2(res)\n",
    "        res += x\n",
    "        x = self.conv3(res)\n",
    "        return x\n",
    "\n",
    "\n",
    "model  = EDSR_upsampler()\n",
    "model(x).shape\n",
    "summary(model, input_size=(CONFIG.BATCH_SIZE, 1, 75, 75))"
   ]
  },
  {
   "cell_type": "code",
   "execution_count": 35,
   "metadata": {},
   "outputs": [
    {
     "data": {
      "text/html": [
       "Tracking run with wandb version 0.16.4"
      ],
      "text/plain": [
       "<IPython.core.display.HTML object>"
      ]
     },
     "metadata": {},
     "output_type": "display_data"
    },
    {
     "data": {
      "text/html": [
       "Run data is saved locally in <code>/home/mlewand/PROJS/DeepLense2024-1/wandb/run-20240318_233139-0h58qdsa</code>"
      ],
      "text/plain": [
       "<IPython.core.display.HTML object>"
      ]
     },
     "metadata": {},
     "output_type": "display_data"
    },
    {
     "data": {
      "text/html": [
       "Syncing run <strong><a href='https://wandb.ai/mlewand7/DeepLense2024_task2A/runs/0h58qdsa' target=\"_blank\">experiment_EDSR_upsampler</a></strong> to <a href='https://wandb.ai/mlewand7/DeepLense2024_task2A' target=\"_blank\">Weights & Biases</a> (<a href='https://wandb.me/run' target=\"_blank\">docs</a>)<br/>"
      ],
      "text/plain": [
       "<IPython.core.display.HTML object>"
      ]
     },
     "metadata": {},
     "output_type": "display_data"
    },
    {
     "data": {
      "text/html": [
       " View project at <a href='https://wandb.ai/mlewand7/DeepLense2024_task2A' target=\"_blank\">https://wandb.ai/mlewand7/DeepLense2024_task2A</a>"
      ],
      "text/plain": [
       "<IPython.core.display.HTML object>"
      ]
     },
     "metadata": {},
     "output_type": "display_data"
    },
    {
     "data": {
      "text/html": [
       " View run at <a href='https://wandb.ai/mlewand7/DeepLense2024_task2A/runs/0h58qdsa' target=\"_blank\">https://wandb.ai/mlewand7/DeepLense2024_task2A/runs/0h58qdsa</a>"
      ],
      "text/plain": [
       "<IPython.core.display.HTML object>"
      ]
     },
     "metadata": {},
     "output_type": "display_data"
    },
    {
     "name": "stderr",
     "output_type": "stream",
     "text": [
      "examples seen so far : 160 Mean Squared Error (MSE)=0.04620234971666861 ; PSNR=13.491143428432425 ; SSIM=-0.3830049825164507 ; : 100%|██████████| 40/40 [00:01<00:00, 24.64it/s] \n",
      "examples seen so far : 40 Mean Squared Error (MSE)=0.04509575196947807 ; PSNR=13.571363316386352 ; SSIM=-0.38961910819395995 ; : 100%|██████████| 10/10 [00:00<00:00, 22.60it/s]\n",
      "EPOCH : 0, average loss : 0.0034201921916974243: 100%|██████████| 40/40 [00:03<00:00, 11.92it/s]\n",
      "examples seen so far : 160 Mean Squared Error (MSE)=0.00017684181264759796 ; PSNR=37.54950798733284 ; SSIM=0.8006960490964493 ; : 100%|██████████| 40/40 [00:01<00:00, 25.27it/s] \n",
      "examples seen so far : 40 Mean Squared Error (MSE)=0.0001735833819764547 ; PSNR=37.61875450847862 ; SSIM=0.8029374541380466 ; : 100%|██████████| 10/10 [00:00<00:00, 23.34it/s] \n",
      "EPOCH : 1, average loss : 9.210138723574346e-05: 100%|██████████| 40/40 [00:03<00:00, 12.18it/s] \n",
      "examples seen so far : 160 Mean Squared Error (MSE)=7.523103390982135e-05 ; PSNR=41.275038713289135 ; SSIM=0.9687836267663248 ; : 100%|██████████| 40/40 [00:01<00:00, 25.75it/s]\n",
      "examples seen so far : 40 Mean Squared Error (MSE)=7.469149251193859e-05 ; PSNR=41.29519459827287 ; SSIM=0.967810665949797 ; : 100%|██████████| 10/10 [00:00<00:00, 23.04it/s] \n",
      "EPOCH : 2, average loss : 7.269115085364319e-05: 100%|██████████| 40/40 [00:03<00:00, 12.13it/s]\n",
      "examples seen so far : 160 Mean Squared Error (MSE)=7.117195125360265e-05 ; PSNR=41.51525253203698 ; SSIM=0.9694589121536639 ; : 100%|██████████| 40/40 [00:01<00:00, 25.13it/s] \n",
      "examples seen so far : 40 Mean Squared Error (MSE)=7.085044452628025e-05 ; PSNR=41.523787432561235 ; SSIM=0.9685411865894611 ; : 100%|██████████| 10/10 [00:00<00:00, 24.76it/s]\n",
      "EPOCH : 3, average loss : 7.020480625214986e-05: 100%|██████████| 40/40 [00:03<00:00, 12.11it/s]\n",
      "examples seen so far : 160 Mean Squared Error (MSE)=6.930860413462451e-05 ; PSNR=41.63021124531263 ; SSIM=0.9700256061254058 ; : 100%|██████████| 40/40 [00:01<00:00, 24.96it/s]\n",
      "examples seen so far : 40 Mean Squared Error (MSE)=6.911136752490002e-05 ; PSNR=41.63161242214876 ; SSIM=0.9691219895313947 ; : 100%|██████████| 10/10 [00:00<00:00, 23.28it/s]\n",
      "EPOCH : 4, average loss : 6.868704631415312e-05: 100%|██████████| 40/40 [00:03<00:00, 11.89it/s]\n",
      "examples seen so far : 160 Mean Squared Error (MSE)=6.804430834237346e-05 ; PSNR=41.71018612459065 ; SSIM=0.9705658528789785 ; : 100%|██████████| 40/40 [00:01<00:00, 22.81it/s] \n",
      "examples seen so far : 40 Mean Squared Error (MSE)=6.790980049304497e-05 ; PSNR=41.70788994055231 ; SSIM=0.969616310718732 ; : 100%|██████████| 10/10 [00:00<00:00, 21.29it/s] \n",
      "EPOCH : 5, average loss : 6.764898607798386e-05: 100%|██████████| 40/40 [00:03<00:00, 11.65it/s]\n",
      "examples seen so far : 160 Mean Squared Error (MSE)=6.717910902990532e-05 ; PSNR=41.765965061863525 ; SSIM=0.9708814759674312 ; : 100%|██████████| 40/40 [00:01<00:00, 24.45it/s]\n",
      "examples seen so far : 40 Mean Squared Error (MSE)=6.702270799835857e-05 ; PSNR=41.765091476135474 ; SSIM=0.9699994631302662 ; : 100%|██████████| 10/10 [00:00<00:00, 23.30it/s]\n",
      "EPOCH : 6, average loss : 6.693422938042204e-05: 100%|██████████| 40/40 [00:03<00:00, 11.84it/s]\n",
      "examples seen so far : 160 Mean Squared Error (MSE)=6.650960083033908e-05 ; PSNR=41.80955618308645 ; SSIM=0.9711599192529354 ; : 100%|██████████| 40/40 [00:01<00:00, 24.50it/s]\n",
      "examples seen so far : 40 Mean Squared Error (MSE)=6.640463722690653e-05 ; PSNR=41.80539828663965 ; SSIM=0.9702751055741922 ; : 100%|██████████| 10/10 [00:00<00:00, 21.73it/s]\n",
      "EPOCH : 7, average loss : 6.627669490626431e-05: 100%|██████████| 40/40 [00:03<00:00, 11.86it/s]\n",
      "examples seen so far : 4 Mean Squared Error (MSE)=6.343275769419658e-05 ; PSNR=42.00363664942879 ; SSIM=0.9706127246220907 ; :   0%|          | 0/40 [00:00<?, ?it/s]\u001b[34m\u001b[1mwandb\u001b[0m: Network error resolved after 0:00:21.258349, resuming normal operation.\n",
      "examples seen so far : 160 Mean Squared Error (MSE)=6.60320105190014e-05 ; PSNR=41.840693315313295 ; SSIM=0.9714049213337448 ; : 100%|██████████| 40/40 [00:01<00:00, 24.28it/s]\n",
      "examples seen so far : 40 Mean Squared Error (MSE)=6.587425014004111e-05 ; PSNR=41.840271579163975 ; SSIM=0.9705217129144913 ; : 100%|██████████| 10/10 [00:00<00:00, 22.84it/s]\n",
      "EPOCH : 8, average loss : 6.578127704415238e-05: 100%|██████████| 40/40 [00:03<00:00, 11.81it/s]\n",
      "examples seen so far : 160 Mean Squared Error (MSE)=6.545784125128708e-05 ; PSNR=41.8788873974644 ; SSIM=0.9716150355788896 ; : 100%|██████████| 40/40 [00:01<00:00, 25.81it/s]  \n",
      "examples seen so far : 40 Mean Squared Error (MSE)=6.540315296614352e-05 ; PSNR=41.8714814245318 ; SSIM=0.9707488876122695 ; : 100%|██████████| 10/10 [00:00<00:00, 23.08it/s] \n",
      "EPOCH : 9, average loss : 6.544691032104311e-05: 100%|██████████| 40/40 [00:03<00:00, 11.96it/s]\n",
      "examples seen so far : 160 Mean Squared Error (MSE)=6.521846876668585e-05 ; PSNR=41.893757644747716 ; SSIM=0.9717084926629217 ; : 100%|██████████| 40/40 [00:01<00:00, 24.40it/s]\n",
      "examples seen so far : 40 Mean Squared Error (MSE)=6.506578089708152e-05 ; PSNR=41.89402637719285 ; SSIM=0.970878160916842 ; : 100%|██████████| 10/10 [00:00<00:00, 24.95it/s] \n",
      "EPOCH : 10, average loss : 6.488620356321917e-05: 100%|██████████| 40/40 [00:03<00:00, 11.93it/s]\n",
      "examples seen so far : 160 Mean Squared Error (MSE)=6.471749695963167e-05 ; PSNR=41.92830809892162 ; SSIM=0.9718842600126686 ; : 100%|██████████| 40/40 [00:01<00:00, 23.92it/s] \n",
      "examples seen so far : 40 Mean Squared Error (MSE)=6.472849166199852e-05 ; PSNR=41.91666073089844 ; SSIM=0.9710307778456272 ; : 100%|██████████| 10/10 [00:00<00:00, 22.35it/s]\n",
      "EPOCH : 11, average loss : 6.458963016484632e-05: 100%|██████████| 40/40 [00:03<00:00, 11.74it/s]\n",
      "examples seen so far : 160 Mean Squared Error (MSE)=6.468728304227064e-05 ; PSNR=41.92908081525046 ; SSIM=0.9717061182238022 ; : 100%|██████████| 40/40 [00:01<00:00, 24.90it/s]\n",
      "examples seen so far : 40 Mean Squared Error (MSE)=6.455873974631779e-05 ; PSNR=41.92786853195923 ; SSIM=0.9708934395741193 ; : 100%|██████████| 10/10 [00:00<00:00, 22.51it/s]\n",
      "EPOCH : 12, average loss : 6.448124677262967e-05: 100%|██████████| 40/40 [00:03<00:00, 11.89it/s]\n",
      "examples seen so far : 160 Mean Squared Error (MSE)=6.430885259302936e-05 ; PSNR=41.95567043758212 ; SSIM=0.9718877706887588 ; : 100%|██████████| 40/40 [00:01<00:00, 25.32it/s] \n",
      "examples seen so far : 40 Mean Squared Error (MSE)=6.425477355757418e-05 ; PSNR=41.9483920166712 ; SSIM=0.9710701062129095 ; : 100%|██████████| 10/10 [00:00<00:00, 22.58it/s] \n",
      "EPOCH : 13, average loss : 6.423339300454245e-05: 100%|██████████| 40/40 [00:03<00:00, 11.79it/s]\n",
      "examples seen so far : 160 Mean Squared Error (MSE)=6.377245373650507e-05 ; PSNR=41.9925137149509 ; SSIM=0.9723859399369678 ; : 100%|██████████| 40/40 [00:01<00:00, 24.88it/s]  \n",
      "examples seen so far : 40 Mean Squared Error (MSE)=6.373211036612376e-05 ; PSNR=41.98403056609181 ; SSIM=0.9715470977318592 ; : 100%|██████████| 10/10 [00:00<00:00, 23.73it/s]\n",
      "EPOCH : 14, average loss : 6.397217666744836e-05: 100%|██████████| 40/40 [00:03<00:00, 11.90it/s]\n",
      "examples seen so far : 160 Mean Squared Error (MSE)=6.406544716867659e-05 ; PSNR=41.97207075439599 ; SSIM=0.9719375154507235 ; : 100%|██████████| 40/40 [00:01<00:00, 24.86it/s]\n",
      "examples seen so far : 40 Mean Squared Error (MSE)=6.403323230841078e-05 ; PSNR=41.963376680796884 ; SSIM=0.9711327705627832 ; : 100%|██████████| 10/10 [00:00<00:00, 24.20it/s]\n",
      "EPOCH : 15, average loss : 6.53067141684005e-05: 100%|██████████| 40/40 [00:03<00:00, 11.82it/s] \n",
      "examples seen so far : 160 Mean Squared Error (MSE)=6.798327680909274e-05 ; PSNR=41.71056461967173 ; SSIM=0.9674157732687656 ; : 100%|██████████| 40/40 [00:01<00:00, 23.44it/s] \n",
      "examples seen so far : 40 Mean Squared Error (MSE)=6.795852412977137e-05 ; PSNR=41.702517866941804 ; SSIM=0.9667298213029519 ; : 100%|██████████| 10/10 [00:00<00:00, 22.82it/s]\n",
      "EPOCH : 16, average loss : 6.375759658112656e-05: 100%|██████████| 40/40 [00:03<00:00, 11.58it/s]\n",
      "examples seen so far : 160 Mean Squared Error (MSE)=6.321424034639385e-05 ; PSNR=42.03082474156947 ; SSIM=0.9726781897574851 ; : 100%|██████████| 40/40 [00:01<00:00, 24.39it/s] \n",
      "examples seen so far : 40 Mean Squared Error (MSE)=6.320269107490253e-05 ; PSNR=42.02033979010621 ; SSIM=0.9718256821999183 ; : 100%|██████████| 10/10 [00:00<00:00, 22.96it/s]\n",
      "EPOCH : 17, average loss : 6.369020456986618e-05: 100%|██████████| 40/40 [00:03<00:00, 11.68it/s]\n",
      "examples seen so far : 160 Mean Squared Error (MSE)=6.891299334190692e-05 ; PSNR=41.65263465121976 ; SSIM=0.966172031261636 ; : 100%|██████████| 40/40 [00:01<00:00, 23.75it/s]  \n",
      "examples seen so far : 40 Mean Squared Error (MSE)=6.889230420571179e-05 ; PSNR=41.643222638557695 ; SSIM=0.9654623392300729 ; : 100%|██████████| 10/10 [00:00<00:00, 23.45it/s]\n",
      "EPOCH : 18, average loss : 6.3752329970157e-05: 100%|██████████| 40/40 [00:03<00:00, 11.74it/s]  \n",
      "examples seen so far : 160 Mean Squared Error (MSE)=6.291797193248299e-05 ; PSNR=42.05012658491176 ; SSIM=0.9726160802181412 ; : 100%|██████████| 40/40 [00:01<00:00, 23.99it/s] \n",
      "examples seen so far : 40 Mean Squared Error (MSE)=6.303642051837717e-05 ; PSNR=42.03168970955231 ; SSIM=0.9718015789985657 ; : 100%|██████████| 10/10 [00:00<00:00, 23.15it/s]\n",
      "EPOCH : 19, average loss : 7.69429005231359e-05: 100%|██████████| 40/40 [00:03<00:00, 11.58it/s] \n",
      "examples seen so far : 160 Mean Squared Error (MSE)=6.422343301080143e-05 ; PSNR=41.962283594041786 ; SSIM=0.9723717349130403 ; : 100%|██████████| 40/40 [00:01<00:00, 24.69it/s]\n",
      "examples seen so far : 40 Mean Squared Error (MSE)=6.413183039582621e-05 ; PSNR=41.95674404042901 ; SSIM=0.9715354320330497 ; : 100%|██████████| 10/10 [00:00<00:00, 23.07it/s]\n",
      "EPOCH : 20, average loss : 6.355656096275197e-05: 100%|██████████| 40/40 [00:03<00:00, 11.72it/s]\n",
      "examples seen so far : 160 Mean Squared Error (MSE)=6.297399083433568e-05 ; PSNR=42.04745434653151 ; SSIM=0.9727170887233326 ; : 100%|██████████| 40/40 [00:01<00:00, 25.09it/s] \n",
      "examples seen so far : 40 Mean Squared Error (MSE)=6.29247373674447e-05 ; PSNR=42.03939075681943 ; SSIM=0.9718690652113694 ; : 100%|██████████| 10/10 [00:00<00:00, 23.85it/s]\n",
      "EPOCH : 21, average loss : 6.28129298092972e-05: 100%|██████████| 40/40 [00:03<00:00, 11.78it/s] \n",
      "examples seen so far : 160 Mean Squared Error (MSE)=6.278613668283647e-05 ; PSNR=42.060220204856165 ; SSIM=0.9728645824786252 ; : 100%|██████████| 40/40 [00:01<00:00, 25.34it/s]\n",
      "examples seen so far : 40 Mean Squared Error (MSE)=6.270639175617804e-05 ; PSNR=42.05457199049477 ; SSIM=0.9720237912275852 ; : 100%|██████████| 10/10 [00:00<00:00, 23.30it/s]\n",
      "EPOCH : 22, average loss : 6.269267169045634e-05: 100%|██████████| 40/40 [00:03<00:00, 11.80it/s]\n",
      "examples seen so far : 160 Mean Squared Error (MSE)=6.266531659236746e-05 ; PSNR=42.06884411734828 ; SSIM=0.9728547173476069 ; : 100%|██████████| 40/40 [00:01<00:00, 24.87it/s] \n",
      "examples seen so far : 40 Mean Squared Error (MSE)=6.267115102859978e-05 ; PSNR=42.056946563970165 ; SSIM=0.9720079425053719 ; : 100%|██████████| 10/10 [00:00<00:00, 22.97it/s]\n",
      "EPOCH : 23, average loss : 6.279502376855816e-05: 100%|██████████| 40/40 [00:03<00:00, 11.72it/s]\n",
      "examples seen so far : 160 Mean Squared Error (MSE)=6.261156298441274e-05 ; PSNR=42.07224256241453 ; SSIM=0.9729098853825023 ; : 100%|██████████| 40/40 [00:01<00:00, 24.73it/s]\n",
      "examples seen so far : 40 Mean Squared Error (MSE)=6.253413000824646e-05 ; PSNR=42.06655144722435 ; SSIM=0.9721070711429303 ; : 100%|██████████| 10/10 [00:00<00:00, 24.09it/s]\n",
      "EPOCH : 24, average loss : 6.269208224694012e-05: 100%|██████████| 40/40 [00:03<00:00, 11.79it/s]\n",
      "examples seen so far : 160 Mean Squared Error (MSE)=6.261302707639945e-05 ; PSNR=42.07241636719442 ; SSIM=0.9729221425716232 ; : 100%|██████████| 40/40 [00:01<00:00, 24.41it/s] \n",
      "examples seen so far : 40 Mean Squared Error (MSE)=6.262017240470204e-05 ; PSNR=42.06064585126297 ; SSIM=0.9720636224135374 ; : 100%|██████████| 10/10 [00:00<00:00, 22.27it/s]\n",
      "EPOCH : 25, average loss : 6.281440028033103e-05: 100%|██████████| 40/40 [00:03<00:00, 11.78it/s]\n",
      "examples seen so far : 160 Mean Squared Error (MSE)=6.233492167208947e-05 ; PSNR=42.090767244742594 ; SSIM=0.9729884386812366 ; : 100%|██████████| 40/40 [00:01<00:00, 23.88it/s]\n",
      "examples seen so far : 40 Mean Squared Error (MSE)=6.24394125248401e-05 ; PSNR=42.073159526130674 ; SSIM=0.9721317994288909 ; : 100%|██████████| 10/10 [00:00<00:00, 23.14it/s]\n",
      "EPOCH : 26, average loss : 6.501048301288392e-05: 100%|██████████| 40/40 [00:03<00:00, 11.75it/s]\n",
      "examples seen so far : 160 Mean Squared Error (MSE)=6.458659307832051e-05 ; PSNR=41.93694460905769 ; SSIM=0.971643161473784 ; : 100%|██████████| 40/40 [00:01<00:00, 24.22it/s] \n",
      "examples seen so far : 40 Mean Squared Error (MSE)=6.459047532795618e-05 ; PSNR=41.9259549543685 ; SSIM=0.9708233215870001 ; : 100%|██████████| 10/10 [00:00<00:00, 23.79it/s] \n",
      "EPOCH : 27, average loss : 6.29416536867211e-05: 100%|██████████| 40/40 [00:03<00:00, 11.73it/s] \n",
      "examples seen so far : 160 Mean Squared Error (MSE)=6.331695451378477e-05 ; PSNR=42.02366932272479 ; SSIM=0.97216430849999 ; : 100%|██████████| 40/40 [00:01<00:00, 22.86it/s]   \n",
      "examples seen so far : 40 Mean Squared Error (MSE)=6.32596787069745e-05 ; PSNR=42.01617813155108 ; SSIM=0.9713276487130386 ; : 100%|██████████| 10/10 [00:00<00:00, 23.35it/s] \n",
      "EPOCH : 28, average loss : 6.269480300034048e-05: 100%|██████████| 40/40 [00:03<00:00, 11.62it/s]\n",
      "examples seen so far : 4 Mean Squared Error (MSE)=6.378685672340605e-05 ; PSNR=41.99970465962377 ; SSIM=0.9746072888374329 ; :   8%|▊         | 3/40 [00:00<00:01, 22.92it/s]\u001b[34m\u001b[1mwandb\u001b[0m: Network error resolved after 0:00:21.237755, resuming normal operation.\n",
      "examples seen so far : 160 Mean Squared Error (MSE)=6.221715505849922e-05 ; PSNR=42.100070912122696 ; SSIM=0.9730640357395388 ; : 100%|██████████| 40/40 [00:01<00:00, 20.09it/s]\n",
      "examples seen so far : 40 Mean Squared Error (MSE)=6.224444465866934e-05 ; PSNR=42.08687619761287 ; SSIM=0.972226375188583 ; : 100%|██████████| 10/10 [00:00<00:00, 22.24it/s] \n",
      "EPOCH : 29, average loss : 0.00010203621031905641: 100%|██████████| 40/40 [00:03<00:00, 11.61it/s]\n",
      "examples seen so far : 160 Mean Squared Error (MSE)=0.00012208986565223222 ; PSNR=39.152651882648065 ; SSIM=0.9283126941267049 ; : 100%|██████████| 40/40 [00:01<00:00, 21.85it/s]\n",
      "examples seen so far : 40 Mean Squared Error (MSE)=0.00012178510652843099 ; PSNR=39.15897731840919 ; SSIM=0.9284950143251663 ; : 100%|██████████| 10/10 [00:00<00:00, 21.78it/s]\n",
      "wandb: WARNING Source type is set to 'repo' but some required information is missing from the environment. A job will not be created from this run. See https://docs.wandb.ai/guides/launch/create-job\n"
     ]
    },
    {
     "data": {
      "application/vnd.jupyter.widget-view+json": {
       "model_id": "937335c9a3e84c74ac3c430bc09f9de1",
       "version_major": 2,
       "version_minor": 0
      },
      "text/plain": [
       "VBox(children=(Label(value='9.749 MB of 10.134 MB uploaded\\r'), FloatProgress(value=0.9619781402632719, max=1.…"
      ]
     },
     "metadata": {},
     "output_type": "display_data"
    },
    {
     "data": {
      "text/html": [
       "<style>\n",
       "    table.wandb td:nth-child(1) { padding: 0 10px; text-align: left ; width: auto;} td:nth-child(2) {text-align: left ; width: 100%}\n",
       "    .wandb-row { display: flex; flex-direction: row; flex-wrap: wrap; justify-content: flex-start; width: 100% }\n",
       "    .wandb-col { display: flex; flex-direction: column; flex-basis: 100%; flex: 1; padding: 10px; }\n",
       "    </style>\n",
       "<div class=\"wandb-row\"><div class=\"wandb-col\"><h3>Run history:</h3><br/><table class=\"wandb\"><tr><td>loss</td><td>█▁▁▁▁▁▁▁▁▁▁▁▁▁▁▁▁▁▁▁▁▁▁▁▁▁▁▁▁▁</td></tr><tr><td>train_Mean Squared Error (MSE)</td><td>█▁▁▁▁▁▁▁▁▁▁▁▁▁▁▁▁▁▁▁▁▁▁▁▁▁▁▁▁▁▁</td></tr><tr><td>train_PSNR</td><td>▁▇████████████████████████████▇</td></tr><tr><td>train_SSIM</td><td>▁▇█████████████████████████████</td></tr><tr><td>val_Mean Squared Error (MSE)</td><td>█▁▁▁▁▁▁▁▁▁▁▁▁▁▁▁▁▁▁▁▁▁▁▁▁▁▁▁▁▁▁</td></tr><tr><td>val_PSNR</td><td>▁▇████████████████████████████▇</td></tr><tr><td>val_SSIM</td><td>▁▇█████████████████████████████</td></tr></table><br/></div><div class=\"wandb-col\"><h3>Run summary:</h3><br/><table class=\"wandb\"><tr><td>loss</td><td>0.0001</td></tr><tr><td>train_Mean Squared Error (MSE)</td><td>0.00012</td></tr><tr><td>train_PSNR</td><td>39.15569</td></tr><tr><td>train_SSIM</td><td>0.92826</td></tr><tr><td>val_Mean Squared Error (MSE)</td><td>0.00012</td></tr><tr><td>val_PSNR</td><td>39.13988</td></tr><tr><td>val_SSIM</td><td>0.92857</td></tr></table><br/></div></div>"
      ],
      "text/plain": [
       "<IPython.core.display.HTML object>"
      ]
     },
     "metadata": {},
     "output_type": "display_data"
    },
    {
     "data": {
      "text/html": [
       " View run <strong style=\"color:#cdcd00\">experiment_EDSR_upsampler</strong> at: <a href='https://wandb.ai/mlewand7/DeepLense2024_task2A/runs/0h58qdsa' target=\"_blank\">https://wandb.ai/mlewand7/DeepLense2024_task2A/runs/0h58qdsa</a><br/>Synced 5 W&B file(s), 620 media file(s), 0 artifact file(s) and 0 other file(s)"
      ],
      "text/plain": [
       "<IPython.core.display.HTML object>"
      ]
     },
     "metadata": {},
     "output_type": "display_data"
    },
    {
     "data": {
      "text/html": [
       "Find logs at: <code>./wandb/run-20240318_233139-0h58qdsa/logs</code>"
      ],
      "text/plain": [
       "<IPython.core.display.HTML object>"
      ]
     },
     "metadata": {},
     "output_type": "display_data"
    }
   ],
   "source": [
    "run_experiment_task2(train_dataloader=train_loader, \n",
    "                     val_dataloader=val_loader, \n",
    "                     Model=EDSR_upsampler, \n",
    "                     run_name=\"EDSR_upsampler\", \n",
    "                     model_parameters={}, \n",
    "                     epochs=30,\n",
    "                     learning_rate=1e-4, \n",
    "                     optimizer='adam',\n",
    "                     savepath=\"models/EDSR_upsampler.pth\",\n",
    "                     metrics=[MSE_Metric(), PSNR_Metric(), SSIM_Metric()],\n",
    "                     cfg=CONFIG,\n",
    "                     loss=\"MSE\",\n",
    "                     base_lr=1e-4, \n",
    "                     test_params={\"save_in_total\" : 10},\n",
    "                     max_lr=1e-3,\n",
    "                     scheduler_en=False,\n",
    "                     metric_keyword=\"val_PSNR\",\n",
    "                     lr_steps=len(dataset) // 2,\n",
    "                     start_with_test=True,\n",
    "                     WANDB_ON=True)"
   ]
  },
  {
   "cell_type": "markdown",
   "metadata": {},
   "source": [
    "## EDSR with Conv2DTranspose"
   ]
  },
  {
   "cell_type": "code",
   "execution_count": 39,
   "metadata": {},
   "outputs": [
    {
     "data": {
      "text/plain": [
       "==========================================================================================\n",
       "Layer (type:depth-idx)                   Output Shape              Param #\n",
       "==========================================================================================\n",
       "EDSR_conv2DTranspose                     [4, 1, 150, 150]          --\n",
       "├─Conv2d: 1-1                            [4, 64, 75, 75]           640\n",
       "├─Sequential: 1-2                        [4, 64, 75, 75]           --\n",
       "│    └─EDSRBlock: 2-1                    [4, 64, 75, 75]           --\n",
       "│    │    └─Conv2d: 3-1                  [4, 64, 75, 75]           36,928\n",
       "│    │    └─ReLU: 3-2                    [4, 64, 75, 75]           --\n",
       "│    │    └─Conv2d: 3-3                  [4, 64, 75, 75]           36,928\n",
       "│    └─EDSRBlock: 2-2                    [4, 64, 75, 75]           --\n",
       "│    │    └─Conv2d: 3-4                  [4, 64, 75, 75]           36,928\n",
       "│    │    └─ReLU: 3-5                    [4, 64, 75, 75]           --\n",
       "│    │    └─Conv2d: 3-6                  [4, 64, 75, 75]           36,928\n",
       "│    └─EDSRBlock: 2-3                    [4, 64, 75, 75]           --\n",
       "│    │    └─Conv2d: 3-7                  [4, 64, 75, 75]           36,928\n",
       "│    │    └─ReLU: 3-8                    [4, 64, 75, 75]           --\n",
       "│    │    └─Conv2d: 3-9                  [4, 64, 75, 75]           36,928\n",
       "│    └─EDSRBlock: 2-4                    [4, 64, 75, 75]           --\n",
       "│    │    └─Conv2d: 3-10                 [4, 64, 75, 75]           36,928\n",
       "│    │    └─ReLU: 3-11                   [4, 64, 75, 75]           --\n",
       "│    │    └─Conv2d: 3-12                 [4, 64, 75, 75]           36,928\n",
       "│    └─EDSRBlock: 2-5                    [4, 64, 75, 75]           --\n",
       "│    │    └─Conv2d: 3-13                 [4, 64, 75, 75]           36,928\n",
       "│    │    └─ReLU: 3-14                   [4, 64, 75, 75]           --\n",
       "│    │    └─Conv2d: 3-15                 [4, 64, 75, 75]           36,928\n",
       "│    └─EDSRBlock: 2-6                    [4, 64, 75, 75]           --\n",
       "│    │    └─Conv2d: 3-16                 [4, 64, 75, 75]           36,928\n",
       "│    │    └─ReLU: 3-17                   [4, 64, 75, 75]           --\n",
       "│    │    └─Conv2d: 3-18                 [4, 64, 75, 75]           36,928\n",
       "│    └─EDSRBlock: 2-7                    [4, 64, 75, 75]           --\n",
       "│    │    └─Conv2d: 3-19                 [4, 64, 75, 75]           36,928\n",
       "│    │    └─ReLU: 3-20                   [4, 64, 75, 75]           --\n",
       "│    │    └─Conv2d: 3-21                 [4, 64, 75, 75]           36,928\n",
       "│    └─EDSRBlock: 2-8                    [4, 64, 75, 75]           --\n",
       "│    │    └─Conv2d: 3-22                 [4, 64, 75, 75]           36,928\n",
       "│    │    └─ReLU: 3-23                   [4, 64, 75, 75]           --\n",
       "│    │    └─Conv2d: 3-24                 [4, 64, 75, 75]           36,928\n",
       "│    └─EDSRBlock: 2-9                    [4, 64, 75, 75]           --\n",
       "│    │    └─Conv2d: 3-25                 [4, 64, 75, 75]           36,928\n",
       "│    │    └─ReLU: 3-26                   [4, 64, 75, 75]           --\n",
       "│    │    └─Conv2d: 3-27                 [4, 64, 75, 75]           36,928\n",
       "│    └─EDSRBlock: 2-10                   [4, 64, 75, 75]           --\n",
       "│    │    └─Conv2d: 3-28                 [4, 64, 75, 75]           36,928\n",
       "│    │    └─ReLU: 3-29                   [4, 64, 75, 75]           --\n",
       "│    │    └─Conv2d: 3-30                 [4, 64, 75, 75]           36,928\n",
       "│    └─EDSRBlock: 2-11                   [4, 64, 75, 75]           --\n",
       "│    │    └─Conv2d: 3-31                 [4, 64, 75, 75]           36,928\n",
       "│    │    └─ReLU: 3-32                   [4, 64, 75, 75]           --\n",
       "│    │    └─Conv2d: 3-33                 [4, 64, 75, 75]           36,928\n",
       "│    └─EDSRBlock: 2-12                   [4, 64, 75, 75]           --\n",
       "│    │    └─Conv2d: 3-34                 [4, 64, 75, 75]           36,928\n",
       "│    │    └─ReLU: 3-35                   [4, 64, 75, 75]           --\n",
       "│    │    └─Conv2d: 3-36                 [4, 64, 75, 75]           36,928\n",
       "│    └─EDSRBlock: 2-13                   [4, 64, 75, 75]           --\n",
       "│    │    └─Conv2d: 3-37                 [4, 64, 75, 75]           36,928\n",
       "│    │    └─ReLU: 3-38                   [4, 64, 75, 75]           --\n",
       "│    │    └─Conv2d: 3-39                 [4, 64, 75, 75]           36,928\n",
       "│    └─EDSRBlock: 2-14                   [4, 64, 75, 75]           --\n",
       "│    │    └─Conv2d: 3-40                 [4, 64, 75, 75]           36,928\n",
       "│    │    └─ReLU: 3-41                   [4, 64, 75, 75]           --\n",
       "│    │    └─Conv2d: 3-42                 [4, 64, 75, 75]           36,928\n",
       "│    └─EDSRBlock: 2-15                   [4, 64, 75, 75]           --\n",
       "│    │    └─Conv2d: 3-43                 [4, 64, 75, 75]           36,928\n",
       "│    │    └─ReLU: 3-44                   [4, 64, 75, 75]           --\n",
       "│    │    └─Conv2d: 3-45                 [4, 64, 75, 75]           36,928\n",
       "│    └─EDSRBlock: 2-16                   [4, 64, 75, 75]           --\n",
       "│    │    └─Conv2d: 3-46                 [4, 64, 75, 75]           36,928\n",
       "│    │    └─ReLU: 3-47                   [4, 64, 75, 75]           --\n",
       "│    │    └─Conv2d: 3-48                 [4, 64, 75, 75]           36,928\n",
       "├─Conv2d: 1-3                            [4, 64, 75, 75]           36,928\n",
       "├─ConvTranspose2d: 1-4                   [4, 64, 150, 150]         36,928\n",
       "├─Conv2d: 1-5                            [4, 1, 150, 150]          577\n",
       "==========================================================================================\n",
       "Total params: 1,256,769\n",
       "Trainable params: 1,256,769\n",
       "Non-trainable params: 0\n",
       "Total mult-adds (G): 30.81\n",
       "==========================================================================================\n",
       "Input size (MB): 0.09\n",
       "Forward/backward pass size (MB): 438.48\n",
       "Params size (MB): 5.03\n",
       "Estimated Total Size (MB): 443.60\n",
       "=========================================================================================="
      ]
     },
     "execution_count": 39,
     "metadata": {},
     "output_type": "execute_result"
    }
   ],
   "source": [
    "import torch\n",
    "import torch.nn as nn\n",
    "\n",
    "class EDSRBlock(nn.Module):\n",
    "    def __init__(self, n_feats):\n",
    "        super(EDSRBlock, self).__init__()\n",
    "        self.conv1 = nn.Conv2d(n_feats, n_feats, kernel_size=3, padding=1)\n",
    "        self.relu = nn.ReLU(inplace=True)\n",
    "        self.conv2 = nn.Conv2d(n_feats, n_feats, kernel_size=3, padding=1)\n",
    "\n",
    "    def forward(self, x):\n",
    "        res = self.conv1(x)\n",
    "        res = self.relu(res)\n",
    "        res = self.conv2(res)\n",
    "        return x + res\n",
    "\n",
    "class EDSR_conv2DTranspose(nn.Module):\n",
    "    def __init__(self, n_blocks=16, n_feats=64):\n",
    "        super(EDSR_conv2DTranspose, self).__init__()\n",
    "        self.conv1 = nn.Conv2d(1, n_feats, kernel_size=3, padding=1)\n",
    "        self.blocks = nn.Sequential(*[EDSRBlock(n_feats) for _ in range(n_blocks)])\n",
    "        self.conv2 = nn.Conv2d(n_feats, n_feats, kernel_size=3, padding=1)\n",
    "        self.upsampler = nn.ConvTranspose2d(n_feats, n_feats, (3,3), stride=2, padding=1, output_padding=1)\n",
    "        self.conv3 = nn.Conv2d(n_feats, 1, kernel_size=3, padding=1)\n",
    "\n",
    "    def forward(self, x):\n",
    "        x = self.conv1(x)\n",
    "        res = self.blocks(x)\n",
    "        res = self.conv2(res)\n",
    "        res += x\n",
    "        res = self.upsampler(res)\n",
    "        x = self.conv3(res)\n",
    "        return x\n",
    "\n",
    "\n",
    "model  = EDSR_conv2DTranspose()\n",
    "model(x).shape\n",
    "summary(model, input_size=(CONFIG.BATCH_SIZE, 1, 75, 75))"
   ]
  },
  {
   "cell_type": "code",
   "execution_count": 40,
   "metadata": {},
   "outputs": [
    {
     "data": {
      "text/html": [
       "Tracking run with wandb version 0.16.4"
      ],
      "text/plain": [
       "<IPython.core.display.HTML object>"
      ]
     },
     "metadata": {},
     "output_type": "display_data"
    },
    {
     "data": {
      "text/html": [
       "Run data is saved locally in <code>/home/mlewand/PROJS/DeepLense2024-1/wandb/run-20240318_234143-em0hzbp8</code>"
      ],
      "text/plain": [
       "<IPython.core.display.HTML object>"
      ]
     },
     "metadata": {},
     "output_type": "display_data"
    },
    {
     "data": {
      "text/html": [
       "Syncing run <strong><a href='https://wandb.ai/mlewand7/DeepLense2024_task2A/runs/em0hzbp8' target=\"_blank\">experiment_EDSR_conv2DTranspose</a></strong> to <a href='https://wandb.ai/mlewand7/DeepLense2024_task2A' target=\"_blank\">Weights & Biases</a> (<a href='https://wandb.me/run' target=\"_blank\">docs</a>)<br/>"
      ],
      "text/plain": [
       "<IPython.core.display.HTML object>"
      ]
     },
     "metadata": {},
     "output_type": "display_data"
    },
    {
     "data": {
      "text/html": [
       " View project at <a href='https://wandb.ai/mlewand7/DeepLense2024_task2A' target=\"_blank\">https://wandb.ai/mlewand7/DeepLense2024_task2A</a>"
      ],
      "text/plain": [
       "<IPython.core.display.HTML object>"
      ]
     },
     "metadata": {},
     "output_type": "display_data"
    },
    {
     "data": {
      "text/html": [
       " View run at <a href='https://wandb.ai/mlewand7/DeepLense2024_task2A/runs/em0hzbp8' target=\"_blank\">https://wandb.ai/mlewand7/DeepLense2024_task2A/runs/em0hzbp8</a>"
      ],
      "text/plain": [
       "<IPython.core.display.HTML object>"
      ]
     },
     "metadata": {},
     "output_type": "display_data"
    },
    {
     "name": "stderr",
     "output_type": "stream",
     "text": [
      "examples seen so far : 160 Mean Squared Error (MSE)=0.02341890090244746 ; PSNR=16.451554649247452 ; SSIM=-0.24278511463096306 ; : 100%|██████████| 40/40 [00:01<00:00, 38.43it/s] \n",
      "examples seen so far : 40 Mean Squared Error (MSE)=0.022840770582358044 ; PSNR=16.53549123152217 ; SSIM=-0.24458613303991464 ; : 100%|██████████| 10/10 [00:00<00:00, 26.82it/s]\n",
      "EPOCH : 0, average loss : 0.002297580127924448: 100%|██████████| 40/40 [00:01<00:00, 32.72it/s] \n",
      "examples seen so far : 160 Mean Squared Error (MSE)=0.00020532749248038885 ; PSNR=36.97566693148311 ; SSIM=0.9438491924753729 ; : 100%|██████████| 40/40 [00:00<00:00, 41.43it/s] \n",
      "examples seen so far : 40 Mean Squared Error (MSE)=0.0001946314721583174 ; PSNR=37.1754737249216 ; SSIM=0.9432279406449734 ; : 100%|██████████| 10/10 [00:00<00:00, 37.22it/s] \n",
      "EPOCH : 1, average loss : 0.00013025975113123422: 100%|██████████| 40/40 [00:01<00:00, 35.58it/s]\n",
      "examples seen so far : 160 Mean Squared Error (MSE)=0.0001000034993601547 ; PSNR=40.057395991705256 ; SSIM=0.9640356883312922 ; : 100%|██████████| 40/40 [00:00<00:00, 45.50it/s] \n",
      "examples seen so far : 40 Mean Squared Error (MSE)=9.699556857156448e-05 ; PSNR=40.17372013134096 ; SSIM=0.9631747771532108 ; : 100%|██████████| 10/10 [00:00<00:00, 36.35it/s]\n",
      "EPOCH : 2, average loss : 9.140491438301979e-05: 100%|██████████| 40/40 [00:01<00:00, 35.56it/s]\n",
      "examples seen so far : 160 Mean Squared Error (MSE)=8.553855035837693e-05 ; PSNR=40.722612917270695 ; SSIM=0.9657337796763055 ; : 100%|██████████| 40/40 [00:00<00:00, 40.49it/s]\n",
      "examples seen so far : 40 Mean Squared Error (MSE)=8.386262570871995e-05 ; PSNR=40.79511284261708 ; SSIM=0.9648180053784297 ; : 100%|██████████| 10/10 [00:00<00:00, 35.64it/s]\n",
      "EPOCH : 3, average loss : 8.277062443085015e-05: 100%|██████████| 40/40 [00:01<00:00, 35.41it/s]\n",
      "examples seen so far : 160 Mean Squared Error (MSE)=7.983464090543091e-05 ; PSNR=41.01468472582434 ; SSIM=0.9667411772709973 ; : 100%|██████████| 40/40 [00:00<00:00, 42.04it/s]\n",
      "examples seen so far : 40 Mean Squared Error (MSE)=7.904788109067923e-05 ; PSNR=41.050040956674174 ; SSIM=0.9658196186408018 ; : 100%|██████████| 10/10 [00:00<00:00, 36.27it/s]\n",
      "EPOCH : 4, average loss : 7.851650952943601e-05: 100%|██████████| 40/40 [00:01<00:00, 35.30it/s]\n",
      "examples seen so far : 160 Mean Squared Error (MSE)=7.703309529460967e-05 ; PSNR=41.172488058718706 ; SSIM=0.9672981024538196 ; : 100%|██████████| 40/40 [00:00<00:00, 45.38it/s]\n",
      "examples seen so far : 40 Mean Squared Error (MSE)=7.624078614007418e-05 ; PSNR=41.20605158815753 ; SSIM=0.9663482919717447 ; : 100%|██████████| 10/10 [00:00<00:00, 36.87it/s]\n",
      "EPOCH : 5, average loss : 7.610012580698822e-05: 100%|██████████| 40/40 [00:01<00:00, 34.38it/s]\n",
      "examples seen so far : 160 Mean Squared Error (MSE)=7.528678442493561e-05 ; PSNR=41.27102086177015 ; SSIM=0.9675891583070815 ; : 100%|██████████| 40/40 [00:01<00:00, 31.12it/s] \n",
      "examples seen so far : 40 Mean Squared Error (MSE)=7.468442438552395e-05 ; PSNR=41.29532431857846 ; SSIM=0.9666842375046167 ; : 100%|██████████| 10/10 [00:00<00:00, 31.78it/s]\n",
      "EPOCH : 6, average loss : 7.444685325026512e-05: 100%|██████████| 40/40 [00:01<00:00, 33.11it/s]\n",
      "examples seen so far : 160 Mean Squared Error (MSE)=7.345064478848019e-05 ; PSNR=41.37801811190549 ; SSIM=0.9684065786547631 ; : 100%|██████████| 40/40 [00:01<00:00, 34.46it/s] \n",
      "examples seen so far : 40 Mean Squared Error (MSE)=7.298779709321351e-05 ; PSNR=41.39484644560405 ; SSIM=0.9674396407909882 ; : 100%|██████████| 10/10 [00:00<00:00, 30.94it/s]\n",
      "EPOCH : 7, average loss : 7.337313181778881e-05: 100%|██████████| 40/40 [00:01<00:00, 32.62it/s]\n",
      "examples seen so far : 160 Mean Squared Error (MSE)=7.432825789137439e-05 ; PSNR=41.32871345735944 ; SSIM=0.9684086794373374 ; : 100%|██████████| 40/40 [00:01<00:00, 33.46it/s] \n",
      "examples seen so far : 40 Mean Squared Error (MSE)=7.393745937196609e-05 ; PSNR=41.34060115318092 ; SSIM=0.9674840630629123 ; : 100%|██████████| 10/10 [00:00<00:00, 35.78it/s]\n",
      "EPOCH : 8, average loss : 7.234897802845807e-05: 100%|██████████| 40/40 [00:01<00:00, 34.52it/s]\n",
      "examples seen so far : 160 Mean Squared Error (MSE)=7.266478416522373e-05 ; PSNR=41.42552809175136 ; SSIM=0.9692466847551694 ; : 100%|██████████| 40/40 [00:00<00:00, 42.26it/s]\n",
      "examples seen so far : 40 Mean Squared Error (MSE)=7.222905314381186e-05 ; PSNR=41.44123417106573 ; SSIM=0.9683035887204684 ; : 100%|██████████| 10/10 [00:00<00:00, 33.53it/s]\n",
      "EPOCH : 9, average loss : 7.137604170566192e-05: 100%|██████████| 40/40 [00:01<00:00, 33.94it/s]\n",
      "examples seen so far : 160 Mean Squared Error (MSE)=6.990648881417301e-05 ; PSNR=41.59248615959639 ; SSIM=0.9696983874968763 ; : 100%|██████████| 40/40 [00:01<00:00, 38.11it/s]\n",
      "examples seen so far : 40 Mean Squared Error (MSE)=6.968426103599202e-05 ; PSNR=41.596244348048714 ; SSIM=0.9687991050573496 ; : 100%|██████████| 10/10 [00:00<00:00, 33.15it/s]\n",
      "EPOCH : 10, average loss : 6.981847436691169e-05: 100%|██████████| 40/40 [00:01<00:00, 32.90it/s]\n",
      "examples seen so far : 160 Mean Squared Error (MSE)=6.899934440687205e-05 ; PSNR=41.64928153126638 ; SSIM=0.9700684873562939 ; : 100%|██████████| 40/40 [00:01<00:00, 36.73it/s] \n",
      "examples seen so far : 40 Mean Squared Error (MSE)=6.876051758389131e-05 ; PSNR=41.654244062705736 ; SSIM=0.969153914696131 ; : 100%|██████████| 10/10 [00:00<00:00, 34.51it/s]\n",
      "EPOCH : 11, average loss : 6.977938128329697e-05: 100%|██████████| 40/40 [00:01<00:00, 34.56it/s]\n",
      "examples seen so far : 160 Mean Squared Error (MSE)=8.091270332294223e-05 ; PSNR=40.95703033195219 ; SSIM=0.963170476679532 ; : 100%|██████████| 40/40 [00:01<00:00, 27.06it/s] \n",
      "examples seen so far : 40 Mean Squared Error (MSE)=8.067600207048086e-05 ; PSNR=40.96037244206638 ; SSIM=0.9623411435347337 ; : 100%|██████████| 10/10 [00:00<00:00, 24.10it/s]\n",
      "EPOCH : 12, average loss : 7.69437227063463e-05: 100%|██████████| 40/40 [00:01<00:00, 32.47it/s] \n",
      "examples seen so far : 160 Mean Squared Error (MSE)=6.777126126159012e-05 ; PSNR=41.726795343898424 ; SSIM=0.9706114598040311 ; : 100%|██████████| 40/40 [00:01<00:00, 36.24it/s]\n",
      "examples seen so far : 40 Mean Squared Error (MSE)=6.742099615691516e-05 ; PSNR=41.73962373321368 ; SSIM=0.969750260695433 ; : 100%|██████████| 10/10 [00:00<00:00, 36.40it/s] \n",
      "EPOCH : 13, average loss : 6.783348489989294e-05: 100%|██████████| 40/40 [00:01<00:00, 34.34it/s]\n",
      "examples seen so far : 160 Mean Squared Error (MSE)=6.655030411597834e-05 ; PSNR=41.80594037626905 ; SSIM=0.9712081041725926 ; : 100%|██████████| 40/40 [00:01<00:00, 26.48it/s] \n",
      "examples seen so far : 40 Mean Squared Error (MSE)=6.631111020210366e-05 ; PSNR=41.812356020524405 ; SSIM=0.9703278633264395 ; : 100%|██████████| 10/10 [00:00<00:00, 32.34it/s]\n",
      "EPOCH : 14, average loss : 6.59075608382409e-05: 100%|██████████| 40/40 [00:01<00:00, 31.03it/s] \n",
      "examples seen so far : 160 Mean Squared Error (MSE)=6.559544148468324e-05 ; PSNR=41.8697264858009 ; SSIM=0.9716547810056675 ; : 100%|██████████| 40/40 [00:01<00:00, 35.96it/s]  \n",
      "examples seen so far : 40 Mean Squared Error (MSE)=6.546129197186719e-05 ; PSNR=41.868521532488664 ; SSIM=0.9707683019148998 ; : 100%|██████████| 10/10 [00:00<00:00, 35.49it/s]\n",
      "EPOCH : 15, average loss : 6.498057391581824e-05: 100%|██████████| 40/40 [00:01<00:00, 32.63it/s]\n",
      "examples seen so far : 160 Mean Squared Error (MSE)=6.438682408862068e-05 ; PSNR=41.94945246689474 ; SSIM=0.9720464584962377 ; : 100%|██████████| 40/40 [00:01<00:00, 35.88it/s] \n",
      "examples seen so far : 40 Mean Squared Error (MSE)=6.41474524365129e-05 ; PSNR=41.95604886612079 ; SSIM=0.9712433004990603 ; : 100%|██████████| 10/10 [00:00<00:00, 32.60it/s] \n",
      "EPOCH : 16, average loss : 6.407677374227205e-05: 100%|██████████| 40/40 [00:01<00:00, 33.12it/s]\n",
      "examples seen so far : 160 Mean Squared Error (MSE)=6.377988834660382e-05 ; PSNR=41.990814750263404 ; SSIM=0.9724668871681645 ; : 100%|██████████| 40/40 [00:01<00:00, 33.62it/s]\n",
      "examples seen so far : 40 Mean Squared Error (MSE)=6.353780806351166e-05 ; PSNR=41.99769479158332 ; SSIM=0.9715880965575193 ; : 100%|██████████| 10/10 [00:00<00:00, 21.39it/s]\n",
      "EPOCH : 17, average loss : 6.378447360475548e-05: 100%|██████████| 40/40 [00:01<00:00, 30.78it/s]\n",
      "examples seen so far : 160 Mean Squared Error (MSE)=6.347145018429178e-05 ; PSNR=42.011808346437896 ; SSIM=0.9725582982009312 ; : 100%|██████████| 40/40 [00:01<00:00, 36.39it/s]\n",
      "examples seen so far : 40 Mean Squared Error (MSE)=6.332366198572952e-05 ; PSNR=42.012477004112604 ; SSIM=0.9717249793884082 ; : 100%|██████████| 10/10 [00:00<00:00, 33.38it/s]\n",
      "EPOCH : 18, average loss : 6.352279760903911e-05: 100%|██████████| 40/40 [00:01<00:00, 28.08it/s]\n",
      "examples seen so far : 160 Mean Squared Error (MSE)=6.44953871420775e-05 ; PSNR=41.9415088539438 ; SSIM=0.9710843450618241 ; : 100%|██████████| 40/40 [00:01<00:00, 39.24it/s]  \n",
      "examples seen so far : 40 Mean Squared Error (MSE)=6.430964472551401e-05 ; PSNR=41.94419712925109 ; SSIM=0.9702613262029794 ; : 100%|██████████| 10/10 [00:00<00:00, 27.01it/s]\n",
      "EPOCH : 19, average loss : 6.381770263033104e-05: 100%|██████████| 40/40 [00:01<00:00, 33.70it/s]\n",
      "examples seen so far : 160 Mean Squared Error (MSE)=6.219586700222267e-05 ; PSNR=42.09890585724974 ; SSIM=0.9730222836230535 ; : 100%|██████████| 40/40 [00:01<00:00, 25.22it/s] \n",
      "examples seen so far : 40 Mean Squared Error (MSE)=6.196860228486072e-05 ; PSNR=42.106223992690055 ; SSIM=0.9722461379491366 ; : 100%|██████████| 10/10 [00:00<00:00, 26.75it/s]\n",
      "EPOCH : 20, average loss : 6.511446736112703e-05: 100%|██████████| 40/40 [00:01<00:00, 32.02it/s]\n",
      "examples seen so far : 160 Mean Squared Error (MSE)=6.36115325030903e-05 ; PSNR=42.00188605151423 ; SSIM=0.9724702580170062 ; : 100%|██████████| 40/40 [00:01<00:00, 37.34it/s] \n",
      "examples seen so far : 40 Mean Squared Error (MSE)=6.34458318437772e-05 ; PSNR=42.004444143758754 ; SSIM=0.971704016893338 ; : 100%|██████████| 10/10 [00:00<00:00, 30.43it/s]\n",
      "EPOCH : 21, average loss : 7.029759372016997e-05: 100%|██████████| 40/40 [00:01<00:00, 33.32it/s]\n",
      "examples seen so far : 160 Mean Squared Error (MSE)=6.775791461560466e-05 ; PSNR=41.734402399600675 ; SSIM=0.9732187304106898 ; : 100%|██████████| 40/40 [00:00<00:00, 40.39it/s]\n",
      "examples seen so far : 40 Mean Squared Error (MSE)=6.749982779953055e-05 ; PSNR=41.739789834524295 ; SSIM=0.9724260354653383 ; : 100%|██████████| 10/10 [00:00<00:00, 35.90it/s]\n",
      "EPOCH : 22, average loss : 6.545843079948099e-05: 100%|██████████| 40/40 [00:01<00:00, 31.43it/s]\n",
      "examples seen so far : 160 Mean Squared Error (MSE)=6.213083010003609e-05 ; PSNR=42.105082808657286 ; SSIM=0.9731709488532828 ; : 100%|██████████| 40/40 [00:01<00:00, 23.88it/s]\n",
      "examples seen so far : 40 Mean Squared Error (MSE)=6.206143417586692e-05 ; PSNR=42.10064237140193 ; SSIM=0.9724157253901163 ; : 100%|██████████| 10/10 [00:00<00:00, 33.44it/s]\n",
      "EPOCH : 23, average loss : 6.125503359726281e-05: 100%|██████████| 40/40 [00:01<00:00, 33.02it/s]\n",
      "examples seen so far : 160 Mean Squared Error (MSE)=6.117297489940681e-05 ; PSNR=42.17226601158228 ; SSIM=0.9737267636653012 ; : 100%|██████████| 40/40 [00:01<00:00, 37.74it/s] \n",
      "examples seen so far : 40 Mean Squared Error (MSE)=6.105513145881466e-05 ; PSNR=42.17130345527994 ; SSIM=0.9729374555441049 ; : 100%|██████████| 10/10 [00:00<00:00, 12.16it/s]\n",
      "EPOCH : 24, average loss : 6.108472753112437e-05: 100%|██████████| 40/40 [00:01<00:00, 33.18it/s] \n",
      "examples seen so far : 160 Mean Squared Error (MSE)=6.0439973490447415e-05 ; PSNR=42.22416531127892 ; SSIM=0.9739659788473597 ; : 100%|██████████| 40/40 [00:01<00:00, 39.73it/s] \n",
      "examples seen so far : 40 Mean Squared Error (MSE)=6.049513607509792e-05 ; PSNR=42.21153650486993 ; SSIM=0.9731269005017403 ; : 100%|██████████| 10/10 [00:00<00:00, 25.72it/s]\n",
      "EPOCH : 25, average loss : 6.062206075512222e-05: 100%|██████████| 40/40 [00:01<00:00, 23.21it/s] \n",
      "examples seen so far : 160 Mean Squared Error (MSE)=6.049442327941574e-05 ; PSNR=42.220528212799614 ; SSIM=0.9740042049180037 ; : 100%|██████████| 40/40 [00:01<00:00, 39.88it/s]\n",
      "examples seen so far : 40 Mean Squared Error (MSE)=6.034138473646285e-05 ; PSNR=42.2220609945877 ; SSIM=0.9732077442682706 ; : 100%|██████████| 10/10 [00:00<00:00, 33.40it/s] \n",
      "EPOCH : 26, average loss : 6.126432544988347e-05: 100%|██████████| 40/40 [00:01<00:00, 32.09it/s]\n",
      "examples seen so far : 160 Mean Squared Error (MSE)=6.0428165000205886e-05 ; PSNR=42.22599678434386 ; SSIM=0.974016453485069 ; : 100%|██████████| 40/40 [00:01<00:00, 37.82it/s] \n",
      "examples seen so far : 40 Mean Squared Error (MSE)=6.0479997792311063e-05 ; PSNR=42.21274484466481 ; SSIM=0.9731844143989758 ; : 100%|██████████| 10/10 [00:00<00:00, 36.01it/s]\n",
      "EPOCH : 27, average loss : 6.03601153670752e-05: 100%|██████████| 40/40 [00:01<00:00, 28.04it/s]  \n",
      "examples seen so far : 160 Mean Squared Error (MSE)=6.024504308120213e-05 ; PSNR=42.23858903074052 ; SSIM=0.974022589389633 ; : 100%|██████████| 40/40 [00:01<00:00, 35.02it/s]   \n",
      "examples seen so far : 40 Mean Squared Error (MSE)=6.0212203373875804e-05 ; PSNR=42.23151977254284 ; SSIM=0.9732056229542463 ; : 100%|██████████| 10/10 [00:00<00:00, 36.08it/s]\n",
      "EPOCH : 28, average loss : 6.02072017500177e-05: 100%|██████████| 40/40 [00:01<00:00, 32.66it/s]  \n",
      "examples seen so far : 160 Mean Squared Error (MSE)=5.99099446890536e-05 ; PSNR=42.26281091790654 ; SSIM=0.9741166024088109 ; : 100%|██████████| 40/40 [00:01<00:00, 37.75it/s]   \n",
      "examples seen so far : 40 Mean Squared Error (MSE)=5.999851446876374e-05 ; PSNR=42.247128848616995 ; SSIM=0.9733461966881385 ; : 100%|██████████| 10/10 [00:00<00:00, 32.39it/s]\n",
      "EPOCH : 29, average loss : 6.041564429324353e-05: 100%|██████████| 40/40 [00:01<00:00, 25.22it/s] \n",
      "examples seen so far : 160 Mean Squared Error (MSE)=6.034465544837316e-05 ; PSNR=42.23163815491383 ; SSIM=0.9739387698893277 ; : 100%|██████████| 40/40 [00:01<00:00, 35.24it/s] \n",
      "examples seen so far : 40 Mean Squared Error (MSE)=6.036847807058038e-05 ; PSNR=42.220012211320935 ; SSIM=0.9731307625770569 ; : 100%|██████████| 10/10 [00:00<00:00, 32.94it/s]\n",
      "wandb: WARNING Source type is set to 'repo' but some required information is missing from the environment. A job will not be created from this run. See https://docs.wandb.ai/guides/launch/create-job\n"
     ]
    },
    {
     "data": {
      "application/vnd.jupyter.widget-view+json": {
       "model_id": "7a5c28e355a4455bbf01faefd420eb7b",
       "version_major": 2,
       "version_minor": 0
      },
      "text/plain": [
       "VBox(children=(Label(value='10.170 MB of 10.309 MB uploaded\\r'), FloatProgress(value=0.9865526176777784, max=1…"
      ]
     },
     "metadata": {},
     "output_type": "display_data"
    },
    {
     "data": {
      "text/html": [
       "<style>\n",
       "    table.wandb td:nth-child(1) { padding: 0 10px; text-align: left ; width: auto;} td:nth-child(2) {text-align: left ; width: 100%}\n",
       "    .wandb-row { display: flex; flex-direction: row; flex-wrap: wrap; justify-content: flex-start; width: 100% }\n",
       "    .wandb-col { display: flex; flex-direction: column; flex-basis: 100%; flex: 1; padding: 10px; }\n",
       "    </style>\n",
       "<div class=\"wandb-row\"><div class=\"wandb-col\"><h3>Run history:</h3><br/><table class=\"wandb\"><tr><td>loss</td><td>█▁▁▁▁▁▁▁▁▁▁▁▁▁▁▁▁▁▁▁▁▁▁▁▁▁▁▁▁▁</td></tr><tr><td>train_Mean Squared Error (MSE)</td><td>█▁▁▁▁▁▁▁▁▁▁▁▁▁▁▁▁▁▁▁▁▁▁▁▁▁▁▁▁▁▁</td></tr><tr><td>train_PSNR</td><td>▁▇▇████████████████████████████</td></tr><tr><td>train_SSIM</td><td>▁██████████████████████████████</td></tr><tr><td>val_Mean Squared Error (MSE)</td><td>█▁▁▁▁▁▁▁▁▁▁▁▁▁▁▁▁▁▁▁▁▁▁▁▁▁▁▁▁▁▁</td></tr><tr><td>val_PSNR</td><td>▁▇▇████████████████████████████</td></tr><tr><td>val_SSIM</td><td>▁██████████████████████████████</td></tr></table><br/></div><div class=\"wandb-col\"><h3>Run summary:</h3><br/><table class=\"wandb\"><tr><td>loss</td><td>6e-05</td></tr><tr><td>train_Mean Squared Error (MSE)</td><td>6e-05</td></tr><tr><td>train_PSNR</td><td>42.22877</td></tr><tr><td>train_SSIM</td><td>0.97395</td></tr><tr><td>val_Mean Squared Error (MSE)</td><td>6e-05</td></tr><tr><td>val_PSNR</td><td>42.19858</td></tr><tr><td>val_SSIM</td><td>0.97324</td></tr></table><br/></div></div>"
      ],
      "text/plain": [
       "<IPython.core.display.HTML object>"
      ]
     },
     "metadata": {},
     "output_type": "display_data"
    },
    {
     "data": {
      "text/html": [
       " View run <strong style=\"color:#cdcd00\">experiment_EDSR_conv2DTranspose</strong> at: <a href='https://wandb.ai/mlewand7/DeepLense2024_task2A/runs/em0hzbp8' target=\"_blank\">https://wandb.ai/mlewand7/DeepLense2024_task2A/runs/em0hzbp8</a><br/>Synced 5 W&B file(s), 620 media file(s), 0 artifact file(s) and 0 other file(s)"
      ],
      "text/plain": [
       "<IPython.core.display.HTML object>"
      ]
     },
     "metadata": {},
     "output_type": "display_data"
    },
    {
     "data": {
      "text/html": [
       "Find logs at: <code>./wandb/run-20240318_234143-em0hzbp8/logs</code>"
      ],
      "text/plain": [
       "<IPython.core.display.HTML object>"
      ]
     },
     "metadata": {},
     "output_type": "display_data"
    }
   ],
   "source": [
    "run_experiment_task2(train_dataloader=train_loader, \n",
    "                     val_dataloader=val_loader, \n",
    "                     Model=EDSR_conv2DTranspose, \n",
    "                     run_name=\"EDSR_conv2DTranspose\", \n",
    "                     model_parameters={}, \n",
    "                     epochs=30,\n",
    "                     learning_rate=1e-4, \n",
    "                     optimizer='adam',\n",
    "                     savepath=\"models/EDSR_upEDSR_conv2DTransposesampler.pth\",\n",
    "                     metrics=[MSE_Metric(), PSNR_Metric(), SSIM_Metric()],\n",
    "                     cfg=CONFIG,\n",
    "                     loss=\"MSE\",\n",
    "                     base_lr=1e-4, \n",
    "                     test_params={\"save_in_total\" : 10},\n",
    "                     max_lr=1e-3,\n",
    "                     scheduler_en=False,\n",
    "                     metric_keyword=\"val_PSNR\",\n",
    "                     lr_steps=len(dataset) // 2,\n",
    "                     start_with_test=True,\n",
    "                     WANDB_ON=True)"
   ]
  },
  {
   "cell_type": "markdown",
   "metadata": {},
   "source": [
    "# Residual Dense Network for Image Super-Resolution\n",
    "\n",
    "Paper: https://arxiv.org/pdf/1802.08797v2.pdf"
   ]
  },
  {
   "cell_type": "code",
   "execution_count": null,
   "metadata": {},
   "outputs": [
    {
     "ename": "RuntimeError",
     "evalue": "Given groups=1, weight of size [1, 64, 3, 3], expected input[4, 1, 75, 75] to have 64 channels, but got 1 channels instead",
     "output_type": "error",
     "traceback": [
      "\u001b[0;31m---------------------------------------------------------------------------\u001b[0m",
      "\u001b[0;31mRuntimeError\u001b[0m                              Traceback (most recent call last)",
      "Cell \u001b[0;32mIn[43], line 82\u001b[0m\n\u001b[1;32m     79\u001b[0m         \u001b[38;5;28;01mreturn\u001b[39;00m x\n\u001b[1;32m     81\u001b[0m model \u001b[38;5;241m=\u001b[39m RDN(scale_factor\u001b[38;5;241m=\u001b[39m\u001b[38;5;241m2\u001b[39m, num_channels\u001b[38;5;241m=\u001b[39m\u001b[38;5;241m64\u001b[39m, num_features\u001b[38;5;241m=\u001b[39m\u001b[38;5;241m1\u001b[39m, growth_rate\u001b[38;5;241m=\u001b[39m\u001b[38;5;241m1\u001b[39m, num_blocks\u001b[38;5;241m=\u001b[39m\u001b[38;5;241m3\u001b[39m, num_layers\u001b[38;5;241m=\u001b[39m\u001b[38;5;241m3\u001b[39m)\n\u001b[0;32m---> 82\u001b[0m \u001b[43mmodel\u001b[49m\u001b[43m(\u001b[49m\u001b[43mx\u001b[49m\u001b[43m)\u001b[49m\u001b[38;5;241m.\u001b[39mshape\n",
      "File \u001b[0;32m~/.local/lib/python3.10/site-packages/torch/nn/modules/module.py:1511\u001b[0m, in \u001b[0;36mModule._wrapped_call_impl\u001b[0;34m(self, *args, **kwargs)\u001b[0m\n\u001b[1;32m   1509\u001b[0m     \u001b[38;5;28;01mreturn\u001b[39;00m \u001b[38;5;28mself\u001b[39m\u001b[38;5;241m.\u001b[39m_compiled_call_impl(\u001b[38;5;241m*\u001b[39margs, \u001b[38;5;241m*\u001b[39m\u001b[38;5;241m*\u001b[39mkwargs)  \u001b[38;5;66;03m# type: ignore[misc]\u001b[39;00m\n\u001b[1;32m   1510\u001b[0m \u001b[38;5;28;01melse\u001b[39;00m:\n\u001b[0;32m-> 1511\u001b[0m     \u001b[38;5;28;01mreturn\u001b[39;00m \u001b[38;5;28;43mself\u001b[39;49m\u001b[38;5;241;43m.\u001b[39;49m\u001b[43m_call_impl\u001b[49m\u001b[43m(\u001b[49m\u001b[38;5;241;43m*\u001b[39;49m\u001b[43margs\u001b[49m\u001b[43m,\u001b[49m\u001b[43m \u001b[49m\u001b[38;5;241;43m*\u001b[39;49m\u001b[38;5;241;43m*\u001b[39;49m\u001b[43mkwargs\u001b[49m\u001b[43m)\u001b[49m\n",
      "File \u001b[0;32m~/.local/lib/python3.10/site-packages/torch/nn/modules/module.py:1520\u001b[0m, in \u001b[0;36mModule._call_impl\u001b[0;34m(self, *args, **kwargs)\u001b[0m\n\u001b[1;32m   1515\u001b[0m \u001b[38;5;66;03m# If we don't have any hooks, we want to skip the rest of the logic in\u001b[39;00m\n\u001b[1;32m   1516\u001b[0m \u001b[38;5;66;03m# this function, and just call forward.\u001b[39;00m\n\u001b[1;32m   1517\u001b[0m \u001b[38;5;28;01mif\u001b[39;00m \u001b[38;5;129;01mnot\u001b[39;00m (\u001b[38;5;28mself\u001b[39m\u001b[38;5;241m.\u001b[39m_backward_hooks \u001b[38;5;129;01mor\u001b[39;00m \u001b[38;5;28mself\u001b[39m\u001b[38;5;241m.\u001b[39m_backward_pre_hooks \u001b[38;5;129;01mor\u001b[39;00m \u001b[38;5;28mself\u001b[39m\u001b[38;5;241m.\u001b[39m_forward_hooks \u001b[38;5;129;01mor\u001b[39;00m \u001b[38;5;28mself\u001b[39m\u001b[38;5;241m.\u001b[39m_forward_pre_hooks\n\u001b[1;32m   1518\u001b[0m         \u001b[38;5;129;01mor\u001b[39;00m _global_backward_pre_hooks \u001b[38;5;129;01mor\u001b[39;00m _global_backward_hooks\n\u001b[1;32m   1519\u001b[0m         \u001b[38;5;129;01mor\u001b[39;00m _global_forward_hooks \u001b[38;5;129;01mor\u001b[39;00m _global_forward_pre_hooks):\n\u001b[0;32m-> 1520\u001b[0m     \u001b[38;5;28;01mreturn\u001b[39;00m \u001b[43mforward_call\u001b[49m\u001b[43m(\u001b[49m\u001b[38;5;241;43m*\u001b[39;49m\u001b[43margs\u001b[49m\u001b[43m,\u001b[49m\u001b[43m \u001b[49m\u001b[38;5;241;43m*\u001b[39;49m\u001b[38;5;241;43m*\u001b[39;49m\u001b[43mkwargs\u001b[49m\u001b[43m)\u001b[49m\n\u001b[1;32m   1522\u001b[0m \u001b[38;5;28;01mtry\u001b[39;00m:\n\u001b[1;32m   1523\u001b[0m     result \u001b[38;5;241m=\u001b[39m \u001b[38;5;28;01mNone\u001b[39;00m\n",
      "Cell \u001b[0;32mIn[43], line 67\u001b[0m, in \u001b[0;36mRDN.forward\u001b[0;34m(self, x)\u001b[0m\n\u001b[1;32m     66\u001b[0m \u001b[38;5;28;01mdef\u001b[39;00m \u001b[38;5;21mforward\u001b[39m(\u001b[38;5;28mself\u001b[39m, x):\n\u001b[0;32m---> 67\u001b[0m     sfe1 \u001b[38;5;241m=\u001b[39m \u001b[38;5;28;43mself\u001b[39;49m\u001b[38;5;241;43m.\u001b[39;49m\u001b[43msfe1\u001b[49m\u001b[43m(\u001b[49m\u001b[43mx\u001b[49m\u001b[43m)\u001b[49m\n\u001b[1;32m     68\u001b[0m     sfe2 \u001b[38;5;241m=\u001b[39m \u001b[38;5;28mself\u001b[39m\u001b[38;5;241m.\u001b[39msfe2(sfe1)\n\u001b[1;32m     70\u001b[0m     x \u001b[38;5;241m=\u001b[39m sfe2\n",
      "File \u001b[0;32m~/.local/lib/python3.10/site-packages/torch/nn/modules/module.py:1511\u001b[0m, in \u001b[0;36mModule._wrapped_call_impl\u001b[0;34m(self, *args, **kwargs)\u001b[0m\n\u001b[1;32m   1509\u001b[0m     \u001b[38;5;28;01mreturn\u001b[39;00m \u001b[38;5;28mself\u001b[39m\u001b[38;5;241m.\u001b[39m_compiled_call_impl(\u001b[38;5;241m*\u001b[39margs, \u001b[38;5;241m*\u001b[39m\u001b[38;5;241m*\u001b[39mkwargs)  \u001b[38;5;66;03m# type: ignore[misc]\u001b[39;00m\n\u001b[1;32m   1510\u001b[0m \u001b[38;5;28;01melse\u001b[39;00m:\n\u001b[0;32m-> 1511\u001b[0m     \u001b[38;5;28;01mreturn\u001b[39;00m \u001b[38;5;28;43mself\u001b[39;49m\u001b[38;5;241;43m.\u001b[39;49m\u001b[43m_call_impl\u001b[49m\u001b[43m(\u001b[49m\u001b[38;5;241;43m*\u001b[39;49m\u001b[43margs\u001b[49m\u001b[43m,\u001b[49m\u001b[43m \u001b[49m\u001b[38;5;241;43m*\u001b[39;49m\u001b[38;5;241;43m*\u001b[39;49m\u001b[43mkwargs\u001b[49m\u001b[43m)\u001b[49m\n",
      "File \u001b[0;32m~/.local/lib/python3.10/site-packages/torch/nn/modules/module.py:1520\u001b[0m, in \u001b[0;36mModule._call_impl\u001b[0;34m(self, *args, **kwargs)\u001b[0m\n\u001b[1;32m   1515\u001b[0m \u001b[38;5;66;03m# If we don't have any hooks, we want to skip the rest of the logic in\u001b[39;00m\n\u001b[1;32m   1516\u001b[0m \u001b[38;5;66;03m# this function, and just call forward.\u001b[39;00m\n\u001b[1;32m   1517\u001b[0m \u001b[38;5;28;01mif\u001b[39;00m \u001b[38;5;129;01mnot\u001b[39;00m (\u001b[38;5;28mself\u001b[39m\u001b[38;5;241m.\u001b[39m_backward_hooks \u001b[38;5;129;01mor\u001b[39;00m \u001b[38;5;28mself\u001b[39m\u001b[38;5;241m.\u001b[39m_backward_pre_hooks \u001b[38;5;129;01mor\u001b[39;00m \u001b[38;5;28mself\u001b[39m\u001b[38;5;241m.\u001b[39m_forward_hooks \u001b[38;5;129;01mor\u001b[39;00m \u001b[38;5;28mself\u001b[39m\u001b[38;5;241m.\u001b[39m_forward_pre_hooks\n\u001b[1;32m   1518\u001b[0m         \u001b[38;5;129;01mor\u001b[39;00m _global_backward_pre_hooks \u001b[38;5;129;01mor\u001b[39;00m _global_backward_hooks\n\u001b[1;32m   1519\u001b[0m         \u001b[38;5;129;01mor\u001b[39;00m _global_forward_hooks \u001b[38;5;129;01mor\u001b[39;00m _global_forward_pre_hooks):\n\u001b[0;32m-> 1520\u001b[0m     \u001b[38;5;28;01mreturn\u001b[39;00m \u001b[43mforward_call\u001b[49m\u001b[43m(\u001b[49m\u001b[38;5;241;43m*\u001b[39;49m\u001b[43margs\u001b[49m\u001b[43m,\u001b[49m\u001b[43m \u001b[49m\u001b[38;5;241;43m*\u001b[39;49m\u001b[38;5;241;43m*\u001b[39;49m\u001b[43mkwargs\u001b[49m\u001b[43m)\u001b[49m\n\u001b[1;32m   1522\u001b[0m \u001b[38;5;28;01mtry\u001b[39;00m:\n\u001b[1;32m   1523\u001b[0m     result \u001b[38;5;241m=\u001b[39m \u001b[38;5;28;01mNone\u001b[39;00m\n",
      "File \u001b[0;32m~/.local/lib/python3.10/site-packages/torch/nn/modules/conv.py:460\u001b[0m, in \u001b[0;36mConv2d.forward\u001b[0;34m(self, input)\u001b[0m\n\u001b[1;32m    459\u001b[0m \u001b[38;5;28;01mdef\u001b[39;00m \u001b[38;5;21mforward\u001b[39m(\u001b[38;5;28mself\u001b[39m, \u001b[38;5;28minput\u001b[39m: Tensor) \u001b[38;5;241m-\u001b[39m\u001b[38;5;241m>\u001b[39m Tensor:\n\u001b[0;32m--> 460\u001b[0m     \u001b[38;5;28;01mreturn\u001b[39;00m \u001b[38;5;28;43mself\u001b[39;49m\u001b[38;5;241;43m.\u001b[39;49m\u001b[43m_conv_forward\u001b[49m\u001b[43m(\u001b[49m\u001b[38;5;28;43minput\u001b[39;49m\u001b[43m,\u001b[49m\u001b[43m \u001b[49m\u001b[38;5;28;43mself\u001b[39;49m\u001b[38;5;241;43m.\u001b[39;49m\u001b[43mweight\u001b[49m\u001b[43m,\u001b[49m\u001b[43m \u001b[49m\u001b[38;5;28;43mself\u001b[39;49m\u001b[38;5;241;43m.\u001b[39;49m\u001b[43mbias\u001b[49m\u001b[43m)\u001b[49m\n",
      "File \u001b[0;32m~/.local/lib/python3.10/site-packages/torch/nn/modules/conv.py:456\u001b[0m, in \u001b[0;36mConv2d._conv_forward\u001b[0;34m(self, input, weight, bias)\u001b[0m\n\u001b[1;32m    452\u001b[0m \u001b[38;5;28;01mif\u001b[39;00m \u001b[38;5;28mself\u001b[39m\u001b[38;5;241m.\u001b[39mpadding_mode \u001b[38;5;241m!=\u001b[39m \u001b[38;5;124m'\u001b[39m\u001b[38;5;124mzeros\u001b[39m\u001b[38;5;124m'\u001b[39m:\n\u001b[1;32m    453\u001b[0m     \u001b[38;5;28;01mreturn\u001b[39;00m F\u001b[38;5;241m.\u001b[39mconv2d(F\u001b[38;5;241m.\u001b[39mpad(\u001b[38;5;28minput\u001b[39m, \u001b[38;5;28mself\u001b[39m\u001b[38;5;241m.\u001b[39m_reversed_padding_repeated_twice, mode\u001b[38;5;241m=\u001b[39m\u001b[38;5;28mself\u001b[39m\u001b[38;5;241m.\u001b[39mpadding_mode),\n\u001b[1;32m    454\u001b[0m                     weight, bias, \u001b[38;5;28mself\u001b[39m\u001b[38;5;241m.\u001b[39mstride,\n\u001b[1;32m    455\u001b[0m                     _pair(\u001b[38;5;241m0\u001b[39m), \u001b[38;5;28mself\u001b[39m\u001b[38;5;241m.\u001b[39mdilation, \u001b[38;5;28mself\u001b[39m\u001b[38;5;241m.\u001b[39mgroups)\n\u001b[0;32m--> 456\u001b[0m \u001b[38;5;28;01mreturn\u001b[39;00m \u001b[43mF\u001b[49m\u001b[38;5;241;43m.\u001b[39;49m\u001b[43mconv2d\u001b[49m\u001b[43m(\u001b[49m\u001b[38;5;28;43minput\u001b[39;49m\u001b[43m,\u001b[49m\u001b[43m \u001b[49m\u001b[43mweight\u001b[49m\u001b[43m,\u001b[49m\u001b[43m \u001b[49m\u001b[43mbias\u001b[49m\u001b[43m,\u001b[49m\u001b[43m \u001b[49m\u001b[38;5;28;43mself\u001b[39;49m\u001b[38;5;241;43m.\u001b[39;49m\u001b[43mstride\u001b[49m\u001b[43m,\u001b[49m\n\u001b[1;32m    457\u001b[0m \u001b[43m                \u001b[49m\u001b[38;5;28;43mself\u001b[39;49m\u001b[38;5;241;43m.\u001b[39;49m\u001b[43mpadding\u001b[49m\u001b[43m,\u001b[49m\u001b[43m \u001b[49m\u001b[38;5;28;43mself\u001b[39;49m\u001b[38;5;241;43m.\u001b[39;49m\u001b[43mdilation\u001b[49m\u001b[43m,\u001b[49m\u001b[43m \u001b[49m\u001b[38;5;28;43mself\u001b[39;49m\u001b[38;5;241;43m.\u001b[39;49m\u001b[43mgroups\u001b[49m\u001b[43m)\u001b[49m\n",
      "\u001b[0;31mRuntimeError\u001b[0m: Given groups=1, weight of size [1, 64, 3, 3], expected input[4, 1, 75, 75] to have 64 channels, but got 1 channels instead"
     ]
    },
    {
     "ename": "RuntimeError",
     "evalue": "Given groups=1, weight of size [1, 64, 3, 3], expected input[4, 1, 75, 75] to have 64 channels, but got 1 channels instead",
     "output_type": "error",
     "traceback": [
      "\u001b[0;31m---------------------------------------------------------------------------\u001b[0m",
      "\u001b[0;31mRuntimeError\u001b[0m                              Traceback (most recent call last)",
      "Cell \u001b[0;32mIn[44], line 83\u001b[0m\n\u001b[1;32m     80\u001b[0m         \u001b[38;5;28;01mreturn\u001b[39;00m x\n\u001b[1;32m     82\u001b[0m model \u001b[38;5;241m=\u001b[39m RDN(scale_factor\u001b[38;5;241m=\u001b[39m\u001b[38;5;241m2\u001b[39m, num_channels\u001b[38;5;241m=\u001b[39m\u001b[38;5;241m64\u001b[39m, num_features\u001b[38;5;241m=\u001b[39m\u001b[38;5;241m1\u001b[39m, growth_rate\u001b[38;5;241m=\u001b[39m\u001b[38;5;241m1\u001b[39m, num_blocks\u001b[38;5;241m=\u001b[39m\u001b[38;5;241m3\u001b[39m, num_layers\u001b[38;5;241m=\u001b[39m\u001b[38;5;241m3\u001b[39m)\n\u001b[0;32m---> 83\u001b[0m \u001b[43mmodel\u001b[49m\u001b[43m(\u001b[49m\u001b[43mx\u001b[49m\u001b[43m)\u001b[49m\u001b[38;5;241m.\u001b[39mshape\n",
      "File \u001b[0;32m~/.local/lib/python3.10/site-packages/torch/nn/modules/module.py:1511\u001b[0m, in \u001b[0;36mModule._wrapped_call_impl\u001b[0;34m(self, *args, **kwargs)\u001b[0m\n\u001b[1;32m   1509\u001b[0m     \u001b[38;5;28;01mreturn\u001b[39;00m \u001b[38;5;28mself\u001b[39m\u001b[38;5;241m.\u001b[39m_compiled_call_impl(\u001b[38;5;241m*\u001b[39margs, \u001b[38;5;241m*\u001b[39m\u001b[38;5;241m*\u001b[39mkwargs)  \u001b[38;5;66;03m# type: ignore[misc]\u001b[39;00m\n\u001b[1;32m   1510\u001b[0m \u001b[38;5;28;01melse\u001b[39;00m:\n\u001b[0;32m-> 1511\u001b[0m     \u001b[38;5;28;01mreturn\u001b[39;00m \u001b[38;5;28;43mself\u001b[39;49m\u001b[38;5;241;43m.\u001b[39;49m\u001b[43m_call_impl\u001b[49m\u001b[43m(\u001b[49m\u001b[38;5;241;43m*\u001b[39;49m\u001b[43margs\u001b[49m\u001b[43m,\u001b[49m\u001b[43m \u001b[49m\u001b[38;5;241;43m*\u001b[39;49m\u001b[38;5;241;43m*\u001b[39;49m\u001b[43mkwargs\u001b[49m\u001b[43m)\u001b[49m\n",
      "File \u001b[0;32m~/.local/lib/python3.10/site-packages/torch/nn/modules/module.py:1520\u001b[0m, in \u001b[0;36mModule._call_impl\u001b[0;34m(self, *args, **kwargs)\u001b[0m\n\u001b[1;32m   1515\u001b[0m \u001b[38;5;66;03m# If we don't have any hooks, we want to skip the rest of the logic in\u001b[39;00m\n\u001b[1;32m   1516\u001b[0m \u001b[38;5;66;03m# this function, and just call forward.\u001b[39;00m\n\u001b[1;32m   1517\u001b[0m \u001b[38;5;28;01mif\u001b[39;00m \u001b[38;5;129;01mnot\u001b[39;00m (\u001b[38;5;28mself\u001b[39m\u001b[38;5;241m.\u001b[39m_backward_hooks \u001b[38;5;129;01mor\u001b[39;00m \u001b[38;5;28mself\u001b[39m\u001b[38;5;241m.\u001b[39m_backward_pre_hooks \u001b[38;5;129;01mor\u001b[39;00m \u001b[38;5;28mself\u001b[39m\u001b[38;5;241m.\u001b[39m_forward_hooks \u001b[38;5;129;01mor\u001b[39;00m \u001b[38;5;28mself\u001b[39m\u001b[38;5;241m.\u001b[39m_forward_pre_hooks\n\u001b[1;32m   1518\u001b[0m         \u001b[38;5;129;01mor\u001b[39;00m _global_backward_pre_hooks \u001b[38;5;129;01mor\u001b[39;00m _global_backward_hooks\n\u001b[1;32m   1519\u001b[0m         \u001b[38;5;129;01mor\u001b[39;00m _global_forward_hooks \u001b[38;5;129;01mor\u001b[39;00m _global_forward_pre_hooks):\n\u001b[0;32m-> 1520\u001b[0m     \u001b[38;5;28;01mreturn\u001b[39;00m \u001b[43mforward_call\u001b[49m\u001b[43m(\u001b[49m\u001b[38;5;241;43m*\u001b[39;49m\u001b[43margs\u001b[49m\u001b[43m,\u001b[49m\u001b[43m \u001b[49m\u001b[38;5;241;43m*\u001b[39;49m\u001b[38;5;241;43m*\u001b[39;49m\u001b[43mkwargs\u001b[49m\u001b[43m)\u001b[49m\n\u001b[1;32m   1522\u001b[0m \u001b[38;5;28;01mtry\u001b[39;00m:\n\u001b[1;32m   1523\u001b[0m     result \u001b[38;5;241m=\u001b[39m \u001b[38;5;28;01mNone\u001b[39;00m\n",
      "Cell \u001b[0;32mIn[44], line 67\u001b[0m, in \u001b[0;36mRDN.forward\u001b[0;34m(self, x)\u001b[0m\n\u001b[1;32m     66\u001b[0m \u001b[38;5;28;01mdef\u001b[39;00m \u001b[38;5;21mforward\u001b[39m(\u001b[38;5;28mself\u001b[39m, x):\n\u001b[0;32m---> 67\u001b[0m     sfe1 \u001b[38;5;241m=\u001b[39m \u001b[38;5;28;43mself\u001b[39;49m\u001b[38;5;241;43m.\u001b[39;49m\u001b[43msfe1\u001b[49m\u001b[43m(\u001b[49m\u001b[43mx\u001b[49m\u001b[43m)\u001b[49m\n\u001b[1;32m     68\u001b[0m     \u001b[38;5;28mprint\u001b[39m(sfe1\u001b[38;5;241m.\u001b[39mshape)\n\u001b[1;32m     69\u001b[0m     sfe2 \u001b[38;5;241m=\u001b[39m \u001b[38;5;28mself\u001b[39m\u001b[38;5;241m.\u001b[39msfe2(sfe1)\n",
      "File \u001b[0;32m~/.local/lib/python3.10/site-packages/torch/nn/modules/module.py:1511\u001b[0m, in \u001b[0;36mModule._wrapped_call_impl\u001b[0;34m(self, *args, **kwargs)\u001b[0m\n\u001b[1;32m   1509\u001b[0m     \u001b[38;5;28;01mreturn\u001b[39;00m \u001b[38;5;28mself\u001b[39m\u001b[38;5;241m.\u001b[39m_compiled_call_impl(\u001b[38;5;241m*\u001b[39margs, \u001b[38;5;241m*\u001b[39m\u001b[38;5;241m*\u001b[39mkwargs)  \u001b[38;5;66;03m# type: ignore[misc]\u001b[39;00m\n\u001b[1;32m   1510\u001b[0m \u001b[38;5;28;01melse\u001b[39;00m:\n\u001b[0;32m-> 1511\u001b[0m     \u001b[38;5;28;01mreturn\u001b[39;00m \u001b[38;5;28;43mself\u001b[39;49m\u001b[38;5;241;43m.\u001b[39;49m\u001b[43m_call_impl\u001b[49m\u001b[43m(\u001b[49m\u001b[38;5;241;43m*\u001b[39;49m\u001b[43margs\u001b[49m\u001b[43m,\u001b[49m\u001b[43m \u001b[49m\u001b[38;5;241;43m*\u001b[39;49m\u001b[38;5;241;43m*\u001b[39;49m\u001b[43mkwargs\u001b[49m\u001b[43m)\u001b[49m\n",
      "File \u001b[0;32m~/.local/lib/python3.10/site-packages/torch/nn/modules/module.py:1520\u001b[0m, in \u001b[0;36mModule._call_impl\u001b[0;34m(self, *args, **kwargs)\u001b[0m\n\u001b[1;32m   1515\u001b[0m \u001b[38;5;66;03m# If we don't have any hooks, we want to skip the rest of the logic in\u001b[39;00m\n\u001b[1;32m   1516\u001b[0m \u001b[38;5;66;03m# this function, and just call forward.\u001b[39;00m\n\u001b[1;32m   1517\u001b[0m \u001b[38;5;28;01mif\u001b[39;00m \u001b[38;5;129;01mnot\u001b[39;00m (\u001b[38;5;28mself\u001b[39m\u001b[38;5;241m.\u001b[39m_backward_hooks \u001b[38;5;129;01mor\u001b[39;00m \u001b[38;5;28mself\u001b[39m\u001b[38;5;241m.\u001b[39m_backward_pre_hooks \u001b[38;5;129;01mor\u001b[39;00m \u001b[38;5;28mself\u001b[39m\u001b[38;5;241m.\u001b[39m_forward_hooks \u001b[38;5;129;01mor\u001b[39;00m \u001b[38;5;28mself\u001b[39m\u001b[38;5;241m.\u001b[39m_forward_pre_hooks\n\u001b[1;32m   1518\u001b[0m         \u001b[38;5;129;01mor\u001b[39;00m _global_backward_pre_hooks \u001b[38;5;129;01mor\u001b[39;00m _global_backward_hooks\n\u001b[1;32m   1519\u001b[0m         \u001b[38;5;129;01mor\u001b[39;00m _global_forward_hooks \u001b[38;5;129;01mor\u001b[39;00m _global_forward_pre_hooks):\n\u001b[0;32m-> 1520\u001b[0m     \u001b[38;5;28;01mreturn\u001b[39;00m \u001b[43mforward_call\u001b[49m\u001b[43m(\u001b[49m\u001b[38;5;241;43m*\u001b[39;49m\u001b[43margs\u001b[49m\u001b[43m,\u001b[49m\u001b[43m \u001b[49m\u001b[38;5;241;43m*\u001b[39;49m\u001b[38;5;241;43m*\u001b[39;49m\u001b[43mkwargs\u001b[49m\u001b[43m)\u001b[49m\n\u001b[1;32m   1522\u001b[0m \u001b[38;5;28;01mtry\u001b[39;00m:\n\u001b[1;32m   1523\u001b[0m     result \u001b[38;5;241m=\u001b[39m \u001b[38;5;28;01mNone\u001b[39;00m\n",
      "File \u001b[0;32m~/.local/lib/python3.10/site-packages/torch/nn/modules/conv.py:460\u001b[0m, in \u001b[0;36mConv2d.forward\u001b[0;34m(self, input)\u001b[0m\n\u001b[1;32m    459\u001b[0m \u001b[38;5;28;01mdef\u001b[39;00m \u001b[38;5;21mforward\u001b[39m(\u001b[38;5;28mself\u001b[39m, \u001b[38;5;28minput\u001b[39m: Tensor) \u001b[38;5;241m-\u001b[39m\u001b[38;5;241m>\u001b[39m Tensor:\n\u001b[0;32m--> 460\u001b[0m     \u001b[38;5;28;01mreturn\u001b[39;00m \u001b[38;5;28;43mself\u001b[39;49m\u001b[38;5;241;43m.\u001b[39;49m\u001b[43m_conv_forward\u001b[49m\u001b[43m(\u001b[49m\u001b[38;5;28;43minput\u001b[39;49m\u001b[43m,\u001b[49m\u001b[43m \u001b[49m\u001b[38;5;28;43mself\u001b[39;49m\u001b[38;5;241;43m.\u001b[39;49m\u001b[43mweight\u001b[49m\u001b[43m,\u001b[49m\u001b[43m \u001b[49m\u001b[38;5;28;43mself\u001b[39;49m\u001b[38;5;241;43m.\u001b[39;49m\u001b[43mbias\u001b[49m\u001b[43m)\u001b[49m\n",
      "File \u001b[0;32m~/.local/lib/python3.10/site-packages/torch/nn/modules/conv.py:456\u001b[0m, in \u001b[0;36mConv2d._conv_forward\u001b[0;34m(self, input, weight, bias)\u001b[0m\n\u001b[1;32m    452\u001b[0m \u001b[38;5;28;01mif\u001b[39;00m \u001b[38;5;28mself\u001b[39m\u001b[38;5;241m.\u001b[39mpadding_mode \u001b[38;5;241m!=\u001b[39m \u001b[38;5;124m'\u001b[39m\u001b[38;5;124mzeros\u001b[39m\u001b[38;5;124m'\u001b[39m:\n\u001b[1;32m    453\u001b[0m     \u001b[38;5;28;01mreturn\u001b[39;00m F\u001b[38;5;241m.\u001b[39mconv2d(F\u001b[38;5;241m.\u001b[39mpad(\u001b[38;5;28minput\u001b[39m, \u001b[38;5;28mself\u001b[39m\u001b[38;5;241m.\u001b[39m_reversed_padding_repeated_twice, mode\u001b[38;5;241m=\u001b[39m\u001b[38;5;28mself\u001b[39m\u001b[38;5;241m.\u001b[39mpadding_mode),\n\u001b[1;32m    454\u001b[0m                     weight, bias, \u001b[38;5;28mself\u001b[39m\u001b[38;5;241m.\u001b[39mstride,\n\u001b[1;32m    455\u001b[0m                     _pair(\u001b[38;5;241m0\u001b[39m), \u001b[38;5;28mself\u001b[39m\u001b[38;5;241m.\u001b[39mdilation, \u001b[38;5;28mself\u001b[39m\u001b[38;5;241m.\u001b[39mgroups)\n\u001b[0;32m--> 456\u001b[0m \u001b[38;5;28;01mreturn\u001b[39;00m \u001b[43mF\u001b[49m\u001b[38;5;241;43m.\u001b[39;49m\u001b[43mconv2d\u001b[49m\u001b[43m(\u001b[49m\u001b[38;5;28;43minput\u001b[39;49m\u001b[43m,\u001b[49m\u001b[43m \u001b[49m\u001b[43mweight\u001b[49m\u001b[43m,\u001b[49m\u001b[43m \u001b[49m\u001b[43mbias\u001b[49m\u001b[43m,\u001b[49m\u001b[43m \u001b[49m\u001b[38;5;28;43mself\u001b[39;49m\u001b[38;5;241;43m.\u001b[39;49m\u001b[43mstride\u001b[49m\u001b[43m,\u001b[49m\n\u001b[1;32m    457\u001b[0m \u001b[43m                \u001b[49m\u001b[38;5;28;43mself\u001b[39;49m\u001b[38;5;241;43m.\u001b[39;49m\u001b[43mpadding\u001b[49m\u001b[43m,\u001b[49m\u001b[43m \u001b[49m\u001b[38;5;28;43mself\u001b[39;49m\u001b[38;5;241;43m.\u001b[39;49m\u001b[43mdilation\u001b[49m\u001b[43m,\u001b[49m\u001b[43m \u001b[49m\u001b[38;5;28;43mself\u001b[39;49m\u001b[38;5;241;43m.\u001b[39;49m\u001b[43mgroups\u001b[49m\u001b[43m)\u001b[49m\n",
      "\u001b[0;31mRuntimeError\u001b[0m: Given groups=1, weight of size [1, 64, 3, 3], expected input[4, 1, 75, 75] to have 64 channels, but got 1 channels instead"
     ]
    },
    {
     "ename": "",
     "evalue": "",
     "output_type": "error",
     "traceback": [
      "\u001b[1;31mThe Kernel crashed while executing code in the current cell or a previous cell. \n",
      "\u001b[1;31mPlease review the code in the cell(s) to identify a possible cause of the failure. \n",
      "\u001b[1;31mClick <a href='https://aka.ms/vscodeJupyterKernelCrash'>here</a> for more info. \n",
      "\u001b[1;31mView Jupyter <a href='command:jupyter.viewOutput'>log</a> for further details."
     ]
    }
   ],
   "source": [
    "import torch\n",
    "from torch import nn\n",
    "\n",
    "\n",
    "class DenseLayer(nn.Module):\n",
    "    def __init__(self, in_channels, out_channels):\n",
    "        super(DenseLayer, self).__init__()\n",
    "        self.conv = nn.Conv2d(in_channels, out_channels, kernel_size=3, padding=3 // 2)\n",
    "        self.relu = nn.ReLU(inplace=True)\n",
    "\n",
    "    def forward(self, x):\n",
    "        return torch.cat([x, self.relu(self.conv(x))], 1)\n",
    "\n",
    "\n",
    "class RDB(nn.Module):\n",
    "    def __init__(self, in_channels, growth_rate, num_layers):\n",
    "        super(RDB, self).__init__()\n",
    "        self.layers = nn.Sequential(*[DenseLayer(in_channels + growth_rate * i, growth_rate) for i in range(num_layers)])\n",
    "\n",
    "        # local feature fusion\n",
    "        self.lff = nn.Conv2d(in_channels + growth_rate * num_layers, growth_rate, kernel_size=1)\n",
    "\n",
    "    def forward(self, x):\n",
    "        return x + self.lff(self.layers(x))  # local residual learning\n",
    "\n",
    "\n",
    "class RDN(nn.Module):\n",
    "    def __init__(self, scale_factor, num_channels, num_features, growth_rate, num_blocks, num_layers):\n",
    "        super(RDN, self).__init__()\n",
    "        self.G0 = num_features\n",
    "        self.G = growth_rate\n",
    "        self.D = num_blocks\n",
    "        self.C = num_layers\n",
    "\n",
    "        # shallow feature extraction\n",
    "        self.sfe1 = nn.Conv2d(num_channels, num_features, kernel_size=3, padding=3 // 2)\n",
    "        self.sfe2 = nn.Conv2d(num_features, num_features, kernel_size=3, padding=3 // 2)\n",
    "\n",
    "        # residual dense blocks\n",
    "        self.rdbs = nn.ModuleList([RDB(self.G0, self.G, self.C)])\n",
    "        for _ in range(self.D - 1):\n",
    "            self.rdbs.append(RDB(self.G, self.G, self.C))\n",
    "\n",
    "        # global feature fusion\n",
    "        self.gff = nn.Sequential(\n",
    "            nn.Conv2d(self.G * self.D, self.G0, kernel_size=1),\n",
    "            nn.Conv2d(self.G0, self.G0, kernel_size=3, padding=3 // 2)\n",
    "        )\n",
    "\n",
    "        # up-sampling\n",
    "        assert 2 <= scale_factor <= 4\n",
    "        if scale_factor == 2 or scale_factor == 4:\n",
    "            self.upscale = []\n",
    "            for _ in range(scale_factor // 2):\n",
    "                self.upscale.extend([nn.Conv2d(self.G0, self.G0 * (2 ** 2), kernel_size=3, padding=3 // 2),\n",
    "                                     nn.PixelShuffle(2)])\n",
    "            self.upscale = nn.Sequential(*self.upscale)\n",
    "        else:\n",
    "            self.upscale = nn.Sequential(\n",
    "                nn.Conv2d(self.G0, self.G0 * (scale_factor ** 2), kernel_size=3, padding=3 // 2),\n",
    "                nn.PixelShuffle(scale_factor)\n",
    "            )\n",
    "\n",
    "        self.output = nn.Conv2d(self.G0, num_channels, kernel_size=3, padding=3 // 2)\n",
    "\n",
    "    def forward(self, x):\n",
    "        print(x.shape)\n",
    "        sfe1 = self.sfe1(x)\n",
    "        print(sfe1.shape)\n",
    "        sfe2 = self.sfe2(sfe1)\n",
    "\n",
    "        x = sfe2\n",
    "        local_features = []\n",
    "        for i in range(self.D):\n",
    "            x = self.rdbs[i](x)\n",
    "            local_features.append(x)\n",
    "\n",
    "        x = self.gff(torch.cat(local_features, 1)) + sfe1  # global residual learning\n",
    "        x = self.upscale(x)\n",
    "        x = self.output(x)\n",
    "        return x\n",
    "    \n",
    "model = RDN(scale_factor=2, num_channels=64, num_features=1, growth_rate=1, num_blocks=3, num_layers=3)\n",
    "model(x).shape"
   ]
  },
  {
   "cell_type": "code",
   "execution_count": null,
   "metadata": {},
   "outputs": [],
   "source": []
  },
  {
   "cell_type": "code",
   "execution_count": null,
   "metadata": {},
   "outputs": [],
   "source": []
  }
 ],
 "metadata": {
  "kernelspec": {
   "display_name": "Python 3",
   "language": "python",
   "name": "python3"
  },
  "language_info": {
   "codemirror_mode": {
    "name": "ipython",
    "version": 3
   },
   "file_extension": ".py",
   "mimetype": "text/x-python",
   "name": "python",
   "nbconvert_exporter": "python",
   "pygments_lexer": "ipython3",
   "version": "3.10.12"
  }
 },
 "nbformat": 4,
 "nbformat_minor": 2
}
