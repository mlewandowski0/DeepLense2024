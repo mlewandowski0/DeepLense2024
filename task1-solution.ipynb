{
 "cells": [
  {
   "cell_type": "markdown",
   "metadata": {},
   "source": [
    "# Installation"
   ]
  },
  {
   "cell_type": "code",
   "execution_count": null,
   "metadata": {},
   "outputs": [],
   "source": [
    "!pip install scikit-image pandas matplotlib tqdm  torchinfo tensorboard wandb scikit-learn"
   ]
  },
  {
   "cell_type": "markdown",
   "metadata": {},
   "source": [
    "# Imports"
   ]
  },
  {
   "cell_type": "code",
   "execution_count": 35,
   "metadata": {},
   "outputs": [],
   "source": [
    "import os\n",
    "import torch\n",
    "import psutil\n",
    "from util import format\n",
    "from torch.utils.data import DataLoader\n",
    "from datasets import DeepLenseClassificationDataset\n",
    "from torchinfo import summary\n",
    "from util import run_experiment"
   ]
  },
  {
   "cell_type": "markdown",
   "metadata": {},
   "source": [
    "# CONFIG"
   ]
  },
  {
   "cell_type": "code",
   "execution_count": 23,
   "metadata": {},
   "outputs": [],
   "source": [
    "class CONFIG:\n",
    "    BATCH_SIZE = 16\n",
    "    \n",
    "    # limit the data to prototype faster\n",
    "    DATA_LIMIT = 100\n",
    "    \n",
    "    CLASSES = 3\n",
    "    ROUND_NUMBER = 3\n",
    "    DEVICE = torch.device(\"cuda\") if torch.cuda.is_available() else torch.device(\"cpu\")\n",
    "    TASK_NAME = \"DeepLense2024_task1\""
   ]
  },
  {
   "cell_type": "code",
   "execution_count": 27,
   "metadata": {},
   "outputs": [
    {
     "name": "stdout",
     "output_type": "stream",
     "text": [
      "RAM used : 4.09GB, RAM free : 1.24GB\n"
     ]
    }
   ],
   "source": [
    "memory_start = psutil.virtual_memory()\n",
    "print(f\"RAM used : {format(memory_start.used)}, RAM free : {format(memory_start.free)}\")"
   ]
  },
  {
   "cell_type": "markdown",
   "metadata": {},
   "source": [
    "# Loading the dataset"
   ]
  },
  {
   "cell_type": "code",
   "execution_count": 29,
   "metadata": {},
   "outputs": [
    {
     "name": "stderr",
     "output_type": "stream",
     "text": [
      "loading numpy: 100%|██████████| 300/300 [00:00<00:00, 5999.61it/s]\n",
      "preprocessing:   0%|          | 0/300 [00:00<?, ?it/s]"
     ]
    },
    {
     "name": "stderr",
     "output_type": "stream",
     "text": [
      "preprocessing: 100%|██████████| 300/300 [00:00<00:00, 11562.20it/s]\n",
      "loading numpy: 100%|██████████| 300/300 [00:00<00:00, 5518.34it/s]\n",
      "preprocessing: 100%|██████████| 300/300 [00:00<00:00, 12624.95it/s]"
     ]
    },
    {
     "name": "stdout",
     "output_type": "stream",
     "text": [
      "RAM used : 4.16GB, RAM free : 1.17GB, dataset used : 68.53MB\n"
     ]
    },
    {
     "name": "stderr",
     "output_type": "stream",
     "text": [
      "\n"
     ]
    }
   ],
   "source": [
    "training_data = DeepLenseClassificationDataset(os.path.join(\".\", \"Data\", \"dataset\", \"train\"), data_limit=CONFIG.DATA_LIMIT, randomize_dataset=False,\n",
    "                                               mean=0, std=1)\n",
    "train_dataloader = DataLoader(training_data, batch_size=CONFIG.BATCH_SIZE, shuffle=True)\n",
    "\n",
    "\n",
    "mean, std = training_data.mean, training_data.std\n",
    "\n",
    "val_data = DeepLenseClassificationDataset(os.path.join(\".\", \"Data\", \"dataset\", \"val\"), data_limit=CONFIG.DATA_LIMIT, randomize_dataset=False,\n",
    "                                               mean=0, std=1)\n",
    "val_dataloader = DataLoader(val_data, batch_size=CONFIG.BATCH_SIZE, shuffle=True)\n",
    "\n",
    "memory = psutil.virtual_memory()\n",
    "print(f\"RAM used : {format(memory.used)}, RAM free : {format(memory.free)}, dataset used : {format(memory_start.free - memory.free)}\")"
   ]
  },
  {
   "cell_type": "markdown",
   "metadata": {},
   "source": [
    "# Simple Model : Resnet18 based"
   ]
  },
  {
   "cell_type": "code",
   "execution_count": 30,
   "metadata": {},
   "outputs": [
    {
     "name": "stderr",
     "output_type": "stream",
     "text": [
      "/home/mlewand/.local/lib/python3.10/site-packages/torchvision/models/_utils.py:135: UserWarning: Using 'weights' as positional parameter(s) is deprecated since 0.13 and may be removed in the future. Please use keyword parameter(s) instead.\n",
      "  warnings.warn(\n"
     ]
    }
   ],
   "source": [
    "import torch\n",
    "import torch.nn as nn\n",
    "import torch.nn.functional as F\n",
    "from torchvision.models import resnet18\n",
    "\n",
    "class CNNv1(nn.Module):\n",
    "    def __init__(self):\n",
    "        super(CNNv1, self).__init__()\n",
    "        # the resnet model was trained on imagenet, it's not really applicable in this situation\n",
    "        self.backend = resnet18(None)\n",
    "\n",
    "        # make one channel \n",
    "        self.backend.conv1 = nn.Conv2d(1, 64, kernel_size=(7,7), stride=(2,2), padding=(3,3), bias=False)\n",
    "\n",
    "        # output 3 classes\n",
    "        self.backend.fc = nn.Linear(512, CONFIG.CLASSES, bias=True)\n",
    "        \n",
    "\n",
    "    def forward(self, x):\n",
    "        # Applying convolutional layers with ReLU and pooling\n",
    "        x = self.backend(x)\n",
    "        return x\n",
    "\n",
    "# Create the CNN model instance\n",
    "model = CNNv1().to(CONFIG.DEVICE)"
   ]
  },
  {
   "cell_type": "code",
   "execution_count": 32,
   "metadata": {},
   "outputs": [],
   "source": [
    "# Get the sample batch to prototype with models\n",
    "x, y = next(iter(train_dataloader))\n",
    "id2name = [v.split(\"/\")[-1] for v in training_data.class_folders] "
   ]
  },
  {
   "cell_type": "code",
   "execution_count": 34,
   "metadata": {},
   "outputs": [
    {
     "data": {
      "text/plain": [
       "======================================================================\n",
       "Layer (type:depth-idx)                        Param #\n",
       "======================================================================\n",
       "CNNv1                                         --\n",
       "├─ResNet: 1-1                                 --\n",
       "│    └─Conv2d: 2-1                            3,136\n",
       "│    └─BatchNorm2d: 2-2                       128\n",
       "│    └─ReLU: 2-3                              --\n",
       "│    └─MaxPool2d: 2-4                         --\n",
       "│    └─Sequential: 2-5                        --\n",
       "│    │    └─BasicBlock: 3-1                   73,984\n",
       "│    │    └─BasicBlock: 3-2                   73,984\n",
       "│    └─Sequential: 2-6                        --\n",
       "│    │    └─BasicBlock: 3-3                   230,144\n",
       "│    │    └─BasicBlock: 3-4                   295,424\n",
       "│    └─Sequential: 2-7                        --\n",
       "│    │    └─BasicBlock: 3-5                   919,040\n",
       "│    │    └─BasicBlock: 3-6                   1,180,672\n",
       "│    └─Sequential: 2-8                        --\n",
       "│    │    └─BasicBlock: 3-7                   3,673,088\n",
       "│    │    └─BasicBlock: 3-8                   4,720,640\n",
       "│    └─AdaptiveAvgPool2d: 2-9                 --\n",
       "│    └─Linear: 2-10                           1,539\n",
       "======================================================================\n",
       "Total params: 11,171,779\n",
       "Trainable params: 11,171,779\n",
       "Non-trainable params: 0\n",
       "======================================================================"
      ]
     },
     "execution_count": 34,
     "metadata": {},
     "output_type": "execute_result"
    }
   ],
   "source": [
    "model(x.float().to(CONFIG.DEVICE)).shape\n",
    "\n",
    "summary(model, input_shape=(CONFIG.BATCH_SIZE, 150, 150, 1))"
   ]
  },
  {
   "cell_type": "code",
   "execution_count": 40,
   "metadata": {},
   "outputs": [
    {
     "name": "stderr",
     "output_type": "stream",
     "text": [
      "/home/mlewand/.local/lib/python3.10/site-packages/torchvision/models/_utils.py:135: UserWarning: Using 'weights' as positional parameter(s) is deprecated since 0.13 and may be removed in the future. Please use keyword parameter(s) instead.\n",
      "  warnings.warn(\n"
     ]
    },
    {
     "name": "stdout",
     "output_type": "stream",
     "text": [
      "Unexpected exception formatting exception. Falling back to standard exception\n"
     ]
    },
    {
     "name": "stderr",
     "output_type": "stream",
     "text": [
      "Traceback (most recent call last):\n",
      "  File \"/home/mlewand/.local/lib/python3.10/site-packages/IPython/core/interactiveshell.py\", line 3553, in run_code\n",
      "    exec(code_obj, self.user_global_ns, self.user_ns)\n",
      "  File \"/tmp/ipykernel_1806/1108758227.py\", line 6, in <module>\n",
      "    run_experiment(Model=CNNv1,\n",
      "  File \"/home/mlewand/PROJS/DeepLense2024/util.py\", line 194, in run_experiment\n",
      "TypeError: train() got multiple values for argument 'train_dataloader'\n",
      "\n",
      "During handling of the above exception, another exception occurred:\n",
      "\n",
      "Traceback (most recent call last):\n",
      "  File \"/home/mlewand/.local/lib/python3.10/site-packages/IPython/core/interactiveshell.py\", line 2144, in showtraceback\n",
      "    stb = self.InteractiveTB.structured_traceback(\n",
      "  File \"/home/mlewand/.local/lib/python3.10/site-packages/IPython/core/ultratb.py\", line 1435, in structured_traceback\n",
      "    return FormattedTB.structured_traceback(\n",
      "  File \"/home/mlewand/.local/lib/python3.10/site-packages/IPython/core/ultratb.py\", line 1326, in structured_traceback\n",
      "    return VerboseTB.structured_traceback(\n",
      "  File \"/home/mlewand/.local/lib/python3.10/site-packages/IPython/core/ultratb.py\", line 1173, in structured_traceback\n",
      "    formatted_exception = self.format_exception_as_a_whole(etype, evalue, etb, number_of_lines_of_context,\n",
      "  File \"/home/mlewand/.local/lib/python3.10/site-packages/IPython/core/ultratb.py\", line 1088, in format_exception_as_a_whole\n",
      "    frames.append(self.format_record(record))\n",
      "  File \"/home/mlewand/.local/lib/python3.10/site-packages/IPython/core/ultratb.py\", line 970, in format_record\n",
      "    frame_info.lines, Colors, self.has_colors, lvals\n",
      "  File \"/home/mlewand/.local/lib/python3.10/site-packages/IPython/core/ultratb.py\", line 792, in lines\n",
      "    return self._sd.lines\n",
      "  File \"/home/mlewand/.local/lib/python3.10/site-packages/stack_data/utils.py\", line 145, in cached_property_wrapper\n",
      "    value = obj.__dict__[self.func.__name__] = self.func(obj)\n",
      "  File \"/home/mlewand/.local/lib/python3.10/site-packages/stack_data/core.py\", line 734, in lines\n",
      "    pieces = self.included_pieces\n",
      "  File \"/home/mlewand/.local/lib/python3.10/site-packages/stack_data/utils.py\", line 145, in cached_property_wrapper\n",
      "    value = obj.__dict__[self.func.__name__] = self.func(obj)\n",
      "  File \"/home/mlewand/.local/lib/python3.10/site-packages/stack_data/core.py\", line 681, in included_pieces\n",
      "    pos = scope_pieces.index(self.executing_piece)\n",
      "  File \"/home/mlewand/.local/lib/python3.10/site-packages/stack_data/utils.py\", line 145, in cached_property_wrapper\n",
      "    value = obj.__dict__[self.func.__name__] = self.func(obj)\n",
      "  File \"/home/mlewand/.local/lib/python3.10/site-packages/stack_data/core.py\", line 660, in executing_piece\n",
      "    return only(\n",
      "  File \"/home/mlewand/.local/lib/python3.10/site-packages/executing/executing.py\", line 116, in only\n",
      "    raise NotOneValueFound('Expected one value, found 0')\n",
      "executing.executing.NotOneValueFound: Expected one value, found 0\n"
     ]
    }
   ],
   "source": [
    "import util\n",
    "from importlib import reload\n",
    "\n",
    "reload(util)\n",
    "\n",
    "run_experiment(Model=CNNv1, \n",
    "               run_name=\"resnet18\", \n",
    "               model_parameters={},\n",
    "               epochs=30,\n",
    "               learning_rate=1e-4,\n",
    "               optimizer=\"Adam\",\n",
    "               train_dataloader=train_dataloader,\n",
    "               val_dataloader=val_dataloader,\n",
    "               savepath=os.path.join(\"models\", \"resnet18.pth\"),\n",
    "               base_lr=3e-4,\n",
    "               max_lr=1e-3,\n",
    "               scheduler_en=False,\n",
    "               metric_keyword=\"accuracy\",\n",
    "               lr_steps=len(train_dataloader) // 2,\n",
    "               WANDB_ON=False)"
   ]
  },
  {
   "cell_type": "code",
   "execution_count": null,
   "metadata": {},
   "outputs": [],
   "source": []
  }
 ],
 "metadata": {
  "kernelspec": {
   "display_name": "Python 3",
   "language": "python",
   "name": "python3"
  },
  "language_info": {
   "codemirror_mode": {
    "name": "ipython",
    "version": 3
   },
   "file_extension": ".py",
   "mimetype": "text/x-python",
   "name": "python",
   "nbconvert_exporter": "python",
   "pygments_lexer": "ipython3",
   "version": "3.10.12"
  }
 },
 "nbformat": 4,
 "nbformat_minor": 2
}
