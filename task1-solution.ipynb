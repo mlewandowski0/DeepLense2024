{
 "cells": [
  {
   "cell_type": "markdown",
   "metadata": {},
   "source": [
    "# Installation"
   ]
  },
  {
   "cell_type": "code",
   "execution_count": null,
   "metadata": {},
   "outputs": [],
   "source": [
    "!pip install scikit-image pandas matplotlib tqdm  torchinfo tensorboard wandb scikit-learn"
   ]
  },
  {
   "cell_type": "markdown",
   "metadata": {},
   "source": [
    "# Imports"
   ]
  },
  {
   "cell_type": "code",
   "execution_count": 1,
   "metadata": {},
   "outputs": [],
   "source": [
    "import os\n",
    "import torch\n",
    "import psutil\n",
    "from util import format\n",
    "from torch.utils.data import DataLoader\n",
    "from datasets import DeepLenseClassificationDataset\n",
    "from torchinfo import summary\n",
    "from util import run_experiment"
   ]
  },
  {
   "cell_type": "markdown",
   "metadata": {},
   "source": [
    "# CONFIG"
   ]
  },
  {
   "cell_type": "code",
   "execution_count": 2,
   "metadata": {},
   "outputs": [],
   "source": [
    "class CONFIG:\n",
    "    BATCH_SIZE = 16\n",
    "    \n",
    "    # limit the data to prototype faster\n",
    "    DATA_LIMIT = 100\n",
    "    \n",
    "    CLASSES = 3\n",
    "    ROUND_NUMBER = 3\n",
    "    DEVICE = torch.device(\"cuda\") if torch.cuda.is_available() else torch.device(\"cpu\")\n",
    "    TASK_NAME = \"DeepLense2024_task1\""
   ]
  },
  {
   "cell_type": "code",
   "execution_count": 3,
   "metadata": {},
   "outputs": [
    {
     "name": "stdout",
     "output_type": "stream",
     "text": [
      "RAM used : 2.9GB, RAM free : 2.94GB\n"
     ]
    }
   ],
   "source": [
    "memory_start = psutil.virtual_memory()\n",
    "print(f\"RAM used : {format(memory_start.used)}, RAM free : {format(memory_start.free)}\")"
   ]
  },
  {
   "cell_type": "markdown",
   "metadata": {},
   "source": [
    "# Loading the dataset"
   ]
  },
  {
   "cell_type": "code",
   "execution_count": 4,
   "metadata": {},
   "outputs": [
    {
     "name": "stderr",
     "output_type": "stream",
     "text": [
      "loading numpy:  22%|██▏       | 65/300 [00:00<00:00, 646.72it/s]"
     ]
    },
    {
     "name": "stderr",
     "output_type": "stream",
     "text": [
      "loading numpy: 100%|██████████| 300/300 [00:00<00:00, 782.52it/s]\n",
      "preprocessing: 100%|██████████| 300/300 [00:00<00:00, 8066.43it/s]\n",
      "loading numpy: 100%|██████████| 300/300 [00:00<00:00, 912.40it/s]\n",
      "preprocessing: 100%|██████████| 300/300 [00:00<00:00, 14295.68it/s]"
     ]
    },
    {
     "name": "stdout",
     "output_type": "stream",
     "text": [
      "RAM used : 3.01GB, RAM free : 2.73GB, dataset used : 219.95MB\n"
     ]
    },
    {
     "name": "stderr",
     "output_type": "stream",
     "text": [
      "\n"
     ]
    }
   ],
   "source": [
    "training_data = DeepLenseClassificationDataset(os.path.join(\".\", \"Data\", \"dataset\", \"train\"), data_limit=CONFIG.DATA_LIMIT, randomize_dataset=False,\n",
    "                                               mean=0, std=1)\n",
    "train_dataloader = DataLoader(training_data, batch_size=CONFIG.BATCH_SIZE, shuffle=True)\n",
    "\n",
    "\n",
    "mean, std = training_data.mean, training_data.std\n",
    "\n",
    "val_data = DeepLenseClassificationDataset(os.path.join(\".\", \"Data\", \"dataset\", \"val\"), data_limit=CONFIG.DATA_LIMIT, randomize_dataset=False,\n",
    "                                               mean=0, std=1)\n",
    "val_dataloader = DataLoader(val_data, batch_size=CONFIG.BATCH_SIZE, shuffle=True)\n",
    "\n",
    "memory = psutil.virtual_memory()\n",
    "print(f\"RAM used : {format(memory.used)}, RAM free : {format(memory.free)}, dataset used : {format(memory_start.free - memory.free)}\")"
   ]
  },
  {
   "cell_type": "markdown",
   "metadata": {},
   "source": [
    "# Simple Model : Resnet18 based"
   ]
  },
  {
   "cell_type": "code",
   "execution_count": 5,
   "metadata": {},
   "outputs": [
    {
     "name": "stderr",
     "output_type": "stream",
     "text": [
      "/home/mlewand/.local/lib/python3.10/site-packages/torchvision/models/_utils.py:135: UserWarning: Using 'weights' as positional parameter(s) is deprecated since 0.13 and may be removed in the future. Please use keyword parameter(s) instead.\n",
      "  warnings.warn(\n"
     ]
    }
   ],
   "source": [
    "import torch\n",
    "import torch.nn as nn\n",
    "import torch.nn.functional as F\n",
    "from torchvision.models import resnet18\n",
    "\n",
    "class CNNv1(nn.Module):\n",
    "    def __init__(self):\n",
    "        super(CNNv1, self).__init__()\n",
    "        # the resnet model was trained on imagenet, it's not really applicable in this situation\n",
    "        self.backend = resnet18(None)\n",
    "\n",
    "        # make one channel \n",
    "        self.backend.conv1 = nn.Conv2d(1, 64, kernel_size=(7,7), stride=(2,2), padding=(3,3), bias=False)\n",
    "\n",
    "        # output 3 classes\n",
    "        self.backend.fc = nn.Linear(512, CONFIG.CLASSES, bias=True)\n",
    "        \n",
    "\n",
    "    def forward(self, x):\n",
    "        # Applying convolutional layers with ReLU and pooling\n",
    "        x = self.backend(x)\n",
    "        return x\n",
    "\n",
    "# Create the CNN model instance\n",
    "model = CNNv1().to(CONFIG.DEVICE)"
   ]
  },
  {
   "cell_type": "code",
   "execution_count": 6,
   "metadata": {},
   "outputs": [],
   "source": [
    "# Get the sample batch to prototype with models\n",
    "x, y = next(iter(train_dataloader))\n",
    "id2name = [v.split(\"/\")[-1] for v in training_data.class_folders] "
   ]
  },
  {
   "cell_type": "code",
   "execution_count": 7,
   "metadata": {},
   "outputs": [
    {
     "data": {
      "text/plain": [
       "======================================================================\n",
       "Layer (type:depth-idx)                        Param #\n",
       "======================================================================\n",
       "CNNv1                                         --\n",
       "├─ResNet: 1-1                                 --\n",
       "│    └─Conv2d: 2-1                            3,136\n",
       "│    └─BatchNorm2d: 2-2                       128\n",
       "│    └─ReLU: 2-3                              --\n",
       "│    └─MaxPool2d: 2-4                         --\n",
       "│    └─Sequential: 2-5                        --\n",
       "│    │    └─BasicBlock: 3-1                   73,984\n",
       "│    │    └─BasicBlock: 3-2                   73,984\n",
       "│    └─Sequential: 2-6                        --\n",
       "│    │    └─BasicBlock: 3-3                   230,144\n",
       "│    │    └─BasicBlock: 3-4                   295,424\n",
       "│    └─Sequential: 2-7                        --\n",
       "│    │    └─BasicBlock: 3-5                   919,040\n",
       "│    │    └─BasicBlock: 3-6                   1,180,672\n",
       "│    └─Sequential: 2-8                        --\n",
       "│    │    └─BasicBlock: 3-7                   3,673,088\n",
       "│    │    └─BasicBlock: 3-8                   4,720,640\n",
       "│    └─AdaptiveAvgPool2d: 2-9                 --\n",
       "│    └─Linear: 2-10                           1,539\n",
       "======================================================================\n",
       "Total params: 11,171,779\n",
       "Trainable params: 11,171,779\n",
       "Non-trainable params: 0\n",
       "======================================================================"
      ]
     },
     "execution_count": 7,
     "metadata": {},
     "output_type": "execute_result"
    }
   ],
   "source": [
    "model(x.float().to(CONFIG.DEVICE)).shape\n",
    "\n",
    "summary(model, input_shape=(CONFIG.BATCH_SIZE, 150, 150, 1))"
   ]
  },
  {
   "cell_type": "code",
   "execution_count": 15,
   "metadata": {},
   "outputs": [
    {
     "name": "stderr",
     "output_type": "stream",
     "text": [
      "EPOCH : 0, average loss : 1.154781184698406: 100%|██████████| 19/19 [00:00<00:00, 35.19it/s] \n",
      "examples seen so far : 300, accuracy = 0.333, AUC ROC = 0.551: 100%|██████████| 19/19 [00:00<00:00, 79.13it/s]\n",
      "examples seen so far : 300, accuracy = 0.333, AUC ROC = 0.49: 100%|██████████| 19/19 [00:00<00:00, 57.30it/s] \n",
      "EPOCH : 1, average loss : 0.7910586344568353: 100%|██████████| 19/19 [00:00<00:00, 48.89it/s]\n",
      "examples seen so far : 300, accuracy = 0.423, AUC ROC = 0.649: 100%|██████████| 19/19 [00:00<00:00, 87.92it/s]\n",
      "examples seen so far : 300, accuracy = 0.293, AUC ROC = 0.488: 100%|██████████| 19/19 [00:00<00:00, 108.44it/s]\n",
      "EPOCH : 2, average loss : 0.38338028914050054: 100%|██████████| 19/19 [00:00<00:00, 52.95it/s]\n",
      "examples seen so far : 300, accuracy = 0.65, AUC ROC = 0.872: 100%|██████████| 19/19 [00:00<00:00, 103.14it/s] \n",
      "examples seen so far : 300, accuracy = 0.31, AUC ROC = 0.489: 100%|██████████| 19/19 [00:00<00:00, 101.25it/s] \n",
      "EPOCH : 3, average loss : 0.0911007239238212: 100%|██████████| 19/19 [00:00<00:00, 53.60it/s] \n",
      "examples seen so far : 300, accuracy = 0.917, AUC ROC = 0.995: 100%|██████████| 19/19 [00:00<00:00, 102.08it/s]\n",
      "examples seen so far : 300, accuracy = 0.33, AUC ROC = 0.481: 100%|██████████| 19/19 [00:00<00:00, 104.68it/s] \n",
      "EPOCH : 4, average loss : 0.05312278013872473: 100%|██████████| 19/19 [00:00<00:00, 51.99it/s] \n",
      "examples seen so far : 300, accuracy = 0.99, AUC ROC = 1.0: 100%|██████████| 19/19 [00:00<00:00, 105.04it/s] \n",
      "examples seen so far : 300, accuracy = 0.307, AUC ROC = 0.479: 100%|██████████| 19/19 [00:00<00:00, 105.47it/s]\n",
      "EPOCH : 5, average loss : 0.04987740734788148: 100%|██████████| 19/19 [00:00<00:00, 50.43it/s] \n",
      "examples seen so far : 300, accuracy = 0.983, AUC ROC = 1.0: 100%|██████████| 19/19 [00:00<00:00, 109.10it/s]\n",
      "examples seen so far : 300, accuracy = 0.36, AUC ROC = 0.52: 100%|██████████| 19/19 [00:00<00:00, 100.70it/s]  \n",
      "EPOCH : 6, average loss : 0.11217551374513852: 100%|██████████| 19/19 [00:00<00:00, 52.94it/s]\n",
      "examples seen so far : 300, accuracy = 0.923, AUC ROC = 0.999: 100%|██████████| 19/19 [00:00<00:00, 103.31it/s]\n",
      "examples seen so far : 300, accuracy = 0.327, AUC ROC = 0.494: 100%|██████████| 19/19 [00:00<00:00, 107.88it/s]\n",
      "EPOCH : 7, average loss : 0.252037039026618: 100%|██████████| 19/19 [00:00<00:00, 51.63it/s]  \n",
      "examples seen so far : 300, accuracy = 0.723, AUC ROC = 0.986: 100%|██████████| 19/19 [00:00<00:00, 99.34it/s]\n",
      "examples seen so far : 300, accuracy = 0.337, AUC ROC = 0.467: 100%|██████████| 19/19 [00:00<00:00, 95.52it/s]\n",
      "EPOCH : 8, average loss : 0.38169788686852707: 100%|██████████| 19/19 [00:00<00:00, 48.01it/s]\n",
      "examples seen so far : 300, accuracy = 0.77, AUC ROC = 0.978: 100%|██████████| 19/19 [00:00<00:00, 90.40it/s]\n",
      "examples seen so far : 300, accuracy = 0.303, AUC ROC = 0.456: 100%|██████████| 19/19 [00:00<00:00, 81.34it/s]\n",
      "EPOCH : 9, average loss : 0.265021216516432: 100%|██████████| 19/19 [00:00<00:00, 48.79it/s]  \n",
      "examples seen so far : 300, accuracy = 0.963, AUC ROC = 0.998: 100%|██████████| 19/19 [00:00<00:00, 82.54it/s]\n",
      "examples seen so far : 300, accuracy = 0.323, AUC ROC = 0.46: 100%|██████████| 19/19 [00:00<00:00, 90.51it/s]\n",
      "EPOCH : 10, average loss : 0.09465212541583337: 100%|██████████| 19/19 [00:00<00:00, 47.14it/s]\n",
      "examples seen so far : 300, accuracy = 0.993, AUC ROC = 1.0: 100%|██████████| 19/19 [00:00<00:00, 87.41it/s]\n",
      "examples seen so far : 300, accuracy = 0.293, AUC ROC = 0.49: 100%|██████████| 19/19 [00:00<00:00, 99.05it/s]  \n",
      "EPOCH : 11, average loss : 0.0919918266958312: 100%|██████████| 19/19 [00:00<00:00, 50.24it/s]  \n",
      "examples seen so far : 300, accuracy = 0.997, AUC ROC = 1.0: 100%|██████████| 19/19 [00:00<00:00, 102.93it/s]\n",
      "examples seen so far : 300, accuracy = 0.297, AUC ROC = 0.483: 100%|██████████| 19/19 [00:00<00:00, 105.55it/s]\n",
      "EPOCH : 12, average loss : 0.0579195808080074: 100%|██████████| 19/19 [00:00<00:00, 50.51it/s]  \n",
      "examples seen so far : 300, accuracy = 0.993, AUC ROC = 1.0: 100%|██████████| 19/19 [00:00<00:00, 104.73it/s]\n",
      "examples seen so far : 300, accuracy = 0.323, AUC ROC = 0.474: 100%|██████████| 19/19 [00:00<00:00, 101.08it/s]\n",
      "EPOCH : 13, average loss : 0.04208991777053789: 100%|██████████| 19/19 [00:00<00:00, 50.53it/s] \n",
      "examples seen so far : 300, accuracy = 1.0, AUC ROC = 1.0: 100%|██████████| 19/19 [00:00<00:00, 84.87it/s]\n",
      "examples seen so far : 300, accuracy = 0.31, AUC ROC = 0.475: 100%|██████████| 19/19 [00:00<00:00, 102.61it/s] \n",
      "EPOCH : 14, average loss : 0.03509620737627541: 100%|██████████| 19/19 [00:00<00:00, 48.59it/s] \n",
      "examples seen so far : 300, accuracy = 1.0, AUC ROC = 1.0: 100%|██████████| 19/19 [00:00<00:00, 99.20it/s]\n",
      "examples seen so far : 300, accuracy = 0.313, AUC ROC = 0.493: 100%|██████████| 19/19 [00:00<00:00, 91.83it/s]\n",
      "EPOCH : 15, average loss : 0.05217534282832945: 100%|██████████| 19/19 [00:00<00:00, 48.23it/s] \n",
      "examples seen so far : 300, accuracy = 1.0, AUC ROC = 1.0: 100%|██████████| 19/19 [00:00<00:00, 96.61it/s] \n",
      "examples seen so far : 300, accuracy = 0.283, AUC ROC = 0.482: 100%|██████████| 19/19 [00:00<00:00, 97.79it/s] \n",
      "EPOCH : 16, average loss : 0.03398144101773046: 100%|██████████| 19/19 [00:00<00:00, 48.55it/s] \n",
      "examples seen so far : 300, accuracy = 0.997, AUC ROC = 1.0: 100%|██████████| 19/19 [00:00<00:00, 98.07it/s] \n",
      "examples seen so far : 300, accuracy = 0.317, AUC ROC = 0.486: 100%|██████████| 19/19 [00:00<00:00, 93.57it/s]\n",
      "EPOCH : 17, average loss : 0.038646231393182746: 100%|██████████| 19/19 [00:00<00:00, 49.15it/s]\n",
      "examples seen so far : 300, accuracy = 1.0, AUC ROC = 1.0: 100%|██████████| 19/19 [00:00<00:00, 91.69it/s]\n",
      "examples seen so far : 300, accuracy = 0.287, AUC ROC = 0.461: 100%|██████████| 19/19 [00:00<00:00, 65.77it/s]\n",
      "EPOCH : 18, average loss : 0.012574266973196677: 100%|██████████| 19/19 [00:00<00:00, 48.58it/s]\n",
      "examples seen so far : 300, accuracy = 1.0, AUC ROC = 1.0: 100%|██████████| 19/19 [00:00<00:00, 87.01it/s]\n",
      "examples seen so far : 300, accuracy = 0.297, AUC ROC = 0.462: 100%|██████████| 19/19 [00:00<00:00, 94.87it/s]\n",
      "EPOCH : 19, average loss : 0.011696820184098263: 100%|██████████| 19/19 [00:00<00:00, 50.70it/s]\n",
      "examples seen so far : 300, accuracy = 1.0, AUC ROC = 1.0: 100%|██████████| 19/19 [00:00<00:00, 86.49it/s]\n",
      "examples seen so far : 300, accuracy = 0.313, AUC ROC = 0.464: 100%|██████████| 19/19 [00:00<00:00, 99.80it/s]\n",
      "EPOCH : 20, average loss : 0.005919286962843647: 100%|██████████| 19/19 [00:00<00:00, 50.22it/s] \n",
      "examples seen so far : 300, accuracy = 1.0, AUC ROC = 1.0: 100%|██████████| 19/19 [00:00<00:00, 96.13it/s] \n",
      "examples seen so far : 300, accuracy = 0.297, AUC ROC = 0.464: 100%|██████████| 19/19 [00:00<00:00, 90.99it/s]\n",
      "EPOCH : 21, average loss : 0.010699936311299863: 100%|██████████| 19/19 [00:00<00:00, 50.12it/s]\n",
      "examples seen so far : 300, accuracy = 1.0, AUC ROC = 1.0: 100%|██████████| 19/19 [00:00<00:00, 103.42it/s]\n",
      "examples seen so far : 300, accuracy = 0.29, AUC ROC = 0.463: 100%|██████████| 19/19 [00:00<00:00, 98.21it/s] \n",
      "EPOCH : 22, average loss : 0.010166292201335492: 100%|██████████| 19/19 [00:00<00:00, 51.20it/s]\n",
      "examples seen so far : 300, accuracy = 1.0, AUC ROC = 1.0: 100%|██████████| 19/19 [00:00<00:00, 96.53it/s]\n",
      "examples seen so far : 300, accuracy = 0.287, AUC ROC = 0.463: 100%|██████████| 19/19 [00:00<00:00, 92.03it/s]\n",
      "EPOCH : 23, average loss : 0.006046981878554155: 100%|██████████| 19/19 [00:00<00:00, 51.04it/s]\n",
      "examples seen so far : 300, accuracy = 1.0, AUC ROC = 1.0: 100%|██████████| 19/19 [00:00<00:00, 93.54it/s]\n",
      "examples seen so far : 300, accuracy = 0.293, AUC ROC = 0.459: 100%|██████████| 19/19 [00:00<00:00, 86.29it/s]\n",
      "EPOCH : 24, average loss : 0.009697044923852541: 100%|██████████| 19/19 [00:00<00:00, 52.39it/s]\n",
      "examples seen so far : 300, accuracy = 1.0, AUC ROC = 1.0: 100%|██████████| 19/19 [00:00<00:00, 105.55it/s]\n",
      "examples seen so far : 300, accuracy = 0.297, AUC ROC = 0.461: 100%|██████████| 19/19 [00:00<00:00, 83.18it/s]\n",
      "EPOCH : 25, average loss : 0.00565281086356232: 100%|██████████| 19/19 [00:00<00:00, 47.82it/s]  \n",
      "examples seen so far : 300, accuracy = 1.0, AUC ROC = 1.0: 100%|██████████| 19/19 [00:00<00:00, 96.54it/s]\n",
      "examples seen so far : 300, accuracy = 0.32, AUC ROC = 0.469: 100%|██████████| 19/19 [00:00<00:00, 80.81it/s] \n",
      "EPOCH : 26, average loss : 0.0037425835800700283: 100%|██████████| 19/19 [00:00<00:00, 44.76it/s]\n",
      "examples seen so far : 300, accuracy = 1.0, AUC ROC = 1.0: 100%|██████████| 19/19 [00:00<00:00, 88.02it/s]\n",
      "examples seen so far : 300, accuracy = 0.29, AUC ROC = 0.47: 100%|██████████| 19/19 [00:00<00:00, 77.08it/s]  \n",
      "EPOCH : 27, average loss : 0.0022500766530069278: 100%|██████████| 19/19 [00:00<00:00, 45.40it/s]\n",
      "examples seen so far : 300, accuracy = 1.0, AUC ROC = 1.0: 100%|██████████| 19/19 [00:00<00:00, 93.24it/s]\n",
      "examples seen so far : 300, accuracy = 0.31, AUC ROC = 0.468: 100%|██████████| 19/19 [00:00<00:00, 81.70it/s] \n",
      "EPOCH : 28, average loss : 0.002385005238465965: 100%|██████████| 19/19 [00:00<00:00, 48.17it/s] \n",
      "examples seen so far : 300, accuracy = 1.0, AUC ROC = 1.0: 100%|██████████| 19/19 [00:00<00:00, 90.50it/s]\n",
      "examples seen so far : 300, accuracy = 0.307, AUC ROC = 0.468: 100%|██████████| 19/19 [00:00<00:00, 93.05it/s]\n",
      "EPOCH : 29, average loss : 0.008565144345323605: 100%|██████████| 19/19 [00:00<00:00, 52.62it/s]\n",
      "examples seen so far : 300, accuracy = 1.0, AUC ROC = 1.0: 100%|██████████| 19/19 [00:00<00:00, 86.56it/s]\n",
      "examples seen so far : 300, accuracy = 0.283, AUC ROC = 0.471: 100%|██████████| 19/19 [00:00<00:00, 101.03it/s]\n"
     ]
    }
   ],
   "source": [
    "import util\n",
    "from importlib import reload\n",
    "\n",
    "reload(util)\n",
    "\n",
    "util.run_experiment(Model=CNNv1, \n",
    "               run_name=\"resnet18\", \n",
    "               model_parameters={},\n",
    "               epochs=30,\n",
    "               learning_rate=1e-4,\n",
    "               optimizer=\"Adam\",\n",
    "               train_dataloader=train_dataloader,\n",
    "               val_dataloader=val_dataloader,\n",
    "               savepath=os.path.join(\"models\", \"resnet18.pth\"),\n",
    "               base_lr=3e-4,\n",
    "               max_lr=1e-3,\n",
    "               scheduler_en=False,\n",
    "               cfg=CONFIG,\n",
    "               metric_keyword=\"accuracy\",\n",
    "               lr_steps=len(train_dataloader) // 2,\n",
    "               WANDB_ON=False)"
   ]
  },
  {
   "cell_type": "code",
   "execution_count": null,
   "metadata": {},
   "outputs": [],
   "source": []
  }
 ],
 "metadata": {
  "kernelspec": {
   "display_name": "Python 3",
   "language": "python",
   "name": "python3"
  },
  "language_info": {
   "codemirror_mode": {
    "name": "ipython",
    "version": 3
   },
   "file_extension": ".py",
   "mimetype": "text/x-python",
   "name": "python",
   "nbconvert_exporter": "python",
   "pygments_lexer": "ipython3",
   "version": "3.10.12"
  }
 },
 "nbformat": 4,
 "nbformat_minor": 2
}
